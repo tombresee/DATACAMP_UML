{
  "nbformat": 4,
  "nbformat_minor": 0,
  "metadata": {
    "kernelspec": {
      "display_name": "Python 3",
      "language": "python",
      "name": "python3"
    },
    "language_info": {
      "codemirror_mode": {
        "name": "ipython",
        "version": 3
      },
      "file_extension": ".py",
      "mimetype": "text/x-python",
      "name": "python",
      "nbconvert_exporter": "python",
      "pygments_lexer": "ipython3",
      "version": "3.7.4"
    },
    "toc": {
      "base_numbering": 1,
      "nav_menu": {},
      "number_sections": true,
      "sideBar": true,
      "skip_h1_title": false,
      "title_cell": "Table of Contents",
      "title_sidebar": "Contents",
      "toc_cell": false,
      "toc_position": {},
      "toc_section_display": true,
      "toc_window_display": false
    },
    "varInspector": {
      "cols": {
        "lenName": 16,
        "lenType": 16,
        "lenVar": 40
      },
      "kernels_config": {
        "python": {
          "delete_cmd_postfix": "",
          "delete_cmd_prefix": "del ",
          "library": "var_list.py",
          "varRefreshCmd": "print(var_dic_list())"
        },
        "r": {
          "delete_cmd_postfix": ") ",
          "delete_cmd_prefix": "rm(",
          "library": "var_list.r",
          "varRefreshCmd": "cat(var_dic_list()) "
        }
      },
      "types_to_exclude": [
        "module",
        "function",
        "builtin_function_or_method",
        "instance",
        "_Feature"
      ],
      "window_display": false
    },
    "colab": {
      "name": "L4.Discovering interpretable features.ipynb",
      "provenance": [],
      "collapsed_sections": [
        "wGcidLgqxwc2",
        "lJwrDo-_xwdF",
        "D_8s_V9QxwdQ",
        "RcFuERJDxwdb",
        "f3Ovuw82xwdn",
        "YDqQPHNKxwdz",
        "dy1Sncg5xweB",
        "wxGY-yiqxweV",
        "qAJOZxoyxwel"
      ],
      "include_colab_link": true
    }
  },
  "cells": [
    {
      "cell_type": "markdown",
      "metadata": {
        "id": "view-in-github",
        "colab_type": "text"
      },
      "source": [
        "<a href=\"https://colab.research.google.com/github/tombresee/DATACAMP_UML/blob/master/ENTER/notebooks/L4_Discovering_interpretable_features.ipynb\" target=\"_parent\"><img src=\"https://colab.research.google.com/assets/colab-badge.svg\" alt=\"Open In Colab\"/></a>"
      ]
    },
    {
      "cell_type": "markdown",
      "metadata": {
        "id": "a3GmBwv0xwcc"
      },
      "source": [
        "<a href=\"https://colab.research.google.com/github/ML-Challenge/week4-unsupervised-learning/blob/master/L4.Discovering%20interpretable%20features.ipynb\" target=\"_parent\"><img src=\"https://colab.research.google.com/assets/colab-badge.svg\" /></a>"
      ]
    },
    {
      "cell_type": "markdown",
      "metadata": {
        "id": "TK7f5ZgBxwce"
      },
      "source": [
        "In this lesson, we'll learn about a dimension reduction technique called \"Non-negative matrix factorization\" (\"NMF\") that expresses samples as combinations of interpretable parts. For example, it expresses documents as combinations of topics, and images in terms of commonly occurring visual patterns. We'll also learn to use NMF to build recommender systems that can find us similar articles to read, or musical artists that match our listening history!"
      ]
    },
    {
      "cell_type": "markdown",
      "metadata": {
        "heading_collapsed": true,
        "id": "GKq4NnG3xwcf"
      },
      "source": [
        "# Setup"
      ]
    },
    {
      "cell_type": "code",
      "metadata": {
        "ExecuteTime": {
          "end_time": "2020-02-15T19:00:43.400823Z",
          "start_time": "2020-02-15T19:00:43.387719Z"
        },
        "hidden": true,
        "id": "nM4SC5pyxwcg",
        "outputId": "41b895bb-931b-453c-ee72-00445c85b290",
        "colab": {
          "base_uri": "https://localhost:8080/",
          "height": 708
        }
      },
      "source": [
        "# Download lesson datasets\n",
        "# Required if you're using Google Colab\n",
        "!wget \"https://github.com/ML-Challenge/week4-unsupervised-learning/raw/master/datasets.zip\"\n",
        "!unzip -o datasets.zip"
      ],
      "execution_count": 1,
      "outputs": [
        {
          "output_type": "stream",
          "text": [
            "--2020-09-26 01:01:38--  https://github.com/ML-Challenge/week4-unsupervised-learning/raw/master/datasets.zip\n",
            "Resolving github.com (github.com)... 140.82.113.3\n",
            "Connecting to github.com (github.com)|140.82.113.3|:443... connected.\n",
            "HTTP request sent, awaiting response... 302 Found\n",
            "Location: https://raw.githubusercontent.com/ML-Challenge/week4-unsupervised-learning/master/datasets.zip [following]\n",
            "--2020-09-26 01:01:38--  https://raw.githubusercontent.com/ML-Challenge/week4-unsupervised-learning/master/datasets.zip\n",
            "Resolving raw.githubusercontent.com (raw.githubusercontent.com)... 151.101.0.133, 151.101.64.133, 151.101.128.133, ...\n",
            "Connecting to raw.githubusercontent.com (raw.githubusercontent.com)|151.101.0.133|:443... connected.\n",
            "HTTP request sent, awaiting response... 200 OK\n",
            "Length: 2227561 (2.1M) [application/zip]\n",
            "Saving to: ‘datasets.zip’\n",
            "\n",
            "datasets.zip        100%[===================>]   2.12M  9.70MB/s    in 0.2s    \n",
            "\n",
            "2020-09-26 01:01:39 (9.70 MB/s) - ‘datasets.zip’ saved [2227561/2227561]\n",
            "\n",
            "Archive:  datasets.zip\n",
            "  inflating: utils.py                \n",
            "   creating: data/\n",
            "  inflating: data/miles-driven.csv   \n",
            "  inflating: data/fish.csv           \n",
            "  inflating: data/company-stock-movements-2010-2015-incl.csv  \n",
            "  inflating: data/eurovision-2016.csv  \n",
            "  inflating: data/wine.csv           \n",
            "   creating: data/Grains/\n",
            "  inflating: data/Grains/seeds.csv   \n",
            "  inflating: data/Grains/seeds-width-vs-length.csv  \n",
            "  inflating: data/fma-rock-vs-hiphop.csv  \n",
            "  inflating: data/road-accidents.csv  \n",
            "  inflating: data/echonest-metrics.json  \n",
            "   creating: data/Musical artists/\n",
            "  inflating: data/Musical artists/scrobbler-small-sample.csv  \n",
            "  inflating: data/Musical artists/artists.csv  \n",
            "   creating: data/Wikipedia articles/\n",
            "  inflating: data/Wikipedia articles/preprocessing.md  \n",
            "  inflating: data/Wikipedia articles/wikipedia-vectors.csv  \n",
            "  inflating: data/Wikipedia articles/wikipedia-vocabulary-utf8.txt  \n",
            "  inflating: data/lcd-digits.csv     \n"
          ],
          "name": "stdout"
        }
      ]
    },
    {
      "cell_type": "code",
      "metadata": {
        "ExecuteTime": {
          "end_time": "2020-02-15T19:00:44.057125Z",
          "start_time": "2020-02-15T19:00:43.403715Z"
        },
        "hidden": true,
        "id": "onrhiucSxwcj"
      },
      "source": [
        "# Import utils\n",
        "# We'll be using this module throughout the lesson\n",
        "import utils"
      ],
      "execution_count": 2,
      "outputs": []
    },
    {
      "cell_type": "code",
      "metadata": {
        "ExecuteTime": {
          "end_time": "2020-02-15T19:00:44.276482Z",
          "start_time": "2020-02-15T19:00:44.058977Z"
        },
        "hidden": true,
        "id": "CKXzak1Rxwco"
      },
      "source": [
        "# Import dependencies\n",
        "import pandas as pd\n",
        "import numpy as np\n",
        "\n",
        "import matplotlib.pyplot as plt\n",
        "# and setting the size of all plots.\n",
        "plt.rcParams['figure.figsize'] = [11, 7]"
      ],
      "execution_count": 3,
      "outputs": []
    },
    {
      "cell_type": "markdown",
      "metadata": {
        "heading_collapsed": true,
        "id": "oxnqSAAaxwct"
      },
      "source": [
        "# Non-negative matrix factorization (NMF)"
      ]
    },
    {
      "cell_type": "markdown",
      "metadata": {
        "hidden": true,
        "id": "nQeU9DmUxwcv"
      },
      "source": [
        "NMF stands for non-negative matrix factorization. NMF, like PCA, is a dimension reduction technique. In contrast to PCA, however, NMF models are interpretable. This means an NMF models are easier to understand, and much easier for us to explain to others. NMF can't be applied to every dataset, however. It is required that the sample features be non-negative, so greater than or equal to 0."
      ]
    },
    {
      "cell_type": "markdown",
      "metadata": {
        "hidden": true,
        "id": "AZ2zctYfxwcw"
      },
      "source": [
        "## Interpretable parts"
      ]
    },
    {
      "cell_type": "markdown",
      "metadata": {
        "hidden": true,
        "id": "9wp-YlO2xwcx"
      },
      "source": [
        "NMF achieves its interpretability by decomposing samples as sums of their parts. For example, NMF decomposes documents as combinations of the common topics, and images as combinations of common patterns.\n",
        "\n",
        "![Parts](https://github.com/ML-Challenge/week4-unsupervised-learning/blob/master/assets/4-1.png?raw=1)\n",
        "\n",
        "We'll learn about both these examples in detail later. For now, let's focus on getting started."
      ]
    },
    {
      "cell_type": "markdown",
      "metadata": {
        "hidden": true,
        "id": "tkEOejIjxwcx"
      },
      "source": [
        "## Using scikit-learn NMF"
      ]
    },
    {
      "cell_type": "markdown",
      "metadata": {
        "hidden": true,
        "id": "dCGRNnfsxwcx"
      },
      "source": [
        "NMF is available in scikit learn, and follows the same fit/transform pattern as PCA. However, unlike PCA, the desired number of components must always be specified. NMF works both with numpy arrays and sparse arrays in the `csr_matrix` format."
      ]
    },
    {
      "cell_type": "markdown",
      "metadata": {
        "hidden": true,
        "id": "Y3PxOgx9xwcy"
      },
      "source": [
        "Let's see an application of NMF to a toy example of a word-frequency array. In this toy dataset, there are only 4 words in the vocabulary, and these correspond to the four columns of the word-frequency array.\n",
        "\n",
        "![Toy dataset](https://github.com/ML-Challenge/week4-unsupervised-learning/blob/master/assets/4-2.png?raw=1)\n",
        "\n",
        "Each row represents a document, and the entries of the array measure the frequency of each word in the document using what's known as `tf-idf`. \n",
        "\n",
        "* `tf` is the frequency of the word in the document.\n",
        "So if 10% of the words in the document are `datacamp`, then the tf of datacamp for that document is 0.1. \n",
        "* `idf` is a weighting scheme that reduces the influence of frequent words like `the`."
      ]
    },
    {
      "cell_type": "markdown",
      "metadata": {
        "hidden": true,
        "id": "fsEhiH4Yxwcy"
      },
      "source": [
        "Let's now see how to use NMF in Python. Firstly, import NMF.\n",
        "\n",
        "```\n",
        "from sklearn.decomposition import NMF\n",
        "```\n",
        "\n",
        "Create a model, specifying the desired number of components. Let's specify 2.\n",
        "\n",
        "```\n",
        "model = NMF(n_components=2)\n",
        "```\n",
        "\n",
        "Fit the model to the samples, then use the fit model to perform the transformation.\n",
        "\n",
        "```\n",
        "model.fit(samples)\n",
        "\n",
        "nmf_features = model.transform(samples)\n",
        "```"
      ]
    },
    {
      "cell_type": "markdown",
      "metadata": {
        "hidden": true,
        "id": "SHN5KRZ4xwcz"
      },
      "source": [
        "**NMF components**\n",
        "\n",
        "Just as PCA has principal components, NMF has components which it learns from the samples, and as with PCA, the dimension of the components is the same as the dimension of the samples. In our example, for instance, there are 2 components, and they live in 4 dimensional space, corresponding to the 4 words in the vocabulary. The entries of the NMF components are always non-negative."
      ]
    },
    {
      "cell_type": "markdown",
      "metadata": {
        "hidden": true,
        "id": "yHf9bpBRxwcz"
      },
      "source": [
        "**NMF features**\n",
        "\n",
        "The NMF feature values are non-negative, as well. As we saw with PCA, our transformed data in this example will have two columns, corresponding to our two new features. The features and the components of an NMF model can be combined to approximately reconstruct the original data samples."
      ]
    },
    {
      "cell_type": "markdown",
      "metadata": {
        "hidden": true,
        "id": "ZVV2bWFIxwc0"
      },
      "source": [
        "**Reconstrution of a sample**\n",
        "\n",
        "If we multiply each NMF components by the corresponding NMF feature value, and add up each column, we get something very close to the original sample. So a sample can be reconstructed by multiplying the NMF components by the NMF feature values of the sample, and adding up. This calculation also can be expressed as what is known as a product of matrices. We won't be using that point of view, but that's where the matrix factorisation, or MF, in NMF comes from."
      ]
    },
    {
      "cell_type": "markdown",
      "metadata": {
        "hidden": true,
        "id": "nZEJhLF5xwc1"
      },
      "source": [
        "Finally, remember that NMF can only be applied to arrays of non-negative data, such as word-frequency arrays. In the next section, we construct another example by encoding collections of images as non-negative arrays. There are many other great examples as well, such as arrays encoding audio spectrograms, and arrays representing the purchase histories on e-Commerce sites."
      ]
    },
    {
      "cell_type": "markdown",
      "metadata": {
        "heading_collapsed": true,
        "hidden": true,
        "id": "wGcidLgqxwc2"
      },
      "source": [
        "## NMF applied to Wikipedia articles"
      ]
    },
    {
      "cell_type": "markdown",
      "metadata": {
        "hidden": true,
        "id": "mw4zvPehxwc2"
      },
      "source": [
        "Let's apply NMF, using the tf-idf word-frequency array of Wikipedia articles, given as a csr matrix `articles`. Here, we fit the model and transform the articles. In the next example, we'll explore the result."
      ]
    },
    {
      "cell_type": "code",
      "metadata": {
        "ExecuteTime": {
          "end_time": "2020-02-15T19:00:44.718351Z",
          "start_time": "2020-02-15T19:00:44.278477Z"
        },
        "hidden": true,
        "id": "yfATGRnjxwc3"
      },
      "source": [
        "# Import NMF\n",
        "from sklearn.decomposition import NMF"
      ],
      "execution_count": 4,
      "outputs": []
    },
    {
      "cell_type": "code",
      "metadata": {
        "ExecuteTime": {
          "end_time": "2020-02-15T19:00:44.734285Z",
          "start_time": "2020-02-15T19:00:44.720295Z"
        },
        "hidden": true,
        "id": "sPEwNs-_xwc6"
      },
      "source": [
        "# Create an NMF instance: model\n",
        "model = NMF(n_components=6)"
      ],
      "execution_count": 5,
      "outputs": []
    },
    {
      "cell_type": "code",
      "metadata": {
        "ExecuteTime": {
          "end_time": "2020-02-15T19:00:44.844962Z",
          "start_time": "2020-02-15T19:00:44.736252Z"
        },
        "hidden": true,
        "id": "gbrl2Qjrxwc9",
        "outputId": "defdd491-8809-4c0f-cc85-d198b3b50148",
        "colab": {
          "base_uri": "https://localhost:8080/",
          "height": 72
        }
      },
      "source": [
        "# Fit the model to articles\n",
        "model.fit(utils.articles)"
      ],
      "execution_count": 6,
      "outputs": [
        {
          "output_type": "execute_result",
          "data": {
            "text/plain": [
              "NMF(alpha=0.0, beta_loss='frobenius', init=None, l1_ratio=0.0, max_iter=200,\n",
              "    n_components=6, random_state=None, shuffle=False, solver='cd', tol=0.0001,\n",
              "    verbose=0)"
            ]
          },
          "metadata": {
            "tags": []
          },
          "execution_count": 6
        }
      ]
    },
    {
      "cell_type": "code",
      "metadata": {
        "ExecuteTime": {
          "end_time": "2020-02-15T19:00:44.860919Z",
          "start_time": "2020-02-15T19:00:44.848951Z"
        },
        "hidden": true,
        "id": "XyV008rZxwdA"
      },
      "source": [
        "# Transform the articles: nmf_features\n",
        "nmf_features = model.transform(utils.articles)"
      ],
      "execution_count": 7,
      "outputs": []
    },
    {
      "cell_type": "code",
      "metadata": {
        "ExecuteTime": {
          "end_time": "2020-02-15T19:00:44.892834Z",
          "start_time": "2020-02-15T19:00:44.864909Z"
        },
        "hidden": true,
        "id": "tfO7K1oFxwdC",
        "outputId": "058820dc-769b-4e7b-f8d2-9cac92b54262",
        "colab": {
          "base_uri": "https://localhost:8080/",
          "height": 1000
        }
      },
      "source": [
        "# Print the NMF features\n",
        "print(nmf_features)"
      ],
      "execution_count": 8,
      "outputs": [
        {
          "output_type": "stream",
          "text": [
            "[[0.00000000e+00 0.00000000e+00 0.00000000e+00 0.00000000e+00\n",
            "  0.00000000e+00 4.40422914e-01]\n",
            " [0.00000000e+00 0.00000000e+00 0.00000000e+00 0.00000000e+00\n",
            "  0.00000000e+00 5.66549895e-01]\n",
            " [3.82046988e-03 0.00000000e+00 0.00000000e+00 0.00000000e+00\n",
            "  0.00000000e+00 3.98608136e-01]\n",
            " [0.00000000e+00 0.00000000e+00 0.00000000e+00 0.00000000e+00\n",
            "  0.00000000e+00 3.81703076e-01]\n",
            " [0.00000000e+00 0.00000000e+00 0.00000000e+00 0.00000000e+00\n",
            "  0.00000000e+00 4.85469781e-01]\n",
            " [1.29287406e-02 1.37890610e-02 7.76340593e-03 3.34447264e-02\n",
            "  0.00000000e+00 3.34489450e-01]\n",
            " [0.00000000e+00 0.00000000e+00 2.06745584e-02 0.00000000e+00\n",
            "  6.04443557e-03 3.59026581e-01]\n",
            " [0.00000000e+00 0.00000000e+00 0.00000000e+00 0.00000000e+00\n",
            "  0.00000000e+00 4.90928821e-01]\n",
            " [1.54270336e-02 1.42818476e-02 3.76640403e-03 2.37083318e-02\n",
            "  2.62601947e-02 4.80728082e-01]\n",
            " [1.11735671e-02 3.13680004e-02 3.09491426e-02 6.56921915e-02\n",
            "  1.96664230e-02 3.38255926e-01]\n",
            " [0.00000000e+00 0.00000000e+00 5.30728950e-01 0.00000000e+00\n",
            "  2.83660574e-02 0.00000000e+00]\n",
            " [0.00000000e+00 0.00000000e+00 3.56515693e-01 0.00000000e+00\n",
            "  0.00000000e+00 0.00000000e+00]\n",
            " [1.20124406e-02 6.50040320e-03 3.12250848e-01 6.09698189e-02\n",
            "  1.13853748e-02 1.92583767e-02]\n",
            " [3.93476269e-03 6.24438571e-03 3.42379389e-01 1.10755753e-02\n",
            "  0.00000000e+00 0.00000000e+00]\n",
            " [4.63810486e-03 0.00000000e+00 4.34922852e-01 0.00000000e+00\n",
            "  3.84249511e-02 3.08103593e-03]\n",
            " [0.00000000e+00 0.00000000e+00 4.83297757e-01 0.00000000e+00\n",
            "  0.00000000e+00 0.00000000e+00]\n",
            " [5.65003215e-03 1.83534311e-02 3.76539745e-01 3.25422179e-02\n",
            "  0.00000000e+00 1.13323499e-02]\n",
            " [0.00000000e+00 0.00000000e+00 4.80922386e-01 0.00000000e+00\n",
            "  0.00000000e+00 0.00000000e+00]\n",
            " [0.00000000e+00 9.01858381e-03 5.51017796e-01 0.00000000e+00\n",
            "  0.00000000e+00 0.00000000e+00]\n",
            " [0.00000000e+00 0.00000000e+00 4.65977969e-01 0.00000000e+00\n",
            "  0.00000000e+00 0.00000000e+00]\n",
            " [0.00000000e+00 1.14080082e-02 2.08659417e-02 5.17705700e-01\n",
            "  5.81370060e-02 1.37840687e-02]\n",
            " [0.00000000e+00 0.00000000e+00 0.00000000e+00 5.10414520e-01\n",
            "  0.00000000e+00 0.00000000e+00]\n",
            " [0.00000000e+00 5.60100351e-03 0.00000000e+00 4.22329585e-01\n",
            "  0.00000000e+00 0.00000000e+00]\n",
            " [0.00000000e+00 0.00000000e+00 0.00000000e+00 4.36699273e-01\n",
            "  0.00000000e+00 0.00000000e+00]\n",
            " [0.00000000e+00 0.00000000e+00 0.00000000e+00 4.98032756e-01\n",
            "  0.00000000e+00 0.00000000e+00]\n",
            " [9.88370578e-02 8.60038052e-02 3.91042752e-03 3.80972186e-01\n",
            "  4.39210113e-04 5.22101980e-03]\n",
            " [0.00000000e+00 0.00000000e+00 0.00000000e+00 5.72101787e-01\n",
            "  0.00000000e+00 7.13474849e-03]\n",
            " [1.31465590e-02 1.04852628e-02 0.00000000e+00 4.68850241e-01\n",
            "  0.00000000e+00 1.16298768e-02]\n",
            " [3.84539565e-03 0.00000000e+00 0.00000000e+00 5.75642037e-01\n",
            "  0.00000000e+00 0.00000000e+00]\n",
            " [2.25238838e-03 1.38735473e-03 0.00000000e+00 5.27882938e-01\n",
            "  1.20256717e-02 1.49469630e-02]\n",
            " [0.00000000e+00 4.07545117e-01 1.85717971e-03 0.00000000e+00\n",
            "  2.96591053e-03 4.52298673e-04]\n",
            " [1.53417617e-03 6.08168467e-01 5.22287854e-04 6.24779122e-03\n",
            "  1.18436944e-03 4.40030440e-04]\n",
            " [5.38806547e-03 2.65015061e-01 5.38521071e-04 1.86903693e-02\n",
            "  6.38608937e-03 2.90077017e-03]\n",
            " [0.00000000e+00 6.44911057e-01 0.00000000e+00 0.00000000e+00\n",
            "  0.00000000e+00 0.00000000e+00]\n",
            " [0.00000000e+00 6.08902399e-01 0.00000000e+00 0.00000000e+00\n",
            "  0.00000000e+00 0.00000000e+00]\n",
            " [0.00000000e+00 3.43682670e-01 0.00000000e+00 0.00000000e+00\n",
            "  3.97768725e-03 0.00000000e+00]\n",
            " [6.10494404e-03 3.15310451e-01 1.54882781e-02 0.00000000e+00\n",
            "  5.06211233e-03 4.74289627e-03]\n",
            " [6.47357657e-03 2.13326949e-01 9.49512792e-03 4.56926852e-02\n",
            "  1.71903106e-02 9.51972895e-03]\n",
            " [7.99128300e-03 4.67591654e-01 0.00000000e+00 2.43396439e-02\n",
            "  0.00000000e+00 0.00000000e+00]\n",
            " [0.00000000e+00 6.42815283e-01 0.00000000e+00 2.35827328e-03\n",
            "  0.00000000e+00 0.00000000e+00]\n",
            " [0.00000000e+00 0.00000000e+00 0.00000000e+00 0.00000000e+00\n",
            "  4.77048701e-01 0.00000000e+00]\n",
            " [0.00000000e+00 0.00000000e+00 0.00000000e+00 0.00000000e+00\n",
            "  4.94220689e-01 0.00000000e+00]\n",
            " [0.00000000e+00 2.99068051e-04 2.14493037e-03 0.00000000e+00\n",
            "  3.81751128e-01 5.83726804e-03]\n",
            " [0.00000000e+00 0.00000000e+00 0.00000000e+00 5.64626396e-03\n",
            "  5.42202433e-01 0.00000000e+00]\n",
            " [1.78055664e-03 7.84408638e-04 1.41630645e-02 4.59763256e-04\n",
            "  4.24271875e-01 0.00000000e+00]\n",
            " [0.00000000e+00 0.00000000e+00 0.00000000e+00 0.00000000e+00\n",
            "  5.11355163e-01 0.00000000e+00]\n",
            " [0.00000000e+00 0.00000000e+00 3.28393456e-03 0.00000000e+00\n",
            "  3.72859942e-01 0.00000000e+00]\n",
            " [0.00000000e+00 2.62082868e-04 3.61111205e-02 2.32310304e-04\n",
            "  2.30494132e-01 0.00000000e+00]\n",
            " [1.12515048e-02 2.12325905e-03 1.60975611e-02 1.02472666e-02\n",
            "  3.25438100e-01 3.75844785e-02]\n",
            " [0.00000000e+00 0.00000000e+00 0.00000000e+00 0.00000000e+00\n",
            "  4.18928092e-01 3.57672891e-04]\n",
            " [3.08366155e-01 0.00000000e+00 0.00000000e+00 0.00000000e+00\n",
            "  0.00000000e+00 0.00000000e+00]\n",
            " [3.68172855e-01 0.00000000e+00 0.00000000e+00 0.00000000e+00\n",
            "  0.00000000e+00 0.00000000e+00]\n",
            " [3.97943778e-01 2.81700996e-02 3.67018867e-03 1.70046551e-02\n",
            "  1.95953645e-03 2.11624095e-02]\n",
            " [3.75793584e-01 2.07519241e-03 0.00000000e+00 3.72110072e-02\n",
            "  0.00000000e+00 5.85871794e-03]\n",
            " [4.38027017e-01 0.00000000e+00 0.00000000e+00 0.00000000e+00\n",
            "  0.00000000e+00 0.00000000e+00]\n",
            " [4.57879779e-01 0.00000000e+00 0.00000000e+00 0.00000000e+00\n",
            "  0.00000000e+00 0.00000000e+00]\n",
            " [2.75476477e-01 4.46953394e-03 0.00000000e+00 5.29592420e-02\n",
            "  0.00000000e+00 1.90979425e-02]\n",
            " [4.45192721e-01 0.00000000e+00 0.00000000e+00 0.00000000e+00\n",
            "  5.48659686e-03 0.00000000e+00]\n",
            " [2.92739599e-01 1.33663821e-02 1.14265577e-02 1.05187521e-02\n",
            "  1.87682997e-01 9.23876664e-03]\n",
            " [3.78265464e-01 1.43969205e-02 0.00000000e+00 9.85122240e-02\n",
            "  1.35890705e-02 0.00000000e+00]]\n"
          ],
          "name": "stdout"
        }
      ]
    },
    {
      "cell_type": "markdown",
      "metadata": {
        "heading_collapsed": true,
        "hidden": true,
        "id": "lJwrDo-_xwdF"
      },
      "source": [
        "## NMF features of the Wikipedia articles"
      ]
    },
    {
      "cell_type": "markdown",
      "metadata": {
        "hidden": true,
        "id": "GV490hT3xwdF"
      },
      "source": [
        "Now we will explore the NMF features we created in the previous example."
      ]
    },
    {
      "cell_type": "code",
      "metadata": {
        "ExecuteTime": {
          "end_time": "2020-02-15T19:00:44.908791Z",
          "start_time": "2020-02-15T19:00:44.895826Z"
        },
        "hidden": true,
        "id": "aNd_3e6-xwdG"
      },
      "source": [
        "# Create a pandas DataFrame: df\n",
        "df = pd.DataFrame(nmf_features, index=utils.titles)"
      ],
      "execution_count": 9,
      "outputs": []
    },
    {
      "cell_type": "code",
      "metadata": {
        "ExecuteTime": {
          "end_time": "2020-02-15T19:00:44.923751Z",
          "start_time": "2020-02-15T19:00:44.911783Z"
        },
        "hidden": true,
        "id": "qhnBAgoUxwdI",
        "outputId": "63fcff02-6af0-41df-92ee-175c4d403b9c",
        "colab": {
          "base_uri": "https://localhost:8080/",
          "height": 145
        }
      },
      "source": [
        "# Print the row for 'Anne Hathaway'\n",
        "print(df.loc['Anne Hathaway'])"
      ],
      "execution_count": 10,
      "outputs": [
        {
          "output_type": "stream",
          "text": [
            "0    0.003845\n",
            "1    0.000000\n",
            "2    0.000000\n",
            "3    0.575642\n",
            "4    0.000000\n",
            "5    0.000000\n",
            "Name: Anne Hathaway, dtype: float64\n"
          ],
          "name": "stdout"
        }
      ]
    },
    {
      "cell_type": "code",
      "metadata": {
        "ExecuteTime": {
          "end_time": "2020-02-15T19:00:44.939708Z",
          "start_time": "2020-02-15T19:00:44.926743Z"
        },
        "hidden": true,
        "id": "WLzZGrkrxwdK",
        "outputId": "f7f8aca5-3b6f-4bd8-d3da-a69110854151",
        "colab": {
          "base_uri": "https://localhost:8080/",
          "height": 145
        }
      },
      "source": [
        "# Print the row for 'Denzel Washington'\n",
        "print(df.loc['Denzel Washington'])"
      ],
      "execution_count": 11,
      "outputs": [
        {
          "output_type": "stream",
          "text": [
            "0    0.000000\n",
            "1    0.005601\n",
            "2    0.000000\n",
            "3    0.422330\n",
            "4    0.000000\n",
            "5    0.000000\n",
            "Name: Denzel Washington, dtype: float64\n"
          ],
          "name": "stdout"
        }
      ]
    },
    {
      "cell_type": "markdown",
      "metadata": {
        "hidden": true,
        "id": "Ozx01J63xwdM"
      },
      "source": [
        "When investigating the features, notice that for both actors, the NMF feature 3 has by far the highest value. This means that both articles are reconstructed using mainly the 3rd NMF component. In the next section, we'll see why: NMF components represent topics (for instance, acting!)."
      ]
    },
    {
      "cell_type": "markdown",
      "metadata": {
        "heading_collapsed": true,
        "id": "qhSI_WZpxwdN"
      },
      "source": [
        "# NMF learns interpretable parts"
      ]
    },
    {
      "cell_type": "markdown",
      "metadata": {
        "hidden": true,
        "id": "2pIpRD_0xwdO"
      },
      "source": [
        "In this section, we'll learn that the components of NMF represent patterns that frequently occur in the samples. Let's consider a concrete example, where scientific articles are represented by their word frequencies. There are 20000 articles, and 800 words. So the array has 800 columns.\n",
        "\n",
        "![Articles](https://github.com/ML-Challenge/week4-unsupervised-learning/blob/master/assets/4-3.png?raw=1)\n",
        "\n",
        "Let's fit an NMF model with 10 components to the articles.\n",
        "\n",
        "```\n",
        "from sklearn.decomposition import NMF\n",
        "\n",
        "nmf = NMF(n_components=10)\n",
        "\n",
        "nmf.fit(articles)\n",
        "```"
      ]
    },
    {
      "cell_type": "markdown",
      "metadata": {
        "hidden": true,
        "id": "vhYynjuxxwdO"
      },
      "source": [
        "The 10 components are stored as the 10 rows of a 2-dimensional numpy array. The rows, or components, live in an 800-dimensional space - there is one dimension for each of the words.\n",
        "\n",
        "![NMF Components](https://github.com/ML-Challenge/week4-unsupervised-learning/blob/master/assets/4-4.png?raw=1)\n",
        "\n",
        "Aligning the words of our vocabulary with the columns of the NMF components allows them to be interpreted.  Choosing a component, such as this one, and looking at which words have the highest values, we see that they fit a theme: the words are 'species', 'plant', 'plants', 'genetic', 'evolution' and 'life'.\n",
        "\n",
        "![NMF Component](https://github.com/ML-Challenge/week4-unsupervised-learning/blob/master/assets/4-6.png?raw=1)\n",
        "\n",
        "The same happens if any other component is considered.\n",
        "\n",
        "![NMF Component](https://github.com/ML-Challenge/week4-unsupervised-learning/blob/master/assets/4-7.png?raw=1)"
      ]
    },
    {
      "cell_type": "markdown",
      "metadata": {
        "hidden": true,
        "id": "mSTB1i8uxwdP"
      },
      "source": [
        "So if NMF is applied to documents, then the components correspond to topics, and the NMF features reconstruct the documents from the topics.  If NMF is applied to a collection of images, on the other hand, then. the NMF components represent patterns that frequently occur in the images.\n",
        "In this example, for instance, NMF decomposes images from an LCD display into the individual cells of the display.\n",
        "\n",
        "![NMF Images](https://github.com/ML-Challenge/week4-unsupervised-learning/blob/master/assets/4-8.png?raw=1)\n",
        "\n",
        "This example we'll investigate for in the examples. To do this, we'll need to know how to represent a collection of images as a non-negative array. \n",
        "\n",
        "**Grayscale images**\n",
        "\n",
        "An image in which all the pixels are shades of gray ranging from black to white is called a grayscale image. Since there are only shades of grey, a grayscale image can be encoded by the brightness of every pixel. Representing the brightness as a number between 0 and 1, where 0 is totally black and 1 is totally white, the image can be represented as 2-dimensional array of numbers.\n",
        "\n",
        "![NMF Images](https://github.com/ML-Challenge/week4-unsupervised-learning/blob/master/assets/4-9.png?raw=1)\n",
        "\n",
        "Here, for example, is a grayscale photo of the moon!\n",
        "\n",
        "![Moon](https://github.com/ML-Challenge/week4-unsupervised-learning/blob/master/assets/4-10.png?raw=1)\n",
        "\n",
        "These 2-dimensional arrays of numbers can then be flattened by enumerating the entries. For instance, we could read-off the values row-by-row, from left-to-right, and from top-to-bottom.\n",
        "\n",
        "![Moon](https://github.com/ML-Challenge/week4-unsupervised-learning/blob/master/assets/4-12.png?raw=1)\n",
        "\n",
        "The grayscale image is now represented by a flat array of non-negative numbers."
      ]
    },
    {
      "cell_type": "markdown",
      "metadata": {
        "hidden": true,
        "id": "glY8rTz9xwdP"
      },
      "source": [
        "**Encoding a collection of images**\n",
        "\n",
        "A collection of grayscale images of the same size can thus be encoded as a 2-dimensional\n",
        "array, in which each row represents an image as a flattened array, and each column represents a pixel. Viewing the images as samples, and the pixels as features, we see that the data is arranged similarly to the word frequency array. \n",
        "\n",
        "![Collection](https://github.com/ML-Challenge/week4-unsupervised-learning/blob/master/assets/4-13.png?raw=1)\n",
        "\n",
        "Indeed, the entries of this array are non-negative, so NMF can be used to learn the parts of the images."
      ]
    },
    {
      "cell_type": "markdown",
      "metadata": {
        "hidden": true,
        "id": "afw7hAd_xwdQ"
      },
      "source": [
        "**Visualizing samples**\n",
        "\n",
        "It's difficult to visualize an image by just looking at the flattened array. To recover the image, use the reshape method of the sample, specifying the dimensions of the original image as a tuple. This yields the 2-dimensional array of pixel brightnesses.\n",
        "\n",
        "```\n",
        "bitmap = sample.reshape((2,3))\n",
        "```\n",
        "\n",
        "To display the corresponding image, import `pyplot`, and pass the 2-dimensional array to the plt dot `imshow` function.\n",
        "\n",
        "```\n",
        "from matplotlib import pyplot as plt\n",
        "\n",
        "plt.imshow(bitmap, cmap='gray', interpolation='nearest')\n",
        "plt.show()\n",
        "```"
      ]
    },
    {
      "cell_type": "markdown",
      "metadata": {
        "heading_collapsed": true,
        "hidden": true,
        "id": "D_8s_V9QxwdQ"
      },
      "source": [
        "## NMF learns topics of documents"
      ]
    },
    {
      "cell_type": "markdown",
      "metadata": {
        "hidden": true,
        "id": "YlymWH8UxwdQ"
      },
      "source": [
        "We learned that when NMF is applied to documents, the components correspond to topics of documents, and the NMF features reconstruct the documents from the topics. Let's verify this for the NMF model that we built earlier using the Wikipedia articles. Previously, we saw that the 3rd NMF feature value was high for the articles about actors Anne Hathaway and Denzel Washington. In this example, let's identify the topic of the corresponding NMF component."
      ]
    },
    {
      "cell_type": "code",
      "metadata": {
        "ExecuteTime": {
          "end_time": "2020-02-15T19:00:44.955666Z",
          "start_time": "2020-02-15T19:00:44.942701Z"
        },
        "hidden": true,
        "id": "ZxsQbH3zxwdR"
      },
      "source": [
        "# Create a DataFrame: components_df\n",
        "components_df = pd.DataFrame(model.components_, columns=utils.words)"
      ],
      "execution_count": 12,
      "outputs": []
    },
    {
      "cell_type": "code",
      "metadata": {
        "ExecuteTime": {
          "end_time": "2020-02-15T19:00:44.970627Z",
          "start_time": "2020-02-15T19:00:44.957660Z"
        },
        "hidden": true,
        "id": "ErN_x5CzxwdT",
        "outputId": "98aa2fb4-c5b6-4fb7-cfd4-63852e6faa44",
        "colab": {
          "base_uri": "https://localhost:8080/",
          "height": 35
        }
      },
      "source": [
        "# Print the shape of the DataFrame\n",
        "print(components_df.shape)"
      ],
      "execution_count": 13,
      "outputs": [
        {
          "output_type": "stream",
          "text": [
            "(6, 13125)\n"
          ],
          "name": "stdout"
        }
      ]
    },
    {
      "cell_type": "code",
      "metadata": {
        "ExecuteTime": {
          "end_time": "2020-02-15T19:00:44.986583Z",
          "start_time": "2020-02-15T19:00:44.973618Z"
        },
        "hidden": true,
        "id": "Ir5s95XGxwdX"
      },
      "source": [
        "# Select row 3: component\n",
        "component = components_df.iloc[3]"
      ],
      "execution_count": 14,
      "outputs": []
    },
    {
      "cell_type": "code",
      "metadata": {
        "ExecuteTime": {
          "end_time": "2020-02-15T19:00:45.002541Z",
          "start_time": "2020-02-15T19:00:44.989575Z"
        },
        "hidden": true,
        "id": "QKlrp0s1xwdZ",
        "outputId": "e3c95781-f2a1-4d1e-cd5e-62a5bd51dd16",
        "colab": {
          "base_uri": "https://localhost:8080/",
          "height": 126
        }
      },
      "source": [
        "# Print result of nlargest\n",
        "print(component.nlargest())"
      ],
      "execution_count": 15,
      "outputs": [
        {
          "output_type": "stream",
          "text": [
            "film       0.627951\n",
            "award      0.253162\n",
            "starred    0.245313\n",
            "role       0.211476\n",
            "actress    0.186420\n",
            "Name: 3, dtype: float64\n"
          ],
          "name": "stdout"
        }
      ]
    },
    {
      "cell_type": "markdown",
      "metadata": {
        "hidden": true,
        "id": "32VRvnrqxwdb"
      },
      "source": [
        "Take a moment to recognise the topic that the articles about Anne Hathaway and Denzel Washington have in common"
      ]
    },
    {
      "cell_type": "markdown",
      "metadata": {
        "heading_collapsed": true,
        "hidden": true,
        "id": "RcFuERJDxwdb"
      },
      "source": [
        "## Explore the LED digits dataset"
      ]
    },
    {
      "cell_type": "markdown",
      "metadata": {
        "hidden": true,
        "id": "GJx_rgYexwdb"
      },
      "source": [
        "In the following examples, we'll use NMF to decompose grayscale images into their commonly occurring patterns. Firstly, we'll explore the image dataset and see how it is encoded as an array. We are given 100 images as a 2D array 'leds', where each row represents a single 13x8 image. The images in our dataset are pictures of a LED digital display."
      ]
    },
    {
      "cell_type": "code",
      "metadata": {
        "ExecuteTime": {
          "end_time": "2020-02-15T19:00:45.017500Z",
          "start_time": "2020-02-15T19:00:45.004534Z"
        },
        "hidden": true,
        "id": "Fx9Mxzw-xwdc"
      },
      "source": [
        "# Select the 0th row: digit\n",
        "digit = utils.leds[0,:]"
      ],
      "execution_count": 16,
      "outputs": []
    },
    {
      "cell_type": "code",
      "metadata": {
        "ExecuteTime": {
          "end_time": "2020-02-15T19:00:45.032462Z",
          "start_time": "2020-02-15T19:00:45.020493Z"
        },
        "hidden": true,
        "id": "xxKwWsQxxwde",
        "outputId": "cd9b05dd-0660-4ddd-8c14-72bf39a0660e",
        "colab": {
          "base_uri": "https://localhost:8080/",
          "height": 108
        }
      },
      "source": [
        "# Print digit\n",
        "print(digit)"
      ],
      "execution_count": 17,
      "outputs": [
        {
          "output_type": "stream",
          "text": [
            "[0. 0. 0. 0. 0. 0. 0. 0. 0. 0. 1. 1. 1. 1. 0. 0. 0. 0. 0. 0. 0. 0. 1. 0.\n",
            " 0. 0. 0. 0. 0. 0. 1. 0. 0. 0. 0. 0. 0. 0. 1. 0. 0. 0. 0. 0. 0. 0. 1. 0.\n",
            " 0. 0. 0. 0. 0. 0. 0. 0. 0. 0. 0. 0. 0. 0. 1. 0. 0. 0. 0. 0. 0. 0. 1. 0.\n",
            " 0. 0. 0. 0. 0. 0. 1. 0. 0. 0. 0. 0. 0. 0. 1. 0. 0. 0. 0. 0. 0. 0. 0. 0.\n",
            " 0. 0. 0. 0. 0. 0. 0. 0.]\n"
          ],
          "name": "stdout"
        }
      ]
    },
    {
      "cell_type": "code",
      "metadata": {
        "ExecuteTime": {
          "end_time": "2020-02-15T19:00:45.048418Z",
          "start_time": "2020-02-15T19:00:45.034455Z"
        },
        "hidden": true,
        "id": "z8sCgVsexwdg"
      },
      "source": [
        "# Reshape digit to a 13x8 array: bitmap\n",
        "bitmap = digit.reshape(13,8)"
      ],
      "execution_count": 18,
      "outputs": []
    },
    {
      "cell_type": "code",
      "metadata": {
        "ExecuteTime": {
          "end_time": "2020-02-15T19:00:45.063378Z",
          "start_time": "2020-02-15T19:00:45.051409Z"
        },
        "hidden": true,
        "id": "Y2CU9MOhxwdi",
        "outputId": "f8c5189f-8706-4296-8de6-4597c2afb99e",
        "colab": {
          "base_uri": "https://localhost:8080/",
          "height": 254
        }
      },
      "source": [
        "# Print bitmap\n",
        "print(bitmap)"
      ],
      "execution_count": 19,
      "outputs": [
        {
          "output_type": "stream",
          "text": [
            "[[0. 0. 0. 0. 0. 0. 0. 0.]\n",
            " [0. 0. 1. 1. 1. 1. 0. 0.]\n",
            " [0. 0. 0. 0. 0. 0. 1. 0.]\n",
            " [0. 0. 0. 0. 0. 0. 1. 0.]\n",
            " [0. 0. 0. 0. 0. 0. 1. 0.]\n",
            " [0. 0. 0. 0. 0. 0. 1. 0.]\n",
            " [0. 0. 0. 0. 0. 0. 0. 0.]\n",
            " [0. 0. 0. 0. 0. 0. 1. 0.]\n",
            " [0. 0. 0. 0. 0. 0. 1. 0.]\n",
            " [0. 0. 0. 0. 0. 0. 1. 0.]\n",
            " [0. 0. 0. 0. 0. 0. 1. 0.]\n",
            " [0. 0. 0. 0. 0. 0. 0. 0.]\n",
            " [0. 0. 0. 0. 0. 0. 0. 0.]]\n"
          ],
          "name": "stdout"
        }
      ]
    },
    {
      "cell_type": "code",
      "metadata": {
        "ExecuteTime": {
          "end_time": "2020-02-15T19:00:45.270847Z",
          "start_time": "2020-02-15T19:00:45.065373Z"
        },
        "hidden": true,
        "id": "8qLSWklGxwdl",
        "outputId": "5c0118bb-b439-4255-e4fc-918b6a59b057",
        "colab": {
          "base_uri": "https://localhost:8080/",
          "height": 432
        }
      },
      "source": [
        "# Use plt.imshow to display bitmap\n",
        "plt.imshow(bitmap, cmap='gray', interpolation='nearest')\n",
        "plt.colorbar()\n",
        "plt.show()"
      ],
      "execution_count": 20,
      "outputs": [
        {
          "output_type": "display_data",
          "data": {
            "image/png": "[encoded data removed]",
            "text/plain": [
              "<Figure size 792x504 with 2 Axes>"
            ]
          },
          "metadata": {
            "tags": [],
            "needs_background": "light"
          }
        }
      ]
    },
    {
      "cell_type": "markdown",
      "metadata": {
        "heading_collapsed": true,
        "hidden": true,
        "id": "f3Ovuw82xwdn"
      },
      "source": [
        "## NMF learns the parts of images"
      ]
    },
    {
      "cell_type": "markdown",
      "metadata": {
        "hidden": true,
        "id": "jPFwC1aQxwdn"
      },
      "source": [
        "Now let's use what we've learned about NMF to decompose the digits dataset."
      ]
    },
    {
      "cell_type": "code",
      "metadata": {
        "ExecuteTime": {
          "end_time": "2020-02-15T19:00:45.286806Z",
          "start_time": "2020-02-15T19:00:45.272818Z"
        },
        "hidden": true,
        "id": "GGcE5EgIxwdn"
      },
      "source": [
        "def show_as_image(digit):\n",
        "    bitmap = digit.reshape((13, 8))\n",
        "    plt.figure()\n",
        "    plt.imshow(bitmap, cmap='gray', interpolation='nearest')\n",
        "    plt.colorbar()\n",
        "    plt.show()"
      ],
      "execution_count": 21,
      "outputs": []
    },
    {
      "cell_type": "code",
      "metadata": {
        "ExecuteTime": {
          "end_time": "2020-02-15T19:00:45.302777Z",
          "start_time": "2020-02-15T19:00:45.290769Z"
        },
        "hidden": true,
        "id": "K5fjMA8yxwdp"
      },
      "source": [
        "# Create an NMF model: model\n",
        "model = NMF(n_components=7)"
      ],
      "execution_count": 22,
      "outputs": []
    },
    {
      "cell_type": "code",
      "metadata": {
        "ExecuteTime": {
          "end_time": "2020-02-15T19:00:45.318382Z",
          "start_time": "2020-02-15T19:00:45.306734Z"
        },
        "hidden": true,
        "id": "1cMr6dI5xwdr"
      },
      "source": [
        "# Apply fit_transform to samples: features\n",
        "features = model.fit_transform(utils.leds)"
      ],
      "execution_count": 23,
      "outputs": []
    },
    {
      "cell_type": "code",
      "metadata": {
        "ExecuteTime": {
          "end_time": "2020-02-15T19:00:46.744953Z",
          "start_time": "2020-02-15T19:00:45.320376Z"
        },
        "hidden": true,
        "id": "0tw6uim2xwds",
        "outputId": "6a73c07d-e165-495c-eb2b-df80c9e5b8fa",
        "colab": {
          "base_uri": "https://localhost:8080/",
          "height": 1000
        }
      },
      "source": [
        "# Call show_as_image on each component\n",
        "for component in model.components_:\n",
        "    show_as_image(component)"
      ],
      "execution_count": 24,
      "outputs": [
        {
          "output_type": "display_data",
          "data": {
            "image/png": "[encoded data removed]",
            "text/plain": [
              "<Figure size 792x504 with 2 Axes>"
            ]
          },
          "metadata": {
            "tags": [],
            "needs_background": "light"
          }
        },
        {
          "output_type": "display_data",
          "data": {
            "image/png": "[encoded data removed]",
            "text/plain": [
              "<Figure size 792x504 with 2 Axes>"
            ]
          },
          "metadata": {
            "tags": [],
            "needs_background": "light"
          }
        },
        {
          "output_type": "display_data",
          "data": {
            "image/png": "[encoded data removed]",
            "text/plain": [
              "<Figure size 792x504 with 2 Axes>"
            ]
          },
          "metadata": {
            "tags": [],
            "needs_background": "light"
          }
        },
        {
          "output_type": "display_data",
          "data": {
            "image/png": "[encoded data removed]",
            "text/plain": [
              "<Figure size 792x504 with 2 Axes>"
            ]
          },
          "metadata": {
            "tags": [],
            "needs_background": "light"
          }
        },
        {
          "output_type": "display_data",
          "data": {
            "image/png": "[encoded data removed]",
            "text/plain": [
              "<Figure size 792x504 with 2 Axes>"
            ]
          },
          "metadata": {
            "tags": [],
            "needs_background": "light"
          }
        },
        {
          "output_type": "display_data",
          "data": {
            "image/png": "[encoded data removed]",
            "text/plain": [
              "<Figure size 792x504 with 2 Axes>"
            ]
          },
          "metadata": {
            "tags": [],
            "needs_background": "light"
          }
        },
        {
          "output_type": "display_data",
          "data": {
            "image/png": "[encoded data removed]",
            "text/plain": [
              "<Figure size 792x504 with 2 Axes>"
            ]
          },
          "metadata": {
            "tags": [],
            "needs_background": "light"
          }
        }
      ]
    },
    {
      "cell_type": "code",
      "metadata": {
        "ExecuteTime": {
          "end_time": "2020-02-15T19:00:46.760878Z",
          "start_time": "2020-02-15T19:00:46.746917Z"
        },
        "hidden": true,
        "id": "C4sLhd-Ixwdv"
      },
      "source": [
        "# Assign the 0th row of features: digit_features\n",
        "digit_features = features[0,:]"
      ],
      "execution_count": 25,
      "outputs": []
    },
    {
      "cell_type": "code",
      "metadata": {
        "ExecuteTime": {
          "end_time": "2020-02-15T19:00:46.776834Z",
          "start_time": "2020-02-15T19:00:46.763868Z"
        },
        "hidden": true,
        "id": "SfmPz_rQxwdx",
        "outputId": "6a886af3-1353-48c6-83fb-6a1e471d50fe",
        "colab": {
          "base_uri": "https://localhost:8080/",
          "height": 54
        }
      },
      "source": [
        "# Print digit_features\n",
        "print(digit_features)"
      ],
      "execution_count": 26,
      "outputs": [
        {
          "output_type": "stream",
          "text": [
            "[4.76823559e-01 0.00000000e+00 0.00000000e+00 5.90605054e-01\n",
            " 4.81559442e-01 0.00000000e+00 7.37546142e-16]\n"
          ],
          "name": "stdout"
        }
      ]
    },
    {
      "cell_type": "markdown",
      "metadata": {
        "hidden": true,
        "id": "xWf9zTTIxwdz"
      },
      "source": [
        "Take a moment to look through the plots and notice how NMF has expressed the digit as a sum of the components!"
      ]
    },
    {
      "cell_type": "markdown",
      "metadata": {
        "heading_collapsed": true,
        "hidden": true,
        "id": "YDqQPHNKxwdz"
      },
      "source": [
        "## PCA doesn't learn parts"
      ]
    },
    {
      "cell_type": "markdown",
      "metadata": {
        "hidden": true,
        "id": "mXVyFPx5xwd0"
      },
      "source": [
        "Unlike NMF, PCA doesn't learn the parts of things. Its components do not correspond to topics (in the case of documents) or to parts of images, when trained on images. Let's verify this by inspecting the components of a PCA model fit to the dataset of LED digit images from the previous example. The images are available as a 2D array `leds`. Also available is a modified version of the `show_as_image()` function which colors a pixel red if the value is negative."
      ]
    },
    {
      "cell_type": "code",
      "metadata": {
        "ExecuteTime": {
          "end_time": "2020-02-15T19:00:46.792791Z",
          "start_time": "2020-02-15T19:00:46.780826Z"
        },
        "hidden": true,
        "id": "LINRjlLAxwd0"
      },
      "source": [
        "def show_as_image(vector):\n",
        "    \"\"\"\n",
        "    Given a 1d vector representing an image, display that image in \n",
        "    black and white.  If there are negative values, then use red for \n",
        "    that pixel.\n",
        "    \"\"\"\n",
        "    bitmap = vector.reshape((13, 8))  # make a square array\n",
        "    bitmap /= np.abs(vector).max()  # normalise\n",
        "    bitmap = bitmap[:,:,np.newaxis]\n",
        "    rgb_layers = [np.abs(bitmap)] + [bitmap.clip(0)] * 2\n",
        "    rgb_bitmap = np.concatenate(rgb_layers, axis=-1)\n",
        "    plt.imshow(rgb_bitmap, interpolation='nearest')\n",
        "    plt.xticks([])\n",
        "    plt.yticks([])\n",
        "    plt.show()"
      ],
      "execution_count": 27,
      "outputs": []
    },
    {
      "cell_type": "code",
      "metadata": {
        "ExecuteTime": {
          "end_time": "2020-02-15T19:00:46.807752Z",
          "start_time": "2020-02-15T19:00:46.795802Z"
        },
        "hidden": true,
        "id": "daNuBlCcxwd2"
      },
      "source": [
        "# Import PCA\n",
        "from sklearn.decomposition import PCA"
      ],
      "execution_count": 28,
      "outputs": []
    },
    {
      "cell_type": "code",
      "metadata": {
        "ExecuteTime": {
          "end_time": "2020-02-15T19:00:46.823714Z",
          "start_time": "2020-02-15T19:00:46.809749Z"
        },
        "hidden": true,
        "id": "_FP1HwVexwd4"
      },
      "source": [
        "# Create a PCA instance: model\n",
        "model = PCA(n_components=7)"
      ],
      "execution_count": 29,
      "outputs": []
    },
    {
      "cell_type": "code",
      "metadata": {
        "ExecuteTime": {
          "end_time": "2020-02-15T19:00:46.839699Z",
          "start_time": "2020-02-15T19:00:46.825705Z"
        },
        "hidden": true,
        "id": "vBsMbTm0xwd5"
      },
      "source": [
        "# Apply fit_transform to samples: features\n",
        "features = model.fit_transform(utils.leds)"
      ],
      "execution_count": 30,
      "outputs": []
    },
    {
      "cell_type": "code",
      "metadata": {
        "ExecuteTime": {
          "end_time": "2020-02-15T19:00:47.282586Z",
          "start_time": "2020-02-15T19:00:46.841660Z"
        },
        "hidden": true,
        "id": "_D1jZZqnxwd7",
        "outputId": "f8636c2b-b351-44c9-f060-f2237d223e1b",
        "colab": {
          "base_uri": "https://localhost:8080/",
          "height": 1000
        }
      },
      "source": [
        "# Call show_as_image on each component\n",
        "for component in model.components_:\n",
        "    show_as_image(component)"
      ],
      "execution_count": 31,
      "outputs": [
        {
          "output_type": "display_data",
          "data": {
            "image/png": "[encoded data removed]",
            "text/plain": [
              "<Figure size 792x504 with 1 Axes>"
            ]
          },
          "metadata": {
            "tags": []
          }
        },
        {
          "output_type": "display_data",
          "data": {
            "image/png": "[encoded data removed]",
            "text/plain": [
              "<Figure size 792x504 with 1 Axes>"
            ]
          },
          "metadata": {
            "tags": []
          }
        },
        {
          "output_type": "display_data",
          "data": {
            "image/png": "[encoded data removed]",
            "text/plain": [
              "<Figure size 792x504 with 1 Axes>"
            ]
          },
          "metadata": {
            "tags": []
          }
        },
        {
          "output_type": "display_data",
          "data": {
            "image/png": "[encoded data removed]",
            "text/plain": [
              "<Figure size 792x504 with 1 Axes>"
            ]
          },
          "metadata": {
            "tags": []
          }
        },
        {
          "output_type": "display_data",
          "data": {
            "image/png": "[encoded data removed]",
            "text/plain": [
              "<Figure size 792x504 with 1 Axes>"
            ]
          },
          "metadata": {
            "tags": []
          }
        },
        {
          "output_type": "display_data",
          "data": {
            "image/png": "[encoded data removed]",
            "text/plain": [
              "<Figure size 792x504 with 1 Axes>"
            ]
          },
          "metadata": {
            "tags": []
          }
        },
        {
          "output_type": "display_data",
          "data": {
            "image/png": "[encoded data removed]",
            "text/plain": [
              "<Figure size 792x504 with 1 Axes>"
            ]
          },
          "metadata": {
            "tags": []
          }
        }
      ]
    },
    {
      "cell_type": "markdown",
      "metadata": {
        "hidden": true,
        "id": "JxzG6Jmbxwd9"
      },
      "source": [
        "Notice that the components of PCA do not represent meaningful parts of images of LED digits!"
      ]
    },
    {
      "cell_type": "markdown",
      "metadata": {
        "id": "SLLD4Qvjxwd9"
      },
      "source": [
        "# Building recommender systems using NMF"
      ]
    },
    {
      "cell_type": "markdown",
      "metadata": {
        "id": "1qxcDtJZxwd-"
      },
      "source": [
        "Suppose that we are engineers at a large online newspaper. We've been given the task of recommending articles that are similar to the article currently being read by a customer. Given an article, how can we find articles that have similar topics? In this section, we'll learn how to solve this problem, and others like it, by using NMF."
      ]
    },
    {
      "cell_type": "markdown",
      "metadata": {
        "id": "pfDEQrCbxwd-"
      },
      "source": [
        "**Strategy**\n",
        "\n",
        "Our strategy for solving this problem is to apply NMF to the word-frequency array of the articles, and to use the resulting NMF features. We learned in the previous sections these NMF features describe the topic mixture of an article. So similar articles will have similar NMF features. But how can two articles be compared using their NMF features? Before answering this question, let's set the scene by doing the first step.\n",
        "\n",
        "We are given a word frequency array articles corresponding to the collection of newspaper articles in question. Import NMF, create the model, and use the fit_transform method to obtain the transformed articles.\n",
        "\n",
        "```\n",
        "from sklearn.decomposition import NMF\n",
        "\n",
        "nmf = NMF(n_components=6)\n",
        "\n",
        "nmf_features = nmf.fit_transform(articles)\n",
        "```\n",
        "\n",
        "Now we've got NMF features for every article, given by the columns of the new array. Now we need to define how to compare articles using their NMF features."
      ]
    },
    {
      "cell_type": "markdown",
      "metadata": {
        "id": "6h3xdCC2xwd_"
      },
      "source": [
        "**Version of articles**\n",
        "\n",
        "Similar documents have similar topics, but it isn't always the case that the NMF feature values are exactly the same. For instance, one version of a document might use very direct language, whereas other versions might interleave the same content with meaningless chatter.\n",
        "\n",
        "![Chatter](https://github.com/ML-Challenge/week4-unsupervised-learning/blob/master/assets/4-14.png?raw=1)\n",
        "\n",
        "Meaningless chatter reduces the frequency of the topic words overall, which reduces the values of the NMF features representing the topics. However, on a scatter plot of the NMF features, all these versions lie on a single line passing through the origin.\n",
        "\n",
        "![Scatter plot](https://github.com/ML-Challenge/week4-unsupervised-learning/blob/master/assets/4-15.png?raw=1)"
      ]
    },
    {
      "cell_type": "markdown",
      "metadata": {
        "id": "JiTagSkrxweA"
      },
      "source": [
        "**Cosine similarity**\n",
        "\n",
        "For this reason, when comparing two documents, it's a good idea to compare these lines. We'll compare them using what is known as the cosine similarity, which uses the angle between the two lines.\n",
        "\n",
        "![Cosine](https://github.com/ML-Challenge/week4-unsupervised-learning/blob/master/assets/4-16.png?raw=1)\n",
        "\n",
        "Higher values indicate greater similarity. The technical definition of the cosine similarity is out the scope of this lesson, but we've already gained an intuition."
      ]
    },
    {
      "cell_type": "markdown",
      "metadata": {
        "id": "pfT4aR3CxweA"
      },
      "source": [
        "**Calculating the cosine similarities**\n",
        "\n",
        "Let's see now how to compute the cosine similarity. Firstly, import the normalize function, and apply it to the array of all NMF features.\n",
        "\n",
        "```\n",
        "from sklearn.preprocessing import normalize\n",
        "\n",
        "norm_features = normalize(nmf_features)\n",
        "```\n",
        "\n",
        "Now select the row corresponding to the current article, and pass it to the dot method of the array of all normalized features. This results in the cosine similarities.\n",
        "\n",
        "```\n",
        "current_article = norm_features[23, :] # if has index 23\n",
        "\n",
        "similarities = norm_features.dot(current_article)\n",
        "```\n",
        "\n",
        "With the help of a pandas DataFrame, we can label the similarities with the article titles. Start by importing pandas.\n",
        "\n",
        "```\n",
        "import pandas as pd\n",
        "```\n",
        "\n",
        "After normalizing the NMF features, create a DataFrame whose rows are the normalized features, using the titles as an index.\n",
        "\n",
        "```\n",
        "df = pd.DataFrame(norm_features, index=titles)\n",
        "```\n",
        "\n",
        "Now use the `.loc()` method of the dataframe to select the normalized feature values for the current article, using its title 'Dog bites man'.\n",
        "\n",
        "```\n",
        "current_article = df.loc['Dog bites man']\n",
        "```\n",
        "\n",
        "Calculate the cosine similarities using the `.dot()` method of the dataframe.\n",
        "\n",
        "```\n",
        "similarities = df.dot(current_article)\n",
        "```\n",
        "\n",
        "Finally, use the nlargest method of the resulting pandas Series to find the articles with the highest cosine similarity.\n",
        "\n",
        "```\n",
        "print(similarities.nlargest())\n",
        "```\n",
        "| Article                        | Similarity |\n",
        "| ------------------------------ | ---------: |\n",
        "| Dog Bites man                  | 1.000000   |\n",
        "| Hound mauls cat                | 0.979946   |\n",
        "| Pets go wild!                  | 0.979708   |\n",
        "| Dachshunds are dangerous       | 0.949641   |\n",
        "| Our streets are no longer safe | 0.900474   |\n",
        "\n",
        "We see that all of them are concerned with 'domestic animals' and/or 'danger'!"
      ]
    },
    {
      "cell_type": "markdown",
      "metadata": {
        "heading_collapsed": true,
        "id": "dy1Sncg5xweB"
      },
      "source": [
        "## Which articles are similar to 'Cristiano Ronaldo'?"
      ]
    },
    {
      "cell_type": "markdown",
      "metadata": {
        "hidden": true,
        "id": "CLXKMR4TxweB"
      },
      "source": [
        "We learned how to use NMF features and the cosine similarity to find similar articles. Let's apply this to our NMF model for popular Wikipedia articles, by finding the articles most similar to the article about the footballer Cristiano Ronaldo."
      ]
    },
    {
      "cell_type": "code",
      "metadata": {
        "ExecuteTime": {
          "end_time": "2020-02-15T19:00:47.298508Z",
          "start_time": "2020-02-15T19:00:47.284544Z"
        },
        "hidden": true,
        "id": "yXvGp8XxxweC"
      },
      "source": [
        "# Perform the necessary imports\n",
        "from sklearn.preprocessing import normalize"
      ],
      "execution_count": 32,
      "outputs": []
    },
    {
      "cell_type": "code",
      "metadata": {
        "ExecuteTime": {
          "end_time": "2020-02-15T19:00:47.313467Z",
          "start_time": "2020-02-15T19:00:47.302502Z"
        },
        "hidden": true,
        "id": "s8bahOvoxweF"
      },
      "source": [
        "# Normalize the NMF features: norm_features\n",
        "norm_features = normalize(nmf_features)"
      ],
      "execution_count": 33,
      "outputs": []
    },
    {
      "cell_type": "code",
      "metadata": {
        "ExecuteTime": {
          "end_time": "2020-02-15T19:00:47.329425Z",
          "start_time": "2020-02-15T19:00:47.317456Z"
        },
        "hidden": true,
        "id": "lX15eTjFxweH"
      },
      "source": [
        "# Create a DataFrame: df\n",
        "df = pd.DataFrame(norm_features, index=utils.titles)"
      ],
      "execution_count": 34,
      "outputs": []
    },
    {
      "cell_type": "code",
      "metadata": {
        "ExecuteTime": {
          "end_time": "2020-02-15T19:00:47.344385Z",
          "start_time": "2020-02-15T19:00:47.332421Z"
        },
        "hidden": true,
        "id": "k-L-IKjJxweL"
      },
      "source": [
        "# Select the row corresponding to 'Cristiano Ronaldo': article\n",
        "article = df.loc['Cristiano Ronaldo']"
      ],
      "execution_count": 35,
      "outputs": []
    },
    {
      "cell_type": "code",
      "metadata": {
        "ExecuteTime": {
          "end_time": "2020-02-15T19:00:47.360375Z",
          "start_time": "2020-02-15T19:00:47.347385Z"
        },
        "hidden": true,
        "id": "VLYhorVxxweN"
      },
      "source": [
        "# Compute the dot products: similarities\n",
        "similarities = df.dot(article)"
      ],
      "execution_count": 36,
      "outputs": []
    },
    {
      "cell_type": "code",
      "metadata": {
        "ExecuteTime": {
          "end_time": "2020-02-15T19:00:47.376332Z",
          "start_time": "2020-02-15T19:00:47.362342Z"
        },
        "hidden": true,
        "id": "15lR07krxweQ",
        "outputId": "4cd615c3-ea15-4e79-c27a-0301a94ec0f7",
        "colab": {
          "base_uri": "https://localhost:8080/",
          "height": 126
        }
      },
      "source": [
        "# Display those with the largest cosine similarity\n",
        "print(similarities.nlargest())"
      ],
      "execution_count": 37,
      "outputs": [
        {
          "output_type": "stream",
          "text": [
            "Cristiano Ronaldo                1.000000\n",
            "Franck Ribéry                    0.999972\n",
            "Radamel Falcao                   0.999942\n",
            "Zlatan Ibrahimović               0.999942\n",
            "France national football team    0.999923\n",
            "dtype: float64\n"
          ],
          "name": "stdout"
        }
      ]
    },
    {
      "cell_type": "markdown",
      "metadata": {
        "heading_collapsed": true,
        "id": "wxGY-yiqxweV"
      },
      "source": [
        "## Recommend musical artists part I"
      ]
    },
    {
      "cell_type": "markdown",
      "metadata": {
        "hidden": true,
        "id": "ZNhrC0syxweW"
      },
      "source": [
        "In this example and the next, we'll use what we've learned about NMF to recommend popular music artists! We are given a sparse array `artists`, the rows correspond to artists and the column to users. The entries give the number of times each artist was listened to by each user."
      ]
    },
    {
      "cell_type": "markdown",
      "metadata": {
        "hidden": true,
        "id": "DgzaFkeUxweW"
      },
      "source": [
        "In this example, we'll build a pipeline and transform the array into normalized NMF features. The first step in the pipeline, `MaxAbsScaler`, transforms the data so that all users have the same influence on the model, regardless of how many different artists they've listened to. In the next example, we'll use the resulting normalized NMF features for recommendation!"
      ]
    },
    {
      "cell_type": "code",
      "metadata": {
        "ExecuteTime": {
          "end_time": "2020-02-15T19:00:47.392290Z",
          "start_time": "2020-02-15T19:00:47.378294Z"
        },
        "hidden": true,
        "id": "hhzRJmsYxweX"
      },
      "source": [
        "# Perform the necessary imports\n",
        "from sklearn.decomposition import NMF\n",
        "from sklearn.preprocessing import Normalizer, MaxAbsScaler\n",
        "from sklearn.pipeline import make_pipeline"
      ],
      "execution_count": 38,
      "outputs": []
    },
    {
      "cell_type": "code",
      "metadata": {
        "ExecuteTime": {
          "end_time": "2020-02-15T19:00:47.408239Z",
          "start_time": "2020-02-15T19:00:47.395248Z"
        },
        "hidden": true,
        "id": "NnSzM3RsxweZ"
      },
      "source": [
        "# Create a MaxAbsScaler: scaler\n",
        "scaler = MaxAbsScaler()"
      ],
      "execution_count": 39,
      "outputs": []
    },
    {
      "cell_type": "code",
      "metadata": {
        "ExecuteTime": {
          "end_time": "2020-02-15T19:00:47.424198Z",
          "start_time": "2020-02-15T19:00:47.410210Z"
        },
        "hidden": true,
        "id": "TVmUgL4Oxweb"
      },
      "source": [
        "# Create an NMF model: nmf\n",
        "nmf = NMF(n_components=20)"
      ],
      "execution_count": 40,
      "outputs": []
    },
    {
      "cell_type": "code",
      "metadata": {
        "ExecuteTime": {
          "end_time": "2020-02-15T19:00:47.440154Z",
          "start_time": "2020-02-15T19:00:47.426167Z"
        },
        "hidden": true,
        "id": "VGglvUTvxwee"
      },
      "source": [
        "# Create a Normalizer: normalizer\n",
        "normalizer = Normalizer()"
      ],
      "execution_count": 41,
      "outputs": []
    },
    {
      "cell_type": "code",
      "metadata": {
        "ExecuteTime": {
          "end_time": "2020-02-15T19:00:47.456086Z",
          "start_time": "2020-02-15T19:00:47.442124Z"
        },
        "hidden": true,
        "id": "aNmGA7CQxweh"
      },
      "source": [
        "# Create a pipeline: pipeline\n",
        "pipeline = make_pipeline(scaler, nmf, normalizer)"
      ],
      "execution_count": 42,
      "outputs": []
    },
    {
      "cell_type": "code",
      "metadata": {
        "ExecuteTime": {
          "end_time": "2020-02-15T19:00:47.501964Z",
          "start_time": "2020-02-15T19:00:47.458081Z"
        },
        "hidden": true,
        "id": "6UZjMqTSxwej"
      },
      "source": [
        "# Apply fit_transform to artists: norm_features\n",
        "norm_features = pipeline.fit_transform(utils.artists)"
      ],
      "execution_count": 43,
      "outputs": []
    },
    {
      "cell_type": "markdown",
      "metadata": {
        "hidden": true,
        "id": "xPr2mmhSxwel"
      },
      "source": [
        "Now that we've computed the normalized NMF features, we'll use them in the next example to recommend musical artists!"
      ]
    },
    {
      "cell_type": "markdown",
      "metadata": {
        "id": "qAJOZxoyxwel"
      },
      "source": [
        "## Recommend musical artists part II"
      ]
    },
    {
      "cell_type": "markdown",
      "metadata": {
        "id": "kiVzdmLjxwem"
      },
      "source": [
        "Suppose we are big fans of Dr. Dre - which other musicial artists might we like? Let's use the NMF features from the previous example and the cosine similarity to find similar musical artists. The names of the musical artists are available as the list `artist_names`."
      ]
    },
    {
      "cell_type": "code",
      "metadata": {
        "ExecuteTime": {
          "end_time": "2020-02-15T19:02:31.266697Z",
          "start_time": "2020-02-15T19:02:31.259737Z"
        },
        "id": "HFZhrRW-xwem"
      },
      "source": [
        "# Create a DataFrame: df\n",
        "df = pd.DataFrame(norm_features, index=utils.artist_names)"
      ],
      "execution_count": 44,
      "outputs": []
    },
    {
      "cell_type": "code",
      "metadata": {
        "ExecuteTime": {
          "end_time": "2020-02-15T19:02:34.888896Z",
          "start_time": "2020-02-15T19:02:34.880940Z"
        },
        "id": "bWMIVTuOxwer"
      },
      "source": [
        "# Select row of 'Dr. Dre': artist\n",
        "artist = df.loc['Dr. Dre']"
      ],
      "execution_count": 45,
      "outputs": []
    },
    {
      "cell_type": "code",
      "metadata": {
        "ExecuteTime": {
          "end_time": "2020-02-15T19:02:35.999807Z",
          "start_time": "2020-02-15T19:02:35.986665Z"
        },
        "id": "g2XufcMZxwes"
      },
      "source": [
        "# Compute cosine similarities: similarities\n",
        "similarities = df.dot(artist)"
      ],
      "execution_count": 46,
      "outputs": []
    },
    {
      "cell_type": "code",
      "metadata": {
        "ExecuteTime": {
          "end_time": "2020-02-15T19:02:37.033753Z",
          "start_time": "2020-02-15T19:02:37.020798Z"
        },
        "id": "TVHXnHtGxwev",
        "outputId": "19a2535d-2fd1-4e78-9e51-91c09322d399",
        "colab": {
          "base_uri": "https://localhost:8080/",
          "height": 126
        }
      },
      "source": [
        "# Display those with highest cosine similarity\n",
        "print(similarities.nlargest())"
      ],
      "execution_count": 47,
      "outputs": [
        {
          "output_type": "stream",
          "text": [
            "Dr. Dre     1.000000\n",
            "50 Cent     0.930425\n",
            "Ludacris    0.901937\n",
            "Eminem      0.890986\n",
            "2Pac        0.879969\n",
            "dtype: float64\n"
          ],
          "name": "stdout"
        }
      ]
    },
    {
      "cell_type": "markdown",
      "metadata": {
        "id": "Ngk4lu0lxwez"
      },
      "source": [
        "---\n",
        "**[Week 4 - Unsupervised Learning](https://radu-enuca.gitbook.io/ml-challenge/unsupervised-learning)**\n",
        "\n",
        "*Have questions or comments? Visit the ML Challenge Mattermost Channel.*"
      ]
    }
  ]
}