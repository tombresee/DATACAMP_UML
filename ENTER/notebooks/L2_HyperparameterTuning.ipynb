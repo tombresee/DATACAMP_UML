{
  "nbformat": 4,
  "nbformat_minor": 0,
  "metadata": {
    "kernelspec": {
      "display_name": "Python 3",
      "language": "python",
      "name": "python3"
    },
    "language_info": {
      "codemirror_mode": {
        "name": "ipython",
        "version": 3
      },
      "file_extension": ".py",
      "mimetype": "text/x-python",
      "name": "python",
      "nbconvert_exporter": "python",
      "pygments_lexer": "ipython3",
      "version": "3.7.4"
    },
    "toc": {
      "base_numbering": 1,
      "nav_menu": {},
      "number_sections": true,
      "sideBar": true,
      "skip_h1_title": false,
      "title_cell": "Table of Contents",
      "title_sidebar": "Contents",
      "toc_cell": false,
      "toc_position": {},
      "toc_section_display": true,
      "toc_window_display": true
    },
    "varInspector": {
      "cols": {
        "lenName": 16,
        "lenType": 16,
        "lenVar": 40
      },
      "kernels_config": {
        "python": {
          "delete_cmd_postfix": "",
          "delete_cmd_prefix": "del ",
          "library": "var_list.py",
          "varRefreshCmd": "print(var_dic_list())"
        },
        "r": {
          "delete_cmd_postfix": ") ",
          "delete_cmd_prefix": "rm(",
          "library": "var_list.r",
          "varRefreshCmd": "cat(var_dic_list()) "
        }
      },
      "types_to_exclude": [
        "module",
        "function",
        "builtin_function_or_method",
        "instance",
        "_Feature"
      ],
      "window_display": false
    },
    "colab": {
      "name": "L2.HyperparameterTuning.ipynb",
      "provenance": [],
      "collapsed_sections": [],
      "include_colab_link": true
    }
  },
  "cells": [
    {
      "cell_type": "markdown",
      "metadata": {
        "id": "view-in-github",
        "colab_type": "text"
      },
      "source": [
        "<a href=\"https://colab.research.google.com/github/tombresee/DATACAMP_UML/blob/master/ENTER/notebooks/L2_HyperparameterTuning.ipynb\" target=\"_parent\"><img src=\"https://colab.research.google.com/assets/colab-badge.svg\" alt=\"Open In Colab\"/></a>"
      ]
    },
    {
      "cell_type": "markdown",
      "metadata": {
        "id": "_Pn8_Nu2WqzG"
      },
      "source": [
        "<a href=\"https://colab.research.google.com/github/ML-Challenge/week5-preprocessing-and-tunning/blob/master/L2.Hyperparameter%20Tuning.ipynb\" target=\"_parent\"><img src=\"https://colab.research.google.com/assets/colab-badge.svg\" /></a>"
      ]
    },
    {
      "cell_type": "markdown",
      "metadata": {
        "id": "07xZioz4WqzH"
      },
      "source": [
        "Building powerful machine learning models depends heavily on the set of hyperparameters used. But with increasingly complex models with lots of options, how do we efficiently find the best settings for our particular problem? In this lesson we will get practical experience in using some common methodologies for automated hyperparameter tuning in Python using Scikit Learn. These include Grid Search & Random Search. We will use a dataset predicting credit card defaults as we build skills to dramatically increase the efficiency and effectiveness of our machine learning model building."
      ]
    },
    {
      "cell_type": "markdown",
      "metadata": {
        "id": "tHui_lgMWqzH"
      },
      "source": [
        "# Setup"
      ]
    },
    {
      "cell_type": "code",
      "metadata": {
        "ExecuteTime": {
          "end_time": "2020-02-19T18:49:26.585604Z",
          "start_time": "2020-02-19T18:49:26.571604Z"
        },
        "id": "luGgyyLGWqzJ",
        "outputId": "1e4f585f-3597-4580-8505-62203241a78f",
        "colab": {
          "base_uri": "https://localhost:8080/",
          "height": 454
        }
      },
      "source": [
        "\n",
        "# Download lesson datasets\n",
        "# Required if you're using Google Colab\n",
        "\n",
        "!wget \"https://github.com/ML-Challenge/week5-preprocessing-and-tunning/raw/master/datasets.zip\"\n",
        "!unzip -o datasets.zip\n"
      ],
      "execution_count": 94,
      "outputs": [
        {
          "output_type": "stream",
          "text": [
            "--2020-09-27 04:45:55--  https://github.com/ML-Challenge/week5-preprocessing-and-tunning/raw/master/datasets.zip\n",
            "Resolving github.com (github.com)... 140.82.114.4\n",
            "Connecting to github.com (github.com)|140.82.114.4|:443... connected.\n",
            "HTTP request sent, awaiting response... 302 Found\n",
            "Location: https://raw.githubusercontent.com/ML-Challenge/week5-preprocessing-and-tunning/master/datasets.zip [following]\n",
            "--2020-09-27 04:45:56--  https://raw.githubusercontent.com/ML-Challenge/week5-preprocessing-and-tunning/master/datasets.zip\n",
            "Resolving raw.githubusercontent.com (raw.githubusercontent.com)... 151.101.0.133, 151.101.64.133, 151.101.128.133, ...\n",
            "Connecting to raw.githubusercontent.com (raw.githubusercontent.com)|151.101.0.133|:443... connected.\n",
            "HTTP request sent, awaiting response... 200 OK\n",
            "Length: 1846993 (1.8M) [application/zip]\n",
            "Saving to: ‘datasets.zip.1’\n",
            "\n",
            "datasets.zip.1      100%[===================>]   1.76M  8.76MB/s    in 0.2s    \n",
            "\n",
            "2020-09-27 04:45:57 (8.76 MB/s) - ‘datasets.zip.1’ saved [1846993/1846993]\n",
            "\n",
            "Archive:  datasets.zip\n",
            "  inflating: utils.py                \n",
            "  inflating: data/housing.csv        \n",
            "  inflating: data/credit-card-full.csv  \n",
            "  inflating: data/hiking.json        \n",
            "  inflating: data/wine_types.csv     \n",
            "  inflating: data/volunteer_opportunities.csv  \n",
            "  inflating: data/ufo_sightings_large.csv  \n"
          ],
          "name": "stdout"
        }
      ]
    },
    {
      "cell_type": "code",
      "metadata": {
        "ExecuteTime": {
          "end_time": "2020-02-19T18:49:27.179977Z",
          "start_time": "2020-02-19T18:49:26.587602Z"
        },
        "id": "2yPD-FJfWqzR"
      },
      "source": [
        "# Import utils\n",
        "import utils"
      ],
      "execution_count": 95,
      "outputs": []
    },
    {
      "cell_type": "code",
      "metadata": {
        "ExecuteTime": {
          "end_time": "2020-02-19T18:49:27.837220Z",
          "start_time": "2020-02-19T18:49:27.182969Z"
        },
        "id": "S7M8JtD_WqzU"
      },
      "source": [
        "import pandas as pd\n",
        "import numpy as np\n",
        "import matplotlib.pyplot as plt\n",
        "plt.rcParams['figure.figsize'] = [20, 10]\n",
        "from sklearn.model_selection import train_test_split"
      ],
      "execution_count": 96,
      "outputs": []
    },
    {
      "cell_type": "markdown",
      "metadata": {
        "heading_collapsed": true,
        "id": "UFueus2oWqzY"
      },
      "source": [
        "# Hyperparameters and Parameters"
      ]
    },
    {
      "cell_type": "markdown",
      "metadata": {
        "hidden": true,
        "id": "oh4p-Jw4Wqza"
      },
      "source": [
        "In this introductory section, we will learn the difference between hyperparameters and parameters. We will practice extracting and analyzing parameters, setting hyperparameter values for several popular machine learning algorithms. Along the way we will learn some best practice tips & tricks for choosing which hyperparameters to tune and what values to set & build learning curves to analyze our hyperparameter choices."
      ]
    },
    {
      "cell_type": "markdown",
      "metadata": {
        "hidden": true,
        "id": "zR8hufjyWqzb"
      },
      "source": [
        "## Introduction & 'Parameters'"
      ]
    },
    {
      "cell_type": "markdown",
      "metadata": {
        "hidden": true,
        "id": "pFY94MhNWqzb"
      },
      "source": [
        "Today algorithms are getting more and more complex, and so the number of hyperparameters to choose from increases. It becomes increasingly important to learn how to efficiently find optimal  combinations, as this search will likely take up a large portion of our time. Often it is quite easy to simply run Scikit Learn functions on the default settings or\n",
        "perhaps code from a tutorial or book without really digging under the hood. However, what lies underneath is of vital importance to good model building."
      ]
    },
    {
      "cell_type": "markdown",
      "metadata": {
        "hidden": true,
        "id": "4DWP_hAjWqzc"
      },
      "source": [
        "This lesson will use a dataset about credit card defaults. It contains a number of variables related to the demographics and financial history of a group of people. The target column shows whether or not they defaulted on their next loan payment. It has already been pre-processed and split ready to model. Note that at times we will take smaller samples to ensure we can run the code. "
      ]
    },
    {
      "cell_type": "markdown",
      "metadata": {
        "hidden": true,
        "id": "_qpnFfmoWqzd"
      },
      "source": [
        "**Parameters Overview**\n",
        "\n",
        "To understand hyperparameters, let's first start with parameters. What are parameters?\n",
        "\n",
        "Parameters are components of the final model that are learned through the modeling process. Crucially, we do not set these. We cannot set these. The algorithm discovers them through undertaking its steps."
      ]
    },
    {
      "cell_type": "markdown",
      "metadata": {
        "hidden": true,
        "id": "jhaADd6cWqze"
      },
      "source": [
        "To make this concrete, consider a simple logistic regression model. We create the estimator and fit to the data with default settings. \n",
        "\n",
        "```\n",
        "log_reg_clf = LogisticRegression()\n",
        "log_reg_clf.fit(X_train, y_train)\n",
        "```\n",
        "\n",
        "Since the logistic regression model is a linear model, we will get beta coefficients on our variables. These are found in the `coef_` property of our logistic regression object. \n",
        "\n",
        "```\n",
        "print(log_reg_clf.coef_)\n",
        "```\n",
        "\n",
        "However, if we print these out we can see it is a bit messy. Let us clean this up by creating a list of original variable names, zipping this up with the coefficients and formatting into a neat DataFrame for easy viewing. \n",
        "\n",
        "```\n",
        "# Get the original variable names\n",
        "original_variables = list(X_train.columns)\n",
        "\n",
        "# Zip together the names and coefficients\n",
        "zipped_together = list(zip(original_variables, log_reg_clf_coef_[0]))\n",
        "coefs = [list(x) for x in zipped_together]\n",
        "\n",
        "# Put into a DataFrame with column labels\n",
        "coefs = pd.DataFrames(coefs, columns=[\"Variable\", \"Coefficient\"]\n",
        "```\n",
        "\n",
        "We can now sort the DataFrame and print the top 3 results for brevity. \n",
        "\n",
        "```\n",
        "coefs.sort_values(by=['Coefficient'], axis=0, inplace=True, asceding=False)\n",
        "print(coefs.head(3))\n",
        "```\n",
        "\n",
        "| Variable | Coefficient |\n",
        "| -------- | ----------: |\n",
        "| PAY_0    | 0.000751    |\n",
        "| PAY_5    | 0.000438    |\n",
        "| PAY_4    | 0.000435    |\n",
        "\n",
        "Looking at the code above it is clearly that we didn't set the `PAY_0` to have a coefficient of 0.000751."
      ]
    },
    {
      "cell_type": "markdown",
      "metadata": {
        "hidden": true,
        "id": "RA1CkBgAWqzg"
      },
      "source": [
        "The coefficients are parameters because we did not set them ourselves and were learned during the modeling process. In our data, the `PAY` variables relate to how many months people have previously delayed their payments. We can see that having a high number of months of delayed payments, makes someone more likely to default next month. "
      ]
    },
    {
      "cell_type": "markdown",
      "metadata": {
        "hidden": true,
        "id": "5K_A27y0Wqzh"
      },
      "source": [
        "**Where to find Parameters**\n",
        "\n",
        "To know what parameters an algorithm will produce, we need to know a bit about the algorithm itself and how it works and consult the Scikit Learn documentation to see where the parameter is stored in the returned object.\n",
        "\n",
        "The parameters are found in the documentation for that particular algorithm under the 'Attributes' section, not the parameters section. "
      ]
    },
    {
      "cell_type": "markdown",
      "metadata": {
        "hidden": true,
        "id": "praRvUY_Wqzh"
      },
      "source": [
        "**Parameters in Random Forest**\n",
        "\n",
        "So what are the parameters in tree-based models that do not have linear coefficients? The parameters of this model are in the nodes of the trees used to build the model such as what feature was split on and at what value."
      ]
    },
    {
      "cell_type": "markdown",
      "metadata": {
        "hidden": true,
        "id": "rOhq6GkTWqzi"
      },
      "source": [
        "To demonstrate, let us firstly build a random forest estimator & fit to our data, setting the `max_depth` to be quite\n",
        "low only for visualization purposes.\n",
        "\n",
        "```\n",
        "# A simple random forest estimator\n",
        "rf_clf = RandomForestClassifier(max_depth=2)\n",
        "rf_clf.fit(X_train, y_train)\n",
        "```\n",
        "\n",
        "Then we can pull out a single tree, found in the random forest estimator `'estimators_'` attribute to visualize\n",
        "\n",
        "```\n",
        "# Pull out one tree from the forest\n",
        "chosen_tree = rf_clf.estimators_[7]\n",
        "```"
      ]
    },
    {
      "cell_type": "markdown",
      "metadata": {
        "hidden": true,
        "id": "Eppvvz_iWqzi"
      },
      "source": [
        "Here we see a graph of the nodes including the variables and values used in the splits:\n",
        "\n",
        "![Simple Tree](https://github.com/ML-Challenge/week5-preprocessing-and-tunning/blob/master/assets/2-1.png?raw=1)\n",
        "\n",
        "We can see that the very first split was on the variable `PAY_4` and it sent samples left or right depending if they had a value above or below `1` for this variable.\n",
        "\n",
        "Again, looking at the above code it is clear that this decision was not set by us!"
      ]
    },
    {
      "cell_type": "markdown",
      "metadata": {
        "hidden": true,
        "id": "Bkj7vsNkWqzj"
      },
      "source": [
        "**Extracting Node Decisions**\n",
        "\n",
        "So how do we pull out the splits we saw here visually in a programmatic way? Let's say, the left, second-from-top node. The tree we pulled out is a Scikit Learn `'tree'` object so we can find the variable it split on by indexing into the `.feature` attribute of this tree and matching up with our `X_train` columns to get the name.\n",
        "\n",
        "```\n",
        "# Get the column it split on\n",
        "split_column = chose_tree.tree_.feature[1]\n",
        "split_column_name = X_train.columns[split_column]\n",
        "```\n",
        "\n",
        "The level used to split is then found in the `.threshold` attribute. And we can then print this out.\n",
        "\n",
        "```\n",
        "# Get the level it split on\n",
        "split_value = chosen_tree.tree_.threshold[1]\n",
        "\n",
        "print(f\"This node split on feature {split_column_name}, at a value of {split_value}\")\n",
        "```\n",
        "\n",
        "```\n",
        "\"This node split on feature PAY_0, at a value of 1.5\"\n",
        "```\n",
        "\n",
        "Let's do some examples to further explore the parameters of these models!"
      ]
    },
    {
      "cell_type": "markdown",
      "metadata": {
        "hidden": true,
        "id": "zaQud1TVWqzk"
      },
      "source": [
        "### Parameters in Logistic Regression"
      ]
    },
    {
      "cell_type": "markdown",
      "metadata": {
        "hidden": true,
        "id": "m5G418vpWqzl"
      },
      "source": [
        "Now that we have had a chance to explore what a parameter is, let us apply this knowledge. It is important to be able to review any new algorithm and identify which elements are parameters and hyperparameters.\n",
        "\n",
        "Which of the following is a parameter for the Scikit Learn logistic regression model?\n",
        "\n",
        "**Possible Answers**\n",
        "\n",
        "1. `n_jobs`\n",
        "2. `coef_`\n",
        "3. `class_weight`\n",
        "4. `LogisticRegression()`"
      ]
    },
    {
      "cell_type": "code",
      "metadata": {
        "ExecuteTime": {
          "end_time": "2020-02-19T18:49:27.853179Z",
          "start_time": "2020-02-19T18:49:27.840210Z"
        },
        "hidden": true,
        "id": "1naO4sYdWqzm",
        "outputId": "6670ccba-2392-4be8-8971-3f09f951f0f6",
        "colab": {
          "base_uri": "https://localhost:8080/",
          "height": 35
        }
      },
      "source": [
        "# Pass 1,2,3 or 4 as argument\n",
        "utils.which_is_param()"
      ],
      "execution_count": 97,
      "outputs": [
        {
          "output_type": "stream",
          "text": [
            "Enter 1, 2, 3 or 4 as the answer\n"
          ],
          "name": "stdout"
        }
      ]
    },
    {
      "cell_type": "markdown",
      "metadata": {
        "hidden": true,
        "id": "yurMO9o9Wqzu"
      },
      "source": [
        "### Extracting a Logistic Regression parameter"
      ]
    },
    {
      "cell_type": "markdown",
      "metadata": {
        "hidden": true,
        "id": "rIQSbVVRWqzw"
      },
      "source": [
        "We are now going to practice extracting an important parameter of the logistic regression model. The logistic regression has a few other parameters we will not explore here, but they can be reviewed in the **scikit-learn.org** documentation for the `LogisticRegression()` module under 'Attributes'."
      ]
    },
    {
      "cell_type": "markdown",
      "metadata": {
        "hidden": true,
        "id": "GhcjoBtvWqzx"
      },
      "source": [
        "This parameter is important for understanding the direction and magnitude of the effect the variables have on the target."
      ]
    },
    {
      "cell_type": "markdown",
      "metadata": {
        "hidden": true,
        "id": "vZCl0Cw3Wqzx"
      },
      "source": [
        "In this example we will extract the coefficient parameter (found in the `coef_` attribute), zip it up with the original column names, and see which variables had the largest positive effect on the target variable."
      ]
    },
    {
      "cell_type": "code",
      "metadata": {
        "ExecuteTime": {
          "end_time": "2020-02-19T18:49:27.884094Z",
          "start_time": "2020-02-19T18:49:27.857165Z"
        },
        "hidden": true,
        "id": "O4wdibrnWqzy",
        "outputId": "53c4b901-ec93-4e53-f21e-c8c84ee74140",
        "colab": {
          "base_uri": "https://localhost:8080/",
          "height": 300
        }
      },
      "source": [
        "utils.credit_card.head()"
      ],
      "execution_count": 98,
      "outputs": [
        {
          "output_type": "execute_result",
          "data": {
            "text/html": [
              "<div>\n",
              "<style scoped>\n",
              "    .dataframe tbody tr th:only-of-type {\n",
              "        vertical-align: middle;\n",
              "    }\n",
              "\n",
              "    .dataframe tbody tr th {\n",
              "        vertical-align: top;\n",
              "    }\n",
              "\n",
              "    .dataframe thead th {\n",
              "        text-align: right;\n",
              "    }\n",
              "</style>\n",
              "<table border=\"1\" class=\"dataframe\">\n",
              "  <thead>\n",
              "    <tr style=\"text-align: right;\">\n",
              "      <th></th>\n",
              "      <th>LIMIT_BAL</th>\n",
              "      <th>AGE</th>\n",
              "      <th>PAY_0</th>\n",
              "      <th>PAY_2</th>\n",
              "      <th>PAY_3</th>\n",
              "      <th>PAY_4</th>\n",
              "      <th>PAY_5</th>\n",
              "      <th>PAY_6</th>\n",
              "      <th>BILL_AMT1</th>\n",
              "      <th>BILL_AMT2</th>\n",
              "      <th>BILL_AMT3</th>\n",
              "      <th>BILL_AMT4</th>\n",
              "      <th>BILL_AMT5</th>\n",
              "      <th>BILL_AMT6</th>\n",
              "      <th>PAY_AMT1</th>\n",
              "      <th>PAY_AMT2</th>\n",
              "      <th>PAY_AMT3</th>\n",
              "      <th>PAY_AMT4</th>\n",
              "      <th>PAY_AMT5</th>\n",
              "      <th>PAY_AMT6</th>\n",
              "      <th>default payment next month</th>\n",
              "      <th>SEX_2</th>\n",
              "      <th>EDUCATION_1</th>\n",
              "      <th>EDUCATION_2</th>\n",
              "      <th>EDUCATION_3</th>\n",
              "      <th>EDUCATION_4</th>\n",
              "      <th>EDUCATION_5</th>\n",
              "      <th>EDUCATION_6</th>\n",
              "      <th>MARRIAGE_1</th>\n",
              "      <th>MARRIAGE_2</th>\n",
              "      <th>MARRIAGE_3</th>\n",
              "    </tr>\n",
              "    <tr>\n",
              "      <th>ID</th>\n",
              "      <th></th>\n",
              "      <th></th>\n",
              "      <th></th>\n",
              "      <th></th>\n",
              "      <th></th>\n",
              "      <th></th>\n",
              "      <th></th>\n",
              "      <th></th>\n",
              "      <th></th>\n",
              "      <th></th>\n",
              "      <th></th>\n",
              "      <th></th>\n",
              "      <th></th>\n",
              "      <th></th>\n",
              "      <th></th>\n",
              "      <th></th>\n",
              "      <th></th>\n",
              "      <th></th>\n",
              "      <th></th>\n",
              "      <th></th>\n",
              "      <th></th>\n",
              "      <th></th>\n",
              "      <th></th>\n",
              "      <th></th>\n",
              "      <th></th>\n",
              "      <th></th>\n",
              "      <th></th>\n",
              "      <th></th>\n",
              "      <th></th>\n",
              "      <th></th>\n",
              "      <th></th>\n",
              "    </tr>\n",
              "  </thead>\n",
              "  <tbody>\n",
              "    <tr>\n",
              "      <th>1</th>\n",
              "      <td>20000</td>\n",
              "      <td>24</td>\n",
              "      <td>2</td>\n",
              "      <td>2</td>\n",
              "      <td>-1</td>\n",
              "      <td>-1</td>\n",
              "      <td>-2</td>\n",
              "      <td>-2</td>\n",
              "      <td>3913</td>\n",
              "      <td>3102</td>\n",
              "      <td>689</td>\n",
              "      <td>0</td>\n",
              "      <td>0</td>\n",
              "      <td>0</td>\n",
              "      <td>0</td>\n",
              "      <td>689</td>\n",
              "      <td>0</td>\n",
              "      <td>0</td>\n",
              "      <td>0</td>\n",
              "      <td>0</td>\n",
              "      <td>1</td>\n",
              "      <td>1</td>\n",
              "      <td>0</td>\n",
              "      <td>1</td>\n",
              "      <td>0</td>\n",
              "      <td>0</td>\n",
              "      <td>0</td>\n",
              "      <td>0</td>\n",
              "      <td>1</td>\n",
              "      <td>0</td>\n",
              "      <td>0</td>\n",
              "    </tr>\n",
              "    <tr>\n",
              "      <th>2</th>\n",
              "      <td>120000</td>\n",
              "      <td>26</td>\n",
              "      <td>-1</td>\n",
              "      <td>2</td>\n",
              "      <td>0</td>\n",
              "      <td>0</td>\n",
              "      <td>0</td>\n",
              "      <td>2</td>\n",
              "      <td>2682</td>\n",
              "      <td>1725</td>\n",
              "      <td>2682</td>\n",
              "      <td>3272</td>\n",
              "      <td>3455</td>\n",
              "      <td>3261</td>\n",
              "      <td>0</td>\n",
              "      <td>1000</td>\n",
              "      <td>1000</td>\n",
              "      <td>1000</td>\n",
              "      <td>0</td>\n",
              "      <td>2000</td>\n",
              "      <td>1</td>\n",
              "      <td>1</td>\n",
              "      <td>0</td>\n",
              "      <td>1</td>\n",
              "      <td>0</td>\n",
              "      <td>0</td>\n",
              "      <td>0</td>\n",
              "      <td>0</td>\n",
              "      <td>0</td>\n",
              "      <td>1</td>\n",
              "      <td>0</td>\n",
              "    </tr>\n",
              "    <tr>\n",
              "      <th>3</th>\n",
              "      <td>90000</td>\n",
              "      <td>34</td>\n",
              "      <td>0</td>\n",
              "      <td>0</td>\n",
              "      <td>0</td>\n",
              "      <td>0</td>\n",
              "      <td>0</td>\n",
              "      <td>0</td>\n",
              "      <td>29239</td>\n",
              "      <td>14027</td>\n",
              "      <td>13559</td>\n",
              "      <td>14331</td>\n",
              "      <td>14948</td>\n",
              "      <td>15549</td>\n",
              "      <td>1518</td>\n",
              "      <td>1500</td>\n",
              "      <td>1000</td>\n",
              "      <td>1000</td>\n",
              "      <td>1000</td>\n",
              "      <td>5000</td>\n",
              "      <td>0</td>\n",
              "      <td>1</td>\n",
              "      <td>0</td>\n",
              "      <td>1</td>\n",
              "      <td>0</td>\n",
              "      <td>0</td>\n",
              "      <td>0</td>\n",
              "      <td>0</td>\n",
              "      <td>0</td>\n",
              "      <td>1</td>\n",
              "      <td>0</td>\n",
              "    </tr>\n",
              "    <tr>\n",
              "      <th>4</th>\n",
              "      <td>50000</td>\n",
              "      <td>37</td>\n",
              "      <td>0</td>\n",
              "      <td>0</td>\n",
              "      <td>0</td>\n",
              "      <td>0</td>\n",
              "      <td>0</td>\n",
              "      <td>0</td>\n",
              "      <td>46990</td>\n",
              "      <td>48233</td>\n",
              "      <td>49291</td>\n",
              "      <td>28314</td>\n",
              "      <td>28959</td>\n",
              "      <td>29547</td>\n",
              "      <td>2000</td>\n",
              "      <td>2019</td>\n",
              "      <td>1200</td>\n",
              "      <td>1100</td>\n",
              "      <td>1069</td>\n",
              "      <td>1000</td>\n",
              "      <td>0</td>\n",
              "      <td>1</td>\n",
              "      <td>0</td>\n",
              "      <td>1</td>\n",
              "      <td>0</td>\n",
              "      <td>0</td>\n",
              "      <td>0</td>\n",
              "      <td>0</td>\n",
              "      <td>1</td>\n",
              "      <td>0</td>\n",
              "      <td>0</td>\n",
              "    </tr>\n",
              "    <tr>\n",
              "      <th>5</th>\n",
              "      <td>50000</td>\n",
              "      <td>57</td>\n",
              "      <td>-1</td>\n",
              "      <td>0</td>\n",
              "      <td>-1</td>\n",
              "      <td>0</td>\n",
              "      <td>0</td>\n",
              "      <td>0</td>\n",
              "      <td>8617</td>\n",
              "      <td>5670</td>\n",
              "      <td>35835</td>\n",
              "      <td>20940</td>\n",
              "      <td>19146</td>\n",
              "      <td>19131</td>\n",
              "      <td>2000</td>\n",
              "      <td>36681</td>\n",
              "      <td>10000</td>\n",
              "      <td>9000</td>\n",
              "      <td>689</td>\n",
              "      <td>679</td>\n",
              "      <td>0</td>\n",
              "      <td>0</td>\n",
              "      <td>0</td>\n",
              "      <td>1</td>\n",
              "      <td>0</td>\n",
              "      <td>0</td>\n",
              "      <td>0</td>\n",
              "      <td>0</td>\n",
              "      <td>1</td>\n",
              "      <td>0</td>\n",
              "      <td>0</td>\n",
              "    </tr>\n",
              "  </tbody>\n",
              "</table>\n",
              "</div>"
            ],
            "text/plain": [
              "    LIMIT_BAL  AGE  PAY_0  ...  MARRIAGE_1  MARRIAGE_2  MARRIAGE_3\n",
              "ID                         ...                                    \n",
              "1       20000   24      2  ...           1           0           0\n",
              "2      120000   26     -1  ...           0           1           0\n",
              "3       90000   34      0  ...           0           1           0\n",
              "4       50000   37      0  ...           1           0           0\n",
              "5       50000   57     -1  ...           1           0           0\n",
              "\n",
              "[5 rows x 31 columns]"
            ]
          },
          "metadata": {
            "tags": []
          },
          "execution_count": 98
        }
      ]
    },
    {
      "cell_type": "code",
      "metadata": {
        "ExecuteTime": {
          "end_time": "2020-02-19T18:49:27.915035Z",
          "start_time": "2020-02-19T18:49:27.890078Z"
        },
        "hidden": true,
        "id": "y24kkPNnWqz1"
      },
      "source": [
        "X = utils.credit_card.drop('default payment next month', axis=1)\n",
        "y = utils.credit_card['default payment next month']"
      ],
      "execution_count": 99,
      "outputs": []
    },
    {
      "cell_type": "code",
      "metadata": {
        "ExecuteTime": {
          "end_time": "2020-02-19T18:49:27.946924Z",
          "start_time": "2020-02-19T18:49:27.918004Z"
        },
        "hidden": true,
        "id": "31Y-Znh7Wqz4"
      },
      "source": [
        "X_train, X_test, y_train, y_test = train_test_split(X, y, test_size=0.3, stratify=y, random_state=42)"
      ],
      "execution_count": 100,
      "outputs": []
    },
    {
      "cell_type": "code",
      "metadata": {
        "ExecuteTime": {
          "end_time": "2020-02-19T18:49:27.977843Z",
          "start_time": "2020-02-19T18:49:27.949916Z"
        },
        "hidden": true,
        "id": "554i_9tcWqz9",
        "outputId": "d565a5b7-ddf1-4ca4-90d4-d792a98817cf",
        "colab": {
          "base_uri": "https://localhost:8080/",
          "height": 581
        }
      },
      "source": [
        "X_train.var()"
      ],
      "execution_count": 101,
      "outputs": [
        {
          "output_type": "execute_result",
          "data": {
            "text/plain": [
              "LIMIT_BAL      1.683949e+10\n",
              "AGE            8.436027e+01\n",
              "PAY_0          1.262163e+00\n",
              "PAY_2          1.439627e+00\n",
              "PAY_3          1.426575e+00\n",
              "PAY_4          1.349935e+00\n",
              "PAY_5          1.263298e+00\n",
              "PAY_6          1.312433e+00\n",
              "BILL_AMT1      5.421963e+09\n",
              "BILL_AMT2      5.064130e+09\n",
              "BILL_AMT3      4.723364e+09\n",
              "BILL_AMT4      4.151106e+09\n",
              "BILL_AMT5      3.722083e+09\n",
              "BILL_AMT6      3.546589e+09\n",
              "PAY_AMT1       2.697796e+08\n",
              "PAY_AMT2       4.285847e+08\n",
              "PAY_AMT3       3.245948e+08\n",
              "PAY_AMT4       2.389826e+08\n",
              "PAY_AMT5       2.297050e+08\n",
              "PAY_AMT6       3.115320e+08\n",
              "SEX_2          2.392844e-01\n",
              "EDUCATION_1    2.279232e-01\n",
              "EDUCATION_2    2.490030e-01\n",
              "EDUCATION_3    1.369825e-01\n",
              "EDUCATION_4    4.173115e-03\n",
              "EDUCATION_5    9.947138e-03\n",
              "EDUCATION_6    1.758884e-03\n",
              "MARRIAGE_1     2.478606e-01\n",
              "MARRIAGE_2     2.488752e-01\n",
              "MARRIAGE_3     1.064659e-02\n",
              "dtype: float64"
            ]
          },
          "metadata": {
            "tags": []
          },
          "execution_count": 101
        }
      ]
    },
    {
      "cell_type": "code",
      "metadata": {
        "ExecuteTime": {
          "end_time": "2020-02-19T18:49:28.023720Z",
          "start_time": "2020-02-19T18:49:27.979839Z"
        },
        "hidden": true,
        "id": "-GtfbAVQWq0C"
      },
      "source": [
        "from sklearn.linear_model import LogisticRegression\n",
        "\n",
        "log_reg_clf = LogisticRegression(solver='liblinear', random_state=42)"
      ],
      "execution_count": 102,
      "outputs": []
    },
    {
      "cell_type": "code",
      "metadata": {
        "ExecuteTime": {
          "end_time": "2020-02-19T18:49:28.818596Z",
          "start_time": "2020-02-19T18:49:28.025714Z"
        },
        "hidden": true,
        "id": "5TQTez7cWq0F",
        "outputId": "1bd6a7fe-7f7b-46f1-dd32-506b1f64244e",
        "colab": {
          "base_uri": "https://localhost:8080/",
          "height": 108
        }
      },
      "source": [
        "log_reg_clf.fit(X_train, y_train)"
      ],
      "execution_count": 103,
      "outputs": [
        {
          "output_type": "execute_result",
          "data": {
            "text/plain": [
              "LogisticRegression(C=1.0, class_weight=None, dual=False, fit_intercept=True,\n",
              "                   intercept_scaling=1, l1_ratio=None, max_iter=100,\n",
              "                   multi_class='auto', n_jobs=None, penalty='l2',\n",
              "                   random_state=42, solver='liblinear', tol=0.0001, verbose=0,\n",
              "                   warm_start=False)"
            ]
          },
          "metadata": {
            "tags": []
          },
          "execution_count": 103
        }
      ]
    },
    {
      "cell_type": "code",
      "metadata": {
        "ExecuteTime": {
          "end_time": "2020-02-19T18:49:28.834552Z",
          "start_time": "2020-02-19T18:49:28.820590Z"
        },
        "hidden": true,
        "id": "v4SyE8K5Wq0H"
      },
      "source": [
        "# Create a list of original variable names from the training DataFrame\n",
        "original_variables = X_train.columns"
      ],
      "execution_count": 104,
      "outputs": []
    },
    {
      "cell_type": "code",
      "metadata": {
        "ExecuteTime": {
          "end_time": "2020-02-19T18:49:28.850509Z",
          "start_time": "2020-02-19T18:49:28.837543Z"
        },
        "hidden": true,
        "id": "cMsAAmATWq0K"
      },
      "source": [
        "# Extract the coefficients of the logistic regression estimator\n",
        "model_coefficients = log_reg_clf.coef_[0]"
      ],
      "execution_count": 105,
      "outputs": []
    },
    {
      "cell_type": "code",
      "metadata": {
        "ExecuteTime": {
          "end_time": "2020-02-19T18:49:28.881426Z",
          "start_time": "2020-02-19T18:49:28.853500Z"
        },
        "hidden": true,
        "id": "EihBl6eoWq0N",
        "outputId": "56f0f76a-cd3c-4c97-bdb8-932ed0537478",
        "colab": {
          "base_uri": "https://localhost:8080/",
          "height": 948
        }
      },
      "source": [
        "# Create a dataframe of the variables and coefficients & print it out\n",
        "coefficient_df = pd.DataFrame({\"Variable\" : original_variables, \"Coefficient\": model_coefficients})\n",
        "coefficient_df"
      ],
      "execution_count": 106,
      "outputs": [
        {
          "output_type": "execute_result",
          "data": {
            "text/html": [
              "<div>\n",
              "<style scoped>\n",
              "    .dataframe tbody tr th:only-of-type {\n",
              "        vertical-align: middle;\n",
              "    }\n",
              "\n",
              "    .dataframe tbody tr th {\n",
              "        vertical-align: top;\n",
              "    }\n",
              "\n",
              "    .dataframe thead th {\n",
              "        text-align: right;\n",
              "    }\n",
              "</style>\n",
              "<table border=\"1\" class=\"dataframe\">\n",
              "  <thead>\n",
              "    <tr style=\"text-align: right;\">\n",
              "      <th></th>\n",
              "      <th>Variable</th>\n",
              "      <th>Coefficient</th>\n",
              "    </tr>\n",
              "  </thead>\n",
              "  <tbody>\n",
              "    <tr>\n",
              "      <th>0</th>\n",
              "      <td>LIMIT_BAL</td>\n",
              "      <td>-0.000003</td>\n",
              "    </tr>\n",
              "    <tr>\n",
              "      <th>1</th>\n",
              "      <td>AGE</td>\n",
              "      <td>-0.015509</td>\n",
              "    </tr>\n",
              "    <tr>\n",
              "      <th>2</th>\n",
              "      <td>PAY_0</td>\n",
              "      <td>0.002768</td>\n",
              "    </tr>\n",
              "    <tr>\n",
              "      <th>3</th>\n",
              "      <td>PAY_2</td>\n",
              "      <td>0.002179</td>\n",
              "    </tr>\n",
              "    <tr>\n",
              "      <th>4</th>\n",
              "      <td>PAY_3</td>\n",
              "      <td>0.001891</td>\n",
              "    </tr>\n",
              "    <tr>\n",
              "      <th>5</th>\n",
              "      <td>PAY_4</td>\n",
              "      <td>0.001770</td>\n",
              "    </tr>\n",
              "    <tr>\n",
              "      <th>6</th>\n",
              "      <td>PAY_5</td>\n",
              "      <td>0.001587</td>\n",
              "    </tr>\n",
              "    <tr>\n",
              "      <th>7</th>\n",
              "      <td>PAY_6</td>\n",
              "      <td>0.001501</td>\n",
              "    </tr>\n",
              "    <tr>\n",
              "      <th>8</th>\n",
              "      <td>BILL_AMT1</td>\n",
              "      <td>-0.000007</td>\n",
              "    </tr>\n",
              "    <tr>\n",
              "      <th>9</th>\n",
              "      <td>BILL_AMT2</td>\n",
              "      <td>0.000003</td>\n",
              "    </tr>\n",
              "    <tr>\n",
              "      <th>10</th>\n",
              "      <td>BILL_AMT3</td>\n",
              "      <td>0.000002</td>\n",
              "    </tr>\n",
              "    <tr>\n",
              "      <th>11</th>\n",
              "      <td>BILL_AMT4</td>\n",
              "      <td>0.000001</td>\n",
              "    </tr>\n",
              "    <tr>\n",
              "      <th>12</th>\n",
              "      <td>BILL_AMT5</td>\n",
              "      <td>0.000003</td>\n",
              "    </tr>\n",
              "    <tr>\n",
              "      <th>13</th>\n",
              "      <td>BILL_AMT6</td>\n",
              "      <td>0.000003</td>\n",
              "    </tr>\n",
              "    <tr>\n",
              "      <th>14</th>\n",
              "      <td>PAY_AMT1</td>\n",
              "      <td>-0.000023</td>\n",
              "    </tr>\n",
              "    <tr>\n",
              "      <th>15</th>\n",
              "      <td>PAY_AMT2</td>\n",
              "      <td>-0.000024</td>\n",
              "    </tr>\n",
              "    <tr>\n",
              "      <th>16</th>\n",
              "      <td>PAY_AMT3</td>\n",
              "      <td>-0.000007</td>\n",
              "    </tr>\n",
              "    <tr>\n",
              "      <th>17</th>\n",
              "      <td>PAY_AMT4</td>\n",
              "      <td>-0.000008</td>\n",
              "    </tr>\n",
              "    <tr>\n",
              "      <th>18</th>\n",
              "      <td>PAY_AMT5</td>\n",
              "      <td>-0.000004</td>\n",
              "    </tr>\n",
              "    <tr>\n",
              "      <th>19</th>\n",
              "      <td>PAY_AMT6</td>\n",
              "      <td>-0.000002</td>\n",
              "    </tr>\n",
              "    <tr>\n",
              "      <th>20</th>\n",
              "      <td>SEX_2</td>\n",
              "      <td>-0.000576</td>\n",
              "    </tr>\n",
              "    <tr>\n",
              "      <th>21</th>\n",
              "      <td>EDUCATION_1</td>\n",
              "      <td>-0.000153</td>\n",
              "    </tr>\n",
              "    <tr>\n",
              "      <th>22</th>\n",
              "      <td>EDUCATION_2</td>\n",
              "      <td>-0.000343</td>\n",
              "    </tr>\n",
              "    <tr>\n",
              "      <th>23</th>\n",
              "      <td>EDUCATION_3</td>\n",
              "      <td>-0.000086</td>\n",
              "    </tr>\n",
              "    <tr>\n",
              "      <th>24</th>\n",
              "      <td>EDUCATION_4</td>\n",
              "      <td>-0.000014</td>\n",
              "    </tr>\n",
              "    <tr>\n",
              "      <th>25</th>\n",
              "      <td>EDUCATION_5</td>\n",
              "      <td>-0.000042</td>\n",
              "    </tr>\n",
              "    <tr>\n",
              "      <th>26</th>\n",
              "      <td>EDUCATION_6</td>\n",
              "      <td>-0.000003</td>\n",
              "    </tr>\n",
              "    <tr>\n",
              "      <th>27</th>\n",
              "      <td>MARRIAGE_1</td>\n",
              "      <td>0.000050</td>\n",
              "    </tr>\n",
              "    <tr>\n",
              "      <th>28</th>\n",
              "      <td>MARRIAGE_2</td>\n",
              "      <td>-0.000688</td>\n",
              "    </tr>\n",
              "    <tr>\n",
              "      <th>29</th>\n",
              "      <td>MARRIAGE_3</td>\n",
              "      <td>0.000001</td>\n",
              "    </tr>\n",
              "  </tbody>\n",
              "</table>\n",
              "</div>"
            ],
            "text/plain": [
              "       Variable  Coefficient\n",
              "0     LIMIT_BAL    -0.000003\n",
              "1           AGE    -0.015509\n",
              "2         PAY_0     0.002768\n",
              "3         PAY_2     0.002179\n",
              "4         PAY_3     0.001891\n",
              "5         PAY_4     0.001770\n",
              "6         PAY_5     0.001587\n",
              "7         PAY_6     0.001501\n",
              "8     BILL_AMT1    -0.000007\n",
              "9     BILL_AMT2     0.000003\n",
              "10    BILL_AMT3     0.000002\n",
              "11    BILL_AMT4     0.000001\n",
              "12    BILL_AMT5     0.000003\n",
              "13    BILL_AMT6     0.000003\n",
              "14     PAY_AMT1    -0.000023\n",
              "15     PAY_AMT2    -0.000024\n",
              "16     PAY_AMT3    -0.000007\n",
              "17     PAY_AMT4    -0.000008\n",
              "18     PAY_AMT5    -0.000004\n",
              "19     PAY_AMT6    -0.000002\n",
              "20        SEX_2    -0.000576\n",
              "21  EDUCATION_1    -0.000153\n",
              "22  EDUCATION_2    -0.000343\n",
              "23  EDUCATION_3    -0.000086\n",
              "24  EDUCATION_4    -0.000014\n",
              "25  EDUCATION_5    -0.000042\n",
              "26  EDUCATION_6    -0.000003\n",
              "27   MARRIAGE_1     0.000050\n",
              "28   MARRIAGE_2    -0.000688\n",
              "29   MARRIAGE_3     0.000001"
            ]
          },
          "metadata": {
            "tags": []
          },
          "execution_count": 106
        }
      ]
    },
    {
      "cell_type": "code",
      "metadata": {
        "ExecuteTime": {
          "end_time": "2020-02-19T18:49:28.896416Z",
          "start_time": "2020-02-19T18:49:28.883420Z"
        },
        "hidden": true,
        "id": "7WuVSOLtWq0P",
        "outputId": "73e399d3-7745-4d14-a8e1-9ea9b9b8fe5e",
        "colab": {
          "base_uri": "https://localhost:8080/",
          "height": 138
        }
      },
      "source": [
        "# Print out the top 3 positive variables\n",
        "top_three_df = coefficient_df.sort_values(by=\"Coefficient\", axis=0, ascending=False)[0:3]\n",
        "top_three_df"
      ],
      "execution_count": 107,
      "outputs": [
        {
          "output_type": "execute_result",
          "data": {
            "text/html": [
              "<div>\n",
              "<style scoped>\n",
              "    .dataframe tbody tr th:only-of-type {\n",
              "        vertical-align: middle;\n",
              "    }\n",
              "\n",
              "    .dataframe tbody tr th {\n",
              "        vertical-align: top;\n",
              "    }\n",
              "\n",
              "    .dataframe thead th {\n",
              "        text-align: right;\n",
              "    }\n",
              "</style>\n",
              "<table border=\"1\" class=\"dataframe\">\n",
              "  <thead>\n",
              "    <tr style=\"text-align: right;\">\n",
              "      <th></th>\n",
              "      <th>Variable</th>\n",
              "      <th>Coefficient</th>\n",
              "    </tr>\n",
              "  </thead>\n",
              "  <tbody>\n",
              "    <tr>\n",
              "      <th>2</th>\n",
              "      <td>PAY_0</td>\n",
              "      <td>0.002768</td>\n",
              "    </tr>\n",
              "    <tr>\n",
              "      <th>3</th>\n",
              "      <td>PAY_2</td>\n",
              "      <td>0.002179</td>\n",
              "    </tr>\n",
              "    <tr>\n",
              "      <th>4</th>\n",
              "      <td>PAY_3</td>\n",
              "      <td>0.001891</td>\n",
              "    </tr>\n",
              "  </tbody>\n",
              "</table>\n",
              "</div>"
            ],
            "text/plain": [
              "  Variable  Coefficient\n",
              "2    PAY_0     0.002768\n",
              "3    PAY_2     0.002179\n",
              "4    PAY_3     0.001891"
            ]
          },
          "metadata": {
            "tags": []
          },
          "execution_count": 107
        }
      ]
    },
    {
      "cell_type": "markdown",
      "metadata": {
        "hidden": true,
        "id": "RATJU34hWq0U"
      },
      "source": [
        "We have succesfully extracted and reviewed a very important parameter for the Logistic Regression Model. The coefficients of the model allow us to see which variables are having a larger or smaller impact on the outcome. Additionally the sign lets us know if it is a positive or negative relationship."
      ]
    },
    {
      "cell_type": "markdown",
      "metadata": {
        "hidden": true,
        "id": "XD4S18sgWq0V"
      },
      "source": [
        "### Extracting a Random Forest parameter"
      ]
    },
    {
      "cell_type": "markdown",
      "metadata": {
        "hidden": true,
        "id": "5_Oz26_fWq0W"
      },
      "source": [
        "We will now translate the work previously undertaken on the logistic regression model to a random forest model. A parameter of this model is, for a given tree, how it decided to split at each level."
      ]
    },
    {
      "cell_type": "markdown",
      "metadata": {
        "hidden": true,
        "id": "j9PPajv0Wq0Y"
      },
      "source": [
        "This analysis is not as useful as the coefficients of logistic regression as we will be unlikely to ever explore every split and every tree in a random forest model. However, it is a very useful exercise to peak under the hood at what the model is doing."
      ]
    },
    {
      "cell_type": "markdown",
      "metadata": {
        "hidden": true,
        "id": "dc43zXY2Wq0Z"
      },
      "source": [
        "In this example we will extract a single tree from our random forest model, visualize it and programmatically extract one of the splits."
      ]
    },
    {
      "cell_type": "code",
      "metadata": {
        "ExecuteTime": {
          "end_time": "2020-02-19T18:49:28.972183Z",
          "start_time": "2020-02-19T18:49:28.899380Z"
        },
        "hidden": true,
        "id": "7WZrkGL3Wq0Z"
      },
      "source": [
        "from sklearn.ensemble import RandomForestClassifier\n",
        "\n",
        "rf_clf = RandomForestClassifier(max_depth=4, random_state=42)"
      ],
      "execution_count": 108,
      "outputs": []
    },
    {
      "cell_type": "code",
      "metadata": {
        "ExecuteTime": {
          "end_time": "2020-02-19T18:49:30.448269Z",
          "start_time": "2020-02-19T18:49:28.976175Z"
        },
        "hidden": true,
        "id": "WUHwYVjUWq0i",
        "outputId": "67b49d22-278d-4f65-c0ba-34282f565ede",
        "colab": {
          "base_uri": "https://localhost:8080/",
          "height": 163
        }
      },
      "source": [
        "rf_clf.fit(X_train, y_train)"
      ],
      "execution_count": 109,
      "outputs": [
        {
          "output_type": "execute_result",
          "data": {
            "text/plain": [
              "RandomForestClassifier(bootstrap=True, ccp_alpha=0.0, class_weight=None,\n",
              "                       criterion='gini', max_depth=4, max_features='auto',\n",
              "                       max_leaf_nodes=None, max_samples=None,\n",
              "                       min_impurity_decrease=0.0, min_impurity_split=None,\n",
              "                       min_samples_leaf=1, min_samples_split=2,\n",
              "                       min_weight_fraction_leaf=0.0, n_estimators=100,\n",
              "                       n_jobs=None, oob_score=False, random_state=42, verbose=0,\n",
              "                       warm_start=False)"
            ]
          },
          "metadata": {
            "tags": []
          },
          "execution_count": 109
        }
      ]
    },
    {
      "cell_type": "code",
      "metadata": {
        "ExecuteTime": {
          "end_time": "2020-02-19T18:49:30.464227Z",
          "start_time": "2020-02-19T18:49:30.450264Z"
        },
        "hidden": true,
        "id": "u945surjWq0n"
      },
      "source": [
        "# Extract the 7th (index 6) tree from the random forest\n",
        "chosen_tree = rf_clf.estimators_[6]"
      ],
      "execution_count": 110,
      "outputs": []
    },
    {
      "cell_type": "code",
      "metadata": {
        "ExecuteTime": {
          "end_time": "2020-02-19T18:49:30.480184Z",
          "start_time": "2020-02-19T18:49:30.467219Z"
        },
        "hidden": true,
        "scrolled": true,
        "id": "dW36SAsRWq0p"
      },
      "source": [
        "# Visualize the graph using Graphviz\n",
        "\n",
        "#from sklearn.tree import export_graphviz\n",
        "\n",
        "#export_graphviz(chosen_tree, out_file='assets/tree.dot', \n",
        "#                feature_names = original_variables, class_names = True,\n",
        "#                rounded = True, proportion = False, precision = 2, filled = True)\n",
        "\n",
        "# Convert to png using system command \n",
        "#from subprocess import call\n",
        "#call(['dot', '-Tpng', 'assets/tree.dot', '-o', 'assets/tree.png', '-Gdpi=600'])\n",
        "\n",
        "# Display in jupyter notebook\n",
        "#from IPython.display import Image\n",
        "#Image(filename = 'assets/tree.png')"
      ],
      "execution_count": 111,
      "outputs": []
    },
    {
      "cell_type": "code",
      "metadata": {
        "ExecuteTime": {
          "end_time": "2020-02-19T18:49:31.385452Z",
          "start_time": "2020-02-19T18:49:30.482179Z"
        },
        "hidden": true,
        "id": "9zZVMiVXWq0r",
        "outputId": "8c1a41f9-1c5f-4d6b-ff67-4d6507050d0b",
        "colab": {
          "base_uri": "https://localhost:8080/",
          "height": 1000
        }
      },
      "source": [
        "from sklearn.tree import plot_tree\n",
        "\n",
        "plot_tree(chosen_tree,feature_names = original_variables, class_names = True,\n",
        "                rounded = True, proportion = False, precision = 2, filled = True, fontsize=10)"
      ],
      "execution_count": 112,
      "outputs": [
        {
          "output_type": "execute_result",
          "data": {
            "text/plain": [
              "[Text(558.0, 489.24, 'PAY_2 <= 1.5\\ngini = 0.34\\nsamples = 13248\\nvalue = [16357, 4643]\\nclass = y[0]'),\n",
              " Text(279.0, 380.52000000000004, 'PAY_AMT4 <= 1877.5\\ngini = 0.28\\nsamples = 11329\\nvalue = [14985, 2961]\\nclass = y[0]'),\n",
              " Text(139.5, 271.8, 'PAY_3 <= 1.0\\ngini = 0.33\\nsamples = 5894\\nvalue = [7451, 1931]\\nclass = y[0]'),\n",
              " Text(69.75, 163.08000000000004, 'PAY_0 <= 1.5\\ngini = 0.32\\nsamples = 5565\\nvalue = [7082, 1765]\\nclass = y[0]'),\n",
              " Text(34.875, 54.360000000000014, 'gini = 0.29\\nsamples = 5312\\nvalue = [6965, 1483]\\nclass = y[0]'),\n",
              " Text(104.625, 54.360000000000014, 'gini = 0.41\\nsamples = 253\\nvalue = [117, 282]\\nclass = y[1]'),\n",
              " Text(209.25, 163.08000000000004, 'BILL_AMT2 <= 26573.0\\ngini = 0.43\\nsamples = 329\\nvalue = [369, 166]\\nclass = y[0]'),\n",
              " Text(174.375, 54.360000000000014, 'gini = 0.45\\nsamples = 240\\nvalue = [251, 135]\\nclass = y[0]'),\n",
              " Text(244.125, 54.360000000000014, 'gini = 0.33\\nsamples = 89\\nvalue = [118, 31]\\nclass = y[0]'),\n",
              " Text(418.5, 271.8, 'PAY_6 <= 1.0\\ngini = 0.21\\nsamples = 5435\\nvalue = [7534, 1030]\\nclass = y[0]'),\n",
              " Text(348.75, 163.08000000000004, 'PAY_3 <= 1.5\\ngini = 0.19\\nsamples = 5110\\nvalue = [7155, 868]\\nclass = y[0]'),\n",
              " Text(313.875, 54.360000000000014, 'gini = 0.19\\nsamples = 4936\\nvalue = [6943, 814]\\nclass = y[0]'),\n",
              " Text(383.625, 54.360000000000014, 'gini = 0.32\\nsamples = 174\\nvalue = [212, 54]\\nclass = y[0]'),\n",
              " Text(488.25, 163.08000000000004, 'PAY_0 <= 1.5\\ngini = 0.42\\nsamples = 325\\nvalue = [379, 162]\\nclass = y[0]'),\n",
              " Text(453.375, 54.360000000000014, 'gini = 0.37\\nsamples = 285\\nvalue = [365, 117]\\nclass = y[0]'),\n",
              " Text(523.125, 54.360000000000014, 'gini = 0.36\\nsamples = 40\\nvalue = [14, 45]\\nclass = y[1]'),\n",
              " Text(837.0, 380.52000000000004, 'PAY_5 <= 1.0\\ngini = 0.49\\nsamples = 1919\\nvalue = [1372, 1682]\\nclass = y[1]'),\n",
              " Text(697.5, 271.8, 'LIMIT_BAL <= 275000.0\\ngini = 0.5\\nsamples = 1090\\nvalue = [922, 813]\\nclass = y[0]'),\n",
              " Text(627.75, 163.08000000000004, 'PAY_3 <= 1.0\\ngini = 0.5\\nsamples = 1003\\nvalue = [814, 776]\\nclass = y[0]'),\n",
              " Text(592.875, 54.360000000000014, 'gini = 0.49\\nsamples = 487\\nvalue = [436, 328]\\nclass = y[0]'),\n",
              " Text(662.625, 54.360000000000014, 'gini = 0.5\\nsamples = 516\\nvalue = [378, 448]\\nclass = y[1]'),\n",
              " Text(767.25, 163.08000000000004, 'PAY_AMT2 <= 99.0\\ngini = 0.38\\nsamples = 87\\nvalue = [108, 37]\\nclass = y[0]'),\n",
              " Text(732.375, 54.360000000000014, 'gini = 0.49\\nsamples = 25\\nvalue = [25, 20]\\nclass = y[0]'),\n",
              " Text(802.125, 54.360000000000014, 'gini = 0.28\\nsamples = 62\\nvalue = [83, 17]\\nclass = y[0]'),\n",
              " Text(976.5, 271.8, 'BILL_AMT2 <= 7224.0\\ngini = 0.45\\nsamples = 829\\nvalue = [450, 869]\\nclass = y[1]'),\n",
              " Text(906.75, 163.08000000000004, 'PAY_AMT3 <= 2362.0\\ngini = 0.36\\nsamples = 122\\nvalue = [46, 152]\\nclass = y[1]'),\n",
              " Text(871.875, 54.360000000000014, 'gini = 0.32\\nsamples = 118\\nvalue = [39, 152]\\nclass = y[1]'),\n",
              " Text(941.625, 54.360000000000014, 'gini = 0.0\\nsamples = 4\\nvalue = [7, 0]\\nclass = y[0]'),\n",
              " Text(1046.25, 163.08000000000004, 'BILL_AMT5 <= 45333.5\\ngini = 0.46\\nsamples = 707\\nvalue = [404, 717]\\nclass = y[1]'),\n",
              " Text(1011.375, 54.360000000000014, 'gini = 0.48\\nsamples = 395\\nvalue = [247, 375]\\nclass = y[1]'),\n",
              " Text(1081.125, 54.360000000000014, 'gini = 0.43\\nsamples = 312\\nvalue = [157, 342]\\nclass = y[1]')]"
            ]
          },
          "metadata": {
            "tags": []
          },
          "execution_count": 112
        },
        {
          "output_type": "display_data",
          "data": {
            "image/png": "[encoded data removed]",
            "text/plain": [
              "<Figure size 1440x720 with 1 Axes>"
            ]
          },
          "metadata": {
            "tags": [],
            "needs_background": "light"
          }
        }
      ]
    },
    {
      "cell_type": "markdown",
      "metadata": {
        "hidden": true,
        "id": "q5guZWueWq0t"
      },
      "source": [
        "## Introducing Hyperparameters"
      ]
    },
    {
      "cell_type": "markdown",
      "metadata": {
        "hidden": true,
        "id": "B0otmBw7Wq0u"
      },
      "source": [
        "In the previous chapter, we learned what parameters are. We will now learn what exactly hyperparameters are, how to find and set them, as well as some tips and tricks for prioritizing our efforts."
      ]
    },
    {
      "cell_type": "markdown",
      "metadata": {
        "hidden": true,
        "id": "rbXYe2fPWq0v"
      },
      "source": [
        "Hyperparameters are something that we set before the modeling process begins. We can think of them like the knobs and dials on an old radio. We tune the different dials and buttons and hope that a nice tune comes out.\n",
        "\n",
        "\n",
        "The algorithm does not learn the value of these during the modeling process. This is the crucial differentiator between hyperparameters and parameters, whether we set it or the algorithm learns it."
      ]
    },
    {
      "cell_type": "markdown",
      "metadata": {
        "hidden": true,
        "id": "jG0exwu7Wq0v"
      },
      "source": [
        "**Hyperparameters in Random Forest**\n",
        "\n",
        "We can easily see the hyperparameters by creating an instance of the estimator and printing it out. Here we create the estimator with default settings and call the print function on our estimator.\n",
        "\n",
        "```\n",
        "from sklearn.ensemble import RandomForestClassifier\n",
        "\n",
        "rf_clf = RandomForestClassifier()\n",
        "print(rf_clf)\n",
        "\n",
        "> RandomForestClassifier(bootstrap=True, ccp_alpha=0.0, class_weight=None,\n",
        "                        criterion='gini', max_depth=None, max_features='auto',\n",
        "                        max_leaf_nodes=None, max_samples=None,\n",
        "                        min_impurity_decrease=0.0, min_impurity_split=None,\n",
        "                        min_samples_leaf=1, min_samples_split=2,\n",
        "                        min_weight_fraction_leaf=0.0, n_estimators=10,\n",
        "                        n_jobs=None, oob_score=False, random_state=None,\n",
        "                        verbose=0, warm_start=False)\n",
        "```\n",
        "\n",
        "Those are all our different knobs and dials we can set for our model. There are a lot! But what do they all mean? For this we need to turn to the Scikit Learn documentation."
      ]
    },
    {
      "cell_type": "markdown",
      "metadata": {
        "hidden": true,
        "id": "z8btgAiwWq0w"
      },
      "source": [
        "Let us take the example of the `'n_estimators'` hyperparameter. We can see in the documentation that it tells us the data type and the default value. And it also provides a definition of what it means.\n",
        "\n",
        "Data Types & Default Value:\n",
        "\n",
        "```\n",
        "n_estimators: integer, optional (default=10)\n",
        "```\n",
        "\n",
        "Definition:\n",
        "\n",
        "```\n",
        "The number of trees in the forest.\n",
        "```"
      ]
    },
    {
      "cell_type": "markdown",
      "metadata": {
        "hidden": true,
        "id": "kvj9CzBGWq0w"
      },
      "source": [
        "**Setting hyperparameters**\n",
        "\n",
        "We can set the hyperparameters when we create the estimator object. The default number of trees seems a little low, so let us set that to be 100 (***it actually 100 as default now***). Whilst we are at it, let us also set the criterion to be `'entropy'`.\n",
        "\n",
        "```\n",
        "rf_clf = RandomForestClassifier(n_estimators=100, criterion='entropy')\n",
        "```\n",
        "\n",
        "If we print out the model We can see the other default values remain the same, but those we set explicitly overrode the default values.\n",
        "\n",
        "```\n",
        "print(rf_clf)\n",
        "\n",
        "> RandomForestClassifier(bootstrap=True, ccp_alpha=0.0, class_weight=None,\n",
        "                        criterion='entropy', max_depth=None, max_features='auto',\n",
        "                        max_leaf_nodes=None, max_samples=None,\n",
        "                        min_impurity_decrease=0.0, min_impurity_split=None,\n",
        "                        min_samples_leaf=1, min_samples_split=2,\n",
        "                        min_weight_fraction_leaf=0.0, n_estimators=100,\n",
        "                        n_jobs=None, oob_score=False, random_state=None,\n",
        "                        verbose=0, warm_start=False)\n",
        "```"
      ]
    },
    {
      "cell_type": "markdown",
      "metadata": {
        "hidden": true,
        "id": "yVO1fO_IWq0x"
      },
      "source": [
        "**Hyperparameters in Logistic Regression**\n",
        "\n",
        "What about our logistic regression model, what were the hyperparameters for that? We follow the same steps. Firstly we create a logistic regression estimator. \n",
        "\n",
        "```\n",
        "log_reg_clf = LogisticRegression()\n",
        "```\n",
        "\n",
        "Then we print it out\n",
        "\n",
        "```\n",
        "print(log_reg_clf)\n",
        "\n",
        "> LogisticRegression(C=1.0, class_weight=None, dual=False, fit_intercept=True,\n",
        "                     intercept_scaling=1, l1_ratio=None, max_iter=100,\n",
        "                     multi_class='auto', n_jobs=None, penalty='l2',\n",
        "                     random_state=None, solver='lbfgs', tol=0.0001, verbose=0,\n",
        "                     warm_start=False)\n",
        "```\n",
        "\n",
        "We can see there are less hyperparameters for this model than for the Random Forest."
      ]
    },
    {
      "cell_type": "markdown",
      "metadata": {
        "hidden": true,
        "id": "Q91mW-XvWq0x"
      },
      "source": [
        "**Hyperparameter Importance**\n",
        "\n",
        "Some are more important than others. But before we outline important ones, there are some hyperparameters that definitely will *not* help model performance. These are related to computational decisions or what information to retain for analysis.\n",
        "\n",
        "With the random forest classifier, these hyperparameters will not assist model performance: \n",
        "\n",
        "* `n_jobs`: how many cores to use will only speed up modeling time. \n",
        "* `random_state` & `verbose`: a random seed and whether to print out information as the modeling occurs also won't assist.\n",
        "\n",
        "Hence some hyperparameters we don't need to `'train'` during our work."
      ]
    },
    {
      "cell_type": "markdown",
      "metadata": {
        "hidden": true,
        "id": "0IinmP4MWq0y"
      },
      "source": [
        "**Random Forest: Important Hyperparameters**\n",
        "\n",
        "There are some generally accepted important hyperparameters to tune for a Random Forest model:\n",
        "\n",
        "* `n_estimators` (how many trees in the forest) should be set to a high value, 500 or 1000 or even more is not uncommon (noting that there are computational costs to higher values).\n",
        "* `max_features` controls how many features to consider when splitting, which is vital to ensure tree diversity.\n",
        "* `max_depth` & `min_sample_leaf` control overfitting of individual trees\n",
        "* `'criterion'` hyperparameter may have a small impact but it is not generally a primary hyperparameter to consider. \n",
        "\n",
        "Remember, this is just a guide and our particular problem may require attention on other hyperparameters."
      ]
    },
    {
      "cell_type": "markdown",
      "metadata": {
        "hidden": true,
        "id": "OUEKoQsUWq0y"
      },
      "source": [
        "There are hundreds of machine learning algorithms out there and learning which hyperparameters matter is knowledge we will build over time from a variety of sources. \n",
        "\n",
        "For example, there are some great academic papers where people have tried many combinations of hyperparameters for a specific algorithm on many datasets. These can be a very informative read!\n",
        "\n",
        "We can also find great blogs and tutorials online and consult the Scikit Learn documentation. Of course, one of the best ways to learn is just more practical experience! \n",
        "\n",
        "\n",
        "It is important we research this ourselves to build our knowledge base for efficient modeling. Let's explore some hyperparameters in the examples!"
      ]
    },
    {
      "cell_type": "markdown",
      "metadata": {
        "hidden": true,
        "id": "H9P4Uc-qWq0z"
      },
      "source": [
        "### Hyperparameters in Random Forests"
      ]
    },
    {
      "cell_type": "markdown",
      "metadata": {
        "hidden": true,
        "id": "azzlEA63Wq0z"
      },
      "source": [
        "As we saw, there are many different hyperparameters available in a Random Forest model using Scikit Learn. Let's try to differentiate between a hyperparameter and a parameter, and easily check whether something is a hyperparameter."
      ]
    },
    {
      "cell_type": "markdown",
      "metadata": {
        "hidden": true,
        "id": "ravOhN7wWq00"
      },
      "source": [
        "We can create a random forest estimator from the imported Scikit Learn package. Then print this estimator out to see the hyperparameters and their values."
      ]
    },
    {
      "cell_type": "markdown",
      "metadata": {
        "ExecuteTime": {
          "end_time": "2020-02-17T09:33:20.376425Z",
          "start_time": "2020-02-17T09:33:20.366452Z"
        },
        "hidden": true,
        "id": "1POCbjp9Wq00"
      },
      "source": [
        "Which of the following is a hyperparameter for the Scikit Learn random forest model?"
      ]
    },
    {
      "cell_type": "code",
      "metadata": {
        "ExecuteTime": {
          "end_time": "2020-02-19T18:49:31.400412Z",
          "start_time": "2020-02-19T18:49:31.387446Z"
        },
        "hidden": true,
        "id": "WafluPL_Wq01",
        "outputId": "d9a63e01-f2b5-4911-b626-31ebffe14b0e",
        "colab": {
          "base_uri": "https://localhost:8080/",
          "height": 163
        }
      },
      "source": [
        "rf_clf"
      ],
      "execution_count": 113,
      "outputs": [
        {
          "output_type": "execute_result",
          "data": {
            "text/plain": [
              "RandomForestClassifier(bootstrap=True, ccp_alpha=0.0, class_weight=None,\n",
              "                       criterion='gini', max_depth=4, max_features='auto',\n",
              "                       max_leaf_nodes=None, max_samples=None,\n",
              "                       min_impurity_decrease=0.0, min_impurity_split=None,\n",
              "                       min_samples_leaf=1, min_samples_split=2,\n",
              "                       min_weight_fraction_leaf=0.0, n_estimators=100,\n",
              "                       n_jobs=None, oob_score=False, random_state=42, verbose=0,\n",
              "                       warm_start=False)"
            ]
          },
          "metadata": {
            "tags": []
          },
          "execution_count": 113
        }
      ]
    },
    {
      "cell_type": "markdown",
      "metadata": {
        "hidden": true,
        "id": "POYAaidvWq03"
      },
      "source": [
        "**Possible Answers**\n",
        "\n",
        "1. `oob_score`\n",
        "2. `classes_`\n",
        "3. `trees`\n",
        "4. `random_level`"
      ]
    },
    {
      "cell_type": "code",
      "metadata": {
        "ExecuteTime": {
          "end_time": "2020-02-19T18:49:31.416390Z",
          "start_time": "2020-02-19T18:49:31.402409Z"
        },
        "hidden": true,
        "id": "rtqQrPl_Wq03",
        "outputId": "99036535-1972-42e9-b6c6-85eedbb4c0b3",
        "colab": {
          "base_uri": "https://localhost:8080/",
          "height": 35
        }
      },
      "source": [
        "# Pass 1,2,3 or 4 as argument\n",
        "utils.which_is_hyperparam()"
      ],
      "execution_count": 114,
      "outputs": [
        {
          "output_type": "stream",
          "text": [
            "Enter 1, 2, 3 or 4 as the answer\n"
          ],
          "name": "stdout"
        }
      ]
    },
    {
      "cell_type": "markdown",
      "metadata": {
        "hidden": true,
        "id": "VKZHhIO0Wq06"
      },
      "source": [
        "### Exploring Random Forest Hyperparameters"
      ]
    },
    {
      "cell_type": "markdown",
      "metadata": {
        "hidden": true,
        "id": "X2-qxipzWq06"
      },
      "source": [
        "Understanding what hyperparameters are available and the impact of different hyperparameters is a core skill for any data scientist. As models become more complex, there are many different settings we can set, but only some will have a large impact on our model."
      ]
    },
    {
      "cell_type": "markdown",
      "metadata": {
        "hidden": true,
        "id": "XpvuHh_nWq07"
      },
      "source": [
        "We will now assess an existing random forest model (it has some bad choices for hyperparameters!) and then make better choices for a new random forest model and assess its performance."
      ]
    },
    {
      "cell_type": "code",
      "metadata": {
        "ExecuteTime": {
          "end_time": "2020-02-19T18:49:31.696129Z",
          "start_time": "2020-02-19T18:49:31.420359Z"
        },
        "hidden": true,
        "id": "LD4r5p-EWq07"
      },
      "source": [
        "rf_clf_bad = RandomForestClassifier(n_estimators=5, random_state=42)\n",
        "rf_clf_bad.fit(X_train, y_train)\n",
        "rf_bad_predictions = rf_clf_bad.predict(X_test)"
      ],
      "execution_count": 115,
      "outputs": []
    },
    {
      "cell_type": "code",
      "metadata": {
        "ExecuteTime": {
          "end_time": "2020-02-19T18:49:31.726048Z",
          "start_time": "2020-02-19T18:49:31.701140Z"
        },
        "hidden": true,
        "id": "hadNsE9tWq0_",
        "outputId": "b331d926-eb4b-43c4-c1db-804c182430e2",
        "colab": {
          "base_uri": "https://localhost:8080/",
          "height": 145
        }
      },
      "source": [
        "from sklearn.metrics import accuracy_score, confusion_matrix\n",
        "\n",
        "# Get confusion matrix & accuracy for the bad rf_model\n",
        "print(f'Confusion Matrix: \\n\\n {confusion_matrix(y_test, rf_bad_predictions)} \\n Accuracy Score: \\n\\n {accuracy_score(y_test, rf_bad_predictions)}')"
      ],
      "execution_count": 116,
      "outputs": [
        {
          "output_type": "stream",
          "text": [
            "Confusion Matrix: \n",
            "\n",
            " [[6340  669]\n",
            " [1260  731]] \n",
            " Accuracy Score: \n",
            "\n",
            " 0.7856666666666666\n"
          ],
          "name": "stdout"
        }
      ]
    },
    {
      "cell_type": "code",
      "metadata": {
        "ExecuteTime": {
          "end_time": "2020-02-19T18:49:31.742007Z",
          "start_time": "2020-02-19T18:49:31.728043Z"
        },
        "hidden": true,
        "id": "KUGEgQi8Wq1B"
      },
      "source": [
        "# Create a new random forest classifier with better hyperparamaters\n",
        "rf_clf_new = RandomForestClassifier(n_estimators=500, random_state=42)"
      ],
      "execution_count": 117,
      "outputs": []
    },
    {
      "cell_type": "code",
      "metadata": {
        "ExecuteTime": {
          "end_time": "2020-02-19T18:49:57.119753Z",
          "start_time": "2020-02-19T18:49:31.744000Z"
        },
        "hidden": true,
        "id": "CcN8Z_a6Wq1E"
      },
      "source": [
        "# Fit this to the data and obtain predictions\n",
        "rf_new_predictions = rf_clf_new.fit(X_train, y_train).predict(X_test)"
      ],
      "execution_count": 118,
      "outputs": []
    },
    {
      "cell_type": "code",
      "metadata": {
        "ExecuteTime": {
          "end_time": "2020-02-19T18:49:57.135713Z",
          "start_time": "2020-02-19T18:49:57.121747Z"
        },
        "hidden": true,
        "id": "HnUrRDvGWq1G",
        "outputId": "ca74bbd3-2f88-4bf7-9e44-9464cd8e8f4d",
        "colab": {
          "base_uri": "https://localhost:8080/",
          "height": 145
        }
      },
      "source": [
        "# Get confusion matrix & accuracy for the new rf_model\n",
        "print(f'Confusion Matrix: \\n\\n {confusion_matrix(y_test, rf_new_predictions)} \\n Accuracy Score: \\n\\n {accuracy_score(y_test, rf_new_predictions)}')"
      ],
      "execution_count": 119,
      "outputs": [
        {
          "output_type": "stream",
          "text": [
            "Confusion Matrix: \n",
            "\n",
            " [[6601  408]\n",
            " [1253  738]] \n",
            " Accuracy Score: \n",
            "\n",
            " 0.8154444444444444\n"
          ],
          "name": "stdout"
        }
      ]
    },
    {
      "cell_type": "markdown",
      "metadata": {
        "hidden": true,
        "id": "RhVPYd01Wq1J"
      },
      "source": [
        "We got a nice 3% accuracy boost just from changing the `n_estimators`. We have had our first taste of hyperparameter tuning for a random forest model."
      ]
    },
    {
      "cell_type": "markdown",
      "metadata": {
        "hidden": true,
        "id": "qpRjJlUkWq1J"
      },
      "source": [
        "### Hyperparameters of KNN"
      ]
    },
    {
      "cell_type": "markdown",
      "metadata": {
        "hidden": true,
        "id": "PSD62x3MWq1J"
      },
      "source": [
        "The k-nearest-neighbors algorithm is not as popular as it used to be, but can still be an excellent choice for data that has groups of data that behave similarly. Could this be the case for our credit card users?"
      ]
    },
    {
      "cell_type": "markdown",
      "metadata": {
        "hidden": true,
        "id": "53z7JkGXWq1K"
      },
      "source": [
        "In this case we will try out several different values for one of the core hyperparameters for the knn algorithm and compare performance."
      ]
    },
    {
      "cell_type": "code",
      "metadata": {
        "ExecuteTime": {
          "end_time": "2020-02-19T18:49:57.151671Z",
          "start_time": "2020-02-19T18:49:57.137707Z"
        },
        "hidden": true,
        "id": "v0DTddM4Wq1L"
      },
      "source": [
        "from sklearn.neighbors import KNeighborsClassifier\n",
        "\n",
        "# Build a knn estimator for each value of n_neighbours\n",
        "knn_5 = KNeighborsClassifier(n_neighbors=5)\n",
        "knn_10 = KNeighborsClassifier(n_neighbors=10)\n",
        "knn_20 = KNeighborsClassifier(n_neighbors=20)"
      ],
      "execution_count": 120,
      "outputs": []
    },
    {
      "cell_type": "code",
      "metadata": {
        "ExecuteTime": {
          "end_time": "2020-02-19T18:50:01.810208Z",
          "start_time": "2020-02-19T18:49:57.154661Z"
        },
        "hidden": true,
        "id": "HKy9VcZkWq1N"
      },
      "source": [
        "# Fit each to the training data & produce predictions\n",
        "knn_5_predictions = knn_5.fit(X_train, y_train).predict(X_test)\n",
        "knn_10_predictions = knn_10.fit(X_train, y_train).predict(X_test)\n",
        "knn_20_predictions = knn_20.fit(X_train, y_train).predict(X_test)"
      ],
      "execution_count": 121,
      "outputs": []
    },
    {
      "cell_type": "code",
      "metadata": {
        "ExecuteTime": {
          "end_time": "2020-02-19T18:50:01.825171Z",
          "start_time": "2020-02-19T18:50:01.812203Z"
        },
        "hidden": true,
        "id": "9Yrz6bSBWq1P",
        "outputId": "30f20c0c-a66e-45de-8485-d10ca734d22c",
        "colab": {
          "base_uri": "https://localhost:8080/",
          "height": 35
        }
      },
      "source": [
        "# Get an accuracy score for each of the models\n",
        "knn_5_accuracy = accuracy_score(y_test, knn_5_predictions)\n",
        "knn_10_accuracy = accuracy_score(y_test, knn_10_predictions)\n",
        "knn_20_accuracy = accuracy_score(y_test, knn_20_predictions)\n",
        "\n",
        "print(f\"The accuracy of 5, 10, 20 neighbours was {knn_5_accuracy}, {knn_10_accuracy}, {knn_20_accuracy}\")"
      ],
      "execution_count": 122,
      "outputs": [
        {
          "output_type": "stream",
          "text": [
            "The accuracy of 5, 10, 20 neighbours was 0.7527777777777778, 0.7741111111111111, 0.7774444444444445\n"
          ],
          "name": "stdout"
        }
      ]
    },
    {
      "cell_type": "markdown",
      "metadata": {
        "hidden": true,
        "id": "eiSNIiH7Wq1R"
      },
      "source": [
        "We succesfully tested 3 different options for 1 hyperparameter, but it was pretty exhausting. Next, we will try to find a way to make this easier."
      ]
    },
    {
      "cell_type": "markdown",
      "metadata": {
        "hidden": true,
        "id": "GbHp8WIuWq1R"
      },
      "source": [
        "## Setting & Analyzing Hyperparameter Values"
      ]
    },
    {
      "cell_type": "markdown",
      "metadata": {
        "hidden": true,
        "id": "_QooEixRWq1S"
      },
      "source": [
        "In this chapter we will look more in depth at what values to set for different hyperparameters and begin automating our work.\n",
        "\n",
        "Previously we learned that some hyperparameters are likely better to start our tuning with than others. What we didn't discuss was what values should we try. This will be specific to the algorithm and to the hyperparameter itself but there does exist best practice around this.\n",
        "\n",
        "Let's walk through some top tips for deciding ranges of values to try for different hyperparameters."
      ]
    },
    {
      "cell_type": "markdown",
      "metadata": {
        "hidden": true,
        "id": "Cr4S1pFGWq1S"
      },
      "source": [
        "**Conflicting Hyperparameter Choices**\n",
        "\n",
        "It is firstly important to know what values ***NOT*** to set as they may conflict.\n",
        "\n",
        "We will see in the Scikit Learn documentation for the Logistic Regression Algorithm, that some values of the hyperparameter `'penalty'` conflict with some values of the hyperparameter `'solver'`. \n",
        "\n",
        "```\n",
        "The ‘newton-cg’, ‘sag’ and ‘lbfgs’ solvers support only l2 penalties.\n",
        "```\n",
        "\n",
        "Another example from the `ElasticNet` algorithm demonstrates a softer conflict that will not result in an error, but may result in a model construction we had not anticipated.\n",
        "\n",
        "```\n",
        "This parameter is ignored when fit_intercept is set to False.\n",
        "```\n",
        "\n",
        "Safe to say, close inspection of the Scikit Learn documentation is important. "
      ]
    },
    {
      "cell_type": "markdown",
      "metadata": {
        "hidden": true,
        "id": "P9ReZhr_Wq1T"
      },
      "source": [
        "**Silly Hyperparamter Values**\n",
        "\n",
        "There are also values for different hyperparameters that may be valid but are very unlikely to yield good results. Some examples of this are:\n",
        "\n",
        "* Having a random forest algorithm with a very low number of trees. Would we consider it a forest if it had 2 trees? How about 5 or 10? Still probably not. But at 300, 500, 1000 or more that is definitely getting there!\n",
        "* Having only 1 neighbor in a K-nearest neighbor algorithm. This algorithm averages votes of `'neighbors'` to our sample. Safe to say averaging the vote of 1 person doesn't sound robust!\n",
        "* Finally, incrementing some hyperparameters by a small amount is unlikely to greatly improve the model. One more tree in a forest for example, isn't likely to have a large impact. \n",
        "\n",
        "Researching and documenting sensible values for different hyperparameters and algorithms will be a very useful activity."
      ]
    },
    {
      "cell_type": "markdown",
      "metadata": {
        "hidden": true,
        "id": "nOBT9BGuWq1T"
      },
      "source": [
        "In a previous example we built several different models to test a single hyperparameter like so. \n",
        "\n",
        "```\n",
        "knn_5 = KNeighborsClassifier(n_neighbors=5)\n",
        "knn_10 = KNeighborsClassifier(n_neighbors=10)\n",
        "knn_20 = KNeighborsClassifier(n_neighbors=20)\n",
        "```\n",
        "\n",
        "This was quite an inefficient way of writing code, and we can do better to test different values for the number of neighbors hyperparameter."
      ]
    },
    {
      "cell_type": "markdown",
      "metadata": {
        "hidden": true,
        "id": "LwbCv4LlWq1U"
      },
      "source": [
        "**Automating Hyperparameter Tuning**\n",
        "\n",
        "One thing we could try is using a for loop. We create a list of values to test. Then loop through the list, creating an estimator, fitting and predicting each time. We append the accuracy to a list of accuracy scores to analyze after. \n",
        "\n",
        "```\n",
        "neighbors_list = [3,5,10,20,50,75]\n",
        "\n",
        "for test_number in neighbors_list:\n",
        "    model = KNeighborsClassifier(n_neighbors=test_number)\n",
        "    predictions = model.fit(X_train, y_train).predict(X_test)\n",
        "    \n",
        "    accuracy = accuracy_score(y_test, predictions)\n",
        "    accuracy_list.append(accuracy)\n",
        "```\n",
        "\n",
        "This method easily allows us to test more values than our previous work. We can store the results in a DataFrame to view the effect of this hyperparameter on the accuracy of the model.\n",
        "\n",
        "```\n",
        "results_df = pf.DataFrame({'neighbors': neighbors_list, 'accuracy': accuracy_list})\n",
        "print(results_df)\n",
        "```\n",
        "\n",
        "| Neighbors | Accuracy  |\n",
        "| --------: | --------: |\n",
        "| 3         | 0.71      |\n",
        "| 5         | 0.7125    |\n",
        "| 10        | 0.765     |\n",
        "| 20        | 0.7825    |\n",
        "| 50        | 0.7825    |\n",
        "| 75        | 0.7825    |\n",
        "\n",
        "It appears that adding any more neighbors doesn't help beyond 20."
      ]
    },
    {
      "cell_type": "markdown",
      "metadata": {
        "hidden": true,
        "id": "6nrVP0zFWq1V"
      },
      "source": [
        "**Learning Curves**\n",
        "\n",
        "A common tool that is used to assist with analyzing the impact of a singular hyperparameter on an end result is called a `'learning curve'`.\n",
        "\n",
        "Firstly let's create a list of many more values to test using Python's range function. The rest of the code is the same\n",
        "as before. \n",
        "\n",
        "```\n",
        "neighbors_list = list(range(5,500,5))\n",
        "\n",
        "for test_number in neighbors_list:\n",
        "    model = KNeighborsClassifier(n_neighbors=test_number)\n",
        "    predictions = model.fit(X_train, y_train).predict(X_test)\n",
        "\n",
        "    accuracy = accuracy_score(y_test, predictions)\n",
        "    accuracy_list.append(accuracy)\n",
        "    \n",
        "results_df = pf.DataFrame({'neighbors': neighbors_list, 'accuracy': accuracy_list})   \n",
        "```\n",
        "\n",
        "Since we tested so many values, we will use a graph rather than a table to analyze the results. We plot the accuracy score on the Y axis and our hyperparameter value on our X axis. \n",
        "\n",
        "```\n",
        "plt.plot(results_df['neighbors'], results_df['accuracy'])\n",
        "\n",
        "# Add the labels and title\n",
        "plt.gca().set(xlabel='n_neighbors', ylabel='Accuracy', title='Accuracy for different n_neighbors')\n",
        "plt.show()\n",
        "```\n",
        "\n",
        "![Learning curves](https://github.com/ML-Challenge/week5-preprocessing-and-tunning/blob/master/assets/2-3.png?raw=1)\n",
        "\n",
        "We can see our suspicions confirmed, that accuracy does not increase at all beyond where we tested before."
      ]
    },
    {
      "cell_type": "markdown",
      "metadata": {
        "hidden": true,
        "id": "ZAG7IqkuWq1W"
      },
      "source": [
        "One thing to be aware of is that python's range function does not work for decimal steps which is important for hyperparameters that work on that scale. A handy trick uses NumPy's `linspace` function that will create a number of values, evenly spread between a start and end value that we specify.\n",
        "\n",
        "Here is a quick example, 5 values, evenly spaced between 1 and 2 inclusive:\n",
        "\n",
        "```\n",
        "print(np.linspace(1,2,5))\n",
        "\n",
        "> [1. 1.25 1.5 1.75 2.]\n",
        "```\n",
        "\n",
        "Let's practice trying different hyperparameters and plotting some learning curves!"
      ]
    },
    {
      "cell_type": "markdown",
      "metadata": {
        "heading_collapsed": true,
        "hidden": true,
        "id": "KVsza_caWq1X"
      },
      "source": [
        "### Automating Hyperparameter Choice"
      ]
    },
    {
      "cell_type": "markdown",
      "metadata": {
        "hidden": true,
        "id": "ZuO3J_lCWq1Y"
      },
      "source": [
        "Finding the best hyperparameter of interest without writing hundreds of lines of code for hundreds of models is an important efficiency gain that will greatly assist our future machine learning model building."
      ]
    },
    {
      "cell_type": "markdown",
      "metadata": {
        "hidden": true,
        "id": "eKBlpaMsWq1Y"
      },
      "source": [
        "An important hyperparameter for the GBM algorithm is the learning rate. But which learning rate is best for this problem? By writing a loop to search through a number of possibilities, collating these and viewing them we can find the best one."
      ]
    },
    {
      "cell_type": "markdown",
      "metadata": {
        "hidden": true,
        "id": "qoOcGtuiWq1Z"
      },
      "source": [
        "Possible learning rates to try include 0.001, 0.01, 0.05, 0.1, 0.2 and 0.5"
      ]
    },
    {
      "cell_type": "code",
      "metadata": {
        "ExecuteTime": {
          "end_time": "2020-02-19T18:50:01.840130Z",
          "start_time": "2020-02-19T18:50:01.829157Z"
        },
        "hidden": true,
        "id": "PIyI0H9YWq1Z"
      },
      "source": [
        "from sklearn.ensemble import GradientBoostingClassifier"
      ],
      "execution_count": 123,
      "outputs": []
    },
    {
      "cell_type": "code",
      "metadata": {
        "ExecuteTime": {
          "end_time": "2020-02-19T18:50:01.855089Z",
          "start_time": "2020-02-19T18:50:01.842125Z"
        },
        "hidden": true,
        "id": "f9Wti7OpWq1c"
      },
      "source": [
        "# Set the learning rates & results storage\n",
        "learning_rates = [0.001, 0.01, 0.05, 0.1, 0.2, 0.5]\n",
        "results_list = []"
      ],
      "execution_count": 124,
      "outputs": []
    },
    {
      "cell_type": "code",
      "metadata": {
        "ExecuteTime": {
          "end_time": "2020-02-19T18:50:43.360578Z",
          "start_time": "2020-02-19T18:50:01.858082Z"
        },
        "hidden": true,
        "id": "7og6bPLVWq1h"
      },
      "source": [
        "# Create the for loop to evaluate model predictions for each learning rate\n",
        "for learning_rate in learning_rates:\n",
        "    model = GradientBoostingClassifier(learning_rate=learning_rate, random_state=42)\n",
        "    predictions = model.fit(X_train, y_train).predict(X_test)\n",
        "    # Save the learning rate and accuracy score\n",
        "    results_list.append([learning_rate, accuracy_score(y_test, predictions)])"
      ],
      "execution_count": 125,
      "outputs": []
    },
    {
      "cell_type": "code",
      "metadata": {
        "ExecuteTime": {
          "end_time": "2020-02-19T18:50:43.375538Z",
          "start_time": "2020-02-19T18:50:43.362573Z"
        },
        "hidden": true,
        "id": "qB8o3S03Wq1j",
        "outputId": "81523335-4502-4372-d61a-dd586a0ce6c8",
        "colab": {
          "base_uri": "https://localhost:8080/",
          "height": 145
        }
      },
      "source": [
        "# Gather everything into a DataFrame\n",
        "results_df = pd.DataFrame(results_list, columns=['learning_rate', 'accuracy'])\n",
        "print(results_df)"
      ],
      "execution_count": 126,
      "outputs": [
        {
          "output_type": "stream",
          "text": [
            "   learning_rate  accuracy\n",
            "0          0.001  0.778778\n",
            "1          0.010  0.817556\n",
            "2          0.050  0.817889\n",
            "3          0.100  0.817000\n",
            "4          0.200  0.815667\n",
            "5          0.500  0.811111\n"
          ],
          "name": "stdout"
        }
      ]
    },
    {
      "cell_type": "markdown",
      "metadata": {
        "hidden": true,
        "id": "U4SFDrqmWq1m"
      },
      "source": [
        "We efficiently tested a few different values for a single hyperparameter and can easily see which learning rate value was the best. Here, it seems that a learning rate of 0.05 yields the best accuracy."
      ]
    },
    {
      "cell_type": "markdown",
      "metadata": {
        "heading_collapsed": true,
        "hidden": true,
        "id": "F5ALlQaZWq1n"
      },
      "source": [
        "### Building Learning Curves"
      ]
    },
    {
      "cell_type": "markdown",
      "metadata": {
        "hidden": true,
        "id": "PLrFdBx2Wq1o"
      },
      "source": [
        "If we want to test many different values for a single hyperparameter it can be difficult to easily view that in the form of a DataFrame. Previously we learned about a nice trick to analyze this. A graph called a 'learning curve' can nicely demonstrate the effect of increasing or decreasing a particular hyperparameter on the final result."
      ]
    },
    {
      "cell_type": "markdown",
      "metadata": {
        "hidden": true,
        "id": "JU19K31WWq1o"
      },
      "source": [
        "Instead of testing only a few values for the learning rate, we will test many to easily see the effect of this hyperparameter across a large range of values. A useful function from NumPy is `np.linspace(start, end, num)` which allows us to create a number of values (`num`) evenly spread within an interval (`start`, `end`) that we specify."
      ]
    },
    {
      "cell_type": "code",
      "metadata": {
        "ExecuteTime": {
          "end_time": "2020-02-19T18:50:43.391495Z",
          "start_time": "2020-02-19T18:50:43.379528Z"
        },
        "hidden": true,
        "id": "0M_snw7GWq1p"
      },
      "source": [
        "# Set the learning rates & accuracies list\n",
        "learn_rates = np.linspace(0.01, 2, num=30)\n",
        "accuracies = []"
      ],
      "execution_count": 127,
      "outputs": []
    },
    {
      "cell_type": "code",
      "metadata": {
        "ExecuteTime": {
          "end_time": "2020-02-19T18:54:05.080909Z",
          "start_time": "2020-02-19T18:50:43.394487Z"
        },
        "hidden": true,
        "id": "WqWfqmhcWq1s"
      },
      "source": [
        "# Create the for loop\n",
        "for learn_rate in learn_rates:\n",
        "    # Create the model, predictions & save the accuracies as before\n",
        "    model = GradientBoostingClassifier(learning_rate=learn_rate, random_state=42)\n",
        "    predictions = model.fit(X_train, y_train).predict(X_test)\n",
        "    accuracies.append(accuracy_score(y_test, predictions))"
      ],
      "execution_count": 128,
      "outputs": []
    },
    {
      "cell_type": "code",
      "metadata": {
        "ExecuteTime": {
          "end_time": "2020-02-19T18:54:05.328196Z",
          "start_time": "2020-02-19T18:54:05.082850Z"
        },
        "hidden": true,
        "id": "g4xAesBMWq1x",
        "outputId": "2cb12704-1b6b-40ee-e48d-4b643ad8f927",
        "colab": {
          "base_uri": "https://localhost:8080/",
          "height": 622
        }
      },
      "source": [
        "# Plot results    \n",
        "plt.plot(learn_rates, accuracies)\n",
        "plt.gca().set(xlabel='learning_rate', ylabel='Accuracy', title='Accuracy for different learning_rates')\n",
        "plt.show() "
      ],
      "execution_count": 129,
      "outputs": [
        {
          "output_type": "display_data",
          "data": {
            "image/png": "[encoded data removed]",
            "text/plain": [
              "<Figure size 1440x720 with 1 Axes>"
            ]
          },
          "metadata": {
            "tags": [],
            "needs_background": "light"
          }
        }
      ]
    },
    {
      "cell_type": "markdown",
      "metadata": {
        "hidden": true,
        "id": "QfljJQtxWq11"
      },
      "source": [
        "We can see that for low values, we get a pretty good accuracy. However once the learning rate pushes much above 1.5, the accuracy starts to drop. We have learned and practiced a useful skill for visualizing large amounts of results for a single hyperparameter."
      ]
    },
    {
      "cell_type": "markdown",
      "metadata": {
        "heading_collapsed": true,
        "id": "Rm2Cf2RuWq11"
      },
      "source": [
        "# Grid search"
      ]
    },
    {
      "cell_type": "markdown",
      "metadata": {
        "hidden": true,
        "id": "pBpQhdu0Wq12"
      },
      "source": [
        "This part of the lesson introduces a popular automated hyperparameter tuning methodology called Grid Search. We will learn what it is, how it works and practice undertaking a Grid Search using Scikit Learn. We will then learn how to analyze the output of a Grid Search & gain practical experience doing this."
      ]
    },
    {
      "cell_type": "markdown",
      "metadata": {
        "heading_collapsed": true,
        "hidden": true,
        "id": "EVIREtxzWq12"
      },
      "source": [
        "## Introducing Grid Search"
      ]
    },
    {
      "cell_type": "markdown",
      "metadata": {
        "hidden": true,
        "id": "TVbCS-KJWq12"
      },
      "source": [
        "In this section we will look at extending our work on automatic hyperparameter tuning and learn what a Grid Search is.\n",
        "\n",
        "Let's remind ourselves of our previous work using a for loop to test different values of the number of neighbors in a KNN algorithm. We then collated those into a DataFrame to analyze. \n",
        "\n",
        "But what if we want to test different values of 2 hyperparameters? Let us take the example of a GBM algorithm, which has a few more hyperparameters to tune than KNN or Random Forest algorithms. Let's' say we want to tune the two hyperparameters and values as follows:\n",
        "\n",
        "* `learn_rate` - [0.001, 0.01, 0.05]\n",
        "* `max_depth` - [4,6,8,10]\n",
        "\n",
        "How would we do that? One suggestion could be a nested loop. With a nested loop we test all values of our first hyperparameter for all values of our second hyperparameter.\n",
        "\n",
        "**How many models**\n",
        "\n",
        "We will notice that many more models are built when adding more hyperparameters and values to test. Importantly, this relationship between models created and hyperparameters or values to test is not a linear relationship, it is exponential. For each of the values tested for the first hyperparameter, we test every value of the second hyperparameter.\n",
        "\n",
        "This means to test 5 values for the first hyperparameter and 10 values for the second hyperparameter, we have 50 models to run. And what if we k-fold cross-validated each model 10 times? That would be 500 models to run! That was just for 2 hyperparameters. What if we wanted to test a third or fourth hyperparameter? We could nest again (and again). \n",
        "\n",
        "Safe to say we cannot keep nesting forever as our code becomes complex and inefficient. Plus, what if we also wanted some extra information on training and testing times and scores. Our code will get quite complex."
      ]
    },
    {
      "cell_type": "markdown",
      "metadata": {
        "hidden": true,
        "id": "_1UXq8ToWq13"
      },
      "source": [
        "Let's review our work in an alternate way. If we created a grid with each value of `max_depth` that we want to test down the left and each value of `learning_rate` across the top. The intersection square of each of these is a model that we need to run. \n",
        "\n",
        "![Grid Search](https://github.com/ML-Challenge/week5-preprocessing-and-tunning/blob/master/assets/2-12.png?raw=1)\n",
        "\n",
        "\n",
        "Running a model for every cell in the grid with the hyperparameters specified is known as a `Grid Search`."
      ]
    },
    {
      "cell_type": "markdown",
      "metadata": {
        "hidden": true,
        "id": "9WA_LMXaWq13"
      },
      "source": [
        "Grid search has a number of advantages:\n",
        "\n",
        "* It's programmatic, and saves many lines of code.\n",
        "* It is guaranteed to find the best model within the grid we specify. But if we specify a poor grid with silly or\n",
        "conflicting values we won't get a good score!\n",
        "* Finally, it is an easy methodology to explain\n",
        "\n",
        "However there are some disadvantages to this approach: \n",
        "* It is computationally expensive. \n",
        "* It is also 'uninformed' because it doesn't learn as it creates models the next model it creates could be better or worse.\n",
        "\n",
        "Let's now practice undertaking a grid search!"
      ]
    },
    {
      "cell_type": "markdown",
      "metadata": {
        "heading_collapsed": true,
        "hidden": true,
        "id": "50KJIvGlWq13"
      },
      "source": [
        "### Build Grid Search functions"
      ]
    },
    {
      "cell_type": "markdown",
      "metadata": {
        "hidden": true,
        "id": "iyyqBnRtWq14"
      },
      "source": [
        "In data science it is a great idea to try building algorithms, models and processes 'from scratch' so we can really understand what is happening at a deeper level. Of course there are great packages and libraries for this work (and we will get to that very soon!) but building from scratch will give us a great edge in our data science work."
      ]
    },
    {
      "cell_type": "markdown",
      "metadata": {
        "hidden": true,
        "id": "2Bx71hDcWq14"
      },
      "source": [
        "In this example, we will create a function to take in 2 hyperparameters, build models and return results. We will use this function in a future example."
      ]
    },
    {
      "cell_type": "code",
      "metadata": {
        "ExecuteTime": {
          "end_time": "2020-02-19T18:54:05.343154Z",
          "start_time": "2020-02-19T18:54:05.330189Z"
        },
        "hidden": true,
        "id": "Dqjbt7UpWq14"
      },
      "source": [
        "# Create the function\n",
        "def gbm_grid_search(learn_rate, max_depth, random_state=42):\n",
        "\n",
        "    # Create the model\n",
        "    model = GradientBoostingClassifier(learning_rate=learn_rate, max_depth=max_depth, random_state=random_state)\n",
        "    \n",
        "    # Use the model to make predictions\n",
        "    predictions = model.fit(X_train, y_train).predict(X_test)\n",
        "    \n",
        "    # Return the hyperparameters and score\n",
        "    return([learn_rate, max_depth, accuracy_score(y_test, predictions)])"
      ],
      "execution_count": 130,
      "outputs": []
    },
    {
      "cell_type": "markdown",
      "metadata": {
        "heading_collapsed": true,
        "hidden": true,
        "id": "VkGmbumYWq16"
      },
      "source": [
        "### Iteratively tune multiple hyperparameters"
      ]
    },
    {
      "cell_type": "markdown",
      "metadata": {
        "hidden": true,
        "id": "60BwMtCeWq16"
      },
      "source": [
        "In this example, we will build on the function we previously created to take in 2 hyperparameters, build a model and return the results. We will now use that to loop through some values and then extend this function and loop with another hyperparameter."
      ]
    },
    {
      "cell_type": "code",
      "metadata": {
        "ExecuteTime": {
          "end_time": "2020-02-19T18:54:05.358113Z",
          "start_time": "2020-02-19T18:54:05.344151Z"
        },
        "hidden": true,
        "id": "eY4G86P7Wq16"
      },
      "source": [
        "# Create the relevant lists\n",
        "results_list = []\n",
        "learn_rate_list = [0.01, 0.1, 0.5]\n",
        "max_depth_list = [2,4,6]"
      ],
      "execution_count": 131,
      "outputs": []
    },
    {
      "cell_type": "code",
      "metadata": {
        "ExecuteTime": {
          "end_time": "2020-02-19T18:55:25.042572Z",
          "start_time": "2020-02-19T18:54:05.360108Z"
        },
        "hidden": true,
        "id": "hQzthPBTWq1-"
      },
      "source": [
        "# Create the for loop\n",
        "for learn_rate in learn_rate_list:\n",
        "    for max_depth in max_depth_list:\n",
        "        results_list.append(gbm_grid_search(learn_rate,max_depth))"
      ],
      "execution_count": 132,
      "outputs": []
    },
    {
      "cell_type": "code",
      "metadata": {
        "ExecuteTime": {
          "end_time": "2020-02-19T18:55:25.058530Z",
          "start_time": "2020-02-19T18:55:25.044567Z"
        },
        "hidden": true,
        "id": "MFdwk7iGWq2B",
        "outputId": "4e5a6eea-b7ba-4f89-d2e5-432753e20160",
        "colab": {
          "base_uri": "https://localhost:8080/",
          "height": 181
        }
      },
      "source": [
        "# Print the results\n",
        "results_list"
      ],
      "execution_count": 133,
      "outputs": [
        {
          "output_type": "execute_result",
          "data": {
            "text/plain": [
              "[[0.01, 2, 0.8172222222222222],\n",
              " [0.01, 4, 0.8171111111111111],\n",
              " [0.01, 6, 0.8157777777777778],\n",
              " [0.1, 2, 0.8167777777777778],\n",
              " [0.1, 4, 0.8174444444444444],\n",
              " [0.1, 6, 0.8154444444444444],\n",
              " [0.5, 2, 0.814],\n",
              " [0.5, 4, 0.7998888888888889],\n",
              " [0.5, 6, 0.787]]"
            ]
          },
          "metadata": {
            "tags": []
          },
          "execution_count": 133
        }
      ]
    },
    {
      "cell_type": "code",
      "metadata": {
        "ExecuteTime": {
          "end_time": "2020-02-19T18:55:25.074519Z",
          "start_time": "2020-02-19T18:55:25.062520Z"
        },
        "hidden": true,
        "id": "2npGiTuVWq2E"
      },
      "source": [
        "# Extend the function input\n",
        "def gbm_grid_search_extended(learn_rate, max_depth, subsample, random_state=42):\n",
        "\n",
        "    # Extend the model creation section\n",
        "    model = GradientBoostingClassifier(learning_rate=learn_rate, max_depth=max_depth, subsample=subsample, random_state=42)\n",
        "    \n",
        "    predictions = model.fit(X_train, y_train).predict(X_test)\n",
        "    \n",
        "    # Extend the return part\n",
        "    return([learn_rate, max_depth, subsample, accuracy_score(y_test, predictions)])"
      ],
      "execution_count": 134,
      "outputs": []
    },
    {
      "cell_type": "code",
      "metadata": {
        "ExecuteTime": {
          "end_time": "2020-02-19T18:55:25.090444Z",
          "start_time": "2020-02-19T18:55:25.078477Z"
        },
        "hidden": true,
        "id": "ROtQ4KxGWq2K"
      },
      "source": [
        "results_list = []\n",
        "\n",
        "# Create the new list to test\n",
        "subsample_list = [0.4, 0.6]"
      ],
      "execution_count": 135,
      "outputs": []
    },
    {
      "cell_type": "code",
      "metadata": {
        "ExecuteTime": {
          "end_time": "2020-02-19T18:56:51.075867Z",
          "start_time": "2020-02-19T18:55:25.092467Z"
        },
        "hidden": true,
        "id": "v0gzyM_qWq2M"
      },
      "source": [
        "for learn_rate in learn_rate_list:\n",
        "    for max_depth in max_depth_list:\n",
        "        # Extend the for loop\n",
        "        for subsample in subsample_list:\n",
        "            # Extend the results to include the new hyperparameter\n",
        "            results_list.append(gbm_grid_search_extended(learn_rate, max_depth, subsample))"
      ],
      "execution_count": 136,
      "outputs": []
    },
    {
      "cell_type": "code",
      "metadata": {
        "ExecuteTime": {
          "end_time": "2020-02-19T18:56:51.091085Z",
          "start_time": "2020-02-19T18:56:51.078159Z"
        },
        "hidden": true,
        "id": "mzqumI6TWq2O",
        "outputId": "9e573016-5190-4adb-ce76-af843f9a5e75",
        "colab": {
          "base_uri": "https://localhost:8080/",
          "height": 345
        }
      },
      "source": [
        "# Print results\n",
        "results_list"
      ],
      "execution_count": 137,
      "outputs": [
        {
          "output_type": "execute_result",
          "data": {
            "text/plain": [
              "[[0.01, 2, 0.4, 0.8171111111111111],\n",
              " [0.01, 2, 0.6, 0.817],\n",
              " [0.01, 4, 0.4, 0.8174444444444444],\n",
              " [0.01, 4, 0.6, 0.8164444444444444],\n",
              " [0.01, 6, 0.4, 0.8156666666666667],\n",
              " [0.01, 6, 0.6, 0.8162222222222222],\n",
              " [0.1, 2, 0.4, 0.8162222222222222],\n",
              " [0.1, 2, 0.6, 0.817],\n",
              " [0.1, 4, 0.4, 0.814],\n",
              " [0.1, 4, 0.6, 0.8148888888888889],\n",
              " [0.1, 6, 0.4, 0.8114444444444444],\n",
              " [0.1, 6, 0.6, 0.8157777777777778],\n",
              " [0.5, 2, 0.4, 0.815],\n",
              " [0.5, 2, 0.6, 0.8144444444444444],\n",
              " [0.5, 4, 0.4, 0.7958888888888889],\n",
              " [0.5, 4, 0.6, 0.7985555555555556],\n",
              " [0.5, 6, 0.4, 0.7686666666666667],\n",
              " [0.5, 6, 0.6, 0.782]]"
            ]
          },
          "metadata": {
            "tags": []
          },
          "execution_count": 137
        }
      ]
    },
    {
      "cell_type": "markdown",
      "metadata": {
        "hidden": true,
        "id": "eKbhgH73Wq2Q"
      },
      "source": [
        "We have effectively built our own grid search! We went from 2 to 3 hyperparameters and can see how we could extend that to even more values and hyperparameters. That was a lot of effort though. Be warned - we are now entering a world that can get very computationally expensive very fast!"
      ]
    },
    {
      "cell_type": "markdown",
      "metadata": {
        "heading_collapsed": true,
        "hidden": true,
        "id": "Xg_6S4cHWq2R"
      },
      "source": [
        "### How Many Models?"
      ]
    },
    {
      "cell_type": "markdown",
      "metadata": {
        "hidden": true,
        "id": "9deidtvMWq2R"
      },
      "source": [
        "Adding more hyperparameters or values, we increase the amount of models created but the increase is not linear, it is proportional to how many values and hyperparameters we already have.\n",
        "\n",
        "How many models would be created when running a grid search over the following hyperparameters and values for a GBM algorithm?\n",
        "\n",
        "* learning_rate = [0.001, 0.01, 0.05, 0.1, 0.2, 0.3, 0.5, 1, 2]\n",
        "* max_depth = [4,6,8,10,12,14,16,18, 20]\n",
        "* subsample = [0.4, 0.6, 0.7, 0.8, 0.9]\n",
        "* max_features = ['auto', 'sqrt', 'log2']"
      ]
    },
    {
      "cell_type": "markdown",
      "metadata": {
        "hidden": true,
        "id": "k-BDiwtYWq2S"
      },
      "source": [
        "**Possible Answers**\n",
        "\n",
        "1. 26\n",
        "2. 9 of one model, 9 of another\n",
        "3. 1 large model\n",
        "4. 1215"
      ]
    },
    {
      "cell_type": "code",
      "metadata": {
        "ExecuteTime": {
          "end_time": "2020-02-19T18:56:51.107041Z",
          "start_time": "2020-02-19T18:56:51.094075Z"
        },
        "hidden": true,
        "id": "9sB69n2GWq2S",
        "outputId": "049e6ce1-2bc1-4ed5-acda-3574c0c319a4",
        "colab": {
          "base_uri": "https://localhost:8080/",
          "height": 35
        }
      },
      "source": [
        "# Enter 1, 2, 3 or 4 as the answer\n",
        "utils.how_many_models()"
      ],
      "execution_count": 138,
      "outputs": [
        {
          "output_type": "stream",
          "text": [
            "Enter 1, 2, 3 or 4 as the answer\n"
          ],
          "name": "stdout"
        }
      ]
    },
    {
      "cell_type": "markdown",
      "metadata": {
        "heading_collapsed": true,
        "hidden": true,
        "id": "dt-2MXPNWq2W"
      },
      "source": [
        "## Grid Search with Scikit Learn"
      ]
    },
    {
      "cell_type": "markdown",
      "metadata": {
        "hidden": true,
        "id": "R9NMGDOXWq2X"
      },
      "source": [
        "In this chapter we will move beyond our manual code and leverage Scikit Learn's `GridSearchCV` to assist our grid search. It will help us create a grid search more efficiently and get some performance analytics.\n",
        "\n",
        "This is an example of a GridSearchCV object: \n",
        "\n",
        "```\n",
        "sklearn.model_selection.GridSearchCV(\n",
        "    estimator,\n",
        "    param_grid, scoring=None, fit_params=None,\n",
        "    n_jobs=None, iid='warm', refit=True, cv='warn,\n",
        "    verbose=0, pre_dispatch='2*n_jobs',\n",
        "    error_score='raise-deprecating',\n",
        "    return_train_score='warn')\n",
        "```\n",
        "\n",
        "Don't worry, we will break it down!"
      ]
    },
    {
      "cell_type": "markdown",
      "metadata": {
        "hidden": true,
        "id": "As0G516RWq2X"
      },
      "source": [
        "**Steps in a Grid Search**\n",
        "\n",
        "Firstly, let us conceptualize the steps needed to do a proper grid search. Some of these will be familiar from our manual work before:\n",
        "\n",
        "1. Select an algorithm (or 'estimator') to tune\n",
        "2. Define which hyperparameters we will tune\n",
        "3. Define a range of values for each hyperparameter\n",
        "4. Decide a cross-validation scheme\n",
        "5. Define a scoring function to determine which model was the best\n",
        "6. Include extra useful information or functions.\n",
        "\n",
        "The only one of these we did not do much work with previously is step (4), but we will cover each now."
      ]
    },
    {
      "cell_type": "markdown",
      "metadata": {
        "hidden": true,
        "id": "Kck1tw8nWq2Y"
      },
      "source": [
        "**GridSearchCV Object Inputs**\n",
        "\n",
        "A GridSearchCV object takes several important arguments:\n",
        "\n",
        "* estimator\n",
        "* param_grid\n",
        "* cv\n",
        "* scoring\n",
        "* refit\n",
        "* n_jobs\n",
        "* return_train_score\n",
        "\n",
        "The `estimator` is our algorithm. Examples include KNN, Random Forest, GBM or Logistic Regression. We only pick one algorithm for each grid search.\n",
        "\n",
        "`param_grid` is how we tell GridSearchCV which hyperparameters and which values to test. We were previously using lists, but param_grid needs a dictionary. The dictionary keys must be the hyperparameter names, the values a list of values to test. The keys in the param_grid dictionary must be valid hyperparameters else the Grid Search will fail.\n",
        "\n",
        "```\n",
        "param_grid = { 'max_depth': [2, 4, 6, 8],\n",
        "               'min_samples_leaf': [1, 2, 4, 6]}\n",
        "```\n",
        "\n",
        "The `cv` input allows us to undertake cross-validation. We could specify different cross-validation types here. But simply providing an integer will create a k-fold. We are likely familiar with standard 5 and 10 k-fold cross validation.\n",
        "\n",
        "![k-fold](https://github.com/ML-Challenge/week5-preprocessing-and-tunning/blob/master/assets/2-4.png?raw=1)\n",
        "\n",
        "`scoring` is a scoring function used to evaluate our model's performance. We did this manually previously using accuracy. We can use our own custom metric, or one from the available metrics from Scikit Learn's `metrics` module. We can check all available metrics using this command:\n",
        "\n",
        "```\n",
        "from sklearn import metrics\n",
        "sorted(metris.SCORERS.keys())\n",
        "```\n",
        "\n",
        "`refit` set to true means the best hyperparameter combinations are used to undertake a fitting to the training data. The GridSearchCV object can be used as an estimator directly. This is very handy as we don't need to save our the best hyperparameters and train another model.\n",
        "\n",
        "`n_jobs` assists with parallel execution. We can effectively 'split up' our work and have many models being created at the same time. This is possible because the results of one model do not affect the next one. We can check how many cores we have available, which determines how many models we can run in parallel using this handy code:\n",
        "\n",
        "```\n",
        "import os\n",
        "print(os.cpu_count())\n",
        "```\n",
        "\n",
        "We must be careful using all cores for a task though as this may mean we can't do other work on our computer while our models run.\n",
        "\n",
        "Finally `return_train_score` logs statistics about the training runs that were undertaken. This can be useful for plotting and understanding test vs training set performance (and hence bias-variance tradeoff). While informative, this is computationally expensive and will not assist in finding the best model.\n",
        "\n",
        "\n",
        "Now we have all the components to build a grid search object!"
      ]
    },
    {
      "cell_type": "markdown",
      "metadata": {
        "heading_collapsed": true,
        "hidden": true,
        "id": "llMbBwfEWq2Y"
      },
      "source": [
        "### GridSearchCV inputs"
      ]
    },
    {
      "cell_type": "markdown",
      "metadata": {
        "hidden": true,
        "id": "nktOkbbxWq2Z"
      },
      "source": [
        "Let's test our knowledge of GridSeachCV inputs by answering the question below."
      ]
    },
    {
      "cell_type": "markdown",
      "metadata": {
        "hidden": true,
        "id": "o-fJgBMrWq2Z"
      },
      "source": [
        "Three GridSearchCV objects are available below. Note that there is no data available to fit these models. Instead, answer by looking at their construct.\n",
        "\n",
        "```\n",
        "Model #1:\n",
        " GridSearchCV(cv=5, error_score='raise-deprecating',\n",
        "       estimator=RandomForestClassifier(bootstrap=True, class_weight=None, criterion='gini',\n",
        "            max_depth=None, max_features='auto', max_leaf_nodes=None,\n",
        "            min_impurity_decrease=0.0, min_impurity_split=None,\n",
        "            min_samples_leaf=1, min_samples_split=2,\n",
        "            min_weight_fraction_leaf=0.0, n_estimators='warn', n_jobs=None,\n",
        "            oob_score=False, random_state=None, verbose=0,\n",
        "            warm_start=False),\n",
        "       fit_params=None, iid='warn', n_jobs=4,\n",
        "       param_grid={'max_depth': [2, 4, 8, 15], 'max_features': ['auto', 'sqrt']},\n",
        "       pre_dispatch='2*n_jobs', refit=True, return_train_score=True,\n",
        "       scoring='roc_auc', verbose=0) \n",
        "\n",
        "\n",
        "Model #2:\n",
        " GridSearchCV(cv=10, error_score='raise-deprecating',\n",
        "       estimator=KNeighborsClassifier(algorithm='auto', leaf_size=30, metric='minkowski',\n",
        "           metric_params=None, n_jobs=None, n_neighbors=5, p=2,\n",
        "           weights='uniform'),\n",
        "       fit_params=None, iid='warn', n_jobs=8,\n",
        "       param_grid={'n_neighbors': [5, 10, 20], 'algorithm': ['ball_tree', 'brute']},\n",
        "       pre_dispatch='2*n_jobs', refit=False, return_train_score='warn',\n",
        "       scoring='accuracy', verbose=0) \n",
        "\n",
        "\n",
        "Model #3:\n",
        " GridSearchCV(cv=7, error_score='raise-deprecating',\n",
        "       estimator=GradientBoostingClassifier(criterion='friedman_mse', init=None,\n",
        "              learning_rate=0.1, loss='deviance', max_depth=3,\n",
        "              max_features=None, max_leaf_nodes=None,\n",
        "              min_impurity_decrease=0.0, min_impurity_split=None,\n",
        "              min_samples_leaf=1, min_sampl...      subsample=1.0, tol=0.0001, validation_fraction=0.1,\n",
        "              verbose=0, warm_start=False),\n",
        "       fit_params=None, iid='warn', n_jobs=2,\n",
        "       param_grid={'number_attempts': [2, 4, 6], 'max_depth': [3, 6, 9, 12]},\n",
        "       pre_dispatch='2*n_jobs', refit=True, return_train_score='warn',\n",
        "       scoring='accuracy', verbose=0)\n",
        "```\n",
        "\n",
        "Which of these GridSearchCV objects would not work when we try to fit it?"
      ]
    },
    {
      "cell_type": "markdown",
      "metadata": {
        "hidden": true,
        "id": "rC7QHCq_Wq2Z"
      },
      "source": [
        "**Possible Answers**\n",
        "\n",
        "1. `Model #1` would not work when we try to fit it.\n",
        "2. `Model #2` would not work when we try to fit it.\n",
        "3. `Model #3` would not work when we try to fit it.\n",
        "4. None - they will all work when we try to fit them."
      ]
    },
    {
      "cell_type": "code",
      "metadata": {
        "ExecuteTime": {
          "end_time": "2020-02-19T18:56:51.122001Z",
          "start_time": "2020-02-19T18:56:51.111028Z"
        },
        "hidden": true,
        "id": "EWxHEtECWq2a",
        "outputId": "1553fbc2-8d0e-4cbd-a23a-0027fad90790",
        "colab": {
          "base_uri": "https://localhost:8080/",
          "height": 35
        }
      },
      "source": [
        "# Enter 1, 2, 3 or 4 as the answer\n",
        "utils.which_grid_search()"
      ],
      "execution_count": 139,
      "outputs": [
        {
          "output_type": "stream",
          "text": [
            "Enter 1, 2, 3 or 4 as the answer\n"
          ],
          "name": "stdout"
        }
      ]
    },
    {
      "cell_type": "markdown",
      "metadata": {
        "heading_collapsed": true,
        "hidden": true,
        "id": "iOSJwMabWq2c"
      },
      "source": [
        "### GridSearchCV with Scikit Learn"
      ]
    },
    {
      "cell_type": "markdown",
      "metadata": {
        "hidden": true,
        "id": "tkRjV6CTWq2c"
      },
      "source": [
        "The `GridSearchCV` module from Scikit Learn provides many useful features to assist with efficiently undertaking a grid search. We will now put it into practice by creating a GridSearchCV object with certain parameters."
      ]
    },
    {
      "cell_type": "markdown",
      "metadata": {
        "hidden": true,
        "id": "xtpLa4JRWq2d"
      },
      "source": [
        "The desired options are:\n",
        "\n",
        "* A Random Forest Estimator, with the split criterion as 'entropy'\n",
        "* 5-fold cross validation\n",
        "* The hyperparameters `max_depth` (2, 4, 8, 15) and `max_features` ('auto' vs 'sqrt')\n",
        "* Use `roc_auc` to score the models\n",
        "* Use 4 cores for processing in parallel\n",
        "* Ensure we refit the best model and return training scores"
      ]
    },
    {
      "cell_type": "code",
      "metadata": {
        "ExecuteTime": {
          "end_time": "2020-02-19T18:56:51.137957Z",
          "start_time": "2020-02-19T18:56:51.123995Z"
        },
        "hidden": true,
        "id": "ZQYNdMK6Wq2e"
      },
      "source": [
        "# Create a Random Forest Classifier with specified criterion\n",
        "rf_class = RandomForestClassifier(criterion='entropy', random_state=42)"
      ],
      "execution_count": 140,
      "outputs": []
    },
    {
      "cell_type": "code",
      "metadata": {
        "ExecuteTime": {
          "end_time": "2020-02-19T18:56:51.153913Z",
          "start_time": "2020-02-19T18:56:51.139953Z"
        },
        "hidden": true,
        "id": "uUVN1VuyWq2g"
      },
      "source": [
        "# Create the parameter grid\n",
        "param_grid = {'max_depth': [2, 4, 8, 15], 'max_features': ['auto', 'sqrt']}"
      ],
      "execution_count": 141,
      "outputs": []
    },
    {
      "cell_type": "code",
      "metadata": {
        "ExecuteTime": {
          "end_time": "2020-02-19T18:56:51.169873Z",
          "start_time": "2020-02-19T18:56:51.156919Z"
        },
        "hidden": true,
        "id": "WJqbMPzsWq2h",
        "outputId": "a7ac582e-653f-405b-b276-c101d4893fd3",
        "colab": {
          "base_uri": "https://localhost:8080/",
          "height": 399
        }
      },
      "source": [
        "# Create a GridSearchCV object\n",
        "from sklearn.model_selection import GridSearchCV\n",
        "\n",
        "grid_rf_class=GridSearchCV(\n",
        "    estimator=rf_class,\n",
        "    param_grid=param_grid,\n",
        "    scoring='roc_auc',\n",
        "    n_jobs=4,\n",
        "    cv=5,\n",
        "    refit=True, \n",
        "    return_train_score=True)\n",
        "\n",
        "grid_rf_class"
      ],
      "execution_count": 142,
      "outputs": [
        {
          "output_type": "execute_result",
          "data": {
            "text/plain": [
              "GridSearchCV(cv=5, error_score=nan,\n",
              "             estimator=RandomForestClassifier(bootstrap=True, ccp_alpha=0.0,\n",
              "                                              class_weight=None,\n",
              "                                              criterion='entropy',\n",
              "                                              max_depth=None,\n",
              "                                              max_features='auto',\n",
              "                                              max_leaf_nodes=None,\n",
              "                                              max_samples=None,\n",
              "                                              min_impurity_decrease=0.0,\n",
              "                                              min_impurity_split=None,\n",
              "                                              min_samples_leaf=1,\n",
              "                                              min_samples_split=2,\n",
              "                                              min_weight_fraction_leaf=0.0,\n",
              "                                              n_estimators=100, n_jobs=None,\n",
              "                                              oob_score=False, random_state=42,\n",
              "                                              verbose=0, warm_start=False),\n",
              "             iid='deprecated', n_jobs=4,\n",
              "             param_grid={'max_depth': [2, 4, 8, 15],\n",
              "                         'max_features': ['auto', 'sqrt']},\n",
              "             pre_dispatch='2*n_jobs', refit=True, return_train_score=True,\n",
              "             scoring='roc_auc', verbose=0)"
            ]
          },
          "metadata": {
            "tags": []
          },
          "execution_count": 142
        }
      ]
    },
    {
      "cell_type": "markdown",
      "metadata": {
        "hidden": true,
        "id": "zXtCiNi9Wq2j"
      },
      "source": [
        "## Understanding a grid search output"
      ]
    },
    {
      "cell_type": "markdown",
      "metadata": {
        "hidden": true,
        "id": "Cy2PO0DuWq2j"
      },
      "source": [
        "Now that we know how to run a grid search, let's focus on its output. Let us now analyze each of the properties of the GridSearchCV output and learn how to access and use them. The properties of the object can be categorized into three different groups:\n",
        "\n",
        "* a results log: `cv_results_`\n",
        "* the best results: `best_index_`, `best_params_` & `best_index_`\n",
        "* 'Extra information': `scorer_`, `n_splits_` & `refit_time_`\n",
        "\n",
        "Properties are accessed using the dot notation, that is `grid_search_object.property`. Where `property` is the actual property we want to retrieve."
      ]
    },
    {
      "cell_type": "markdown",
      "metadata": {
        "hidden": true,
        "id": "zGY0RlafWq2j"
      },
      "source": [
        "Let's review each of the key properties now:\n",
        "\n",
        "Firstly there is the `cv_results_` property. This is a dictionary that we can read into a pandas DataFrame to explore.\n",
        "\n",
        "The `param_` columns contain information on the different parameters that were used in the model. \n",
        "\n",
        "![CV Results](https://github.com/ML-Challenge/week5-preprocessing-and-tunning/blob/master/assets/2-14.png?raw=1)\n",
        "\n",
        "Remember, each row in this DataFrame is about one model. So we can see row 3 for example tested the hyperparameter combination of `max_depth=10` ,`min_samples_leaf=2` nd `n_estimators=100` for our random forest estimator. \n",
        "\n",
        "The `params` column is a dictionary of all the parameters from the previous `'param'` columns.\n",
        "\n",
        "![Params](https://github.com/ML-Challenge/week5-preprocessing-and-tunning/blob/master/assets/2-15.png?raw=1)\n",
        "\n",
        "We need to use `pd.set_option` here to ensure we don't truncate the results we are printing:\n",
        "\n",
        "```\n",
        "pd.set_option('display.max_colwidth', -1)\n",
        "print(cv_results_df.loc[:, 'params'])\n",
        "```\n",
        "\n",
        "The next 5 columns are the testing scores for each of the 5 cross-folds, or splits, we made, followed by the the mean and standard deviation for those cross-folds. \n",
        "\n",
        "![CV Results](https://github.com/ML-Challenge/week5-preprocessing-and-tunning/blob/master/assets/2-13.png?raw=1)\n",
        "\n",
        "The rank column conveniently ranks the rows by the `mean_test_score`.\n",
        "\n",
        "![Params](https://github.com/ML-Challenge/week5-preprocessing-and-tunning/blob/master/assets/2-16.png?raw=1)\n",
        "\n",
        "We can see that the model in our third row had the best mean_test_score.\n",
        "\n",
        "Using the `rank_test_score` column we can easily select the grid search square for analysis. \n",
        "\n",
        "\n",
        "```\n",
        "best_row = cv_results_df[cv_results_df['rank_test_score'] == 1]\n",
        "prnt(best_row)\n",
        "```\n",
        "\n",
        "![Params](https://github.com/ML-Challenge/week5-preprocessing-and-tunning/blob/master/assets/2-17.png?raw=1)\n",
        "\n",
        "This table is the row from the `cv_results` object that was the best model created. \n",
        "\n",
        "The `test_score` columns are then repeated for the training scores. Note that if we had not set `return_train_score` to True this would not include the training scores. There is also no ranking column for the training scores, as we only care about performance on the test set in each fold."
      ]
    },
    {
      "cell_type": "markdown",
      "metadata": {
        "hidden": true,
        "id": "zvVzreeEWq2k"
      },
      "source": [
        "Information on the best grid square is found in three different properties:\n",
        "\n",
        "* `best_params_` which is the dictionary of the parameters that gave the best score. \n",
        "* `best_score_`, the actual best score \n",
        "* `best_index`, the row in our `cv_results_` that was the best. This is same as the index of the row with rank 1 in cv_results_ that we extracted just before."
      ]
    },
    {
      "cell_type": "markdown",
      "metadata": {
        "hidden": true,
        "id": "KOeIiyWXWq2k"
      },
      "source": [
        "GridSearchCV stores an estimator built with the best hyperparameters in the `best_estimator_` property. Since it is an estimator, we can use this to predict on our test set.\n",
        "\n",
        "We can also use the GridSearchCV object itself directly as an estimator. This is why we set refit=True when creating the grid search, otherwise we would need to refit using the best parameters ourself before using the best estimator."
      ]
    },
    {
      "cell_type": "markdown",
      "metadata": {
        "hidden": true,
        "id": "INJDZF-CWq2k"
      },
      "source": [
        "**Extra information**\n",
        "\n",
        "Some extra information can be obtained with the following properties. These are not very useful properties but may be important if we construct our grid search differently\n",
        "\n",
        "These include the scorer function that was used and the number of cross validation splits (both of which we set ourselves), and the refit_time which is the number of seconds used for refitting the best model on the whole dataset. \n",
        "\n",
        "This may be of interest in analyzing efficiencies in our work, but not for our use case here."
      ]
    },
    {
      "cell_type": "markdown",
      "metadata": {
        "heading_collapsed": true,
        "hidden": true,
        "id": "4zYpn2DAWq2l"
      },
      "source": [
        "### Exploring the grid search results"
      ]
    },
    {
      "cell_type": "markdown",
      "metadata": {
        "hidden": true,
        "id": "pXb67OK8Wq2l"
      },
      "source": [
        "We will now explore the `cv_results_` property of the GridSearchCV object defined above. This is a dictionary that we can read into a pandas DataFrame and contains a lot of useful information about the grid search we just undertook."
      ]
    },
    {
      "cell_type": "markdown",
      "metadata": {
        "hidden": true,
        "id": "f_U5E4rJWq2l"
      },
      "source": [
        "A reminder of the different column types in this property:\n",
        "\n",
        "* `time_` columns\n",
        "* `param_` columns (one for each hyperparameter) and **the** singular `params` column (with all hyperparameter settings)\n",
        "* a `train_score` column for each cv fold including the `mean_train_score` and `std_train_score` columns\n",
        "* a `test_score` column for each cv fold including the `mean_test_score` and `std_test_score` columns\n",
        "* a `rank_test_score` column with a number from 1 to n (number of iterations) ranking the rows based on their `mean_test_score`"
      ]
    },
    {
      "cell_type": "code",
      "metadata": {
        "ExecuteTime": {
          "end_time": "2020-02-19T18:57:24.514811Z",
          "start_time": "2020-02-19T18:56:51.172862Z"
        },
        "hidden": true,
        "id": "s1ih82WpWq2m",
        "outputId": "03375985-3262-46e6-8be3-3826e08c5acb",
        "colab": {
          "base_uri": "https://localhost:8080/",
          "height": 399
        }
      },
      "source": [
        "# First fit the GridSearchCV\n",
        "grid_rf_class.fit(X_train, y_train)"
      ],
      "execution_count": 143,
      "outputs": [
        {
          "output_type": "execute_result",
          "data": {
            "text/plain": [
              "GridSearchCV(cv=5, error_score=nan,\n",
              "             estimator=RandomForestClassifier(bootstrap=True, ccp_alpha=0.0,\n",
              "                                              class_weight=None,\n",
              "                                              criterion='entropy',\n",
              "                                              max_depth=None,\n",
              "                                              max_features='auto',\n",
              "                                              max_leaf_nodes=None,\n",
              "                                              max_samples=None,\n",
              "                                              min_impurity_decrease=0.0,\n",
              "                                              min_impurity_split=None,\n",
              "                                              min_samples_leaf=1,\n",
              "                                              min_samples_split=2,\n",
              "                                              min_weight_fraction_leaf=0.0,\n",
              "                                              n_estimators=100, n_jobs=None,\n",
              "                                              oob_score=False, random_state=42,\n",
              "                                              verbose=0, warm_start=False),\n",
              "             iid='deprecated', n_jobs=4,\n",
              "             param_grid={'max_depth': [2, 4, 8, 15],\n",
              "                         'max_features': ['auto', 'sqrt']},\n",
              "             pre_dispatch='2*n_jobs', refit=True, return_train_score=True,\n",
              "             scoring='roc_auc', verbose=0)"
            ]
          },
          "metadata": {
            "tags": []
          },
          "execution_count": 143
        }
      ]
    },
    {
      "cell_type": "code",
      "metadata": {
        "ExecuteTime": {
          "end_time": "2020-02-19T18:57:24.560682Z",
          "start_time": "2020-02-19T18:57:24.516773Z"
        },
        "hidden": true,
        "id": "6jzstdKzWq2n",
        "outputId": "fa2c35f0-c034-4a2c-9887-ea865b46026f",
        "colab": {
          "base_uri": "https://localhost:8080/",
          "height": 723
        }
      },
      "source": [
        "# Read the cv_results property into a dataframe & print it out\n",
        "cv_results_df = pd.DataFrame(grid_rf_class.cv_results_)\n",
        "cv_results_df"
      ],
      "execution_count": 144,
      "outputs": [
        {
          "output_type": "execute_result",
          "data": {
            "text/html": [
              "<div>\n",
              "<style scoped>\n",
              "    .dataframe tbody tr th:only-of-type {\n",
              "        vertical-align: middle;\n",
              "    }\n",
              "\n",
              "    .dataframe tbody tr th {\n",
              "        vertical-align: top;\n",
              "    }\n",
              "\n",
              "    .dataframe thead th {\n",
              "        text-align: right;\n",
              "    }\n",
              "</style>\n",
              "<table border=\"1\" class=\"dataframe\">\n",
              "  <thead>\n",
              "    <tr style=\"text-align: right;\">\n",
              "      <th></th>\n",
              "      <th>mean_fit_time</th>\n",
              "      <th>std_fit_time</th>\n",
              "      <th>mean_score_time</th>\n",
              "      <th>std_score_time</th>\n",
              "      <th>param_max_depth</th>\n",
              "      <th>param_max_features</th>\n",
              "      <th>params</th>\n",
              "      <th>split0_test_score</th>\n",
              "      <th>split1_test_score</th>\n",
              "      <th>split2_test_score</th>\n",
              "      <th>split3_test_score</th>\n",
              "      <th>split4_test_score</th>\n",
              "      <th>mean_test_score</th>\n",
              "      <th>std_test_score</th>\n",
              "      <th>rank_test_score</th>\n",
              "      <th>split0_train_score</th>\n",
              "      <th>split1_train_score</th>\n",
              "      <th>split2_train_score</th>\n",
              "      <th>split3_train_score</th>\n",
              "      <th>split4_train_score</th>\n",
              "      <th>mean_train_score</th>\n",
              "      <th>std_train_score</th>\n",
              "    </tr>\n",
              "  </thead>\n",
              "  <tbody>\n",
              "    <tr>\n",
              "      <th>0</th>\n",
              "      <td>3.413798</td>\n",
              "      <td>0.040333</td>\n",
              "      <td>0.103751</td>\n",
              "      <td>0.005252</td>\n",
              "      <td>2</td>\n",
              "      <td>auto</td>\n",
              "      <td>{'max_depth': 2, 'max_features': 'auto'}</td>\n",
              "      <td>0.785047</td>\n",
              "      <td>0.781114</td>\n",
              "      <td>0.756124</td>\n",
              "      <td>0.743269</td>\n",
              "      <td>0.781595</td>\n",
              "      <td>0.769430</td>\n",
              "      <td>0.016672</td>\n",
              "      <td>7</td>\n",
              "      <td>0.771513</td>\n",
              "      <td>0.768053</td>\n",
              "      <td>0.775149</td>\n",
              "      <td>0.777181</td>\n",
              "      <td>0.771317</td>\n",
              "      <td>0.772643</td>\n",
              "      <td>0.003193</td>\n",
              "    </tr>\n",
              "    <tr>\n",
              "      <th>1</th>\n",
              "      <td>3.438284</td>\n",
              "      <td>0.154910</td>\n",
              "      <td>0.104722</td>\n",
              "      <td>0.008429</td>\n",
              "      <td>2</td>\n",
              "      <td>sqrt</td>\n",
              "      <td>{'max_depth': 2, 'max_features': 'sqrt'}</td>\n",
              "      <td>0.785047</td>\n",
              "      <td>0.781114</td>\n",
              "      <td>0.756124</td>\n",
              "      <td>0.743269</td>\n",
              "      <td>0.781595</td>\n",
              "      <td>0.769430</td>\n",
              "      <td>0.016672</td>\n",
              "      <td>7</td>\n",
              "      <td>0.771513</td>\n",
              "      <td>0.768053</td>\n",
              "      <td>0.775149</td>\n",
              "      <td>0.777181</td>\n",
              "      <td>0.771317</td>\n",
              "      <td>0.772643</td>\n",
              "      <td>0.003193</td>\n",
              "    </tr>\n",
              "    <tr>\n",
              "      <th>2</th>\n",
              "      <td>5.950939</td>\n",
              "      <td>0.228475</td>\n",
              "      <td>0.115280</td>\n",
              "      <td>0.034199</td>\n",
              "      <td>4</td>\n",
              "      <td>auto</td>\n",
              "      <td>{'max_depth': 4, 'max_features': 'auto'}</td>\n",
              "      <td>0.787020</td>\n",
              "      <td>0.787569</td>\n",
              "      <td>0.761032</td>\n",
              "      <td>0.748676</td>\n",
              "      <td>0.786546</td>\n",
              "      <td>0.774169</td>\n",
              "      <td>0.016250</td>\n",
              "      <td>5</td>\n",
              "      <td>0.778370</td>\n",
              "      <td>0.777638</td>\n",
              "      <td>0.784004</td>\n",
              "      <td>0.786128</td>\n",
              "      <td>0.779058</td>\n",
              "      <td>0.781040</td>\n",
              "      <td>0.003385</td>\n",
              "    </tr>\n",
              "    <tr>\n",
              "      <th>3</th>\n",
              "      <td>5.921120</td>\n",
              "      <td>0.127458</td>\n",
              "      <td>0.113182</td>\n",
              "      <td>0.004088</td>\n",
              "      <td>4</td>\n",
              "      <td>sqrt</td>\n",
              "      <td>{'max_depth': 4, 'max_features': 'sqrt'}</td>\n",
              "      <td>0.787020</td>\n",
              "      <td>0.787569</td>\n",
              "      <td>0.761032</td>\n",
              "      <td>0.748676</td>\n",
              "      <td>0.786546</td>\n",
              "      <td>0.774169</td>\n",
              "      <td>0.016250</td>\n",
              "      <td>5</td>\n",
              "      <td>0.778370</td>\n",
              "      <td>0.777638</td>\n",
              "      <td>0.784004</td>\n",
              "      <td>0.786128</td>\n",
              "      <td>0.779058</td>\n",
              "      <td>0.781040</td>\n",
              "      <td>0.003385</td>\n",
              "    </tr>\n",
              "    <tr>\n",
              "      <th>4</th>\n",
              "      <td>10.912080</td>\n",
              "      <td>0.087753</td>\n",
              "      <td>0.148159</td>\n",
              "      <td>0.002345</td>\n",
              "      <td>8</td>\n",
              "      <td>auto</td>\n",
              "      <td>{'max_depth': 8, 'max_features': 'auto'}</td>\n",
              "      <td>0.793212</td>\n",
              "      <td>0.794749</td>\n",
              "      <td>0.766462</td>\n",
              "      <td>0.757675</td>\n",
              "      <td>0.791642</td>\n",
              "      <td>0.780748</td>\n",
              "      <td>0.015534</td>\n",
              "      <td>1</td>\n",
              "      <td>0.825088</td>\n",
              "      <td>0.829276</td>\n",
              "      <td>0.832937</td>\n",
              "      <td>0.835633</td>\n",
              "      <td>0.828782</td>\n",
              "      <td>0.830343</td>\n",
              "      <td>0.003631</td>\n",
              "    </tr>\n",
              "    <tr>\n",
              "      <th>5</th>\n",
              "      <td>10.928758</td>\n",
              "      <td>0.054706</td>\n",
              "      <td>0.146998</td>\n",
              "      <td>0.004165</td>\n",
              "      <td>8</td>\n",
              "      <td>sqrt</td>\n",
              "      <td>{'max_depth': 8, 'max_features': 'sqrt'}</td>\n",
              "      <td>0.793212</td>\n",
              "      <td>0.794749</td>\n",
              "      <td>0.766462</td>\n",
              "      <td>0.757675</td>\n",
              "      <td>0.791642</td>\n",
              "      <td>0.780748</td>\n",
              "      <td>0.015534</td>\n",
              "      <td>1</td>\n",
              "      <td>0.825088</td>\n",
              "      <td>0.829276</td>\n",
              "      <td>0.832937</td>\n",
              "      <td>0.835633</td>\n",
              "      <td>0.828782</td>\n",
              "      <td>0.830343</td>\n",
              "      <td>0.003631</td>\n",
              "    </tr>\n",
              "    <tr>\n",
              "      <th>6</th>\n",
              "      <td>18.390711</td>\n",
              "      <td>0.124532</td>\n",
              "      <td>0.210484</td>\n",
              "      <td>0.028196</td>\n",
              "      <td>15</td>\n",
              "      <td>auto</td>\n",
              "      <td>{'max_depth': 15, 'max_features': 'auto'}</td>\n",
              "      <td>0.789223</td>\n",
              "      <td>0.795596</td>\n",
              "      <td>0.766288</td>\n",
              "      <td>0.759521</td>\n",
              "      <td>0.788907</td>\n",
              "      <td>0.779907</td>\n",
              "      <td>0.014248</td>\n",
              "      <td>3</td>\n",
              "      <td>0.974664</td>\n",
              "      <td>0.975878</td>\n",
              "      <td>0.975543</td>\n",
              "      <td>0.975847</td>\n",
              "      <td>0.974644</td>\n",
              "      <td>0.975315</td>\n",
              "      <td>0.000553</td>\n",
              "    </tr>\n",
              "    <tr>\n",
              "      <th>7</th>\n",
              "      <td>16.612346</td>\n",
              "      <td>2.430838</td>\n",
              "      <td>0.164943</td>\n",
              "      <td>0.048773</td>\n",
              "      <td>15</td>\n",
              "      <td>sqrt</td>\n",
              "      <td>{'max_depth': 15, 'max_features': 'sqrt'}</td>\n",
              "      <td>0.789223</td>\n",
              "      <td>0.795596</td>\n",
              "      <td>0.766288</td>\n",
              "      <td>0.759521</td>\n",
              "      <td>0.788907</td>\n",
              "      <td>0.779907</td>\n",
              "      <td>0.014248</td>\n",
              "      <td>3</td>\n",
              "      <td>0.974664</td>\n",
              "      <td>0.975878</td>\n",
              "      <td>0.975543</td>\n",
              "      <td>0.975847</td>\n",
              "      <td>0.974644</td>\n",
              "      <td>0.975315</td>\n",
              "      <td>0.000553</td>\n",
              "    </tr>\n",
              "  </tbody>\n",
              "</table>\n",
              "</div>"
            ],
            "text/plain": [
              "   mean_fit_time  std_fit_time  ...  mean_train_score  std_train_score\n",
              "0       3.413798      0.040333  ...          0.772643         0.003193\n",
              "1       3.438284      0.154910  ...          0.772643         0.003193\n",
              "2       5.950939      0.228475  ...          0.781040         0.003385\n",
              "3       5.921120      0.127458  ...          0.781040         0.003385\n",
              "4      10.912080      0.087753  ...          0.830343         0.003631\n",
              "5      10.928758      0.054706  ...          0.830343         0.003631\n",
              "6      18.390711      0.124532  ...          0.975315         0.000553\n",
              "7      16.612346      2.430838  ...          0.975315         0.000553\n",
              "\n",
              "[8 rows x 22 columns]"
            ]
          },
          "metadata": {
            "tags": []
          },
          "execution_count": 144
        }
      ]
    },
    {
      "cell_type": "code",
      "metadata": {
        "ExecuteTime": {
          "end_time": "2020-02-19T18:57:24.591606Z",
          "start_time": "2020-02-19T18:57:24.564647Z"
        },
        "hidden": true,
        "id": "CTh_qmDcWq2p",
        "outputId": "4bddb6b9-606b-46d7-c051-53c02a8dd981",
        "colab": {
          "base_uri": "https://localhost:8080/",
          "height": 288
        }
      },
      "source": [
        "# Extract and print the column with a dictionary of hyperparameters used\n",
        "column = cv_results_df.loc[:, [\"params\"]]\n",
        "column"
      ],
      "execution_count": 145,
      "outputs": [
        {
          "output_type": "execute_result",
          "data": {
            "text/html": [
              "<div>\n",
              "<style scoped>\n",
              "    .dataframe tbody tr th:only-of-type {\n",
              "        vertical-align: middle;\n",
              "    }\n",
              "\n",
              "    .dataframe tbody tr th {\n",
              "        vertical-align: top;\n",
              "    }\n",
              "\n",
              "    .dataframe thead th {\n",
              "        text-align: right;\n",
              "    }\n",
              "</style>\n",
              "<table border=\"1\" class=\"dataframe\">\n",
              "  <thead>\n",
              "    <tr style=\"text-align: right;\">\n",
              "      <th></th>\n",
              "      <th>params</th>\n",
              "    </tr>\n",
              "  </thead>\n",
              "  <tbody>\n",
              "    <tr>\n",
              "      <th>0</th>\n",
              "      <td>{'max_depth': 2, 'max_features': 'auto'}</td>\n",
              "    </tr>\n",
              "    <tr>\n",
              "      <th>1</th>\n",
              "      <td>{'max_depth': 2, 'max_features': 'sqrt'}</td>\n",
              "    </tr>\n",
              "    <tr>\n",
              "      <th>2</th>\n",
              "      <td>{'max_depth': 4, 'max_features': 'auto'}</td>\n",
              "    </tr>\n",
              "    <tr>\n",
              "      <th>3</th>\n",
              "      <td>{'max_depth': 4, 'max_features': 'sqrt'}</td>\n",
              "    </tr>\n",
              "    <tr>\n",
              "      <th>4</th>\n",
              "      <td>{'max_depth': 8, 'max_features': 'auto'}</td>\n",
              "    </tr>\n",
              "    <tr>\n",
              "      <th>5</th>\n",
              "      <td>{'max_depth': 8, 'max_features': 'sqrt'}</td>\n",
              "    </tr>\n",
              "    <tr>\n",
              "      <th>6</th>\n",
              "      <td>{'max_depth': 15, 'max_features': 'auto'}</td>\n",
              "    </tr>\n",
              "    <tr>\n",
              "      <th>7</th>\n",
              "      <td>{'max_depth': 15, 'max_features': 'sqrt'}</td>\n",
              "    </tr>\n",
              "  </tbody>\n",
              "</table>\n",
              "</div>"
            ],
            "text/plain": [
              "                                      params\n",
              "0   {'max_depth': 2, 'max_features': 'auto'}\n",
              "1   {'max_depth': 2, 'max_features': 'sqrt'}\n",
              "2   {'max_depth': 4, 'max_features': 'auto'}\n",
              "3   {'max_depth': 4, 'max_features': 'sqrt'}\n",
              "4   {'max_depth': 8, 'max_features': 'auto'}\n",
              "5   {'max_depth': 8, 'max_features': 'sqrt'}\n",
              "6  {'max_depth': 15, 'max_features': 'auto'}\n",
              "7  {'max_depth': 15, 'max_features': 'sqrt'}"
            ]
          },
          "metadata": {
            "tags": []
          },
          "execution_count": 145
        }
      ]
    },
    {
      "cell_type": "code",
      "metadata": {
        "ExecuteTime": {
          "end_time": "2020-02-19T18:57:24.623487Z",
          "start_time": "2020-02-19T18:57:24.593569Z"
        },
        "hidden": true,
        "id": "3v6_HNzkWq2q",
        "outputId": "0565a731-a19b-464d-d9d1-81c6a8c31ea4",
        "colab": {
          "base_uri": "https://localhost:8080/",
          "height": 232
        }
      },
      "source": [
        "# Extract and print the row that had the best mean test score\n",
        "best_row = cv_results_df[cv_results_df[\"rank_test_score\"] == 1]\n",
        "best_row"
      ],
      "execution_count": 146,
      "outputs": [
        {
          "output_type": "execute_result",
          "data": {
            "text/html": [
              "<div>\n",
              "<style scoped>\n",
              "    .dataframe tbody tr th:only-of-type {\n",
              "        vertical-align: middle;\n",
              "    }\n",
              "\n",
              "    .dataframe tbody tr th {\n",
              "        vertical-align: top;\n",
              "    }\n",
              "\n",
              "    .dataframe thead th {\n",
              "        text-align: right;\n",
              "    }\n",
              "</style>\n",
              "<table border=\"1\" class=\"dataframe\">\n",
              "  <thead>\n",
              "    <tr style=\"text-align: right;\">\n",
              "      <th></th>\n",
              "      <th>mean_fit_time</th>\n",
              "      <th>std_fit_time</th>\n",
              "      <th>mean_score_time</th>\n",
              "      <th>std_score_time</th>\n",
              "      <th>param_max_depth</th>\n",
              "      <th>param_max_features</th>\n",
              "      <th>params</th>\n",
              "      <th>split0_test_score</th>\n",
              "      <th>split1_test_score</th>\n",
              "      <th>split2_test_score</th>\n",
              "      <th>split3_test_score</th>\n",
              "      <th>split4_test_score</th>\n",
              "      <th>mean_test_score</th>\n",
              "      <th>std_test_score</th>\n",
              "      <th>rank_test_score</th>\n",
              "      <th>split0_train_score</th>\n",
              "      <th>split1_train_score</th>\n",
              "      <th>split2_train_score</th>\n",
              "      <th>split3_train_score</th>\n",
              "      <th>split4_train_score</th>\n",
              "      <th>mean_train_score</th>\n",
              "      <th>std_train_score</th>\n",
              "    </tr>\n",
              "  </thead>\n",
              "  <tbody>\n",
              "    <tr>\n",
              "      <th>4</th>\n",
              "      <td>10.912080</td>\n",
              "      <td>0.087753</td>\n",
              "      <td>0.148159</td>\n",
              "      <td>0.002345</td>\n",
              "      <td>8</td>\n",
              "      <td>auto</td>\n",
              "      <td>{'max_depth': 8, 'max_features': 'auto'}</td>\n",
              "      <td>0.793212</td>\n",
              "      <td>0.794749</td>\n",
              "      <td>0.766462</td>\n",
              "      <td>0.757675</td>\n",
              "      <td>0.791642</td>\n",
              "      <td>0.780748</td>\n",
              "      <td>0.015534</td>\n",
              "      <td>1</td>\n",
              "      <td>0.825088</td>\n",
              "      <td>0.829276</td>\n",
              "      <td>0.832937</td>\n",
              "      <td>0.835633</td>\n",
              "      <td>0.828782</td>\n",
              "      <td>0.830343</td>\n",
              "      <td>0.003631</td>\n",
              "    </tr>\n",
              "    <tr>\n",
              "      <th>5</th>\n",
              "      <td>10.928758</td>\n",
              "      <td>0.054706</td>\n",
              "      <td>0.146998</td>\n",
              "      <td>0.004165</td>\n",
              "      <td>8</td>\n",
              "      <td>sqrt</td>\n",
              "      <td>{'max_depth': 8, 'max_features': 'sqrt'}</td>\n",
              "      <td>0.793212</td>\n",
              "      <td>0.794749</td>\n",
              "      <td>0.766462</td>\n",
              "      <td>0.757675</td>\n",
              "      <td>0.791642</td>\n",
              "      <td>0.780748</td>\n",
              "      <td>0.015534</td>\n",
              "      <td>1</td>\n",
              "      <td>0.825088</td>\n",
              "      <td>0.829276</td>\n",
              "      <td>0.832937</td>\n",
              "      <td>0.835633</td>\n",
              "      <td>0.828782</td>\n",
              "      <td>0.830343</td>\n",
              "      <td>0.003631</td>\n",
              "    </tr>\n",
              "  </tbody>\n",
              "</table>\n",
              "</div>"
            ],
            "text/plain": [
              "   mean_fit_time  std_fit_time  ...  mean_train_score  std_train_score\n",
              "4      10.912080      0.087753  ...          0.830343         0.003631\n",
              "5      10.928758      0.054706  ...          0.830343         0.003631\n",
              "\n",
              "[2 rows x 22 columns]"
            ]
          },
          "metadata": {
            "tags": []
          },
          "execution_count": 146
        }
      ]
    },
    {
      "cell_type": "markdown",
      "metadata": {
        "heading_collapsed": true,
        "hidden": true,
        "id": "Noeoq3LbWq2t"
      },
      "source": [
        "### Analyzing the best results"
      ]
    },
    {
      "cell_type": "markdown",
      "metadata": {
        "hidden": true,
        "id": "eVfg6AqdWq2t"
      },
      "source": [
        "At the end of the day, we primarily care about the best performing 'square' in a grid search. Luckily Scikit Learn's `gridSearchCV` objects have a number of parameters that provide key information on just the best square (or row in `cv_results_`)."
      ]
    },
    {
      "cell_type": "markdown",
      "metadata": {
        "hidden": true,
        "id": "srtPfcOmWq2t"
      },
      "source": [
        "Three properties we will explore are:\n",
        "\n",
        "* `best_score_` – The score (here ROC_AUC) from the best-performing square.\n",
        "* `best_index_` – The index of the row in `cv_results_` containing information on the best-performing square.\n",
        "* `best_params_` – A dictionary of the parameters that gave the best score, for example `'max_depth': 10`"
      ]
    },
    {
      "cell_type": "code",
      "metadata": {
        "ExecuteTime": {
          "end_time": "2020-02-19T18:57:24.638448Z",
          "start_time": "2020-02-19T18:57:24.625504Z"
        },
        "hidden": true,
        "id": "naeQWLfFWq2t",
        "outputId": "0ef4a0a5-e902-4a4c-b097-b8ba7261754a",
        "colab": {
          "base_uri": "https://localhost:8080/",
          "height": 35
        }
      },
      "source": [
        "# Print out the ROC_AUC score from the best-performing square\n",
        "best_score = grid_rf_class.best_score_\n",
        "best_score"
      ],
      "execution_count": 147,
      "outputs": [
        {
          "output_type": "execute_result",
          "data": {
            "text/plain": [
              "0.7807478974147012"
            ]
          },
          "metadata": {
            "tags": []
          },
          "execution_count": 147
        }
      ]
    },
    {
      "cell_type": "code",
      "metadata": {
        "ExecuteTime": {
          "end_time": "2020-02-19T18:57:24.668368Z",
          "start_time": "2020-02-19T18:57:24.641452Z"
        },
        "hidden": true,
        "id": "v2H8hRT4Wq2u",
        "outputId": "2c2e786f-686b-4076-c3cb-502bd9afdae6",
        "colab": {
          "base_uri": "https://localhost:8080/",
          "height": 150
        }
      },
      "source": [
        "# Create a variable from the row related to the best-performing square\n",
        "cv_results_df = pd.DataFrame(grid_rf_class.cv_results_)\n",
        "best_row = cv_results_df.loc[[grid_rf_class.best_index_]]\n",
        "best_row"
      ],
      "execution_count": 148,
      "outputs": [
        {
          "output_type": "execute_result",
          "data": {
            "text/html": [
              "<div>\n",
              "<style scoped>\n",
              "    .dataframe tbody tr th:only-of-type {\n",
              "        vertical-align: middle;\n",
              "    }\n",
              "\n",
              "    .dataframe tbody tr th {\n",
              "        vertical-align: top;\n",
              "    }\n",
              "\n",
              "    .dataframe thead th {\n",
              "        text-align: right;\n",
              "    }\n",
              "</style>\n",
              "<table border=\"1\" class=\"dataframe\">\n",
              "  <thead>\n",
              "    <tr style=\"text-align: right;\">\n",
              "      <th></th>\n",
              "      <th>mean_fit_time</th>\n",
              "      <th>std_fit_time</th>\n",
              "      <th>mean_score_time</th>\n",
              "      <th>std_score_time</th>\n",
              "      <th>param_max_depth</th>\n",
              "      <th>param_max_features</th>\n",
              "      <th>params</th>\n",
              "      <th>split0_test_score</th>\n",
              "      <th>split1_test_score</th>\n",
              "      <th>split2_test_score</th>\n",
              "      <th>split3_test_score</th>\n",
              "      <th>split4_test_score</th>\n",
              "      <th>mean_test_score</th>\n",
              "      <th>std_test_score</th>\n",
              "      <th>rank_test_score</th>\n",
              "      <th>split0_train_score</th>\n",
              "      <th>split1_train_score</th>\n",
              "      <th>split2_train_score</th>\n",
              "      <th>split3_train_score</th>\n",
              "      <th>split4_train_score</th>\n",
              "      <th>mean_train_score</th>\n",
              "      <th>std_train_score</th>\n",
              "    </tr>\n",
              "  </thead>\n",
              "  <tbody>\n",
              "    <tr>\n",
              "      <th>4</th>\n",
              "      <td>10.91208</td>\n",
              "      <td>0.087753</td>\n",
              "      <td>0.148159</td>\n",
              "      <td>0.002345</td>\n",
              "      <td>8</td>\n",
              "      <td>auto</td>\n",
              "      <td>{'max_depth': 8, 'max_features': 'auto'}</td>\n",
              "      <td>0.793212</td>\n",
              "      <td>0.794749</td>\n",
              "      <td>0.766462</td>\n",
              "      <td>0.757675</td>\n",
              "      <td>0.791642</td>\n",
              "      <td>0.780748</td>\n",
              "      <td>0.015534</td>\n",
              "      <td>1</td>\n",
              "      <td>0.825088</td>\n",
              "      <td>0.829276</td>\n",
              "      <td>0.832937</td>\n",
              "      <td>0.835633</td>\n",
              "      <td>0.828782</td>\n",
              "      <td>0.830343</td>\n",
              "      <td>0.003631</td>\n",
              "    </tr>\n",
              "  </tbody>\n",
              "</table>\n",
              "</div>"
            ],
            "text/plain": [
              "   mean_fit_time  std_fit_time  ...  mean_train_score  std_train_score\n",
              "4       10.91208      0.087753  ...          0.830343         0.003631\n",
              "\n",
              "[1 rows x 22 columns]"
            ]
          },
          "metadata": {
            "tags": []
          },
          "execution_count": 148
        }
      ]
    },
    {
      "cell_type": "code",
      "metadata": {
        "ExecuteTime": {
          "end_time": "2020-02-19T18:57:24.683353Z",
          "start_time": "2020-02-19T18:57:24.670384Z"
        },
        "hidden": true,
        "id": "XBnTRWl7Wq2w",
        "outputId": "6c11969f-6e18-496c-bd17-935ce755890c",
        "colab": {
          "base_uri": "https://localhost:8080/",
          "height": 35
        }
      },
      "source": [
        "# Get the max_depth parameter from the best-performing square\n",
        "best_max_depth = grid_rf_class.best_params_[\"max_depth\"]\n",
        "best_max_depth"
      ],
      "execution_count": 149,
      "outputs": [
        {
          "output_type": "execute_result",
          "data": {
            "text/plain": [
              "8"
            ]
          },
          "metadata": {
            "tags": []
          },
          "execution_count": 149
        }
      ]
    },
    {
      "cell_type": "markdown",
      "metadata": {
        "hidden": true,
        "id": "fbS0CwkXWq2x"
      },
      "source": [
        "Being able to quickly find and prioritize the huge volume of information given back from machine learning modeling output is a great skill. Here we had great practice doing that with `cv_results_` by quickly isolating the key information on the best performing square. This will be very important when our grids grow from 12 squares to many more!"
      ]
    },
    {
      "cell_type": "markdown",
      "metadata": {
        "heading_collapsed": true,
        "hidden": true,
        "id": "rK7RaNLvWq2x"
      },
      "source": [
        "### Using the best results"
      ]
    },
    {
      "cell_type": "markdown",
      "metadata": {
        "hidden": true,
        "id": "vKQGrrQXWq2y"
      },
      "source": [
        "While it is interesting to analyze the results of our grid search, our final goal is practical in nature; we want to make predictions on our test set using our estimator object."
      ]
    },
    {
      "cell_type": "markdown",
      "metadata": {
        "hidden": true,
        "id": "pegSQ6qCWq2y"
      },
      "source": [
        "We can access this object through the `best_estimator_` property of our grid search object."
      ]
    },
    {
      "cell_type": "markdown",
      "metadata": {
        "hidden": true,
        "id": "dkPaBGzhWq2y"
      },
      "source": [
        "In this example, we will take a look inside the `best_estimator_` property and then use this to make predictions on our test set for credit card defaults and generate a variety of scores. Remember that we need to use `predict_proba` rather than `predict` since we need probability values rather than class labels for our roc_auc score. We use a slice `[:,1]` to get probabilities of the positive class."
      ]
    },
    {
      "cell_type": "code",
      "metadata": {
        "ExecuteTime": {
          "end_time": "2020-02-19T18:57:24.698289Z",
          "start_time": "2020-02-19T18:57:24.686352Z"
        },
        "hidden": true,
        "id": "qS81tCS4Wq2z",
        "outputId": "d6abac98-c7f4-450d-dd69-0e416034eb7f",
        "colab": {
          "base_uri": "https://localhost:8080/",
          "height": 35
        }
      },
      "source": [
        "# See what type of object the best_estimator_ property is\n",
        "type(grid_rf_class.best_estimator_)"
      ],
      "execution_count": 150,
      "outputs": [
        {
          "output_type": "execute_result",
          "data": {
            "text/plain": [
              "sklearn.ensemble._forest.RandomForestClassifier"
            ]
          },
          "metadata": {
            "tags": []
          },
          "execution_count": 150
        }
      ]
    },
    {
      "cell_type": "code",
      "metadata": {
        "ExecuteTime": {
          "end_time": "2020-02-19T18:57:24.808031Z",
          "start_time": "2020-02-19T18:57:24.700283Z"
        },
        "hidden": true,
        "id": "ocHQ-3woWq20"
      },
      "source": [
        "# Create an array of predictions directly using the best_estimator_ property\n",
        "predictions = grid_rf_class.best_estimator_.predict(X_test)"
      ],
      "execution_count": 151,
      "outputs": []
    },
    {
      "cell_type": "code",
      "metadata": {
        "ExecuteTime": {
          "end_time": "2020-02-19T18:57:24.822979Z",
          "start_time": "2020-02-19T18:57:24.809989Z"
        },
        "hidden": true,
        "id": "72nMgbDGWq21",
        "outputId": "58fc933c-076d-43f9-f4bd-0ff94e3605b9",
        "colab": {
          "base_uri": "https://localhost:8080/",
          "height": 35
        }
      },
      "source": [
        "# Take a look to confirm it worked, this should be an array of 1's and 0's\n",
        "predictions[0:5]"
      ],
      "execution_count": 152,
      "outputs": [
        {
          "output_type": "execute_result",
          "data": {
            "text/plain": [
              "array([0, 0, 0, 1, 0])"
            ]
          },
          "metadata": {
            "tags": []
          },
          "execution_count": 152
        }
      ]
    },
    {
      "cell_type": "code",
      "metadata": {
        "ExecuteTime": {
          "end_time": "2020-02-19T18:57:24.838913Z",
          "start_time": "2020-02-19T18:57:24.824950Z"
        },
        "hidden": true,
        "id": "60ZfyGrdWq22",
        "outputId": "0ea15323-e847-4472-c932-3b37af72605b",
        "colab": {
          "base_uri": "https://localhost:8080/",
          "height": 72
        }
      },
      "source": [
        "# Now create a confusion matrix \n",
        "print(\"Confusion Matrix \\n\", confusion_matrix(y_test, predictions))"
      ],
      "execution_count": 153,
      "outputs": [
        {
          "output_type": "stream",
          "text": [
            "Confusion Matrix \n",
            " [[6657  352]\n",
            " [1297  694]]\n"
          ],
          "name": "stdout"
        }
      ]
    },
    {
      "cell_type": "code",
      "metadata": {
        "ExecuteTime": {
          "end_time": "2020-02-19T18:57:24.948661Z",
          "start_time": "2020-02-19T18:57:24.839944Z"
        },
        "hidden": true,
        "id": "X6WVKbOMWq25",
        "outputId": "2c2e2edc-d984-46a6-846f-2595e827281d",
        "colab": {
          "base_uri": "https://localhost:8080/",
          "height": 54
        }
      },
      "source": [
        "from sklearn.metrics import roc_auc_score\n",
        "\n",
        "# Get the ROC-AUC score\n",
        "predictions_proba = grid_rf_class.best_estimator_.predict_proba(X_test)[:,1]\n",
        "print(\"ROC-AUC Score \\n\", roc_auc_score(y_test, predictions_proba))"
      ],
      "execution_count": 154,
      "outputs": [
        {
          "output_type": "stream",
          "text": [
            "ROC-AUC Score \n",
            " 0.7743063933226699\n"
          ],
          "name": "stdout"
        }
      ]
    },
    {
      "cell_type": "markdown",
      "metadata": {
        "hidden": true,
        "id": "1h-YL66kWq27"
      },
      "source": [
        "The `.best_estimator_` property is a really powerful property to understand for streamlining our machine learning model building process. We now can run a grid search and seamlessly use the best model from that search to make predictions."
      ]
    },
    {
      "cell_type": "markdown",
      "metadata": {
        "id": "ELmDXdMZWq28"
      },
      "source": [
        "# Random Search"
      ]
    },
    {
      "cell_type": "markdown",
      "metadata": {
        "id": "CS9n0S1jWq29"
      },
      "source": [
        "Another popular automated hyperparameter tuning methodology is called Random Search. We will learn what it is, how it works and importantly how it differs from grid search. We will learn some advantages and disadvantages of this method and when to choose this method compared to Grid Search. We will practice undertaking a Random Search with Scikit Learn as well as visualizing & interpreting the output."
      ]
    },
    {
      "cell_type": "markdown",
      "metadata": {
        "heading_collapsed": true,
        "id": "tsWwLsYiWq29"
      },
      "source": [
        "## Introducing Random Search"
      ]
    },
    {
      "cell_type": "markdown",
      "metadata": {
        "hidden": true,
        "id": "GAOwRQfKWq29"
      },
      "source": [
        "In this chapter we will cover the concept of random search, how it differs from grid search, as well as some advantages and disadvantages of this method.\n",
        "\n",
        "A random search is very similar to a grid search several key steps. We still define an estimator, which hyperparameters to tune and the range of values for each hyperparameter. Similarly, we still set a cross-validation scheme and scoring function. However when it comes to undertaking the search, rather than trying every single combination, we randomly sample N combinations and try these out. \n",
        "\n",
        "This may seem like a really odd thing to do. Why would we do this and why does it work?\n",
        "\n",
        "An important paper by Yoshua Bengio and James Bergstra outlines that reason that this works can be explained with two fundamental principles:\n",
        "\n",
        "* Not every hyperparameter is as important (we hinted at this in the Grid Search Section)\n",
        "* A little trick of probability.\n",
        "\n",
        "Let's explain the probability trick.\n",
        "\n",
        "Let's say that we have this grid. It has 100 cells, so 100 different models. 10 different values each of two hyperparameters. Let us say that these 5 models are the best, highlighted in green. \n",
        "\n",
        "\n",
        "![Random Search](https://github.com/ML-Challenge/week5-preprocessing-and-tunning/blob/master/assets/2-5.png?raw=1)\n",
        "\n",
        "How many models would we need to run with random search to have a 95% chance of getting one of the green squares?"
      ]
    },
    {
      "cell_type": "markdown",
      "metadata": {
        "hidden": true,
        "id": "B0YmnVtpWq29"
      },
      "source": [
        "Let's consider how likely it is that we continue to completely miss the good models, if we randomly select hyperparameter combinations uniformly:\n",
        "\n",
        "* On our first trial we have 5% chance of getting one of these squares as it is 5 squares out of 100. Therefore we have `(1-0.05)` chance of missing these squares. \n",
        "* If we do a second trial, we now have `(1-0.05) * (1-0.05)` of missing that range. \n",
        "* For a third trial we have `(1-0.05) * (1-0.05) * (1-0.05)` chance of missing that range. \n",
        "\n",
        "In fact, with n trials we have (1-0.05)^n chance that every single trial misses all the good models. So how many trials to have a high chance of being in the region?\n",
        "\n",
        "We know that the probability of missing everything is `(1-0.05)^n`. So the probability of getting something in that area must be `1-(miss everything)` which is `1-(1-0.05)^n`. Without going into too much details, we can solve to get the answer as `n >= 59`. So what does that all mean?\n",
        "\n",
        "With relatively few trials we can get close to our maximum score with a relatively high probability. In essence, it is very unlikely that we will continue to miss everything for a long time. A Grid Search may spend lots of time covering a bad area. "
      ]
    },
    {
      "cell_type": "markdown",
      "metadata": {
        "hidden": true,
        "id": "8HRC_JFHWq2-"
      },
      "source": [
        "**Some important notes**\n",
        "\n",
        "There are some important things to keep in mind with random search. Our possible score is still only as good as the grid we set! If we a bad grid to sample from, we will not get a great model. \n",
        "\n",
        "Remember to fairly compare this to grid search, we need to have the same modeling 'budget'. For example, 200 models on grid search and 200 models in random search."
      ]
    },
    {
      "cell_type": "markdown",
      "metadata": {
        "hidden": true,
        "id": "MDj2rWdxWq2-"
      },
      "source": [
        "**Creating a random sample of hyperparameters**\n",
        "\n",
        "We can create our own random sample of hyperparameter combinations. We firstly set the hyperparameter lists as we have done before with numpy linspace and a range function. \n",
        "\n",
        "```\n",
        "# Set some hyperparameter lists\n",
        "learn_rate_list = np.linspace(0.001, 2, 150)\n",
        "min_samples_leaf_list = list(range(1, 51))\n",
        "```\n",
        "\n",
        "We can then create a single list of hyperparameter combinations that we can sample from using itertools `product` function. \n",
        "\n",
        "```\n",
        "# Create list of combinations\n",
        "from itertools import product\n",
        "combinations_list = [list(x) for x in product(learn_rate_list, min_samples_leaf_list)]\n",
        "```\n",
        "\n",
        "Then we can randomly select 100 models from these lists using NumPy's handy `random.choice` function, which gives us 100 random\n",
        "indexes we can use to index into the created list in the last line.\n",
        "\n",
        "```\n",
        "# Select 100 models from our larger set\n",
        "random_combinations_index = np.random.choice(range(0, len(combinations_list)), 100, replace=False)\n",
        "combinations_random_chosen = [combinations_list[x] for x in random_combinations_index]\n",
        "```"
      ]
    },
    {
      "cell_type": "markdown",
      "metadata": {
        "hidden": true,
        "id": "4bFNNqbEWq2-"
      },
      "source": [
        "**Visualizing a Random Search**\n",
        "\n",
        "A visual inspection of the hyperparameter values chosen by random search is a nice way to demonstrate how it works. \n",
        "\n",
        "![Random Search Graph](https://github.com/ML-Challenge/week5-preprocessing-and-tunning/blob/master/assets/2-6.png?raw=1)\n",
        "\n",
        "Notice how the coverage of this is very wide but it does not cover thoroughly? Let's practice sampling and visualizing our own random search!"
      ]
    },
    {
      "cell_type": "markdown",
      "metadata": {
        "heading_collapsed": true,
        "hidden": true,
        "id": "yYagy1HjWq2-"
      },
      "source": [
        "### Randomly Sample Hyperparameters"
      ]
    },
    {
      "cell_type": "markdown",
      "metadata": {
        "hidden": true,
        "id": "dkdztKRdWq2-"
      },
      "source": [
        "To undertake a random search, we firstly need to undertake a random sampling of our hyperparameter space."
      ]
    },
    {
      "cell_type": "markdown",
      "metadata": {
        "hidden": true,
        "id": "qc7d2Vv1Wq2_"
      },
      "source": [
        "In this example, we will firstly create some lists of hyperparameters that can be zipped up to a list of lists. Then we will randomly sample hyperparameter combinations preparation for running a random search."
      ]
    },
    {
      "cell_type": "markdown",
      "metadata": {
        "hidden": true,
        "id": "m_Ks27huWq2_"
      },
      "source": [
        "We will use just the hyperparameters `learning_rate` and `min_samples_leaf` of the GBM algorithm to keep the example illustrative and not overly complicated."
      ]
    },
    {
      "cell_type": "code",
      "metadata": {
        "ExecuteTime": {
          "end_time": "2020-02-19T18:57:24.964575Z",
          "start_time": "2020-02-19T18:57:24.950612Z"
        },
        "hidden": true,
        "id": "l2mzflGAWq3A"
      },
      "source": [
        "# Create a list of values for the learning_rate hyperparameter\n",
        "learn_rate_list = list(np.linspace(0.01,1.5,200))"
      ],
      "execution_count": 155,
      "outputs": []
    },
    {
      "cell_type": "code",
      "metadata": {
        "ExecuteTime": {
          "end_time": "2020-02-19T18:57:24.980533Z",
          "start_time": "2020-02-19T18:57:24.966575Z"
        },
        "hidden": true,
        "id": "j7Y5Hg1UWq3B"
      },
      "source": [
        "# Create a list of values for the min_samples_leaf hyperparameter\n",
        "min_samples_list = list(range(10,41))"
      ],
      "execution_count": 156,
      "outputs": []
    },
    {
      "cell_type": "code",
      "metadata": {
        "ExecuteTime": {
          "end_time": "2020-02-19T18:57:24.996523Z",
          "start_time": "2020-02-19T18:57:24.982529Z"
        },
        "hidden": true,
        "id": "QSnVPsEQWq3D"
      },
      "source": [
        "# Combination list\n",
        "from itertools import product\n",
        "combinations_list = [list(x) for x in product(learn_rate_list, min_samples_list)]"
      ],
      "execution_count": 157,
      "outputs": []
    },
    {
      "cell_type": "code",
      "metadata": {
        "ExecuteTime": {
          "end_time": "2020-02-19T18:57:25.012448Z",
          "start_time": "2020-02-19T18:57:24.998485Z"
        },
        "hidden": true,
        "id": "UZSDu3-DWq3E"
      },
      "source": [
        "# Sample hyperparameter combinations for a random search.\n",
        "random_combinations_index = np.random.choice(range(0, len(combinations_list)), 250, replace=False)\n",
        "combinations_random_chosen = [combinations_list[x] for x in random_combinations_index]"
      ],
      "execution_count": 158,
      "outputs": []
    },
    {
      "cell_type": "code",
      "metadata": {
        "ExecuteTime": {
          "end_time": "2020-02-19T18:57:25.043365Z",
          "start_time": "2020-02-19T18:57:25.014443Z"
        },
        "hidden": true,
        "id": "w0W4mYNTWq3F",
        "outputId": "57dc5e93-f896-4053-f218-d5106a2a9357",
        "colab": {
          "base_uri": "https://localhost:8080/",
          "height": 1000
        }
      },
      "source": [
        "# Print the result\n",
        "combinations_random_chosen"
      ],
      "execution_count": 159,
      "outputs": [
        {
          "output_type": "execute_result",
          "data": {
            "text/plain": [
              "[[0.8485929648241206, 40],\n",
              " [1.2678894472361808, 13],\n",
              " [1.0657286432160804, 26],\n",
              " [1.3951758793969848, 36],\n",
              " [1.1106532663316582, 30],\n",
              " [0.668894472361809, 33],\n",
              " [0.2421105527638191, 37],\n",
              " [0.9908542713567839, 10],\n",
              " [0.2570854271356784, 35],\n",
              " [1.0432663316582915, 12],\n",
              " [0.3768844221105528, 25],\n",
              " [0.15974874371859296, 23],\n",
              " [1.2304522613065327, 15],\n",
              " [0.7287939698492463, 30],\n",
              " [0.4742211055276382, 36],\n",
              " [0.691356783919598, 12],\n",
              " [0.945929648241206, 23],\n",
              " [0.12231155778894472, 22],\n",
              " [1.2753768844221105, 39],\n",
              " [1.1406030150753768, 29],\n",
              " [1.222964824120603, 39],\n",
              " [0.15226130653266332, 17],\n",
              " [0.08487437185929647, 35],\n",
              " [1.2154773869346733, 14],\n",
              " [0.945929648241206, 40],\n",
              " [0.9609045226130652, 32],\n",
              " [1.3577386934673366, 36],\n",
              " [1.222964824120603, 34],\n",
              " [0.7587437185929649, 28],\n",
              " [1.4176381909547737, 15],\n",
              " [0.8411055276381909, 30],\n",
              " [0.6539195979899497, 29],\n",
              " [1.29035175879397, 39],\n",
              " [1.327788944723618, 15],\n",
              " [0.7213065326633166, 36],\n",
              " [1.3203015075376885, 24],\n",
              " [0.968391959798995, 10],\n",
              " [0.15226130653266332, 24],\n",
              " [0.796180904522613, 35],\n",
              " [0.08487437185929647, 26],\n",
              " [1.013316582914573, 10],\n",
              " [0.3918592964824121, 21],\n",
              " [0.33195979899497485, 35],\n",
              " [0.18969849246231157, 21],\n",
              " [0.38437185929648243, 22],\n",
              " [1.4625628140703517, 31],\n",
              " [0.3094974874371859, 11],\n",
              " [0.6539195979899497, 28],\n",
              " [1.1480904522613065, 15],\n",
              " [0.2421105527638191, 28],\n",
              " [1.455075376884422, 35],\n",
              " [0.2121608040201005, 34],\n",
              " [0.2945226130653266, 38],\n",
              " [0.8860301507537688, 31],\n",
              " [1.4326130653266331, 11],\n",
              " [1.1031658291457287, 22],\n",
              " [0.3918592964824121, 16],\n",
              " [0.7138190954773869, 32],\n",
              " [1.4475879396984925, 11],\n",
              " [0.8635678391959799, 10],\n",
              " [1.4401005025125628, 30],\n",
              " [0.36939698492462314, 18],\n",
              " [0.668894472361809, 35],\n",
              " [1.2604020100502513, 16],\n",
              " [1.1555778894472362, 13],\n",
              " [0.36190954773869344, 32],\n",
              " [1.1031658291457287, 14],\n",
              " [0.7587437185929649, 23],\n",
              " [1.4176381909547737, 33],\n",
              " [0.30201005025125627, 25],\n",
              " [1.3802010050251257, 37],\n",
              " [0.8336180904522613, 22],\n",
              " [0.3918592964824121, 22],\n",
              " [0.7587437185929649, 33],\n",
              " [0.7362814070351759, 10],\n",
              " [1.095678391959799, 12],\n",
              " [0.6988442211055276, 22],\n",
              " [0.31698492462311556, 24],\n",
              " [0.7886934673366834, 40],\n",
              " [0.31698492462311556, 29],\n",
              " [0.414321608040201, 11],\n",
              " [1.07321608040201, 40],\n",
              " [0.2570854271356784, 18],\n",
              " [0.7662311557788944, 30],\n",
              " [1.3203015075376885, 13],\n",
              " [0.6988442211055276, 12],\n",
              " [1.1705527638190953, 36],\n",
              " [0.287035175879397, 29],\n",
              " [1.3352763819095477, 16],\n",
              " [1.0432663316582915, 29],\n",
              " [0.4891959798994975, 12],\n",
              " [0.7213065326633166, 34],\n",
              " [0.24959798994974874, 29],\n",
              " [0.07738693467336683, 23],\n",
              " [1.1480904522613065, 29],\n",
              " [1.0357788944723618, 37],\n",
              " [0.5266331658291458, 14],\n",
              " [0.039949748743718594, 10],\n",
              " [0.9833668341708542, 24],\n",
              " [1.1630653266331659, 35],\n",
              " [0.31698492462311556, 39],\n",
              " [0.4891959798994975, 15],\n",
              " [0.38437185929648243, 33],\n",
              " [1.3802010050251257, 19],\n",
              " [0.4742211055276382, 20],\n",
              " [0.48170854271356783, 24],\n",
              " [0.46673366834170854, 32],\n",
              " [1.0058291457286432, 24],\n",
              " [0.06989949748743718, 35],\n",
              " [0.43678391959798996, 19],\n",
              " [1.2079899497487436, 34],\n",
              " [1.2678894472361808, 38],\n",
              " [0.36939698492462314, 32],\n",
              " [0.9234673366834171, 40],\n",
              " [1.0582412060301507, 23],\n",
              " [0.4442713567839196, 29],\n",
              " [0.8560804020100502, 35],\n",
              " [0.7886934673366834, 10],\n",
              " [0.9234673366834171, 11],\n",
              " [0.17472361809045225, 11],\n",
              " [0.9159798994974874, 15],\n",
              " [0.968391959798995, 26],\n",
              " [1.4026633165829145, 36],\n",
              " [0.5341206030150754, 21],\n",
              " [0.5640703517587939, 37],\n",
              " [1.305326633165829, 14],\n",
              " [1.2154773869346733, 26],\n",
              " [0.2271356783919598, 23],\n",
              " [0.01, 17],\n",
              " [1.095678391959799, 15],\n",
              " [0.10733668341708542, 20],\n",
              " [1.4475879396984925, 31],\n",
              " [0.9234673366834171, 23],\n",
              " [1.3652261306532663, 15],\n",
              " [1.2379396984924622, 32],\n",
              " [0.3544221105527638, 34],\n",
              " [0.20467336683417087, 39],\n",
              " [0.2720603015075377, 24],\n",
              " [0.21964824120603016, 23],\n",
              " [0.04743718592964824, 12],\n",
              " [1.2753768844221105, 13],\n",
              " [0.40683417085427137, 14],\n",
              " [1.4925125628140703, 15],\n",
              " [1.4326130653266331, 16],\n",
              " [1.3352763819095477, 12],\n",
              " [0.4592462311557789, 14],\n",
              " [0.5416080402010051, 34],\n",
              " [1.4101507537688442, 26],\n",
              " [0.36190954773869344, 24],\n",
              " [0.15974874371859296, 19],\n",
              " [0.7362814070351759, 36],\n",
              " [0.17472361809045225, 37],\n",
              " [0.6838693467336683, 16],\n",
              " [1.4326130653266331, 21],\n",
              " [0.6239698492462311, 20],\n",
              " [1.200502512562814, 32],\n",
              " [0.9010050251256281, 37],\n",
              " [0.7362814070351759, 32],\n",
              " [1.0807035175879396, 16],\n",
              " [0.42180904522613066, 15],\n",
              " [0.6539195979899497, 14],\n",
              " [0.7587437185929649, 22],\n",
              " [0.11482412060301507, 29],\n",
              " [0.6389447236180904, 37],\n",
              " [0.9309547738693467, 20],\n",
              " [0.09984924623115578, 40],\n",
              " [0.8111557788944723, 33],\n",
              " [0.5640703517587939, 16],\n",
              " [0.7437688442211056, 19],\n",
              " [0.668894472361809, 12],\n",
              " [0.5116582914572865, 15],\n",
              " [0.9234673366834171, 18],\n",
              " [1.3203015075376885, 20],\n",
              " [0.968391959798995, 23],\n",
              " [0.8261306532663316, 15],\n",
              " [1.1705527638190953, 19],\n",
              " [0.8036683417085427, 26],\n",
              " [0.15226130653266332, 35],\n",
              " [0.5640703517587939, 26],\n",
              " [1.3652261306532663, 20],\n",
              " [0.5041708542713568, 34],\n",
              " [1.1630653266331659, 16],\n",
              " [0.3094974874371859, 27],\n",
              " [1.2828643216080402, 16],\n",
              " [0.5715577889447236, 10],\n",
              " [0.6314572864321608, 40],\n",
              " [1.3802010050251257, 18],\n",
              " [0.10733668341708542, 33],\n",
              " [1.5, 13],\n",
              " [0.12231155778894472, 35],\n",
              " [1.3577386934673366, 29],\n",
              " [0.40683417085427137, 21],\n",
              " [0.12979899497487438, 14],\n",
              " [0.3544221105527638, 12],\n",
              " [0.8485929648241206, 15],\n",
              " [0.18969849246231157, 33],\n",
              " [1.1930150753768844, 20],\n",
              " [0.18969849246231157, 23],\n",
              " [0.3244723618090452, 13],\n",
              " [0.03246231155778895, 39],\n",
              " [0.15974874371859296, 22],\n",
              " [1.4925125628140703, 18],\n",
              " [1.1555778894472362, 28],\n",
              " [0.024974874371859294, 16],\n",
              " [0.9159798994974874, 14],\n",
              " [0.8860301507537688, 40],\n",
              " [0.7437688442211056, 32],\n",
              " [0.1822110552763819, 40],\n",
              " [0.01, 38],\n",
              " [0.4592462311557789, 33],\n",
              " [0.6763819095477387, 25],\n",
              " [0.31698492462311556, 27],\n",
              " [0.36190954773869344, 26],\n",
              " [1.3652261306532663, 19],\n",
              " [0.7287939698492463, 26],\n",
              " [1.372713567839196, 26],\n",
              " [0.4966834170854271, 24],\n",
              " [0.7138190954773869, 35],\n",
              " [0.6539195979899497, 32],\n",
              " [1.0881909547738693, 35],\n",
              " [0.414321608040201, 36],\n",
              " [0.8860301507537688, 39],\n",
              " [0.05492462311557789, 27],\n",
              " [1.1930150753768844, 36],\n",
              " [1.1331155778894473, 28],\n",
              " [0.5790452261306532, 38],\n",
              " [0.45175879396984925, 10],\n",
              " [1.0432663316582915, 21],\n",
              " [1.050753768844221, 22],\n",
              " [0.4966834170854271, 20],\n",
              " [0.6389447236180904, 28],\n",
              " [1.2678894472361808, 32],\n",
              " [0.9758793969849247, 31],\n",
              " [0.06989949748743718, 20],\n",
              " [0.5715577889447236, 29],\n",
              " [0.6164824120603015, 16],\n",
              " [1.4401005025125628, 21],\n",
              " [0.38437185929648243, 28],\n",
              " [0.07738693467336683, 11],\n",
              " [1.178040201005025, 27],\n",
              " [0.46673366834170854, 18],\n",
              " [0.7886934673366834, 36],\n",
              " [0.3394472361809045, 36],\n",
              " [0.8036683417085427, 12],\n",
              " [0.6089949748743718, 25],\n",
              " [0.36190954773869344, 23],\n",
              " [0.5940201005025125, 11],\n",
              " [0.6089949748743718, 24],\n",
              " [1.4251256281407034, 25],\n",
              " [1.0282914572864321, 24]]"
            ]
          },
          "metadata": {
            "tags": []
          },
          "execution_count": 159
        }
      ]
    },
    {
      "cell_type": "markdown",
      "metadata": {
        "hidden": true,
        "id": "qCD2Wy2FWq3G"
      },
      "source": [
        "We generated some hyperparameter combinations and randomly sampled in that space. The output was not too nice though, in the next example we will use a much more efficient method for this. In a future example we will also make this output look much nicer!"
      ]
    },
    {
      "cell_type": "markdown",
      "metadata": {
        "heading_collapsed": true,
        "hidden": true,
        "id": "R1qt_euUWq3H"
      },
      "source": [
        "### Randomly Search with Random Forest"
      ]
    },
    {
      "cell_type": "markdown",
      "metadata": {
        "hidden": true,
        "id": "Kel_PS2OWq3H"
      },
      "source": [
        "To solidify our knowledge of random sampling, let's try a similar exercise but using different hyperparameters and a different algorithm."
      ]
    },
    {
      "cell_type": "markdown",
      "metadata": {
        "hidden": true,
        "id": "_CUw0m1GWq3H"
      },
      "source": [
        "As before, we create some lists of hyperparameters that can be zipped up to a list of lists. We will use the hyperparameters `criterion`, `max_depth` and `max_features` of the random forest algorithm. Then we will randomly sample hyperparameter combinations in preparation for running a random search."
      ]
    },
    {
      "cell_type": "markdown",
      "metadata": {
        "hidden": true,
        "id": "fZlrdMU5Wq3I"
      },
      "source": [
        "We will use a slightly different package for sampling in this task, `random.sample()`."
      ]
    },
    {
      "cell_type": "code",
      "metadata": {
        "ExecuteTime": {
          "end_time": "2020-02-19T18:57:25.059347Z",
          "start_time": "2020-02-19T18:57:25.051367Z"
        },
        "hidden": true,
        "id": "J-VRPrPTWq3I"
      },
      "source": [
        "# Create lists for criterion and max_features\n",
        "criterion_list = [\"gini\", \"entropy\"]\n",
        "max_feature_list = [\"auto\", \"sqrt\", \"log2\", None]"
      ],
      "execution_count": 160,
      "outputs": []
    },
    {
      "cell_type": "code",
      "metadata": {
        "ExecuteTime": {
          "end_time": "2020-02-19T18:57:25.074281Z",
          "start_time": "2020-02-19T18:57:25.064308Z"
        },
        "hidden": true,
        "id": "wP8TVOxNWq3J"
      },
      "source": [
        "# Create a list of values for the max_depth hyperparameter\n",
        "max_depth_list = list(range(3,56))"
      ],
      "execution_count": 161,
      "outputs": []
    },
    {
      "cell_type": "code",
      "metadata": {
        "ExecuteTime": {
          "end_time": "2020-02-19T18:57:25.089274Z",
          "start_time": "2020-02-19T18:57:25.075279Z"
        },
        "hidden": true,
        "id": "1SBMVUnUWq3K"
      },
      "source": [
        "# Combination list\n",
        "combinations_list = [list(x) for x in product(criterion_list, max_feature_list, max_depth_list)]"
      ],
      "execution_count": 162,
      "outputs": []
    },
    {
      "cell_type": "code",
      "metadata": {
        "ExecuteTime": {
          "end_time": "2020-02-19T18:57:25.104202Z",
          "start_time": "2020-02-19T18:57:25.091237Z"
        },
        "hidden": true,
        "id": "3zOqBtcPWq3L"
      },
      "source": [
        "import random\n",
        "\n",
        "# Sample hyperparameter combinations for a random search\n",
        "combinations_random_chosen = random.sample(combinations_list, 150)"
      ],
      "execution_count": 163,
      "outputs": []
    },
    {
      "cell_type": "code",
      "metadata": {
        "ExecuteTime": {
          "end_time": "2020-02-19T18:57:25.119171Z",
          "start_time": "2020-02-19T18:57:25.106198Z"
        },
        "hidden": true,
        "id": "p0c-A9svWq3P",
        "outputId": "b736238d-41e0-48ed-aec0-1b9013fc9f45",
        "colab": {
          "base_uri": "https://localhost:8080/",
          "height": 1000
        }
      },
      "source": [
        "# Print the result\n",
        "combinations_random_chosen"
      ],
      "execution_count": 164,
      "outputs": [
        {
          "output_type": "execute_result",
          "data": {
            "text/plain": [
              "[['gini', None, 15],\n",
              " ['entropy', 'log2', 55],\n",
              " ['gini', 'auto', 27],\n",
              " ['entropy', 'sqrt', 50],\n",
              " ['gini', 'log2', 16],\n",
              " ['gini', 'sqrt', 53],\n",
              " ['gini', 'sqrt', 43],\n",
              " ['gini', 'auto', 45],\n",
              " ['entropy', None, 8],\n",
              " ['entropy', 'auto', 44],\n",
              " ['gini', 'sqrt', 54],\n",
              " ['entropy', 'auto', 28],\n",
              " ['gini', 'auto', 55],\n",
              " ['gini', 'sqrt', 26],\n",
              " ['gini', 'auto', 10],\n",
              " ['entropy', None, 42],\n",
              " ['entropy', None, 49],\n",
              " ['entropy', 'auto', 51],\n",
              " ['entropy', 'auto', 33],\n",
              " ['gini', 'sqrt', 29],\n",
              " ['gini', None, 29],\n",
              " ['gini', 'log2', 46],\n",
              " ['entropy', None, 24],\n",
              " ['gini', None, 26],\n",
              " ['entropy', 'auto', 43],\n",
              " ['gini', 'sqrt', 45],\n",
              " ['gini', 'auto', 53],\n",
              " ['gini', None, 50],\n",
              " ['entropy', 'log2', 39],\n",
              " ['gini', 'auto', 13],\n",
              " ['gini', 'auto', 18],\n",
              " ['entropy', 'sqrt', 25],\n",
              " ['entropy', 'sqrt', 7],\n",
              " ['gini', 'auto', 12],\n",
              " ['gini', None, 8],\n",
              " ['gini', 'sqrt', 15],\n",
              " ['entropy', 'log2', 6],\n",
              " ['gini', 'log2', 29],\n",
              " ['gini', 'auto', 21],\n",
              " ['gini', None, 40],\n",
              " ['gini', 'log2', 37],\n",
              " ['gini', 'sqrt', 25],\n",
              " ['entropy', 'auto', 54],\n",
              " ['entropy', None, 53],\n",
              " ['entropy', None, 50],\n",
              " ['gini', 'auto', 30],\n",
              " ['entropy', None, 33],\n",
              " ['entropy', 'log2', 34],\n",
              " ['entropy', 'auto', 49],\n",
              " ['gini', 'sqrt', 41],\n",
              " ['entropy', None, 32],\n",
              " ['entropy', 'auto', 3],\n",
              " ['entropy', 'auto', 22],\n",
              " ['gini', 'auto', 5],\n",
              " ['entropy', 'sqrt', 39],\n",
              " ['entropy', 'sqrt', 35],\n",
              " ['gini', 'auto', 29],\n",
              " ['gini', 'log2', 5],\n",
              " ['entropy', None, 47],\n",
              " ['entropy', 'log2', 50],\n",
              " ['gini', 'log2', 38],\n",
              " ['gini', 'log2', 14],\n",
              " ['gini', 'sqrt', 8],\n",
              " ['entropy', 'auto', 30],\n",
              " ['entropy', 'auto', 15],\n",
              " ['gini', 'auto', 43],\n",
              " ['entropy', 'sqrt', 31],\n",
              " ['entropy', 'auto', 7],\n",
              " ['gini', 'auto', 24],\n",
              " ['gini', 'log2', 36],\n",
              " ['entropy', 'auto', 55],\n",
              " ['gini', 'auto', 39],\n",
              " ['gini', 'sqrt', 13],\n",
              " ['gini', None, 36],\n",
              " ['entropy', 'log2', 25],\n",
              " ['gini', None, 6],\n",
              " ['entropy', 'log2', 48],\n",
              " ['entropy', 'auto', 5],\n",
              " ['entropy', 'auto', 17],\n",
              " ['gini', 'auto', 14],\n",
              " ['entropy', 'log2', 3],\n",
              " ['entropy', 'log2', 43],\n",
              " ['gini', 'log2', 13],\n",
              " ['gini', None, 51],\n",
              " ['entropy', None, 12],\n",
              " ['entropy', 'auto', 27],\n",
              " ['gini', None, 46],\n",
              " ['entropy', 'log2', 4],\n",
              " ['gini', 'sqrt', 3],\n",
              " ['gini', 'sqrt', 28],\n",
              " ['gini', 'log2', 52],\n",
              " ['entropy', 'sqrt', 48],\n",
              " ['entropy', 'auto', 39],\n",
              " ['entropy', 'auto', 8],\n",
              " ['entropy', 'sqrt', 52],\n",
              " ['gini', 'sqrt', 10],\n",
              " ['entropy', 'log2', 19],\n",
              " ['entropy', None, 4],\n",
              " ['entropy', 'sqrt', 40],\n",
              " ['gini', None, 52],\n",
              " ['gini', 'log2', 4],\n",
              " ['entropy', None, 38],\n",
              " ['gini', 'sqrt', 50],\n",
              " ['gini', 'sqrt', 24],\n",
              " ['gini', None, 7],\n",
              " ['gini', None, 54],\n",
              " ['gini', 'sqrt', 48],\n",
              " ['gini', 'sqrt', 22],\n",
              " ['entropy', 'auto', 11],\n",
              " ['entropy', 'auto', 6],\n",
              " ['entropy', None, 39],\n",
              " ['gini', 'sqrt', 36],\n",
              " ['entropy', 'sqrt', 14],\n",
              " ['gini', 'sqrt', 19],\n",
              " ['entropy', None, 45],\n",
              " ['gini', 'log2', 26],\n",
              " ['gini', 'sqrt', 16],\n",
              " ['gini', None, 11],\n",
              " ['entropy', None, 5],\n",
              " ['entropy', 'sqrt', 16],\n",
              " ['gini', None, 48],\n",
              " ['gini', None, 20],\n",
              " ['entropy', 'log2', 15],\n",
              " ['gini', None, 9],\n",
              " ['gini', 'log2', 30],\n",
              " ['entropy', None, 46],\n",
              " ['gini', None, 49],\n",
              " ['gini', 'log2', 23],\n",
              " ['entropy', 'sqrt', 49],\n",
              " ['entropy', 'sqrt', 55],\n",
              " ['gini', 'log2', 7],\n",
              " ['gini', 'log2', 28],\n",
              " ['gini', 'auto', 11],\n",
              " ['gini', 'log2', 22],\n",
              " ['entropy', None, 10],\n",
              " ['gini', None, 10],\n",
              " ['gini', 'sqrt', 35],\n",
              " ['gini', 'sqrt', 30],\n",
              " ['gini', 'log2', 40],\n",
              " ['gini', None, 5],\n",
              " ['gini', None, 32],\n",
              " ['entropy', None, 51],\n",
              " ['gini', 'sqrt', 31],\n",
              " ['entropy', 'sqrt', 38],\n",
              " ['gini', 'auto', 9],\n",
              " ['entropy', 'sqrt', 46],\n",
              " ['entropy', 'auto', 24],\n",
              " ['entropy', None, 25],\n",
              " ['gini', 'auto', 50],\n",
              " ['entropy', 'sqrt', 5]]"
            ]
          },
          "metadata": {
            "tags": []
          },
          "execution_count": 164
        }
      ]
    },
    {
      "cell_type": "markdown",
      "metadata": {
        "heading_collapsed": true,
        "hidden": true,
        "id": "EQ3csZRtWq3Q"
      },
      "source": [
        "### Visualizing a Random Search"
      ]
    },
    {
      "cell_type": "markdown",
      "metadata": {
        "hidden": true,
        "id": "eE5oxo91Wq3Q"
      },
      "source": [
        "Visualizing the search space of random search allows us to easily see the coverage of this technique and therefore allows us to see the effect of our sampling on the search space."
      ]
    },
    {
      "cell_type": "markdown",
      "metadata": {
        "hidden": true,
        "id": "Cc4D2GvFWq3Q"
      },
      "source": [
        "In this example we will use several different samples of hyperparameter combinations and produce visualizations of the search space."
      ]
    },
    {
      "cell_type": "code",
      "metadata": {
        "ExecuteTime": {
          "end_time": "2020-02-19T18:57:25.135118Z",
          "start_time": "2020-02-19T18:57:25.121157Z"
        },
        "hidden": true,
        "id": "4IXDplD4Wq3R"
      },
      "source": [
        "def sample_hyperparameters(n_samples):\n",
        "    global combinations_random_chosen\n",
        "\n",
        "    if n_samples == len(combinations_list):\n",
        "        combinations_random_chosen = combinations_list\n",
        "        return\n",
        "\n",
        "    combinations_random_chosen = []\n",
        "    random_combinations_index = np.random.choice(range(0, len(combinations_list)), n_samples, replace=False)\n",
        "    combinations_random_chosen = [combinations_list[x] for x in random_combinations_index]\n",
        "    return"
      ],
      "execution_count": 165,
      "outputs": []
    },
    {
      "cell_type": "code",
      "metadata": {
        "ExecuteTime": {
          "end_time": "2020-02-19T18:57:25.151104Z",
          "start_time": "2020-02-19T18:57:25.138133Z"
        },
        "hidden": true,
        "id": "Du9gj0lJWq3S"
      },
      "source": [
        "def visualize_search():\n",
        "    rand_y, rand_x = [x[0] for x in combinations_random_chosen], [x[1] for x in combinations_random_chosen]\n",
        "\n",
        "    # Plot all together\n",
        "    plt.clf() \n",
        "    plt.scatter(rand_y, rand_x, c=['blue']*len(combinations_random_chosen))\n",
        "    plt.gca().set(xlabel='learn_rate', ylabel='min_samples_leaf', title='Random Search Hyperparameters')\n",
        "    plt.gca().set_xlim([0.01, 1.5])\n",
        "    plt.gca().set_ylim([10, 29])\n",
        "    plt.show()"
      ],
      "execution_count": 166,
      "outputs": []
    },
    {
      "cell_type": "code",
      "metadata": {
        "ExecuteTime": {
          "end_time": "2020-02-19T18:57:25.166044Z",
          "start_time": "2020-02-19T18:57:25.154070Z"
        },
        "hidden": true,
        "id": "5KtEjiR8Wq3U"
      },
      "source": [
        "# Create a list of values for the learning_rate hyperparameter\n",
        "learn_rate_list = list(np.linspace(0.01,1.5,200))"
      ],
      "execution_count": 167,
      "outputs": []
    },
    {
      "cell_type": "code",
      "metadata": {
        "ExecuteTime": {
          "end_time": "2020-02-19T18:57:25.181995Z",
          "start_time": "2020-02-19T18:57:25.169028Z"
        },
        "hidden": true,
        "id": "GRvlDNNpWq3V"
      },
      "source": [
        "# Create a list of values for the min_samples_leaf hyperparameter\n",
        "min_samples_list = list(range(10,41))"
      ],
      "execution_count": 168,
      "outputs": []
    },
    {
      "cell_type": "code",
      "metadata": {
        "ExecuteTime": {
          "end_time": "2020-02-19T18:57:25.197021Z",
          "start_time": "2020-02-19T18:57:25.183989Z"
        },
        "hidden": true,
        "id": "RMtg0BspWq3W"
      },
      "source": [
        "# Combination list\n",
        "combinations_list = [list(x) for x in product(learn_rate_list, min_samples_list)]"
      ],
      "execution_count": 169,
      "outputs": []
    },
    {
      "cell_type": "code",
      "metadata": {
        "ExecuteTime": {
          "end_time": "2020-02-19T18:57:25.212910Z",
          "start_time": "2020-02-19T18:57:25.198950Z"
        },
        "hidden": true,
        "id": "hgPtwZiaWq3Y",
        "outputId": "ac81c72a-a862-48e0-a49b-8072effb66bb",
        "colab": {
          "base_uri": "https://localhost:8080/",
          "height": 35
        }
      },
      "source": [
        "# Confirm how hyperparameter combinations & print\n",
        "number_combs = len(combinations_list)\n",
        "number_combs"
      ],
      "execution_count": 170,
      "outputs": [
        {
          "output_type": "execute_result",
          "data": {
            "text/plain": [
              "6200"
            ]
          },
          "metadata": {
            "tags": []
          },
          "execution_count": 170
        }
      ]
    },
    {
      "cell_type": "code",
      "metadata": {
        "ExecuteTime": {
          "end_time": "2020-02-19T18:57:26.235744Z",
          "start_time": "2020-02-19T18:57:25.214905Z"
        },
        "hidden": true,
        "id": "UCkYkRBzWq3Z",
        "outputId": "7f768f75-5ab4-4097-fb4f-1f40f7ce5d90",
        "colab": {
          "base_uri": "https://localhost:8080/",
          "height": 1000
        }
      },
      "source": [
        "# Sample and visualise combinations\n",
        "for x in [250, 1500, 5000]:\n",
        "    sample_hyperparameters(x)\n",
        "    visualize_search()"
      ],
      "execution_count": 171,
      "outputs": [
        {
          "output_type": "display_data",
          "data": {
            "image/png": "[encoded data removed]",
            "text/plain": [
              "<Figure size 1440x720 with 1 Axes>"
            ]
          },
          "metadata": {
            "tags": [],
            "needs_background": "light"
          }
        },
        {
          "output_type": "display_data",
          "data": {
            "image/png": "[encoded data removed]",
            "text/plain": [
              "<Figure size 1440x720 with 1 Axes>"
            ]
          },
          "metadata": {
            "tags": [],
            "needs_background": "light"
          }
        },
        {
          "output_type": "display_data",
          "data": {
            "image/png": "[encoded data removed]",
            "text/plain": [
              "<Figure size 1440x720 with 1 Axes>"
            ]
          },
          "metadata": {
            "tags": [],
            "needs_background": "light"
          }
        }
      ]
    },
    {
      "cell_type": "markdown",
      "metadata": {
        "hidden": true,
        "id": "27uytSxPWq3a"
      },
      "source": [
        "Notice how the bigger our sample space of a random search the more it looks like a grid search? In a later example we will look closer at comparing these two methods side by side."
      ]
    },
    {
      "cell_type": "markdown",
      "metadata": {
        "heading_collapsed": true,
        "id": "P2r_t81nWq3a"
      },
      "source": [
        "## Random Search in Scikit Learn"
      ]
    },
    {
      "cell_type": "markdown",
      "metadata": {
        "hidden": true,
        "id": "Q-D6LtYeWq3b"
      },
      "source": [
        "In this chapter we will be introduced to Scikit Learn's `RandomizedSearchCV` module.  Just like with `GridSearchCV`, it is a more efficient way of undertaking random search than doing it manually, and allows us to easily capture extra information on our training. \n",
        "\n",
        "Since we have already covered GridSearchCV, we don't need to learn a lot of new steps. Let's recall the steps for a Grid Search:\n",
        "\n",
        "1. Decide an algorithm to tune the hyperparameters for. (Sometimes called an estimator).\n",
        "2. Define which hyperparameters we will tune.\n",
        "3. Define a range of values for each hyperparameter.\n",
        "4. Set a cross-validation scheme.\n",
        "5. Define a scoring function so we can decide which grid square (model) was the best.\n",
        "6. Decide to include extra useful information or functions.\n",
        "\n",
        "There is only one difference when undertaking a random search:\n",
        "\n",
        "7. We need to decide how many hyperparameter combinations we will randomly sample to build models and then undertake this sampling before we model. \n",
        "\n",
        "And that's pretty much it!"
      ]
    },
    {
      "cell_type": "markdown",
      "metadata": {
        "hidden": true,
        "id": "91nztLcJWq3b"
      },
      "source": [
        "**Comparing Scikit Learn Modules**\n",
        "\n",
        "It is therefore not a surprise to see how similar the functions are between the two Scikit Learn modules. See them here side by side:\n",
        "\n",
        "![Grid vs Random](https://github.com/ML-Challenge/week5-preprocessing-and-tunning/blob/master/assets/2-18.png?raw=1)\n",
        "\n",
        "It may not be obvious what is different since there is far more the same than not! There is really only two key differences:\n",
        "\n",
        "* `n_iter`, which is the number of samples for the random search to take from our grid. In the previous example we did 300.\n",
        "* `param_distributions`, is slightly different from `aram_grid`. We can optionally give information on how to sample such as using a particular distribution we provide. If we just give a list as we have been doing, the default is to sample `'uniformly'` meaning every item in the list (combination) has equal chance of being chosen."
      ]
    },
    {
      "cell_type": "markdown",
      "metadata": {
        "hidden": true,
        "id": "JUhdRtbpWq3b"
      },
      "source": [
        "**Build a RandommizedCV Object**\n",
        "\n",
        "Now let's create a RandomSearchCV object, including the key changes we need to make. Creating a list of values and setting up the grid looks all very similar. \n",
        "\n",
        "```\n",
        "# Set up the sample space\n",
        "learn_rate_list = np.linspace(0.001, 2, 150)\n",
        "min_samples_leaf_list = list(range(1, 51))\n",
        "\n",
        "# Create the grid\n",
        "parameter_grid = {\n",
        "    'learning_rate': learning_rate_list,\n",
        "    'min_samples_leaf': min_samples_leaf_list}\n",
        "```\n",
        "\n",
        "We firstly create the lists of hyperparameter values using the `np.linspace()` and `range()` functions, then set up the dictionary grid of hyperparameter values. \n",
        "\n",
        "\n",
        "```\n",
        "# Define how many samples\n",
        "number_models = 10\n",
        "```\n",
        "\n",
        "The crucial small difference is at the end, defining how many samples to take. Now we create the random search object\n",
        "\n",
        "```\n",
        "# Create a random search object\n",
        "random_GBM_class = RandomizedSearchCV(\n",
        "    estimator = GradientBoostingClassifier(),\n",
        "    param_distributions = paramter_grid,\n",
        "    n_iter = number_models,\n",
        "    scoring = 'accuracy',\n",
        "    n_jobs = 4,\n",
        "    cv = 10,\n",
        "    refit = True,\n",
        "    return_train_score = True)\n",
        "    \n",
        "# Fit the object to our data\n",
        "random+GBM_class.fit(X_train, y_train)\n",
        "```\n",
        "\n",
        "Note the slightly different name for the parameter grid, which is now called `'param_distributions'` as well as our new `n_iter` input for how many combinations to select and train models with. \n",
        "\n",
        "The attributes that form the output of RandomizedSearchCV are *exactly* the same as the GridSearchCV module However it would be interesting to see what numbers it sampled. We can visualize using the code from the previous chapter but where do we get details on the hyperparameters used?\n",
        "\n",
        "It is found in the `cv_results_` dictionary that was returned and in the relevant `param_` columns. \n",
        "\n",
        "Let's extract the `learning_rate` and `min_samples_leaf` used, to plot them:\n",
        "\n",
        "```\n",
        "rand_x = list(random_GBM_class.cv_results['param_learning_rate'])\n",
        "rand_y = list(random_GBM_class.cv_results['param_min_samples_leaf'])\n",
        "```\n",
        "\n",
        "Now we can plot our results. \n",
        "\n",
        "We set the x and y limits using NumPy's min and max functions over our list of hyperparameter values so that we can best see the coverage. \n",
        "\n",
        "```\n",
        "# Make sure we set the limits of Y and X appropriately\n",
        "x_lims = [np.min(learn_rate_list], np.max(learn_rate_list)]\n",
        "y_lims = [np.min(mins_samples_leaf_list], np.max(mins_samples_leaf_list)]\n",
        "```\n",
        "\n",
        "Then we plot these combinations as a scatter plot.\n",
        "\n",
        "```\n",
        "# Plot grid results\n",
        "plt.scatter(rand_y, rand_x, c=['blue']*10)\n",
        "plt.gca().set(xlabel='learn rate', ylabel='min_samples_leaf', title='Random Search Hyperparameters')\n",
        "plt.gca().set_xlim(x_lims)\n",
        "plt.gca().set_ylim(y_lims)\n",
        "plt.show()\n",
        "```\n",
        "\n",
        "For computational efficiency we only ran 10 models this time. Else it would take a while! \n",
        "\n",
        "\n",
        "![Random plot](https://github.com/ML-Challenge/week5-preprocessing-and-tunning/blob/master/assets/2-7.png?raw=1)\n",
        "\n",
        "\n",
        "We will notice this is plot looks very similar to what plotted before as hyperparameter combinations without actually undertaking the model creation. Now we actually ran one, it looks very similar. Random search has a wide coverage of area for possible hyperparameters but it is a very pachy coverage."
      ]
    },
    {
      "cell_type": "markdown",
      "metadata": {
        "heading_collapsed": true,
        "hidden": true,
        "id": "w6CDoQU8Wq3b"
      },
      "source": [
        "### The RandomizedSeachCV Class"
      ]
    },
    {
      "cell_type": "markdown",
      "metadata": {
        "hidden": true,
        "id": "MQ-j7hD0Wq3b"
      },
      "source": [
        "Just like the `GridSearchCV` library from Scikit Learn, `RandomizedSearchCV` provides many useful features to assist with efficiently undertaking a random search. We're going to create a `RandomizedSearchCV` object, making the small adjustment needed from the `GridSearchCV` object."
      ]
    },
    {
      "cell_type": "markdown",
      "metadata": {
        "hidden": true,
        "id": "QLK6RqXIWq3c"
      },
      "source": [
        "The desired options are:\n",
        "\n",
        "* A default Gradient Boosting Classifier Estimator\n",
        "* 5-fold cross validation\n",
        "* Use accuracy to score the models\n",
        "* Use 4 cores for processing in parallel\n",
        "* Ensure we refit the best model and return training scores\n",
        "* Randomly sample 10 models"
      ]
    },
    {
      "cell_type": "markdown",
      "metadata": {
        "hidden": true,
        "id": "CilnhKo-Wq3c"
      },
      "source": [
        "The hyperparameter grid should be for `learning_rate` (150 values between 0.1 and 2) and `min_samples_leaf` (all values between 20 and 65)."
      ]
    },
    {
      "cell_type": "code",
      "metadata": {
        "ExecuteTime": {
          "end_time": "2020-02-19T18:57:26.250704Z",
          "start_time": "2020-02-19T18:57:26.237740Z"
        },
        "hidden": true,
        "id": "aVu5fgpyWq3c"
      },
      "source": [
        "# Create the parameter grid\n",
        "param_grid = {'learning_rate': np.linspace(0.1, 2, 150), 'min_samples_leaf': list(range(20, 65))} "
      ],
      "execution_count": 172,
      "outputs": []
    },
    {
      "cell_type": "code",
      "metadata": {
        "ExecuteTime": {
          "end_time": "2020-02-19T18:57:26.266685Z",
          "start_time": "2020-02-19T18:57:26.253695Z"
        },
        "hidden": true,
        "id": "I-PFd-0WWq3d"
      },
      "source": [
        "from sklearn.model_selection import RandomizedSearchCV\n",
        "\n",
        "# Create a random search object\n",
        "random_GBM_class = RandomizedSearchCV(\n",
        "    estimator = GradientBoostingClassifier(random_state=42),\n",
        "    param_distributions = param_grid,\n",
        "    n_iter = 10,\n",
        "    scoring='accuracy', n_jobs=4, cv = 5, refit=True, return_train_score = True)"
      ],
      "execution_count": 173,
      "outputs": []
    },
    {
      "cell_type": "code",
      "metadata": {
        "ExecuteTime": {
          "end_time": "2020-02-19T18:58:53.916148Z",
          "start_time": "2020-02-19T18:57:26.268660Z"
        },
        "hidden": true,
        "id": "M6jd5-EYWq3e",
        "outputId": "028cf415-949e-4831-d39a-355759e40853",
        "colab": {
          "base_uri": "https://localhost:8080/",
          "height": 508
        }
      },
      "source": [
        "# Fit to the training data\n",
        "random_GBM_class.fit(X_train, y_train)"
      ],
      "execution_count": 174,
      "outputs": [
        {
          "output_type": "execute_result",
          "data": {
            "text/plain": [
              "RandomizedSearchCV(cv=5, error_score=nan,\n",
              "                   estimator=GradientBoostingClassifier(ccp_alpha=0.0,\n",
              "                                                        criterion='friedman_mse',\n",
              "                                                        init=None,\n",
              "                                                        learning_rate=0.1,\n",
              "                                                        loss='deviance',\n",
              "                                                        max_depth=3,\n",
              "                                                        max_features=None,\n",
              "                                                        max_leaf_nodes=None,\n",
              "                                                        min_impurity_decrease=0.0,\n",
              "                                                        min_impurity_split=None,\n",
              "                                                        min_samples_leaf=1,\n",
              "                                                        min_samples_split=2,\n",
              "                                                        min_weight_fraction_leaf=0.0,\n",
              "                                                        n_estimators=100,\n",
              "                                                        n_ite...\n",
              "       1.82147651, 1.83422819, 1.84697987, 1.85973154, 1.87248322,\n",
              "       1.8852349 , 1.89798658, 1.91073826, 1.92348993, 1.93624161,\n",
              "       1.94899329, 1.96174497, 1.97449664, 1.98724832, 2.        ]),\n",
              "                                        'min_samples_leaf': [20, 21, 22, 23, 24,\n",
              "                                                             25, 26, 27, 28, 29,\n",
              "                                                             30, 31, 32, 33, 34,\n",
              "                                                             35, 36, 37, 38, 39,\n",
              "                                                             40, 41, 42, 43, 44,\n",
              "                                                             45, 46, 47, 48, 49, ...]},\n",
              "                   pre_dispatch='2*n_jobs', random_state=None, refit=True,\n",
              "                   return_train_score=True, scoring='accuracy', verbose=0)"
            ]
          },
          "metadata": {
            "tags": []
          },
          "execution_count": 174
        }
      ]
    },
    {
      "cell_type": "code",
      "metadata": {
        "ExecuteTime": {
          "end_time": "2020-02-19T18:58:53.931109Z",
          "start_time": "2020-02-19T18:58:53.918141Z"
        },
        "hidden": true,
        "id": "HV5kDs62Wq3h",
        "outputId": "2f5eb3e3-a457-4995-dc03-b20574aa8b9a",
        "colab": {
          "base_uri": "https://localhost:8080/",
          "height": 108
        }
      },
      "source": [
        "# Print the values used for both hyperparameters\n",
        "print(random_GBM_class.cv_results_['param_learning_rate'])\n",
        "print(random_GBM_class.cv_results_['param_min_samples_leaf'])"
      ],
      "execution_count": 175,
      "outputs": [
        {
          "output_type": "stream",
          "text": [
            "[0.8523489932885906 1.923489932885906 1.6174496644295302\n",
            " 0.9926174496644294 0.5335570469798657 0.32953020134228184\n",
            " 0.8140939597315436 1.5409395973154363 1.2476510067114095\n",
            " 1.1456375838926176]\n",
            "[42 45 48 39 31 49 41 25 48 50]\n"
          ],
          "name": "stdout"
        }
      ]
    },
    {
      "cell_type": "markdown",
      "metadata": {
        "heading_collapsed": true,
        "hidden": true,
        "id": "qmGOixzcWq3i"
      },
      "source": [
        "### RandomSearchCV in Scikit Learn"
      ]
    },
    {
      "cell_type": "markdown",
      "metadata": {
        "hidden": true,
        "id": "RGg7HJNiWq3j"
      },
      "source": [
        "Let's practice building a RandomizedSearchCV object using Scikit Learn."
      ]
    },
    {
      "cell_type": "markdown",
      "metadata": {
        "hidden": true,
        "id": "S6R7U0gWWq3j"
      },
      "source": [
        "The desired options are:\n",
        "\n",
        "* A RandomForestClassifier Estimator with default 80 estimators\n",
        "* 3-fold cross validation\n",
        "* Use AUC to score the models\n",
        "* Use 4 cores for processing in parallel\n",
        "* Ensure we refit the best model and return training scores\n",
        "* Randomly sample 5 models for processing efficiency"
      ]
    },
    {
      "cell_type": "markdown",
      "metadata": {
        "hidden": true,
        "id": "KjfROvYJWq3j"
      },
      "source": [
        "The hyperparameter grid should be for `max_depth` (all values between and including 5 and 25) and `max_features` ('auto' and 'sqrt')."
      ]
    },
    {
      "cell_type": "code",
      "metadata": {
        "ExecuteTime": {
          "end_time": "2020-02-19T18:58:53.946068Z",
          "start_time": "2020-02-19T18:58:53.935099Z"
        },
        "hidden": true,
        "id": "F0BygxHrWq3k"
      },
      "source": [
        "# Create the parameter grid\n",
        "param_grid = {'max_depth': list(range(5,26)), 'max_features': ['auto' , 'sqrt']} "
      ],
      "execution_count": 176,
      "outputs": []
    },
    {
      "cell_type": "code",
      "metadata": {
        "ExecuteTime": {
          "end_time": "2020-02-19T18:58:53.961029Z",
          "start_time": "2020-02-19T18:58:53.948064Z"
        },
        "hidden": true,
        "id": "7te6iSaVWq3m"
      },
      "source": [
        "# Create a random search object\n",
        "random_rf_class = RandomizedSearchCV(\n",
        "    estimator = RandomForestClassifier(n_estimators=80, random_state=42),\n",
        "    param_distributions = param_grid, n_iter = 5,\n",
        "    scoring='roc_auc', n_jobs=4, cv = 3, refit=True, return_train_score = True)"
      ],
      "execution_count": 177,
      "outputs": []
    },
    {
      "cell_type": "code",
      "metadata": {
        "ExecuteTime": {
          "end_time": "2020-02-19T18:59:07.407804Z",
          "start_time": "2020-02-19T18:58:53.963024Z"
        },
        "hidden": true,
        "id": "OqKxGPquWq3p",
        "outputId": "9bb82296-841b-4f90-9b99-bcbb2eaec6b7",
        "colab": {
          "base_uri": "https://localhost:8080/",
          "height": 508
        }
      },
      "source": [
        "# Fit to the training data\n",
        "random_rf_class.fit(X_train, y_train)"
      ],
      "execution_count": 178,
      "outputs": [
        {
          "output_type": "execute_result",
          "data": {
            "text/plain": [
              "RandomizedSearchCV(cv=3, error_score=nan,\n",
              "                   estimator=RandomForestClassifier(bootstrap=True,\n",
              "                                                    ccp_alpha=0.0,\n",
              "                                                    class_weight=None,\n",
              "                                                    criterion='gini',\n",
              "                                                    max_depth=None,\n",
              "                                                    max_features='auto',\n",
              "                                                    max_leaf_nodes=None,\n",
              "                                                    max_samples=None,\n",
              "                                                    min_impurity_decrease=0.0,\n",
              "                                                    min_impurity_split=None,\n",
              "                                                    min_samples_leaf=1,\n",
              "                                                    min_samples_split=2,\n",
              "                                                    min_weight_fraction_leaf=0.0,\n",
              "                                                    n_estimators=80,\n",
              "                                                    n_jobs=None,\n",
              "                                                    oob_score=False,\n",
              "                                                    random_state=42, verbose=0,\n",
              "                                                    warm_start=False),\n",
              "                   iid='deprecated', n_iter=5, n_jobs=4,\n",
              "                   param_distributions={'max_depth': [5, 6, 7, 8, 9, 10, 11, 12,\n",
              "                                                      13, 14, 15, 16, 17, 18,\n",
              "                                                      19, 20, 21, 22, 23, 24,\n",
              "                                                      25],\n",
              "                                        'max_features': ['auto', 'sqrt']},\n",
              "                   pre_dispatch='2*n_jobs', random_state=None, refit=True,\n",
              "                   return_train_score=True, scoring='roc_auc', verbose=0)"
            ]
          },
          "metadata": {
            "tags": []
          },
          "execution_count": 178
        }
      ]
    },
    {
      "cell_type": "code",
      "metadata": {
        "ExecuteTime": {
          "end_time": "2020-02-19T18:59:07.423278Z",
          "start_time": "2020-02-19T18:59:07.409795Z"
        },
        "hidden": true,
        "id": "Zarn0jmFWq3r",
        "outputId": "197ee8ee-164a-43b5-f676-4da5af557494",
        "colab": {
          "base_uri": "https://localhost:8080/",
          "height": 54
        }
      },
      "source": [
        "# Print the values used for both hyperparameters\n",
        "print(random_rf_class.cv_results_['param_max_depth'])\n",
        "print(random_rf_class.cv_results_['param_max_features'])"
      ],
      "execution_count": 179,
      "outputs": [
        {
          "output_type": "stream",
          "text": [
            "[23 24 24 22 19]\n",
            "['sqrt' 'sqrt' 'auto' 'auto' 'auto']\n"
          ],
          "name": "stdout"
        }
      ]
    },
    {
      "cell_type": "markdown",
      "metadata": {
        "id": "Jr50eKZCWq3s"
      },
      "source": [
        "## Comparing Grid and Random Search"
      ]
    },
    {
      "cell_type": "markdown",
      "metadata": {
        "id": "uULHxiikWq3t"
      },
      "source": [
        "In the previous chapters we looked at both Grid and Random search in depth. So, it is a good idea to stop and reinforce our knowledge on these two valuable techniques.\n",
        "\n",
        "There are a number of similarities for these techniques:\n",
        "\n",
        "* Both are automated ways of tuning different hyperparameters.\n",
        "* For both we set the grid to sample from (which hyperparameters and values for each).\n",
        "* For both we need to think carefully about which hyperparameters and values to sample from as our model will only be as good as the grid we set!\n",
        "* And for both we set a cross-validation scheme and scoring function.\n",
        "\n",
        "There are also some key differences between these two techniques:\n",
        "\n",
        "| Grid Search | Random Search |\n",
        "| ----------- | ------------- |\n",
        "| Exhaustively tries all the combinations within<br> the sample space | Randomly selects a subset combinations<br> within the sample space (that we must specify) |\n",
        "| No sampling methodology | Can select a sampling methodology (other<br> than `uniform` which is default |\n",
        "| More computationally expensive | Less computationally expensive |\n",
        "| Guaranteed to find the best score in the sample space | Not guaranteed to find the best score in<br> the sample space (but likely to find a *good* one *faster* |\n",
        "\n",
        "**So which technique should we use?**\n",
        "\n",
        "As we often say in data science - 'It depends'. However there are some things we can consider. \n",
        "\n",
        "* Firstly, the more data we have, the stronger the argument for random search.\n",
        "* More hyperparameters and values to try also means random search might be a better option. \n",
        "* Additionally if we don't have a lot of time or computing power, random search will be more economical. Remember, random search has more chance of getting a good result faster, even if not the absolute best.\n",
        "\n",
        "Let's do some examples to illustrate the differences between grid and random search visually and conceptually."
      ]
    },
    {
      "cell_type": "markdown",
      "metadata": {
        "heading_collapsed": true,
        "id": "sS-VIuqSWq3t"
      },
      "source": [
        "### Grid and Random Search Side by Side"
      ]
    },
    {
      "cell_type": "markdown",
      "metadata": {
        "hidden": true,
        "id": "mdwI2PWoWq3t"
      },
      "source": [
        "Visualizing the search space of random and grid search together allows us to easily see the coverage that each technique has and therefore brings to life their specific advantages and disadvantages."
      ]
    },
    {
      "cell_type": "markdown",
      "metadata": {
        "hidden": true,
        "id": "ej7g-nqRWq3t"
      },
      "source": [
        "In this example, we will sample hyperparameter combinations in a grid search way as well as a random search way, then plot these to see the difference."
      ]
    },
    {
      "cell_type": "code",
      "metadata": {
        "ExecuteTime": {
          "end_time": "2020-02-19T18:59:07.439259Z",
          "start_time": "2020-02-19T18:59:07.426271Z"
        },
        "hidden": true,
        "id": "PTeO7ZgKWq3t"
      },
      "source": [
        "# Sample grid coordinates\n",
        "grid_combinations_chosen = combinations_list[0:300]"
      ],
      "execution_count": 180,
      "outputs": []
    },
    {
      "cell_type": "code",
      "metadata": {
        "ExecuteTime": {
          "end_time": "2020-02-19T18:59:07.471182Z",
          "start_time": "2020-02-19T18:59:07.442226Z"
        },
        "hidden": true,
        "id": "ohd8Qq5AWq3v",
        "outputId": "f7c83ef1-9fd0-4051-93cc-9e9bd1e3587f",
        "colab": {
          "base_uri": "https://localhost:8080/",
          "height": 1000
        }
      },
      "source": [
        "# Print result\n",
        "grid_combinations_chosen"
      ],
      "execution_count": 181,
      "outputs": [
        {
          "output_type": "execute_result",
          "data": {
            "text/plain": [
              "[[0.01, 10],\n",
              " [0.01, 11],\n",
              " [0.01, 12],\n",
              " [0.01, 13],\n",
              " [0.01, 14],\n",
              " [0.01, 15],\n",
              " [0.01, 16],\n",
              " [0.01, 17],\n",
              " [0.01, 18],\n",
              " [0.01, 19],\n",
              " [0.01, 20],\n",
              " [0.01, 21],\n",
              " [0.01, 22],\n",
              " [0.01, 23],\n",
              " [0.01, 24],\n",
              " [0.01, 25],\n",
              " [0.01, 26],\n",
              " [0.01, 27],\n",
              " [0.01, 28],\n",
              " [0.01, 29],\n",
              " [0.01, 30],\n",
              " [0.01, 31],\n",
              " [0.01, 32],\n",
              " [0.01, 33],\n",
              " [0.01, 34],\n",
              " [0.01, 35],\n",
              " [0.01, 36],\n",
              " [0.01, 37],\n",
              " [0.01, 38],\n",
              " [0.01, 39],\n",
              " [0.01, 40],\n",
              " [0.017487437185929648, 10],\n",
              " [0.017487437185929648, 11],\n",
              " [0.017487437185929648, 12],\n",
              " [0.017487437185929648, 13],\n",
              " [0.017487437185929648, 14],\n",
              " [0.017487437185929648, 15],\n",
              " [0.017487437185929648, 16],\n",
              " [0.017487437185929648, 17],\n",
              " [0.017487437185929648, 18],\n",
              " [0.017487437185929648, 19],\n",
              " [0.017487437185929648, 20],\n",
              " [0.017487437185929648, 21],\n",
              " [0.017487437185929648, 22],\n",
              " [0.017487437185929648, 23],\n",
              " [0.017487437185929648, 24],\n",
              " [0.017487437185929648, 25],\n",
              " [0.017487437185929648, 26],\n",
              " [0.017487437185929648, 27],\n",
              " [0.017487437185929648, 28],\n",
              " [0.017487437185929648, 29],\n",
              " [0.017487437185929648, 30],\n",
              " [0.017487437185929648, 31],\n",
              " [0.017487437185929648, 32],\n",
              " [0.017487437185929648, 33],\n",
              " [0.017487437185929648, 34],\n",
              " [0.017487437185929648, 35],\n",
              " [0.017487437185929648, 36],\n",
              " [0.017487437185929648, 37],\n",
              " [0.017487437185929648, 38],\n",
              " [0.017487437185929648, 39],\n",
              " [0.017487437185929648, 40],\n",
              " [0.024974874371859294, 10],\n",
              " [0.024974874371859294, 11],\n",
              " [0.024974874371859294, 12],\n",
              " [0.024974874371859294, 13],\n",
              " [0.024974874371859294, 14],\n",
              " [0.024974874371859294, 15],\n",
              " [0.024974874371859294, 16],\n",
              " [0.024974874371859294, 17],\n",
              " [0.024974874371859294, 18],\n",
              " [0.024974874371859294, 19],\n",
              " [0.024974874371859294, 20],\n",
              " [0.024974874371859294, 21],\n",
              " [0.024974874371859294, 22],\n",
              " [0.024974874371859294, 23],\n",
              " [0.024974874371859294, 24],\n",
              " [0.024974874371859294, 25],\n",
              " [0.024974874371859294, 26],\n",
              " [0.024974874371859294, 27],\n",
              " [0.024974874371859294, 28],\n",
              " [0.024974874371859294, 29],\n",
              " [0.024974874371859294, 30],\n",
              " [0.024974874371859294, 31],\n",
              " [0.024974874371859294, 32],\n",
              " [0.024974874371859294, 33],\n",
              " [0.024974874371859294, 34],\n",
              " [0.024974874371859294, 35],\n",
              " [0.024974874371859294, 36],\n",
              " [0.024974874371859294, 37],\n",
              " [0.024974874371859294, 38],\n",
              " [0.024974874371859294, 39],\n",
              " [0.024974874371859294, 40],\n",
              " [0.03246231155778895, 10],\n",
              " [0.03246231155778895, 11],\n",
              " [0.03246231155778895, 12],\n",
              " [0.03246231155778895, 13],\n",
              " [0.03246231155778895, 14],\n",
              " [0.03246231155778895, 15],\n",
              " [0.03246231155778895, 16],\n",
              " [0.03246231155778895, 17],\n",
              " [0.03246231155778895, 18],\n",
              " [0.03246231155778895, 19],\n",
              " [0.03246231155778895, 20],\n",
              " [0.03246231155778895, 21],\n",
              " [0.03246231155778895, 22],\n",
              " [0.03246231155778895, 23],\n",
              " [0.03246231155778895, 24],\n",
              " [0.03246231155778895, 25],\n",
              " [0.03246231155778895, 26],\n",
              " [0.03246231155778895, 27],\n",
              " [0.03246231155778895, 28],\n",
              " [0.03246231155778895, 29],\n",
              " [0.03246231155778895, 30],\n",
              " [0.03246231155778895, 31],\n",
              " [0.03246231155778895, 32],\n",
              " [0.03246231155778895, 33],\n",
              " [0.03246231155778895, 34],\n",
              " [0.03246231155778895, 35],\n",
              " [0.03246231155778895, 36],\n",
              " [0.03246231155778895, 37],\n",
              " [0.03246231155778895, 38],\n",
              " [0.03246231155778895, 39],\n",
              " [0.03246231155778895, 40],\n",
              " [0.039949748743718594, 10],\n",
              " [0.039949748743718594, 11],\n",
              " [0.039949748743718594, 12],\n",
              " [0.039949748743718594, 13],\n",
              " [0.039949748743718594, 14],\n",
              " [0.039949748743718594, 15],\n",
              " [0.039949748743718594, 16],\n",
              " [0.039949748743718594, 17],\n",
              " [0.039949748743718594, 18],\n",
              " [0.039949748743718594, 19],\n",
              " [0.039949748743718594, 20],\n",
              " [0.039949748743718594, 21],\n",
              " [0.039949748743718594, 22],\n",
              " [0.039949748743718594, 23],\n",
              " [0.039949748743718594, 24],\n",
              " [0.039949748743718594, 25],\n",
              " [0.039949748743718594, 26],\n",
              " [0.039949748743718594, 27],\n",
              " [0.039949748743718594, 28],\n",
              " [0.039949748743718594, 29],\n",
              " [0.039949748743718594, 30],\n",
              " [0.039949748743718594, 31],\n",
              " [0.039949748743718594, 32],\n",
              " [0.039949748743718594, 33],\n",
              " [0.039949748743718594, 34],\n",
              " [0.039949748743718594, 35],\n",
              " [0.039949748743718594, 36],\n",
              " [0.039949748743718594, 37],\n",
              " [0.039949748743718594, 38],\n",
              " [0.039949748743718594, 39],\n",
              " [0.039949748743718594, 40],\n",
              " [0.04743718592964824, 10],\n",
              " [0.04743718592964824, 11],\n",
              " [0.04743718592964824, 12],\n",
              " [0.04743718592964824, 13],\n",
              " [0.04743718592964824, 14],\n",
              " [0.04743718592964824, 15],\n",
              " [0.04743718592964824, 16],\n",
              " [0.04743718592964824, 17],\n",
              " [0.04743718592964824, 18],\n",
              " [0.04743718592964824, 19],\n",
              " [0.04743718592964824, 20],\n",
              " [0.04743718592964824, 21],\n",
              " [0.04743718592964824, 22],\n",
              " [0.04743718592964824, 23],\n",
              " [0.04743718592964824, 24],\n",
              " [0.04743718592964824, 25],\n",
              " [0.04743718592964824, 26],\n",
              " [0.04743718592964824, 27],\n",
              " [0.04743718592964824, 28],\n",
              " [0.04743718592964824, 29],\n",
              " [0.04743718592964824, 30],\n",
              " [0.04743718592964824, 31],\n",
              " [0.04743718592964824, 32],\n",
              " [0.04743718592964824, 33],\n",
              " [0.04743718592964824, 34],\n",
              " [0.04743718592964824, 35],\n",
              " [0.04743718592964824, 36],\n",
              " [0.04743718592964824, 37],\n",
              " [0.04743718592964824, 38],\n",
              " [0.04743718592964824, 39],\n",
              " [0.04743718592964824, 40],\n",
              " [0.05492462311557789, 10],\n",
              " [0.05492462311557789, 11],\n",
              " [0.05492462311557789, 12],\n",
              " [0.05492462311557789, 13],\n",
              " [0.05492462311557789, 14],\n",
              " [0.05492462311557789, 15],\n",
              " [0.05492462311557789, 16],\n",
              " [0.05492462311557789, 17],\n",
              " [0.05492462311557789, 18],\n",
              " [0.05492462311557789, 19],\n",
              " [0.05492462311557789, 20],\n",
              " [0.05492462311557789, 21],\n",
              " [0.05492462311557789, 22],\n",
              " [0.05492462311557789, 23],\n",
              " [0.05492462311557789, 24],\n",
              " [0.05492462311557789, 25],\n",
              " [0.05492462311557789, 26],\n",
              " [0.05492462311557789, 27],\n",
              " [0.05492462311557789, 28],\n",
              " [0.05492462311557789, 29],\n",
              " [0.05492462311557789, 30],\n",
              " [0.05492462311557789, 31],\n",
              " [0.05492462311557789, 32],\n",
              " [0.05492462311557789, 33],\n",
              " [0.05492462311557789, 34],\n",
              " [0.05492462311557789, 35],\n",
              " [0.05492462311557789, 36],\n",
              " [0.05492462311557789, 37],\n",
              " [0.05492462311557789, 38],\n",
              " [0.05492462311557789, 39],\n",
              " [0.05492462311557789, 40],\n",
              " [0.06241206030150754, 10],\n",
              " [0.06241206030150754, 11],\n",
              " [0.06241206030150754, 12],\n",
              " [0.06241206030150754, 13],\n",
              " [0.06241206030150754, 14],\n",
              " [0.06241206030150754, 15],\n",
              " [0.06241206030150754, 16],\n",
              " [0.06241206030150754, 17],\n",
              " [0.06241206030150754, 18],\n",
              " [0.06241206030150754, 19],\n",
              " [0.06241206030150754, 20],\n",
              " [0.06241206030150754, 21],\n",
              " [0.06241206030150754, 22],\n",
              " [0.06241206030150754, 23],\n",
              " [0.06241206030150754, 24],\n",
              " [0.06241206030150754, 25],\n",
              " [0.06241206030150754, 26],\n",
              " [0.06241206030150754, 27],\n",
              " [0.06241206030150754, 28],\n",
              " [0.06241206030150754, 29],\n",
              " [0.06241206030150754, 30],\n",
              " [0.06241206030150754, 31],\n",
              " [0.06241206030150754, 32],\n",
              " [0.06241206030150754, 33],\n",
              " [0.06241206030150754, 34],\n",
              " [0.06241206030150754, 35],\n",
              " [0.06241206030150754, 36],\n",
              " [0.06241206030150754, 37],\n",
              " [0.06241206030150754, 38],\n",
              " [0.06241206030150754, 39],\n",
              " [0.06241206030150754, 40],\n",
              " [0.06989949748743718, 10],\n",
              " [0.06989949748743718, 11],\n",
              " [0.06989949748743718, 12],\n",
              " [0.06989949748743718, 13],\n",
              " [0.06989949748743718, 14],\n",
              " [0.06989949748743718, 15],\n",
              " [0.06989949748743718, 16],\n",
              " [0.06989949748743718, 17],\n",
              " [0.06989949748743718, 18],\n",
              " [0.06989949748743718, 19],\n",
              " [0.06989949748743718, 20],\n",
              " [0.06989949748743718, 21],\n",
              " [0.06989949748743718, 22],\n",
              " [0.06989949748743718, 23],\n",
              " [0.06989949748743718, 24],\n",
              " [0.06989949748743718, 25],\n",
              " [0.06989949748743718, 26],\n",
              " [0.06989949748743718, 27],\n",
              " [0.06989949748743718, 28],\n",
              " [0.06989949748743718, 29],\n",
              " [0.06989949748743718, 30],\n",
              " [0.06989949748743718, 31],\n",
              " [0.06989949748743718, 32],\n",
              " [0.06989949748743718, 33],\n",
              " [0.06989949748743718, 34],\n",
              " [0.06989949748743718, 35],\n",
              " [0.06989949748743718, 36],\n",
              " [0.06989949748743718, 37],\n",
              " [0.06989949748743718, 38],\n",
              " [0.06989949748743718, 39],\n",
              " [0.06989949748743718, 40],\n",
              " [0.07738693467336683, 10],\n",
              " [0.07738693467336683, 11],\n",
              " [0.07738693467336683, 12],\n",
              " [0.07738693467336683, 13],\n",
              " [0.07738693467336683, 14],\n",
              " [0.07738693467336683, 15],\n",
              " [0.07738693467336683, 16],\n",
              " [0.07738693467336683, 17],\n",
              " [0.07738693467336683, 18],\n",
              " [0.07738693467336683, 19],\n",
              " [0.07738693467336683, 20],\n",
              " [0.07738693467336683, 21],\n",
              " [0.07738693467336683, 22],\n",
              " [0.07738693467336683, 23],\n",
              " [0.07738693467336683, 24],\n",
              " [0.07738693467336683, 25],\n",
              " [0.07738693467336683, 26],\n",
              " [0.07738693467336683, 27],\n",
              " [0.07738693467336683, 28],\n",
              " [0.07738693467336683, 29],\n",
              " [0.07738693467336683, 30]]"
            ]
          },
          "metadata": {
            "tags": []
          },
          "execution_count": 181
        }
      ]
    },
    {
      "cell_type": "code",
      "metadata": {
        "ExecuteTime": {
          "end_time": "2020-02-19T18:59:07.487147Z",
          "start_time": "2020-02-19T18:59:07.473176Z"
        },
        "hidden": true,
        "id": "ZJCzHPBKWq3w"
      },
      "source": [
        "# Create a list of sample indexes\n",
        "sample_indexes = list(range(0,len(combinations_list)))"
      ],
      "execution_count": 182,
      "outputs": []
    },
    {
      "cell_type": "code",
      "metadata": {
        "ExecuteTime": {
          "end_time": "2020-02-19T18:59:07.502067Z",
          "start_time": "2020-02-19T18:59:07.490100Z"
        },
        "hidden": true,
        "id": "9zmeFMwPWq3x"
      },
      "source": [
        "# Randomly sample 300 indexes\n",
        "random_indexes = np.random.choice(sample_indexes, 300, replace=False)"
      ],
      "execution_count": 183,
      "outputs": []
    },
    {
      "cell_type": "code",
      "metadata": {
        "ExecuteTime": {
          "end_time": "2020-02-19T18:59:07.517025Z",
          "start_time": "2020-02-19T18:59:07.504061Z"
        },
        "hidden": true,
        "id": "qd1Ux7DNWq3y"
      },
      "source": [
        "# Use indexes to create random sample\n",
        "random_combinations_chosen = [combinations_list[index] for index in random_indexes]"
      ],
      "execution_count": 184,
      "outputs": []
    },
    {
      "cell_type": "code",
      "metadata": {
        "ExecuteTime": {
          "end_time": "2020-02-19T18:59:07.533009Z",
          "start_time": "2020-02-19T18:59:07.520033Z"
        },
        "hidden": true,
        "id": "b0Fj1kfQWq3z"
      },
      "source": [
        "def visualize_search(grid_combinations_chosen, random_combinations_chosen):\n",
        "    grid_y, grid_x = [x[0] for x in grid_combinations_chosen], [x[1] for x in grid_combinations_chosen]\n",
        "    rand_y, rand_x = [x[0] for x in random_combinations_chosen], [x[1] for x in random_combinations_chosen]\n",
        "\n",
        "    # Plot all together\n",
        "    plt.scatter(grid_y + rand_y, grid_x + rand_x, c=['red']*300 + ['blue']*300)\n",
        "    plt.gca().set(xlabel='learn_rate', ylabel='min_samples_leaf', title='Grid and Random Search Hyperparameters')\n",
        "    plt.gca().set_xlim([0.01, 3.0])\n",
        "    plt.gca().set_ylim([5, 24])\n",
        "    plt.show()"
      ],
      "execution_count": 185,
      "outputs": []
    },
    {
      "cell_type": "code",
      "metadata": {
        "ExecuteTime": {
          "end_time": "2020-02-19T18:59:07.765429Z",
          "start_time": "2020-02-19T18:59:07.534980Z"
        },
        "hidden": true,
        "id": "A_ymMYXKWq30",
        "outputId": "4119a793-54a7-4e3a-b691-b876cb47ea94",
        "colab": {
          "base_uri": "https://localhost:8080/",
          "height": 622
        }
      },
      "source": [
        "# Call the function to produce the visualization\n",
        "visualize_search(grid_combinations_chosen, random_combinations_chosen)"
      ],
      "execution_count": 186,
      "outputs": [
        {
          "output_type": "display_data",
          "data": {
            "image/png": "[encoded data removed]",
            "text/plain": [
              "<Figure size 1440x720 with 1 Axes>"
            ]
          },
          "metadata": {
            "tags": [],
            "needs_background": "light"
          }
        }
      ]
    },
    {
      "cell_type": "markdown",
      "metadata": {
        "hidden": true,
        "id": "rMeO-YxnWq32"
      },
      "source": [
        "We can really see how a grid search will cover a small area completely whilst random search will cover a much larger area but not completely."
      ]
    }
  ]
}