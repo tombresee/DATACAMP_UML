{
  "nbformat": 4,
  "nbformat_minor": 0,
  "metadata": {
    "kernelspec": {
      "display_name": "Python 3",
      "language": "python",
      "name": "python3"
    },
    "language_info": {
      "codemirror_mode": {
        "name": "ipython",
        "version": 3
      },
      "file_extension": ".py",
      "mimetype": "text/x-python",
      "name": "python",
      "nbconvert_exporter": "python",
      "pygments_lexer": "ipython3",
      "version": "3.7.4"
    },
    "toc": {
      "base_numbering": 1,
      "nav_menu": {},
      "number_sections": true,
      "sideBar": true,
      "skip_h1_title": false,
      "title_cell": "Table of Contents",
      "title_sidebar": "Contents",
      "toc_cell": false,
      "toc_position": {},
      "toc_section_display": true,
      "toc_window_display": false
    },
    "varInspector": {
      "cols": {
        "lenName": 16,
        "lenType": 16,
        "lenVar": 40
      },
      "kernels_config": {
        "python": {
          "delete_cmd_postfix": "",
          "delete_cmd_prefix": "del ",
          "library": "var_list.py",
          "varRefreshCmd": "print(var_dic_list())"
        },
        "r": {
          "delete_cmd_postfix": ") ",
          "delete_cmd_prefix": "rm(",
          "library": "var_list.r",
          "varRefreshCmd": "cat(var_dic_list()) "
        }
      },
      "types_to_exclude": [
        "module",
        "function",
        "builtin_function_or_method",
        "instance",
        "_Feature"
      ],
      "window_display": false
    },
    "colab": {
      "name": "L3.Decorrelating data and dimension reduction.ipynb",
      "provenance": [],
      "collapsed_sections": [
        "UQS-62Z5wcy1",
        "ZdfTT0shwcy2",
        "4Zc4mAKrwcy3",
        "c36t37u6wcy3",
        "9qUq-zffwczK",
        "0m4cmQRbwcze",
        "EXP2jltBwczh",
        "3ZR9hspSwc0B",
        "iv4jmSJ-wc0E",
        "CJ_iW4Ojwc0W",
        "pWqwsA0Kwc0s",
        "lcRXoTWswc01"
      ],
      "include_colab_link": true
    }
  },
  "cells": [
    {
      "cell_type": "markdown",
      "metadata": {
        "id": "view-in-github",
        "colab_type": "text"
      },
      "source": [
        "<a href=\"https://colab.research.google.com/github/tombresee/DATACAMP_UML/blob/master/ENTER/notebooks/L3_Decorrelating_data_and_dimension_reduction.ipynb\" target=\"_parent\"><img src=\"https://colab.research.google.com/assets/colab-badge.svg\" alt=\"Open In Colab\"/></a>"
      ]
    },
    {
      "cell_type": "markdown",
      "metadata": {
        "id": "HzjxCJhjwcyj"
      },
      "source": [
        "<a href=\"https://colab.research.google.com/github/ML-Challenge/week4-unsupervised-learning/blob/master/L3.Decorrelating%20data%20and%20dimension%20reduction.ipynb\" target=\"_parent\"><img src=\"https://colab.research.google.com/assets/colab-badge.svg\" /></a>"
      ]
    },
    {
      "cell_type": "markdown",
      "metadata": {
        "id": "zqdGwG6vwcyj"
      },
      "source": [
        "Dimension reduction summarizes a dataset using its common occuring patterns. In this lesson, we'll learn about the most fundamental of dimension reduction techniques, \"Principal Component Analysis\" (\"PCA\"). PCA is often used before supervised learning to improve model performance and generalization. It can also be useful for unsupervised learning. For example, we'll employ a variant of PCA that will allow us to cluster Wikipedia articles by their content!"
      ]
    },
    {
      "cell_type": "markdown",
      "metadata": {
        "heading_collapsed": true,
        "id": "2Of2lAMmwcyk"
      },
      "source": [
        "# Setup"
      ]
    },
    {
      "cell_type": "code",
      "metadata": {
        "ExecuteTime": {
          "end_time": "2020-02-15T17:33:45.729289Z",
          "start_time": "2020-02-15T17:33:45.716324Z"
        },
        "hidden": true,
        "id": "dteVKo3hwcyl",
        "outputId": "68f978bd-44cc-43af-830f-a65f15d33a33",
        "colab": {
          "base_uri": "https://localhost:8080/",
          "height": 708
        }
      },
      "source": [
        "# Download lesson datasets\n",
        "# Required if you're using Google Colab\n",
        "!wget \"https://github.com/ML-Challenge/week4-unsupervised-learning/raw/master/datasets.zip\"\n",
        "!unzip -o datasets.zip"
      ],
      "execution_count": 1,
      "outputs": [
        {
          "output_type": "stream",
          "text": [
            "--2020-09-26 00:13:48--  https://github.com/ML-Challenge/week4-unsupervised-learning/raw/master/datasets.zip\n",
            "Resolving github.com (github.com)... 140.82.113.3\n",
            "Connecting to github.com (github.com)|140.82.113.3|:443... connected.\n",
            "HTTP request sent, awaiting response... 302 Found\n",
            "Location: https://raw.githubusercontent.com/ML-Challenge/week4-unsupervised-learning/master/datasets.zip [following]\n",
            "--2020-09-26 00:13:49--  https://raw.githubusercontent.com/ML-Challenge/week4-unsupervised-learning/master/datasets.zip\n",
            "Resolving raw.githubusercontent.com (raw.githubusercontent.com)... 151.101.0.133, 151.101.64.133, 151.101.128.133, ...\n",
            "Connecting to raw.githubusercontent.com (raw.githubusercontent.com)|151.101.0.133|:443... connected.\n",
            "HTTP request sent, awaiting response... 200 OK\n",
            "Length: 2227561 (2.1M) [application/zip]\n",
            "Saving to: ‘datasets.zip’\n",
            "\n",
            "datasets.zip        100%[===================>]   2.12M  9.71MB/s    in 0.2s    \n",
            "\n",
            "2020-09-26 00:13:49 (9.71 MB/s) - ‘datasets.zip’ saved [2227561/2227561]\n",
            "\n",
            "Archive:  datasets.zip\n",
            "  inflating: utils.py                \n",
            "   creating: data/\n",
            "  inflating: data/miles-driven.csv   \n",
            "  inflating: data/fish.csv           \n",
            "  inflating: data/company-stock-movements-2010-2015-incl.csv  \n",
            "  inflating: data/eurovision-2016.csv  \n",
            "  inflating: data/wine.csv           \n",
            "   creating: data/Grains/\n",
            "  inflating: data/Grains/seeds.csv   \n",
            "  inflating: data/Grains/seeds-width-vs-length.csv  \n",
            "  inflating: data/fma-rock-vs-hiphop.csv  \n",
            "  inflating: data/road-accidents.csv  \n",
            "  inflating: data/echonest-metrics.json  \n",
            "   creating: data/Musical artists/\n",
            "  inflating: data/Musical artists/scrobbler-small-sample.csv  \n",
            "  inflating: data/Musical artists/artists.csv  \n",
            "   creating: data/Wikipedia articles/\n",
            "  inflating: data/Wikipedia articles/preprocessing.md  \n",
            "  inflating: data/Wikipedia articles/wikipedia-vectors.csv  \n",
            "  inflating: data/Wikipedia articles/wikipedia-vocabulary-utf8.txt  \n",
            "  inflating: data/lcd-digits.csv     \n"
          ],
          "name": "stdout"
        }
      ]
    },
    {
      "cell_type": "code",
      "metadata": {
        "ExecuteTime": {
          "end_time": "2020-02-15T17:33:46.387661Z",
          "start_time": "2020-02-15T17:33:45.732279Z"
        },
        "hidden": true,
        "id": "3rMzGSC-wcyo"
      },
      "source": [
        "# Import utils\n",
        "# We'll be using this module throughout the lesson\n",
        "import utils"
      ],
      "execution_count": 2,
      "outputs": []
    },
    {
      "cell_type": "code",
      "metadata": {
        "ExecuteTime": {
          "end_time": "2020-02-15T17:33:46.607084Z",
          "start_time": "2020-02-15T17:33:46.389641Z"
        },
        "hidden": true,
        "id": "C0L1fa15wcyq"
      },
      "source": [
        "# Import dependencies\n",
        "import pandas as pd\n",
        "import numpy as np\n",
        "\n",
        "import matplotlib.pyplot as plt\n",
        "# and setting the size of all plots.\n",
        "plt.rcParams['figure.figsize'] = [11, 7]"
      ],
      "execution_count": 3,
      "outputs": []
    },
    {
      "cell_type": "markdown",
      "metadata": {
        "heading_collapsed": true,
        "id": "ytUunX2fwcyv"
      },
      "source": [
        "# Visualizing the PCA transformation"
      ]
    },
    {
      "cell_type": "markdown",
      "metadata": {
        "hidden": true,
        "id": "ywZ6frynwcyw"
      },
      "source": [
        "In the next two lessons we'll learn techniques for dimension reduction."
      ]
    },
    {
      "cell_type": "markdown",
      "metadata": {
        "hidden": true,
        "id": "Dn0n7HJZwcyx"
      },
      "source": [
        "## Dimension reduction"
      ]
    },
    {
      "cell_type": "markdown",
      "metadata": {
        "hidden": true,
        "id": "NTeGgI1ewcyy"
      },
      "source": [
        "Dimension reduction finds patterns in data, and uses these patterns to re-express it in a compressed form. This makes subsequent computation with the data much more efficient, and this can be a big deal in a world of big datasets. However, the most important function of dimension reduction is to reduce a dataset to its bare bones, discarding noisy features that cause big problems for supervised learning tasks like regression and classification. In many real-world applications, it's dimension reduction that makes prediction possible."
      ]
    },
    {
      "cell_type": "markdown",
      "metadata": {
        "hidden": true,
        "id": "AKdxQEyQwcyy"
      },
      "source": [
        "## Principal Component Analysis"
      ]
    },
    {
      "cell_type": "markdown",
      "metadata": {
        "hidden": true,
        "id": "0hBpPReywcyz"
      },
      "source": [
        "In this lesson, we'll learn about the most fundamental of dimension reduction techniques. It's called Principal Component Analysis, or `PCA` for short. PCA performs dimension reduction in two steps, and the first one, called de-correlation, doesn't change the dimension of the data at all. It's this first step that we'll focus on next."
      ]
    },
    {
      "cell_type": "markdown",
      "metadata": {
        "hidden": true,
        "id": "z40VQx5iwcyz"
      },
      "source": [
        "In this first step, PCA rotates the samples so that they are aligned with the coordinate axes. In fact, it does more than this: PCA also shifts the samples so that they have mean zero. These scatter plots show the effect of PCA applied to two features of the wine dataset.\n",
        "\n",
        "![PCA](https://github.com/ML-Challenge/week4-unsupervised-learning/blob/master/assets/3-1.png?raw=1)\n",
        "\n",
        "Notice that no information is lost - this is true no matter how many features our dataset has."
      ]
    },
    {
      "cell_type": "markdown",
      "metadata": {
        "hidden": true,
        "id": "_jkBrsLBwcyz"
      },
      "source": [
        "`scikit-learn` has an implementation of PCA, and it has fit and transform methods just like StandardScaler: \n",
        "\n",
        "* The `fit` method learns how to shift and how to rotate the samples, but doesn't actually change them. \n",
        "* The `transform` method, on the other hand, applies the transformation that fit learned. In particular, the transform method can be applied to new, unseen samples."
      ]
    },
    {
      "cell_type": "markdown",
      "metadata": {
        "hidden": true,
        "id": "oOoJdOKcwcy0"
      },
      "source": [
        "## Using scikit-learn PCA"
      ]
    },
    {
      "cell_type": "markdown",
      "metadata": {
        "hidden": true,
        "id": "FNSHRfxzwcy0"
      },
      "source": [
        "Let's see PCA in action on the some features of the wine dataset. Firstly, import PCA.\n",
        "\n",
        "```\n",
        "from sklearn.decomposition import PCA\n",
        "```\n",
        "\n",
        "Now create a PCA object, and fit it to the samples.\n",
        "\n",
        "```\n",
        "model = PCA()\n",
        "model.fit(utils.wine)\n",
        "```\n",
        "\n",
        "Then use the fit PCA object to transform the samples. This returns a new array of transformed samples.\n",
        "\n",
        "```\n",
        "transformed = model.transform(utils.wine)\n",
        "```"
      ]
    },
    {
      "cell_type": "markdown",
      "metadata": {
        "hidden": true,
        "id": "UQS-62Z5wcy1"
      },
      "source": [
        "## PCA features"
      ]
    },
    {
      "cell_type": "markdown",
      "metadata": {
        "hidden": true,
        "id": "d1ycXn1zwcy1"
      },
      "source": [
        "This new array has the same number of rows and columns as the original sample array. In particular, there is one row for each transformed sample. The columns of the new array correspond to `PCA features`, just as the original features corresponded to columns of the original array.\n",
        "\n",
        "It is often the case that the features of a dataset are correlated. This is the case with many of the features of the wine dataset, for instance. However, PCA, due to the rotation it performs, de-correlates the data, in the sense that the columns of the transformed array are not linearly correlated."
      ]
    },
    {
      "cell_type": "markdown",
      "metadata": {
        "hidden": true,
        "id": "ZdfTT0shwcy2"
      },
      "source": [
        "## Pearson correlation"
      ]
    },
    {
      "cell_type": "markdown",
      "metadata": {
        "hidden": true,
        "id": "VvM88NVhwcy2"
      },
      "source": [
        "Linear correlation can be measured with the Pearson correlation. It takes values between -1 and 1, where larger values indicate a stronger correlation, and 0 indicates no linear correlation. Here are some examples of features with varying degrees of correlation.\n",
        "\n",
        "![Decorrelated](https://github.com/ML-Challenge/week4-unsupervised-learning/blob/master/assets/3-2.png?raw=1)"
      ]
    },
    {
      "cell_type": "markdown",
      "metadata": {
        "hidden": true,
        "id": "4Zc4mAKrwcy3"
      },
      "source": [
        "## Principal components"
      ]
    },
    {
      "cell_type": "markdown",
      "metadata": {
        "hidden": true,
        "id": "aXcBu3BMwcy3"
      },
      "source": [
        "Finally, PCA is called principal component analysis because it learns the principal components of the data. These are the directions in which the samples vary the most, depicted here in red. \n",
        "\n",
        "![PCs](https://github.com/ML-Challenge/week4-unsupervised-learning/blob/master/assets/3-3.png?raw=1)\n",
        "\n",
        "It is the principal components that PCA aligns with the co-ordinate axes. After a PCA model has been fit, the principal components are available as the `components_` attribute. This is numpy array with one row for each principal component."
      ]
    },
    {
      "cell_type": "markdown",
      "metadata": {
        "heading_collapsed": true,
        "hidden": true,
        "id": "c36t37u6wcy3"
      },
      "source": [
        "## Correlated data in nature"
      ]
    },
    {
      "cell_type": "markdown",
      "metadata": {
        "hidden": true,
        "id": "DoihJl9Twcy4"
      },
      "source": [
        "We have an array of grains giving the width and length of samples of grain. We suspect that width and length will be correlated. To confirm this, let's make a scatter plot of width vs length and measure their Pearson correlation."
      ]
    },
    {
      "cell_type": "code",
      "metadata": {
        "ExecuteTime": {
          "end_time": "2020-02-15T17:33:46.905454Z",
          "start_time": "2020-02-15T17:33:46.608076Z"
        },
        "hidden": true,
        "id": "QNykCpRxwcy5"
      },
      "source": [
        "# Perform the necessary imports\n",
        "from scipy.stats import pearsonr"
      ],
      "execution_count": 4,
      "outputs": []
    },
    {
      "cell_type": "code",
      "metadata": {
        "ExecuteTime": {
          "end_time": "2020-02-15T17:33:46.921352Z",
          "start_time": "2020-02-15T17:33:46.906398Z"
        },
        "hidden": true,
        "id": "rS1Jd2Vqwcy7"
      },
      "source": [
        "# Assign the 0th column of grains: width\n",
        "width = utils.grains[:,0]"
      ],
      "execution_count": 5,
      "outputs": []
    },
    {
      "cell_type": "code",
      "metadata": {
        "ExecuteTime": {
          "end_time": "2020-02-15T17:33:46.936313Z",
          "start_time": "2020-02-15T17:33:46.923346Z"
        },
        "hidden": true,
        "id": "cREpsDLKwcy_"
      },
      "source": [
        "# Assign the 1st column of grains: length\n",
        "length = utils.grains[:,1]"
      ],
      "execution_count": 6,
      "outputs": []
    },
    {
      "cell_type": "code",
      "metadata": {
        "ExecuteTime": {
          "end_time": "2020-02-15T17:33:47.122814Z",
          "start_time": "2020-02-15T17:33:46.939320Z"
        },
        "hidden": true,
        "id": "8-9doZH9wczC",
        "outputId": "9d3d273c-542c-4b3d-beb6-f0c9276c1c9e",
        "colab": {
          "base_uri": "https://localhost:8080/",
          "height": 430
        }
      },
      "source": [
        "# Scatter plot width vs length\n",
        "plt.scatter(width, length)\n",
        "plt.axis('equal')\n",
        "plt.show()"
      ],
      "execution_count": 7,
      "outputs": [
        {
          "output_type": "display_data",
          "data": {
            "image/png": "[encoded data removed]",
            "text/plain": [
              "<Figure size 792x504 with 1 Axes>"
            ]
          },
          "metadata": {
            "tags": [],
            "needs_background": "light"
          }
        }
      ]
    },
    {
      "cell_type": "code",
      "metadata": {
        "ExecuteTime": {
          "end_time": "2020-02-15T17:33:47.138772Z",
          "start_time": "2020-02-15T17:33:47.124808Z"
        },
        "hidden": true,
        "id": "x1AO4wkHwczF"
      },
      "source": [
        "# Calculate the Pearson correlation\n",
        "correlation, pvalue = pearsonr(width, length)"
      ],
      "execution_count": 8,
      "outputs": []
    },
    {
      "cell_type": "code",
      "metadata": {
        "ExecuteTime": {
          "end_time": "2020-02-15T17:33:47.154729Z",
          "start_time": "2020-02-15T17:33:47.141764Z"
        },
        "hidden": true,
        "id": "p3Qq5kq-wczI",
        "outputId": "ef80b909-18d1-4738-b3d7-6c23e0cc5318",
        "colab": {
          "base_uri": "https://localhost:8080/",
          "height": 35
        }
      },
      "source": [
        "# Display the correlation\n",
        "print(correlation)"
      ],
      "execution_count": 9,
      "outputs": [
        {
          "output_type": "stream",
          "text": [
            "0.8604149377143466\n"
          ],
          "name": "stdout"
        }
      ]
    },
    {
      "cell_type": "markdown",
      "metadata": {
        "hidden": true,
        "id": "AJnbBZ-kwczK"
      },
      "source": [
        "As we would expect, the width and length of the grain samples are highly correlated."
      ]
    },
    {
      "cell_type": "markdown",
      "metadata": {
        "heading_collapsed": true,
        "hidden": true,
        "id": "9qUq-zffwczK"
      },
      "source": [
        "## Decorrelating the grain measurements with PCA"
      ]
    },
    {
      "cell_type": "markdown",
      "metadata": {
        "hidden": true,
        "id": "323xYNGcwczK"
      },
      "source": [
        "We observed in the previous example that the width and length measurements of the grain are correlated. Now, we'll use PCA to decorrelate these measurements, then plot the decorrelated points and measure their Pearson correlation."
      ]
    },
    {
      "cell_type": "code",
      "metadata": {
        "ExecuteTime": {
          "end_time": "2020-02-15T17:33:47.293358Z",
          "start_time": "2020-02-15T17:33:47.158719Z"
        },
        "hidden": true,
        "id": "SDRDWQwAwczL"
      },
      "source": [
        "# Import PCA\n",
        "from sklearn.decomposition import PCA"
      ],
      "execution_count": 10,
      "outputs": []
    },
    {
      "cell_type": "code",
      "metadata": {
        "ExecuteTime": {
          "end_time": "2020-02-15T17:33:47.308318Z",
          "start_time": "2020-02-15T17:33:47.295351Z"
        },
        "hidden": true,
        "id": "4BkvZz-wwczN"
      },
      "source": [
        "# Create PCA instance: model\n",
        "model = PCA()"
      ],
      "execution_count": 11,
      "outputs": []
    },
    {
      "cell_type": "code",
      "metadata": {
        "ExecuteTime": {
          "end_time": "2020-02-15T17:33:47.324273Z",
          "start_time": "2020-02-15T17:33:47.311309Z"
        },
        "hidden": true,
        "id": "E_tPGiXuwczQ"
      },
      "source": [
        "# Apply the fit_transform method of model to grains: pca_features\n",
        "pca_features = model.fit_transform(utils.grains)"
      ],
      "execution_count": 12,
      "outputs": []
    },
    {
      "cell_type": "code",
      "metadata": {
        "ExecuteTime": {
          "end_time": "2020-02-15T17:33:47.340230Z",
          "start_time": "2020-02-15T17:33:47.326268Z"
        },
        "hidden": true,
        "id": "YFIkD-AAwczS"
      },
      "source": [
        "# Assign 0th column of pca_features: xs\n",
        "xs = pca_features[:,0]\n",
        "\n",
        "# Assign 1st column of pca_features: ys\n",
        "ys = pca_features[:,1]"
      ],
      "execution_count": 13,
      "outputs": []
    },
    {
      "cell_type": "code",
      "metadata": {
        "ExecuteTime": {
          "end_time": "2020-02-15T17:33:47.557652Z",
          "start_time": "2020-02-15T17:33:47.343223Z"
        },
        "hidden": true,
        "id": "ObL4ksMSwczV",
        "outputId": "0ae507f6-e79b-4058-8bc0-63704b271a2f",
        "colab": {
          "base_uri": "https://localhost:8080/",
          "height": 428
        }
      },
      "source": [
        "# Scatter plot xs vs ys\n",
        "plt.scatter(xs, ys)\n",
        "plt.axis('equal')\n",
        "plt.show()"
      ],
      "execution_count": 14,
      "outputs": [
        {
          "output_type": "display_data",
          "data": {
            "image/png": "[encoded data removed]",
            "text/plain": [
              "<Figure size 792x504 with 1 Axes>"
            ]
          },
          "metadata": {
            "tags": [],
            "needs_background": "light"
          }
        }
      ]
    },
    {
      "cell_type": "code",
      "metadata": {
        "ExecuteTime": {
          "end_time": "2020-02-15T17:33:47.573610Z",
          "start_time": "2020-02-15T17:33:47.559645Z"
        },
        "hidden": true,
        "id": "cmXHAiBcwczX",
        "outputId": "bf8e5087-a947-4183-ef40-ed97cd08886c",
        "colab": {
          "base_uri": "https://localhost:8080/",
          "height": 35
        }
      },
      "source": [
        "# Calculate the Pearson correlation of xs and ys\n",
        "correlation, pvalue = pearsonr(xs, ys)\n",
        "\n",
        "# Display the correlation\n",
        "print(correlation)"
      ],
      "execution_count": 15,
      "outputs": [
        {
          "output_type": "stream",
          "text": [
            "2.5478751053409354e-17\n"
          ],
          "name": "stdout"
        }
      ]
    },
    {
      "cell_type": "markdown",
      "metadata": {
        "hidden": true,
        "id": "erFJpuJpwczZ"
      },
      "source": [
        "Excellent! We've successfully decorrelated the grain measurements with PCA!"
      ]
    },
    {
      "cell_type": "markdown",
      "metadata": {
        "heading_collapsed": true,
        "id": "F1AJQT3wwczZ"
      },
      "source": [
        "# Intrinsic dimension"
      ]
    },
    {
      "cell_type": "markdown",
      "metadata": {
        "hidden": true,
        "id": "6ExjgbK_wcza"
      },
      "source": [
        "Consider a dataset with two features: `latitude` and `longitude`. These two features might track the flight of an airplane, for example. This dataset is two dimensional, yet it turns out that it can be closely approximated using only one feature: the displacement along the flight path. This dataset is intrinsically one dimensional.\n",
        "\n",
        "![Flight Path](https://github.com/ML-Challenge/week4-unsupervised-learning/blob/master/assets/3-4.png?raw=1)\n",
        "\n",
        "The intrinsic dimension of a dataset is the number of features required to approximate it. The intrinsic dimension informs dimension reduction, because it tells us how much a dataset can be compressed.\n",
        "\n",
        "Next, we'll gain a solid understanding of the intrinsic dimension, and be able to use PCA to identify it in real-world datasets that have thousands of features."
      ]
    },
    {
      "cell_type": "markdown",
      "metadata": {
        "hidden": true,
        "id": "LIGN9oshwcza"
      },
      "source": [
        "To better illustrate the intrinsic dimension, let's consider an example dataset containing only some of the samples from the iris dataset. Specifically, let's take three measurements from the iris versicolor samples: `sepal length`, `sepal width`, and `petal width`. So each sample is represented as a point in 3-dimensional space.\n",
        "\n",
        "However, if we make a 3d scatter plot of the samples, we see that they all lie very close to a flat, 2-dimensional sheet. This means that the data can be approximated by using only two co-ordinates, without losing much information. So this dataset has intrinsic dimension 2.\n",
        "\n",
        "![3D Scatter](https://github.com/ML-Challenge/week4-unsupervised-learning/blob/master/assets/3-5.png?raw=1)\n",
        "\n",
        "But scatter plots are only possible if there are 3 features or less. So how can the intrinsic dimension be identified, even if there are many features?"
      ]
    },
    {
      "cell_type": "markdown",
      "metadata": {
        "hidden": true,
        "id": "rcS54gGWwcza"
      },
      "source": [
        "This is where PCA is really helpful. The intrinsic dimension can be identified by counting the PCA features that have high variance. To see how, let's see what happens when PCA is applied to the dataset of versicolor samples.\n",
        "\n",
        "![PCA 3D](https://github.com/ML-Challenge/week4-unsupervised-learning/blob/master/assets/3-6.png?raw=1)\n",
        "\n",
        "PCA rotates and shifts the samples to align them with the co-ordinate axes. This expresses the samples using three PCA features."
      ]
    },
    {
      "cell_type": "markdown",
      "metadata": {
        "hidden": true,
        "id": "FGQU-rIKwczb"
      },
      "source": [
        "The PCA features are in a special order. Here is a bar graph showing the variance of each of the PCA features.\n",
        "\n",
        "![PCA Bar](https://github.com/ML-Challenge/week4-unsupervised-learning/blob/master/assets/3-7.png?raw=1)\n",
        "\n",
        "As we can see, each PCA feature has less variance than the last, and in this case the last PCA feature has very low variance. This agrees with the scatter plot of the PCA features, where the samples don't vary much in the vertical direction. In the other two directions, however, the variance is apparent."
      ]
    },
    {
      "cell_type": "markdown",
      "metadata": {
        "hidden": true,
        "id": "gnpGHAxCwczb"
      },
      "source": [
        "The intrinsic dimension is the number of PCA features that have significant variance. In our example, only the first two PCA features have significant variance. So this dataset has intrinsic dimension 2, which agrees with what we observed when inspecting the scatter plot.\n",
        "\n",
        "![PCA Reduction](https://github.com/ML-Challenge/week4-unsupervised-learning/blob/master/assets/3-8.png?raw=1)"
      ]
    },
    {
      "cell_type": "markdown",
      "metadata": {
        "hidden": true,
        "id": "WIbrwWNGwczb"
      },
      "source": [
        "Let's see how to plot the variances of the PCA features in practice. Firstly, make the necessary imports.\n",
        "\n",
        "```\n",
        "import matplotlib.pyplot as plt\n",
        "\n",
        "from sklearn.decomposition import PCA\n",
        "```\n",
        "\n",
        "Then create a PCA model, and fit it to the samples.\n",
        "\n",
        "```\n",
        "pca = PCA()\n",
        "pca.fit(samples)\n",
        "```\n",
        "\n",
        "Now create a range enumerating the PCA features,\n",
        "\n",
        "```\n",
        "features = range(pca.n_components_)\n",
        "```\n",
        "\n",
        "and make a bar plot of the variances; the variances are available as the `explained_variance_` attribute of the PCA model.\n",
        "\n",
        "```\n",
        "plt.bar(features, pca.explained_variance_)\n",
        "\n",
        "plt.xticks(features)\n",
        "plt.ylabel('variance')\n",
        "plt.xlabel('PCA feature')\n",
        "\n",
        "plt.show()\n",
        "```"
      ]
    },
    {
      "cell_type": "markdown",
      "metadata": {
        "hidden": true,
        "id": "yxvmgBMKwczd"
      },
      "source": [
        "The intrinsic dimension is a useful idea that helps to guide dimension reduction. However, it is not always unambiguous. Here is a graph of the variances of the PCA features for the wine dataset.\n",
        "\n",
        "![Wine PCA](https://github.com/ML-Challenge/week4-unsupervised-learning/blob/master/assets/3-9.png?raw=1)\n",
        "\n",
        "We could argue for an intrinsic dimension of 2, of 3, or even more, depending upon the threshold we chose. In the next section, we'll learn to use the intrinsic dimension for dimension reduction."
      ]
    },
    {
      "cell_type": "markdown",
      "metadata": {
        "heading_collapsed": true,
        "hidden": true,
        "id": "0m4cmQRbwcze"
      },
      "source": [
        "## The first principal component"
      ]
    },
    {
      "cell_type": "markdown",
      "metadata": {
        "hidden": true,
        "id": "HuNEFMOEwcze"
      },
      "source": [
        "The first principal component of the data is the direction in which the data varies the most. In this example, our job is to use PCA to find the first principal component of the length and width measurements of the grain samples, and represent it as an arrow on the scatter plot."
      ]
    },
    {
      "cell_type": "code",
      "metadata": {
        "ExecuteTime": {
          "end_time": "2020-02-15T17:33:47.793023Z",
          "start_time": "2020-02-15T17:33:47.575605Z"
        },
        "hidden": true,
        "id": "tz1qW1Zawcze",
        "outputId": "94b06083-e35a-4ff9-e93d-916642418e3f",
        "colab": {
          "base_uri": "https://localhost:8080/",
          "height": 430
        }
      },
      "source": [
        "# Make a scatter plot of the untransformed points\n",
        "plt.scatter(width, length)\n",
        "\n",
        "# Create a PCA instance: model\n",
        "model = PCA()\n",
        "\n",
        "# Fit model to points\n",
        "model.fit(utils.grains)\n",
        "\n",
        "# Get the mean of the grain samples: mean\n",
        "mean = model.mean_\n",
        "\n",
        "# Get the first principal component: first_pc\n",
        "first_pc = model.components_[0,:]\n",
        "\n",
        "# Plot first_pc as an arrow, starting at mean\n",
        "plt.arrow(mean[0], mean[1], first_pc[0], first_pc[1], color='red', width=0.01)\n",
        "\n",
        "# Keep axes on same scale\n",
        "#plt.axis('equal')\n",
        "plt.show()"
      ],
      "execution_count": 16,
      "outputs": [
        {
          "output_type": "display_data",
          "data": {
            "image/png": "[encoded data removed]",
            "text/plain": [
              "<Figure size 792x504 with 1 Axes>"
            ]
          },
          "metadata": {
            "tags": [],
            "needs_background": "light"
          }
        }
      ]
    },
    {
      "cell_type": "markdown",
      "metadata": {
        "hidden": true,
        "id": "PabSSpC3wczh"
      },
      "source": [
        "This is the direction in which the grain data varies the most."
      ]
    },
    {
      "cell_type": "markdown",
      "metadata": {
        "heading_collapsed": true,
        "hidden": true,
        "id": "EXP2jltBwczh"
      },
      "source": [
        "## Variance of the PCA features"
      ]
    },
    {
      "cell_type": "markdown",
      "metadata": {
        "hidden": true,
        "id": "DFZFbLvMwczi"
      },
      "source": [
        "The fish dataset is 6-dimensional. But what is its intrinsic dimension? Let's make a plot of the variances of the PCA features to find out. As before, `fish_samples` is a 2D array, where each row represents a fish. We'll need to standardize the features first."
      ]
    },
    {
      "cell_type": "code",
      "metadata": {
        "ExecuteTime": {
          "end_time": "2020-02-15T17:33:47.807984Z",
          "start_time": "2020-02-15T17:33:47.795018Z"
        },
        "hidden": true,
        "id": "T-pFTWhkwczj"
      },
      "source": [
        "# Perform the necessary imports\n",
        "from sklearn.preprocessing import StandardScaler\n",
        "from sklearn.pipeline import make_pipeline"
      ],
      "execution_count": 17,
      "outputs": []
    },
    {
      "cell_type": "code",
      "metadata": {
        "ExecuteTime": {
          "end_time": "2020-02-15T17:33:47.823461Z",
          "start_time": "2020-02-15T17:33:47.810491Z"
        },
        "hidden": true,
        "id": "dZW5TDWqwczm"
      },
      "source": [
        "# Create scaler: scaler\n",
        "scaler = StandardScaler()"
      ],
      "execution_count": 18,
      "outputs": []
    },
    {
      "cell_type": "code",
      "metadata": {
        "ExecuteTime": {
          "end_time": "2020-02-15T17:33:47.839416Z",
          "start_time": "2020-02-15T17:33:47.825449Z"
        },
        "hidden": true,
        "id": "9MX8nVY_wczs"
      },
      "source": [
        "# Create a PCA instance: pca\n",
        "pca = PCA()"
      ],
      "execution_count": 19,
      "outputs": []
    },
    {
      "cell_type": "code",
      "metadata": {
        "ExecuteTime": {
          "end_time": "2020-02-15T17:33:47.855376Z",
          "start_time": "2020-02-15T17:33:47.841407Z"
        },
        "hidden": true,
        "id": "qGPKjm_9wczv"
      },
      "source": [
        "# Create pipeline: pipeline\n",
        "pipeline = make_pipeline(scaler, pca)"
      ],
      "execution_count": 20,
      "outputs": []
    },
    {
      "cell_type": "code",
      "metadata": {
        "ExecuteTime": {
          "end_time": "2020-02-15T17:33:47.871325Z",
          "start_time": "2020-02-15T17:33:47.857364Z"
        },
        "hidden": true,
        "id": "VV3tgbc6wcz0",
        "outputId": "96e54769-0006-4b32-846a-bc251dbf5b23",
        "colab": {
          "base_uri": "https://localhost:8080/",
          "height": 163
        }
      },
      "source": [
        "# Fit the pipeline to 'samples'\n",
        "pipeline.fit(utils.fish_samples)"
      ],
      "execution_count": 21,
      "outputs": [
        {
          "output_type": "execute_result",
          "data": {
            "text/plain": [
              "Pipeline(memory=None,\n",
              "         steps=[('standardscaler',\n",
              "                 StandardScaler(copy=True, with_mean=True, with_std=True)),\n",
              "                ('pca',\n",
              "                 PCA(copy=True, iterated_power='auto', n_components=None,\n",
              "                     random_state=None, svd_solver='auto', tol=0.0,\n",
              "                     whiten=False))],\n",
              "         verbose=False)"
            ]
          },
          "metadata": {
            "tags": []
          },
          "execution_count": 21
        }
      ]
    },
    {
      "cell_type": "code",
      "metadata": {
        "ExecuteTime": {
          "end_time": "2020-02-15T17:33:48.041870Z",
          "start_time": "2020-02-15T17:33:47.878306Z"
        },
        "hidden": true,
        "id": "bf7sjS3Cwcz4",
        "outputId": "32d6900a-710b-4cc2-f4c2-cc70a5196d43",
        "colab": {
          "base_uri": "https://localhost:8080/",
          "height": 442
        }
      },
      "source": [
        "# Plot the explained variances\n",
        "features = range(pca.n_components_)\n",
        "plt.bar(features, pca.explained_variance_)\n",
        "plt.xlabel('PCA feature')\n",
        "plt.ylabel('variance')\n",
        "plt.xticks(features)\n",
        "plt.show()"
      ],
      "execution_count": 22,
      "outputs": [
        {
          "output_type": "display_data",
          "data": {
            "image/png": "[encoded data removed]",
            "text/plain": [
              "<Figure size 792x504 with 1 Axes>"
            ]
          },
          "metadata": {
            "tags": [],
            "needs_background": "light"
          }
        }
      ]
    },
    {
      "cell_type": "markdown",
      "metadata": {
        "hidden": true,
        "id": "rS9-65zSwcz7"
      },
      "source": [
        " It looks like PCA features 0 and 1 have significant variance."
      ]
    },
    {
      "cell_type": "markdown",
      "metadata": {
        "id": "wd7Qsnq1wcz8"
      },
      "source": [
        "# Dimension reduction with PCA"
      ]
    },
    {
      "cell_type": "markdown",
      "metadata": {
        "id": "8Qqu1Vfiwcz9"
      },
      "source": [
        "Dimension reduction represents the same data using less features and is vital for building machine learning pipelines using real-world data. Finally, in this lesson, we'll learn how to perform dimension reduction using PCA.\n",
        "\n",
        "We've seen already that the PCA features are in decreasing order of variance. PCA performs dimension reduction by discarding the PCA features with lower variance, which it assumes to be noise, and retaining the higher variance PCA features, which it assumes to be informative."
      ]
    },
    {
      "cell_type": "markdown",
      "metadata": {
        "id": "SH1S952Twcz-"
      },
      "source": [
        "To use PCA for dimension reduction, we need to specify how many PCA features to keep. For example, specifying `n_components=2` when creating a PCA model tells it to keep only the first two PCA features. A good choice is the intrinsic dimension of the dataset, if we know it. Let's consider the following example."
      ]
    },
    {
      "cell_type": "markdown",
      "metadata": {
        "id": "7Tdi8L5wwcz_"
      },
      "source": [
        "The iris dataset has 4 features representing the 4 measurements. Here, the measurements are in a numpy array called `samples`. Let's use PCA to reduce the dimension of the iris dataset to only 2. Begin by importing PCA as usual.\n",
        "\n",
        "```\n",
        "from sklearn.decomposition import PCA\n",
        "```\n",
        "\n",
        "Create a PCA model specifying `n_components=2`, and then fit the model and transform the samples as usual.\n",
        "\n",
        "```\n",
        "pca = PCA(n_components=2)\n",
        "\n",
        "pca.fit(samples)\n",
        "transformed = pca.transform(samples)\n",
        "```\n",
        "\n",
        "Here is a scatterplot of the two PCA features, where the colors represent the three species of iris.\n",
        "\n",
        "![Iris PCA](https://github.com/ML-Challenge/week4-unsupervised-learning/blob/master/assets/3-14.png?raw=1)\n",
        "\n",
        "Remarkably, despite having reduced the dimension from 4 to 2, the species can still be distinguished. Remember that PCA didn't even know that there were distinct species. PCA simply took the 2 PCA features with highest variance. As we can see, these two features are very informative."
      ]
    },
    {
      "cell_type": "markdown",
      "metadata": {
        "id": "_-nwxCCFwc0A"
      },
      "source": [
        "PCA discards the low variance features, and assumes that the higher variance features are informative. Like all assumptions, there are cases where this doesn't hold. As we saw with the iris dataset, however, it often does in practice."
      ]
    },
    {
      "cell_type": "markdown",
      "metadata": {
        "id": "3ZR9hspSwc0B"
      },
      "source": [
        "## Word frequency arrays"
      ]
    },
    {
      "cell_type": "markdown",
      "metadata": {
        "id": "JFayYaOawc0C"
      },
      "source": [
        "In some cases, an alternative implementation of PCA needs to be used. Word frequency arrays are a great example. In a word-frequency array, each row corresponds to a document, and each column corresponds to a word from a fixed vocabulary. The entries of the word-frequency array measure how often each word appears in each document.\n",
        "\n",
        "![Word Frequency Array](https://github.com/ML-Challenge/week4-unsupervised-learning/blob/master/assets/3-13.png?raw=1)\n",
        "\n",
        "Only some of the words from the vocabulary appear in any one document, so most entries of the word frequency array are zero. Arrays like this are said to be sparse, and are often represented using a special type of array called a `csr_matrix`."
      ]
    },
    {
      "cell_type": "markdown",
      "metadata": {
        "id": "4ggf0cKkwc0D"
      },
      "source": [
        "`csr_matrices` save space by remembering only the non-zero entries of the array. Scikit-learn's PCA doesn't support csr_matrices, and we'll need to use `TruncatedSVD` instead. `TruncatedSVD` performs the same transformation as PCA, but accepts csr matrices as input. Other than that, we interact with `TruncatedSVD` and PCA in exactly the same way."
      ]
    },
    {
      "cell_type": "markdown",
      "metadata": {
        "heading_collapsed": true,
        "id": "iv4jmSJ-wc0E"
      },
      "source": [
        "## Dimension reduction of the fish measurements"
      ]
    },
    {
      "cell_type": "markdown",
      "metadata": {
        "hidden": true,
        "id": "rVaQTthBwc0E"
      },
      "source": [
        "In the previous example, we saw that 2 was a reasonable choice for the \"intrinsic dimension\" of the fish measurements. Now let's use PCA for dimensionality reduction of the fish measurements, retaining only the 2 most important components."
      ]
    },
    {
      "cell_type": "code",
      "metadata": {
        "ExecuteTime": {
          "end_time": "2020-02-15T17:33:48.056830Z",
          "start_time": "2020-02-15T17:33:48.044861Z"
        },
        "hidden": true,
        "id": "f6xh1wTWwc0F"
      },
      "source": [
        "# Create a PCA model with 2 components: pca\n",
        "pca = PCA(n_components=2)"
      ],
      "execution_count": 23,
      "outputs": []
    },
    {
      "cell_type": "code",
      "metadata": {
        "ExecuteTime": {
          "end_time": "2020-02-15T17:33:48.071790Z",
          "start_time": "2020-02-15T17:33:48.059821Z"
        },
        "hidden": true,
        "id": "RgwpPj3pwc0J"
      },
      "source": [
        "# Create pipeline: pipeline\n",
        "pipeline = make_pipeline(scaler, pca)"
      ],
      "execution_count": 24,
      "outputs": []
    },
    {
      "cell_type": "code",
      "metadata": {
        "ExecuteTime": {
          "end_time": "2020-02-15T17:33:48.087748Z",
          "start_time": "2020-02-15T17:33:48.073785Z"
        },
        "hidden": true,
        "id": "DFON7MGJwc0M",
        "outputId": "86a9280a-4985-4afc-d480-6903e5dcd172",
        "colab": {
          "base_uri": "https://localhost:8080/",
          "height": 163
        }
      },
      "source": [
        "# Fit the pipeline to 'samples'\n",
        "pipeline.fit(utils.fish_samples)"
      ],
      "execution_count": 25,
      "outputs": [
        {
          "output_type": "execute_result",
          "data": {
            "text/plain": [
              "Pipeline(memory=None,\n",
              "         steps=[('standardscaler',\n",
              "                 StandardScaler(copy=True, with_mean=True, with_std=True)),\n",
              "                ('pca',\n",
              "                 PCA(copy=True, iterated_power='auto', n_components=2,\n",
              "                     random_state=None, svd_solver='auto', tol=0.0,\n",
              "                     whiten=False))],\n",
              "         verbose=False)"
            ]
          },
          "metadata": {
            "tags": []
          },
          "execution_count": 25
        }
      ]
    },
    {
      "cell_type": "code",
      "metadata": {
        "ExecuteTime": {
          "end_time": "2020-02-15T17:33:48.102707Z",
          "start_time": "2020-02-15T17:33:48.090741Z"
        },
        "hidden": true,
        "id": "fqffmf9Wwc0O"
      },
      "source": [
        "# Transform the scaled samples: pca_features\n",
        "pca_features = pipeline.transform(utils.fish_samples)"
      ],
      "execution_count": 26,
      "outputs": []
    },
    {
      "cell_type": "code",
      "metadata": {
        "ExecuteTime": {
          "end_time": "2020-02-15T17:33:48.117668Z",
          "start_time": "2020-02-15T17:33:48.105698Z"
        },
        "hidden": true,
        "id": "tz0B9aIIwc0S",
        "outputId": "c7917598-48dc-406a-d4ef-f35097f65dbf",
        "colab": {
          "base_uri": "https://localhost:8080/",
          "height": 54
        }
      },
      "source": [
        "# Print the shape of pca_features\n",
        "print(utils.fish_samples.shape)\n",
        "print(pca_features.shape)"
      ],
      "execution_count": 27,
      "outputs": [
        {
          "output_type": "stream",
          "text": [
            "(85, 6)\n",
            "(85, 2)\n"
          ],
          "name": "stdout"
        }
      ]
    },
    {
      "cell_type": "markdown",
      "metadata": {
        "hidden": true,
        "id": "72M2XQtGwc0V"
      },
      "source": [
        "Superb! We've successfully reduced the dimensionality from 6 to 2."
      ]
    },
    {
      "cell_type": "markdown",
      "metadata": {
        "heading_collapsed": true,
        "id": "CJ_iW4Ojwc0W"
      },
      "source": [
        "## A tf-idf word-frequency array"
      ]
    },
    {
      "cell_type": "markdown",
      "metadata": {
        "hidden": true,
        "id": "6luM37SPwc0W"
      },
      "source": [
        "In this example, we'll create a tf-idf word frequency array for a toy collection of documents. For this, we use the `TfidfVectorizer` from sklearn. It transforms a list of documents into a word frequency array, which it outputs as a `csr_matrix`. It has `fit()` and `transform()` methods like other sklearn objects."
      ]
    },
    {
      "cell_type": "code",
      "metadata": {
        "ExecuteTime": {
          "end_time": "2020-02-15T17:33:48.133625Z",
          "start_time": "2020-02-15T17:33:48.120659Z"
        },
        "hidden": true,
        "id": "A3gcT6Mvwc0X"
      },
      "source": [
        "documents = ['cats say meow', 'dogs say woof', 'dogs chase cats']"
      ],
      "execution_count": 28,
      "outputs": []
    },
    {
      "cell_type": "code",
      "metadata": {
        "ExecuteTime": {
          "end_time": "2020-02-15T17:33:48.163545Z",
          "start_time": "2020-02-15T17:33:48.136616Z"
        },
        "hidden": true,
        "id": "_MvHusBgwc0a"
      },
      "source": [
        "# Import TfidfVectorizer\n",
        "from sklearn.feature_extraction.text import TfidfVectorizer"
      ],
      "execution_count": 29,
      "outputs": []
    },
    {
      "cell_type": "code",
      "metadata": {
        "ExecuteTime": {
          "end_time": "2020-02-15T17:33:48.178504Z",
          "start_time": "2020-02-15T17:33:48.165538Z"
        },
        "hidden": true,
        "id": "yQb2t7qRwc0d"
      },
      "source": [
        "# Create a TfidfVectorizer: tfidf\n",
        "tfidf = TfidfVectorizer() "
      ],
      "execution_count": 30,
      "outputs": []
    },
    {
      "cell_type": "code",
      "metadata": {
        "ExecuteTime": {
          "end_time": "2020-02-15T17:33:48.194463Z",
          "start_time": "2020-02-15T17:33:48.181497Z"
        },
        "hidden": true,
        "id": "1VoXYlE7wc0g"
      },
      "source": [
        "# Apply fit_transform to document: csr_mat\n",
        "csr_mat = tfidf.fit_transform(documents)"
      ],
      "execution_count": 31,
      "outputs": []
    },
    {
      "cell_type": "code",
      "metadata": {
        "ExecuteTime": {
          "end_time": "2020-02-15T17:33:48.209786Z",
          "start_time": "2020-02-15T17:33:48.196456Z"
        },
        "hidden": true,
        "id": "Is19fu1Gwc0l",
        "outputId": "9a71fb4d-127d-4224-f41a-1e047cd5fcf4",
        "colab": {
          "base_uri": "https://localhost:8080/",
          "height": 72
        }
      },
      "source": [
        "# Print result of toarray() method\n",
        "print(csr_mat.toarray())"
      ],
      "execution_count": 32,
      "outputs": [
        {
          "output_type": "stream",
          "text": [
            "[[0.51785612 0.         0.         0.68091856 0.51785612 0.        ]\n",
            " [0.         0.         0.51785612 0.         0.51785612 0.68091856]\n",
            " [0.51785612 0.68091856 0.51785612 0.         0.         0.        ]]\n"
          ],
          "name": "stdout"
        }
      ]
    },
    {
      "cell_type": "code",
      "metadata": {
        "ExecuteTime": {
          "end_time": "2020-02-15T17:33:48.225621Z",
          "start_time": "2020-02-15T17:33:48.211659Z"
        },
        "hidden": true,
        "id": "96s8EVU9wc0o",
        "outputId": "8d0a9fd1-6764-4d64-b767-bb2977e522bc",
        "colab": {
          "base_uri": "https://localhost:8080/",
          "height": 35
        }
      },
      "source": [
        "# Get the words: words\n",
        "words = tfidf.get_feature_names()\n",
        "\n",
        "# Print words\n",
        "print(words)"
      ],
      "execution_count": 33,
      "outputs": [
        {
          "output_type": "stream",
          "text": [
            "['cats', 'chase', 'dogs', 'meow', 'say', 'woof']\n"
          ],
          "name": "stdout"
        }
      ]
    },
    {
      "cell_type": "markdown",
      "metadata": {
        "heading_collapsed": true,
        "id": "pWqwsA0Kwc0s"
      },
      "source": [
        "## Clustering Wikipedia part I"
      ]
    },
    {
      "cell_type": "markdown",
      "metadata": {
        "hidden": true,
        "id": "nXeY25tZwc0s"
      },
      "source": [
        "We saw that `TruncatedSVD` is able to perform PCA on sparse arrays in csr_matrix format, such as word-frequency arrays. Let's combine our knowledge of TruncatedSVD and k-means to cluster some popular pages from Wikipedia. In this example, we build the pipeline. In the next example, we'll apply it to the word-frequency array of some Wikipedia articles."
      ]
    },
    {
      "cell_type": "markdown",
      "metadata": {
        "hidden": true,
        "id": "bEz3iu-8wc0t"
      },
      "source": [
        "Let's create a Pipeline object consisting of a TruncatedSVD followed by KMeans. The word-frequency matrix is already computed, so there's no need for a `TfidfVectorizer`)."
      ]
    },
    {
      "cell_type": "markdown",
      "metadata": {
        "hidden": true,
        "id": "Mah5PD2xwc0t"
      },
      "source": [
        "The Wikipedia dataset we'll be working with was obtained from [here](https://blog.lateral.io/2015/06/the-unknown-perils-of-mining-wikipedia/)."
      ]
    },
    {
      "cell_type": "code",
      "metadata": {
        "ExecuteTime": {
          "end_time": "2020-02-15T17:33:48.288454Z",
          "start_time": "2020-02-15T17:33:48.227616Z"
        },
        "hidden": true,
        "id": "hYqxzaYIwc0t"
      },
      "source": [
        "# Perform the necessary imports\n",
        "from sklearn.decomposition import TruncatedSVD\n",
        "from sklearn.cluster import KMeans"
      ],
      "execution_count": 34,
      "outputs": []
    },
    {
      "cell_type": "code",
      "metadata": {
        "ExecuteTime": {
          "end_time": "2020-02-15T17:33:48.303415Z",
          "start_time": "2020-02-15T17:33:48.290449Z"
        },
        "hidden": true,
        "id": "mkJd5gQVwc0v"
      },
      "source": [
        "# Create a TruncatedSVD instance: svd\n",
        "svd = TruncatedSVD(n_components=50)"
      ],
      "execution_count": 35,
      "outputs": []
    },
    {
      "cell_type": "code",
      "metadata": {
        "ExecuteTime": {
          "end_time": "2020-02-15T17:33:48.318375Z",
          "start_time": "2020-02-15T17:33:48.305409Z"
        },
        "hidden": true,
        "id": "vYUnzGpkwc0x"
      },
      "source": [
        "# Create a KMeans instance: kmeans\n",
        "kmeans = KMeans(n_clusters=6)"
      ],
      "execution_count": 36,
      "outputs": []
    },
    {
      "cell_type": "code",
      "metadata": {
        "ExecuteTime": {
          "end_time": "2020-02-15T17:33:48.333335Z",
          "start_time": "2020-02-15T17:33:48.320371Z"
        },
        "hidden": true,
        "id": "PtMr6WAKwc0z"
      },
      "source": [
        "# Create a pipeline: pipeline\n",
        "pipeline = make_pipeline(svd, kmeans)"
      ],
      "execution_count": 37,
      "outputs": []
    },
    {
      "cell_type": "markdown",
      "metadata": {
        "heading_collapsed": true,
        "id": "lcRXoTWswc01"
      },
      "source": [
        "## Clustering Wikipedia part II"
      ]
    },
    {
      "cell_type": "markdown",
      "metadata": {
        "hidden": true,
        "id": "w18cQ8PCwc03"
      },
      "source": [
        "It is now time to put our pipeline from the previous example to work! We have an array `articles` of tf-idf word-frequencies of some popular Wikipedia articles, and a list `titles` of their titles. Let's use the pipeline to cluster the Wikipedia articles."
      ]
    },
    {
      "cell_type": "code",
      "metadata": {
        "ExecuteTime": {
          "end_time": "2020-02-15T17:34:14.670048Z",
          "start_time": "2020-02-15T17:34:14.466621Z"
        },
        "hidden": true,
        "id": "yaXz8S4Twc03",
        "outputId": "f06bcd63-978b-4098-e683-eec6d784367d",
        "colab": {
          "base_uri": "https://localhost:8080/",
          "height": 199
        }
      },
      "source": [
        "# Fit the pipeline to articles\n",
        "pipeline.fit(utils.articles)"
      ],
      "execution_count": 38,
      "outputs": [
        {
          "output_type": "execute_result",
          "data": {
            "text/plain": [
              "Pipeline(memory=None,\n",
              "         steps=[('truncatedsvd',\n",
              "                 TruncatedSVD(algorithm='randomized', n_components=50, n_iter=5,\n",
              "                              random_state=None, tol=0.0)),\n",
              "                ('kmeans',\n",
              "                 KMeans(algorithm='auto', copy_x=True, init='k-means++',\n",
              "                        max_iter=300, n_clusters=6, n_init=10, n_jobs=None,\n",
              "                        precompute_distances='auto', random_state=None,\n",
              "                        tol=0.0001, verbose=0))],\n",
              "         verbose=False)"
            ]
          },
          "metadata": {
            "tags": []
          },
          "execution_count": 38
        }
      ]
    },
    {
      "cell_type": "code",
      "metadata": {
        "ExecuteTime": {
          "end_time": "2020-02-15T17:34:14.951590Z",
          "start_time": "2020-02-15T17:34:14.938635Z"
        },
        "hidden": true,
        "id": "tfoU3Zgqwc06"
      },
      "source": [
        "# Calculate the cluster labels: labels\n",
        "labels = pipeline.predict(utils.articles)"
      ],
      "execution_count": 39,
      "outputs": []
    },
    {
      "cell_type": "code",
      "metadata": {
        "ExecuteTime": {
          "end_time": "2020-02-15T17:34:15.781556Z",
          "start_time": "2020-02-15T17:34:15.767578Z"
        },
        "hidden": true,
        "id": "qtZG2UIrwc08"
      },
      "source": [
        "# Create a DataFrame aligning labels and titles: df\n",
        "df = pd.DataFrame({'label': labels, 'article': utils.titles})"
      ],
      "execution_count": 40,
      "outputs": []
    },
    {
      "cell_type": "code",
      "metadata": {
        "ExecuteTime": {
          "end_time": "2020-02-15T17:34:16.480252Z",
          "start_time": "2020-02-15T17:34:16.463304Z"
        },
        "hidden": true,
        "id": "EcMjdQSJwc09",
        "outputId": "3adbcc38-6450-48ba-e6a4-e7fff81e3afc",
        "colab": {
          "base_uri": "https://localhost:8080/",
          "height": 1000
        }
      },
      "source": [
        "# Display df sorted by cluster label\n",
        "print(df.sort_values('label'))"
      ],
      "execution_count": 41,
      "outputs": [
        {
          "output_type": "stream",
          "text": [
            "    label                                        article\n",
            "36      0              2014 FIFA World Cup qualification\n",
            "30      0                  France national football team\n",
            "31      0                              Cristiano Ronaldo\n",
            "32      0                                   Arsenal F.C.\n",
            "33      0                                 Radamel Falcao\n",
            "34      0                             Zlatan Ibrahimović\n",
            "39      0                                  Franck Ribéry\n",
            "38      0                                         Neymar\n",
            "37      0                                       Football\n",
            "35      0                Colombia national football team\n",
            "18      1  2010 United Nations Climate Change Conference\n",
            "17      1  Greenhouse gas emissions by the United States\n",
            "16      1                                        350.org\n",
            "15      1                                 Kyoto Protocol\n",
            "14      1                                 Climate change\n",
            "12      1                                   Nigel Lawson\n",
            "11      1       Nationally Appropriate Mitigation Action\n",
            "19      1  2007 United Nations Climate Change Conference\n",
            "13      1                               Connie Hedegaard\n",
            "10      1                                 Global warming\n",
            "46      2                                     Prednisone\n",
            "47      2                                          Fever\n",
            "40      2                                    Tonsillitis\n",
            "41      2                                    Hepatitis B\n",
            "42      2                                    Doxycycline\n",
            "43      2                                       Leukemia\n",
            "44      2                                           Gout\n",
            "45      2                                    Hepatitis C\n",
            "49      2                                       Lymphoma\n",
            "48      2                                     Gabapentin\n",
            "0       3                                       HTTP 404\n",
            "7       3                                  Social search\n",
            "1       3                                 Alexa Internet\n",
            "2       3                              Internet Explorer\n",
            "3       3                                    HTTP cookie\n",
            "4       3                                  Google Search\n",
            "5       3                                         Tumblr\n",
            "9       3                                       LinkedIn\n",
            "8       3                                        Firefox\n",
            "6       3                    Hypertext Transfer Protocol\n",
            "51      4                                     Nate Ruess\n",
            "57      4                          Red Hot Chili Peppers\n",
            "56      4                                       Skrillex\n",
            "55      4                                  Black Sabbath\n",
            "53      4                                   Stevie Nicks\n",
            "52      4                                     The Wanted\n",
            "50      4                                   Chad Kroeger\n",
            "54      4                                 Arctic Monkeys\n",
            "59      4                                    Adam Levine\n",
            "58      4                                         Sepsis\n",
            "28      5                                  Anne Hathaway\n",
            "27      5                                 Dakota Fanning\n",
            "26      5                                     Mila Kunis\n",
            "25      5                                  Russell Crowe\n",
            "24      5                                   Jessica Biel\n",
            "23      5                           Catherine Zeta-Jones\n",
            "22      5                              Denzel Washington\n",
            "21      5                             Michael Fassbender\n",
            "20      5                                 Angelina Jolie\n",
            "29      5                               Jennifer Aniston\n"
          ],
          "name": "stdout"
        }
      ]
    },
    {
      "cell_type": "markdown",
      "metadata": {
        "hidden": true,
        "id": "fZlH5rlOwc0_"
      },
      "source": [
        "---\n",
        "**[Week 4 - Unsupervised Learning](https://radu-enuca.gitbook.io/ml-challenge/unsupervised-learning)**\n",
        "\n",
        "*Have questions or comments? Visit the ML Challenge Mattermost Channel.*"
      ]
    }
  ]
}