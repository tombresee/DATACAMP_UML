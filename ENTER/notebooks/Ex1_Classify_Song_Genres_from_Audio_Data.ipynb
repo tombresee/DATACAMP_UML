{
  "nbformat": 4,
  "nbformat_minor": 0,
  "metadata": {
    "kernelspec": {
      "display_name": "Python 3",
      "language": "python",
      "name": "python3"
    },
    "language_info": {
      "codemirror_mode": {
        "name": "ipython",
        "version": 3
      },
      "file_extension": ".py",
      "mimetype": "text/x-python",
      "name": "python",
      "nbconvert_exporter": "python",
      "pygments_lexer": "ipython3",
      "version": "3.7.4"
    },
    "toc": {
      "base_numbering": 1,
      "nav_menu": {},
      "number_sections": true,
      "sideBar": true,
      "skip_h1_title": false,
      "title_cell": "Table of Contents",
      "title_sidebar": "Contents",
      "toc_cell": false,
      "toc_position": {},
      "toc_section_display": true,
      "toc_window_display": false
    },
    "varInspector": {
      "cols": {
        "lenName": 16,
        "lenType": 16,
        "lenVar": 40
      },
      "kernels_config": {
        "python": {
          "delete_cmd_postfix": "",
          "delete_cmd_prefix": "del ",
          "library": "var_list.py",
          "varRefreshCmd": "print(var_dic_list())"
        },
        "r": {
          "delete_cmd_postfix": ") ",
          "delete_cmd_prefix": "rm(",
          "library": "var_list.r",
          "varRefreshCmd": "cat(var_dic_list()) "
        }
      },
      "types_to_exclude": [
        "module",
        "function",
        "builtin_function_or_method",
        "instance",
        "_Feature"
      ],
      "window_display": false
    },
    "colab": {
      "name": "Ex1.Classify Song Genres from Audio Data.ipynb",
      "provenance": [],
      "collapsed_sections": [],
      "include_colab_link": true
    }
  },
  "cells": [
    {
      "cell_type": "markdown",
      "metadata": {
        "id": "view-in-github",
        "colab_type": "text"
      },
      "source": [
        "<a href=\"https://colab.research.google.com/github/tombresee/DATACAMP_UML/blob/master/ENTER/notebooks/Ex1_Classify_Song_Genres_from_Audio_Data.ipynb\" target=\"_parent\"><img src=\"https://colab.research.google.com/assets/colab-badge.svg\" alt=\"Open In Colab\"/></a>"
      ]
    },
    {
      "cell_type": "markdown",
      "metadata": {
        "id": "ZHHNiIU5xLWe"
      },
      "source": [
        "<a href=\"https://colab.research.google.com/github/ML-Challenge/week4-unsupervised-learning/blob/master/Ex1.Classify%20Song%20Genres%20from%20Audio%20Data%20-%20Solution.ipynb\" target=\"_parent\"><img src=\"https://colab.research.google.com/assets/colab-badge.svg\" /></a>"
      ]
    },
    {
      "cell_type": "markdown",
      "metadata": {
        "heading_collapsed": true,
        "id": "P8q79wJuxLWf"
      },
      "source": [
        "## Setup"
      ]
    },
    {
      "cell_type": "code",
      "metadata": {
        "ExecuteTime": {
          "end_time": "2020-02-15T08:26:33.163118Z",
          "start_time": "2020-02-15T08:26:33.150125Z"
        },
        "hidden": true,
        "id": "H1E36On3xLWg",
        "outputId": "a33d7547-9db7-4b68-9ec7-5ce10abf16f4",
        "colab": {
          "base_uri": "https://localhost:8080/",
          "height": 655
        }
      },
      "source": [
        "!wget \"https://github.com/ML-Challenge/week4-unsupervised-learning/raw/master/datasets.zip\"\n",
        "!unzip -o datasets.zip"
      ],
      "execution_count": 12,
      "outputs": [
        {
          "output_type": "stream",
          "text": [
            "--2020-09-26 23:35:23--  https://github.com/ML-Challenge/week4-unsupervised-learning/raw/master/datasets.zip\n",
            "Resolving github.com (github.com)... 140.82.114.4\n",
            "Connecting to github.com (github.com)|140.82.114.4|:443... connected.\n",
            "HTTP request sent, awaiting response... 302 Found\n",
            "Location: https://raw.githubusercontent.com/ML-Challenge/week4-unsupervised-learning/master/datasets.zip [following]\n",
            "--2020-09-26 23:35:23--  https://raw.githubusercontent.com/ML-Challenge/week4-unsupervised-learning/master/datasets.zip\n",
            "Resolving raw.githubusercontent.com (raw.githubusercontent.com)... 151.101.0.133, 151.101.64.133, 151.101.128.133, ...\n",
            "Connecting to raw.githubusercontent.com (raw.githubusercontent.com)|151.101.0.133|:443... connected.\n",
            "HTTP request sent, awaiting response... 200 OK\n",
            "Length: 2227561 (2.1M) [application/zip]\n",
            "Saving to: ‘datasets.zip.1’\n",
            "\n",
            "datasets.zip.1      100%[===================>]   2.12M  8.95MB/s    in 0.2s    \n",
            "\n",
            "2020-09-26 23:35:23 (8.95 MB/s) - ‘datasets.zip.1’ saved [2227561/2227561]\n",
            "\n",
            "Archive:  datasets.zip\n",
            "  inflating: utils.py                \n",
            "  inflating: data/miles-driven.csv   \n",
            "  inflating: data/fish.csv           \n",
            "  inflating: data/company-stock-movements-2010-2015-incl.csv  \n",
            "  inflating: data/eurovision-2016.csv  \n",
            "  inflating: data/wine.csv           \n",
            "  inflating: data/Grains/seeds.csv   \n",
            "  inflating: data/Grains/seeds-width-vs-length.csv  \n",
            "  inflating: data/fma-rock-vs-hiphop.csv  \n",
            "  inflating: data/road-accidents.csv  \n",
            "  inflating: data/echonest-metrics.json  \n",
            "  inflating: data/Musical artists/scrobbler-small-sample.csv  \n",
            "  inflating: data/Musical artists/artists.csv  \n",
            "  inflating: data/Wikipedia articles/preprocessing.md  \n",
            "  inflating: data/Wikipedia articles/wikipedia-vectors.csv  \n",
            "  inflating: data/Wikipedia articles/wikipedia-vocabulary-utf8.txt  \n",
            "  inflating: data/lcd-digits.csv     \n"
          ],
          "name": "stdout"
        }
      ]
    },
    {
      "cell_type": "markdown",
      "metadata": {
        "ExecuteTime": {
          "end_time": "2020-02-20T11:17:23.642503Z",
          "start_time": "2020-02-20T11:17:23.628509Z"
        },
        "id": "b1cWDmWAxLWj"
      },
      "source": [
        "## Project Description"
      ]
    },
    {
      "cell_type": "markdown",
      "metadata": {
        "id": "CEZHP6IQxLWk"
      },
      "source": [
        "Using a dataset comprised of songs of two music genres (Hip-Hop and Rock), you will train a classifier to distinguish between the two genres based only on track information derived from [Echonest](http://the.echonest.com/) (now part of Spotify). You will first make use of pandas and seaborn packages in Python for subsetting the data, aggregating information, and creating plots when exploring the data for obvious trends or factors you should be aware of when doing machine learning. Next, you will use the scikit-learn package to predict whether you can correctly classify a song's genre based on features such as danceability, energy, acousticness, tempo, etc. You will go over implementations of common algorithms such as PCA, logistic regression, decision trees, and so forth."
      ]
    },
    {
      "cell_type": "markdown",
      "metadata": {
        "dc": {
          "key": "3"
        },
        "tags": [
          "context"
        ],
        "id": "tvACL8OoxLWk"
      },
      "source": [
        "<p><em>These recommendations are so on point! How does this playlist know me so well?</em></p>\n",
        "\n",
        "<p>Over the past few years, streaming services with huge catalogs have become the primary means through which most people listen to their favorite music. But at the same time, the sheer amount of music on offer can mean users might be a bit overwhelmed when trying to look for newer music that suits their tastes.</p>\n",
        "<p>For this reason, streaming services have looked into means of categorizing music to allow for personalized recommendations. One method involves direct analysis of the raw audio information in a given song, scoring the raw data on a variety of metrics. Today, we'll be examining data compiled by a research group known as The Echo Nest. Our goal is to look through this dataset and classify songs as being either 'Hip-Hop' or 'Rock' - all without listening to a single one ourselves. In doing so, we will learn how to clean our data, do some exploratory data visualization, and use feature reduction towards the goal of feeding our data through some simple machine learning algorithms, such as decision trees and logistic regression.</p>\n",
        "<p>To begin with, let's load the metadata about our tracks alongside the track metrics compiled by The Echo Nest. A song is about more than its title, artist, and number of listens. We have another dataset that has musical features of each track such as <code>danceability</code> and <code>acousticness</code> on a scale from -1 to 1. These exist in two different files, which are in different formats - CSV and JSON. While CSV is a popular file format for denoting tabular data, JSON is another common file format in which databases often return the results of a given query.</p>\n",
        "<p>Let's start by creating two pandas <code>DataFrames</code> out of these files that we can merge so we have features and labels (often also referred to as <code>X</code> and <code>y</code>) for the classification later on.</p>"
      ]
    },
    {
      "cell_type": "markdown",
      "metadata": {
        "toc-hr-collapsed": false,
        "id": "-XiCk2nyxLWl"
      },
      "source": [
        "## Preparing our dataset"
      ]
    },
    {
      "cell_type": "markdown",
      "metadata": {
        "id": "wY0XjenFxLWl"
      },
      "source": [
        "### Task 1: Instructions"
      ]
    },
    {
      "cell_type": "markdown",
      "metadata": {
        "id": "wDXWF1WwxLWm"
      },
      "source": [
        "Read in the data using pandas and merge the DataFrames into one usable dataset.\n",
        "\n",
        "* Read in the file with the track metadata (`data/fma-rock-vs-hiphop.csv`) and name the DataFrame `tracks`.\n",
        "* Read in the JSON file with the track acoustic metrics (`data/echonest-metrics.json`) and name the DataFrame `echonest_metrics`. Set the `precise_float` argument to True when reading in your data.\n",
        "* Merge the DataFrames on matching `track_id` values. Only retain the `track_id` and `genre_top` columns of `tracks`. `echonest_metrics` should be the first (left) data frame in the merge.\n",
        "* Inspect the DataFrame using the `.info()` method.\n",
        "\n",
        "Helpful links:\n",
        "\n",
        "* Documentation for pandas [read_csv()](https://pandas.pydata.org/pandas-docs/stable/reference/api/pandas.read_csv.html), [read_json()](https://pandas.pydata.org/pandas-docs/stable/reference/api/pandas.read_json.html) and [pd.merge()](https://pandas.pydata.org/pandas-docs/stable/reference/api/pandas.DataFrame.merge.html) functions"
      ]
    },
    {
      "cell_type": "code",
      "metadata": {
        "ExecuteTime": {
          "end_time": "2020-02-20T17:03:35.491542Z",
          "start_time": "2020-02-20T17:03:35.060695Z"
        },
        "id": "c77rJqGRxLWm",
        "outputId": "d83c7538-bf34-475e-eaf1-edd787dfde5f",
        "colab": {
          "base_uri": "https://localhost:8080/",
          "height": 326
        }
      },
      "source": [
        "import pandas as pd\n",
        "\n",
        "# Read in track metadata with genre labels\n",
        "tracks = pd.read_csv('data/fma-rock-vs-hiphop.csv')\n",
        "\n",
        "# Read in track metrics with the features\n",
        "echonest_metrics = pd.read_json('data/echonest-metrics.json',precise_float=True)\n",
        "\n",
        "# Merge the relevant columns of tracks and echonest_metrics\n",
        "echo_tracks = pd.merge(left=echonest_metrics,right=tracks[['track_id','genre_top']],on='track_id')\n",
        "\n",
        "# Inspect the resultant dataframe\n",
        "echo_tracks.info()"
      ],
      "execution_count": 13,
      "outputs": [
        {
          "output_type": "stream",
          "text": [
            "<class 'pandas.core.frame.DataFrame'>\n",
            "Int64Index: 4802 entries, 0 to 4801\n",
            "Data columns (total 10 columns):\n",
            " #   Column            Non-Null Count  Dtype  \n",
            "---  ------            --------------  -----  \n",
            " 0   track_id          4802 non-null   int64  \n",
            " 1   acousticness      4802 non-null   float64\n",
            " 2   danceability      4802 non-null   float64\n",
            " 3   energy            4802 non-null   float64\n",
            " 4   instrumentalness  4802 non-null   float64\n",
            " 5   liveness          4802 non-null   float64\n",
            " 6   speechiness       4802 non-null   float64\n",
            " 7   tempo             4802 non-null   float64\n",
            " 8   valence           4802 non-null   float64\n",
            " 9   genre_top         4802 non-null   object \n",
            "dtypes: float64(8), int64(1), object(1)\n",
            "memory usage: 412.7+ KB\n"
          ],
          "name": "stdout"
        }
      ]
    },
    {
      "cell_type": "markdown",
      "metadata": {
        "toc-hr-collapsed": false,
        "id": "XZCqE2G6xLWp"
      },
      "source": [
        "## Pairwise relationships between continuous variables"
      ]
    },
    {
      "cell_type": "markdown",
      "metadata": {
        "dc": {
          "key": "10"
        },
        "tags": [
          "context"
        ],
        "id": "mTRV_CkqxLWq"
      },
      "source": [
        "<p>We typically want to avoid using variables that have strong correlations with each other -- hence avoiding feature redundancy -- for a few reasons:</p>\n",
        "<ul>\n",
        "<li>To keep the model simple and improve interpretability (with many features, we run the risk of overfitting).</li>\n",
        "<li>When our datasets are very large, using fewer features can drastically speed up our computation time.</li>\n",
        "</ul>\n",
        "<p>To get a sense of whether there are any strongly correlated features in our data, we will use built-in functions in the <code>pandas</code> package.</p>"
      ]
    },
    {
      "cell_type": "markdown",
      "metadata": {
        "id": "qSMMTt_OxLWq"
      },
      "source": [
        "### Task 2: Instructions"
      ]
    },
    {
      "cell_type": "markdown",
      "metadata": {
        "id": "ndO-suI_xLWr"
      },
      "source": [
        "Explore correlations in our dataset using pandas `corr` function.\n",
        "\n",
        "* Visually inspect the correlation table generated from `DataFrame.corr()` for any strong correlations."
      ]
    },
    {
      "cell_type": "code",
      "metadata": {
        "ExecuteTime": {
          "end_time": "2020-02-20T17:03:35.790774Z",
          "start_time": "2020-02-20T17:03:35.493538Z"
        },
        "id": "d7hU3T3qxLWr",
        "outputId": "48d36089-5733-4c85-a738-9df730b4d1e2",
        "colab": {
          "base_uri": "https://localhost:8080/",
          "height": 228
        }
      },
      "source": [
        "# Create a correlation matrix\n",
        "corr_metrics = echo_tracks.corr()\n",
        "corr_metrics.style.background_gradient()"
      ],
      "execution_count": 14,
      "outputs": [
        {
          "output_type": "execute_result",
          "data": {
            "text/html": [
              "<style  type=\"text/css\" >\n",
              "    #T_f343eb04_0050_11eb_9465_0242ac1c0002row0_col0 {\n",
              "            background-color:  #023858;\n",
              "            color:  #f1f1f1;\n",
              "        }    #T_f343eb04_0050_11eb_9465_0242ac1c0002row0_col1 {\n",
              "            background-color:  #fff7fb;\n",
              "            color:  #000000;\n",
              "        }    #T_f343eb04_0050_11eb_9465_0242ac1c0002row0_col2 {\n",
              "            background-color:  #d2d2e7;\n",
              "            color:  #000000;\n",
              "        }    #T_f343eb04_0050_11eb_9465_0242ac1c0002row0_col3 {\n",
              "            background-color:  #b5c4df;\n",
              "            color:  #000000;\n",
              "        }    #T_f343eb04_0050_11eb_9465_0242ac1c0002row0_col4 {\n",
              "            background-color:  #f5eef6;\n",
              "            color:  #000000;\n",
              "        }    #T_f343eb04_0050_11eb_9465_0242ac1c0002row0_col5 {\n",
              "            background-color:  #e9e5f1;\n",
              "            color:  #000000;\n",
              "        }    #T_f343eb04_0050_11eb_9465_0242ac1c0002row0_col6 {\n",
              "            background-color:  #d1d2e6;\n",
              "            color:  #000000;\n",
              "        }    #T_f343eb04_0050_11eb_9465_0242ac1c0002row0_col7 {\n",
              "            background-color:  #e1dfed;\n",
              "            color:  #000000;\n",
              "        }    #T_f343eb04_0050_11eb_9465_0242ac1c0002row0_col8 {\n",
              "            background-color:  #dedcec;\n",
              "            color:  #000000;\n",
              "        }    #T_f343eb04_0050_11eb_9465_0242ac1c0002row1_col0 {\n",
              "            background-color:  #fff7fb;\n",
              "            color:  #000000;\n",
              "        }    #T_f343eb04_0050_11eb_9465_0242ac1c0002row1_col1 {\n",
              "            background-color:  #023858;\n",
              "            color:  #f1f1f1;\n",
              "        }    #T_f343eb04_0050_11eb_9465_0242ac1c0002row1_col2 {\n",
              "            background-color:  #e0dded;\n",
              "            color:  #000000;\n",
              "        }    #T_f343eb04_0050_11eb_9465_0242ac1c0002row1_col3 {\n",
              "            background-color:  #fff7fb;\n",
              "            color:  #000000;\n",
              "        }    #T_f343eb04_0050_11eb_9465_0242ac1c0002row1_col4 {\n",
              "            background-color:  #97b7d7;\n",
              "            color:  #000000;\n",
              "        }    #T_f343eb04_0050_11eb_9465_0242ac1c0002row1_col5 {\n",
              "            background-color:  #f3edf5;\n",
              "            color:  #000000;\n",
              "        }    #T_f343eb04_0050_11eb_9465_0242ac1c0002row1_col6 {\n",
              "            background-color:  #b8c6e0;\n",
              "            color:  #000000;\n",
              "        }    #T_f343eb04_0050_11eb_9465_0242ac1c0002row1_col7 {\n",
              "            background-color:  #e1dfed;\n",
              "            color:  #000000;\n",
              "        }    #T_f343eb04_0050_11eb_9465_0242ac1c0002row1_col8 {\n",
              "            background-color:  #e2dfee;\n",
              "            color:  #000000;\n",
              "        }    #T_f343eb04_0050_11eb_9465_0242ac1c0002row2_col0 {\n",
              "            background-color:  #bdc8e1;\n",
              "            color:  #000000;\n",
              "        }    #T_f343eb04_0050_11eb_9465_0242ac1c0002row2_col1 {\n",
              "            background-color:  #d0d1e6;\n",
              "            color:  #000000;\n",
              "        }    #T_f343eb04_0050_11eb_9465_0242ac1c0002row2_col2 {\n",
              "            background-color:  #023858;\n",
              "            color:  #f1f1f1;\n",
              "        }    #T_f343eb04_0050_11eb_9465_0242ac1c0002row2_col3 {\n",
              "            background-color:  #fbf3f9;\n",
              "            color:  #000000;\n",
              "        }    #T_f343eb04_0050_11eb_9465_0242ac1c0002row2_col4 {\n",
              "            background-color:  #f3edf5;\n",
              "            color:  #000000;\n",
              "        }    #T_f343eb04_0050_11eb_9465_0242ac1c0002row2_col5 {\n",
              "            background-color:  #fff7fb;\n",
              "            color:  #000000;\n",
              "        }    #T_f343eb04_0050_11eb_9465_0242ac1c0002row2_col6 {\n",
              "            background-color:  #80aed2;\n",
              "            color:  #000000;\n",
              "        }    #T_f343eb04_0050_11eb_9465_0242ac1c0002row2_col7 {\n",
              "            background-color:  #fff7fb;\n",
              "            color:  #000000;\n",
              "        }    #T_f343eb04_0050_11eb_9465_0242ac1c0002row2_col8 {\n",
              "            background-color:  #529bc7;\n",
              "            color:  #000000;\n",
              "        }    #T_f343eb04_0050_11eb_9465_0242ac1c0002row3_col0 {\n",
              "            background-color:  #a7bddb;\n",
              "            color:  #000000;\n",
              "        }    #T_f343eb04_0050_11eb_9465_0242ac1c0002row3_col1 {\n",
              "            background-color:  #f5eff6;\n",
              "            color:  #000000;\n",
              "        }    #T_f343eb04_0050_11eb_9465_0242ac1c0002row3_col2 {\n",
              "            background-color:  #fef6fa;\n",
              "            color:  #000000;\n",
              "        }    #T_f343eb04_0050_11eb_9465_0242ac1c0002row3_col3 {\n",
              "            background-color:  #023858;\n",
              "            color:  #f1f1f1;\n",
              "        }    #T_f343eb04_0050_11eb_9465_0242ac1c0002row3_col4 {\n",
              "            background-color:  #c4cbe3;\n",
              "            color:  #000000;\n",
              "        }    #T_f343eb04_0050_11eb_9465_0242ac1c0002row3_col5 {\n",
              "            background-color:  #dcdaeb;\n",
              "            color:  #000000;\n",
              "        }    #T_f343eb04_0050_11eb_9465_0242ac1c0002row3_col6 {\n",
              "            background-color:  #dedcec;\n",
              "            color:  #000000;\n",
              "        }    #T_f343eb04_0050_11eb_9465_0242ac1c0002row3_col7 {\n",
              "            background-color:  #adc1dd;\n",
              "            color:  #000000;\n",
              "        }    #T_f343eb04_0050_11eb_9465_0242ac1c0002row3_col8 {\n",
              "            background-color:  #d9d8ea;\n",
              "            color:  #000000;\n",
              "        }    #T_f343eb04_0050_11eb_9465_0242ac1c0002row4_col0 {\n",
              "            background-color:  #f4eef6;\n",
              "            color:  #000000;\n",
              "        }    #T_f343eb04_0050_11eb_9465_0242ac1c0002row4_col1 {\n",
              "            background-color:  #97b7d7;\n",
              "            color:  #000000;\n",
              "        }    #T_f343eb04_0050_11eb_9465_0242ac1c0002row4_col2 {\n",
              "            background-color:  #fff7fb;\n",
              "            color:  #000000;\n",
              "        }    #T_f343eb04_0050_11eb_9465_0242ac1c0002row4_col3 {\n",
              "            background-color:  #d2d3e7;\n",
              "            color:  #000000;\n",
              "        }    #T_f343eb04_0050_11eb_9465_0242ac1c0002row4_col4 {\n",
              "            background-color:  #023858;\n",
              "            color:  #f1f1f1;\n",
              "        }    #T_f343eb04_0050_11eb_9465_0242ac1c0002row4_col5 {\n",
              "            background-color:  #fdf5fa;\n",
              "            color:  #000000;\n",
              "        }    #T_f343eb04_0050_11eb_9465_0242ac1c0002row4_col6 {\n",
              "            background-color:  #fff7fb;\n",
              "            color:  #000000;\n",
              "        }    #T_f343eb04_0050_11eb_9465_0242ac1c0002row4_col7 {\n",
              "            background-color:  #d9d8ea;\n",
              "            color:  #000000;\n",
              "        }    #T_f343eb04_0050_11eb_9465_0242ac1c0002row4_col8 {\n",
              "            background-color:  #fff7fb;\n",
              "            color:  #000000;\n",
              "        }    #T_f343eb04_0050_11eb_9465_0242ac1c0002row5_col0 {\n",
              "            background-color:  #bdc8e1;\n",
              "            color:  #000000;\n",
              "        }    #T_f343eb04_0050_11eb_9465_0242ac1c0002row5_col1 {\n",
              "            background-color:  #ced0e6;\n",
              "            color:  #000000;\n",
              "        }    #T_f343eb04_0050_11eb_9465_0242ac1c0002row5_col2 {\n",
              "            background-color:  #ede8f3;\n",
              "            color:  #000000;\n",
              "        }    #T_f343eb04_0050_11eb_9465_0242ac1c0002row5_col3 {\n",
              "            background-color:  #bdc8e1;\n",
              "            color:  #000000;\n",
              "        }    #T_f343eb04_0050_11eb_9465_0242ac1c0002row5_col4 {\n",
              "            background-color:  #dbdaeb;\n",
              "            color:  #000000;\n",
              "        }    #T_f343eb04_0050_11eb_9465_0242ac1c0002row5_col5 {\n",
              "            background-color:  #023858;\n",
              "            color:  #f1f1f1;\n",
              "        }    #T_f343eb04_0050_11eb_9465_0242ac1c0002row5_col6 {\n",
              "            background-color:  #c0c9e2;\n",
              "            color:  #000000;\n",
              "        }    #T_f343eb04_0050_11eb_9465_0242ac1c0002row5_col7 {\n",
              "            background-color:  #dcdaeb;\n",
              "            color:  #000000;\n",
              "        }    #T_f343eb04_0050_11eb_9465_0242ac1c0002row5_col8 {\n",
              "            background-color:  #e8e4f0;\n",
              "            color:  #000000;\n",
              "        }    #T_f343eb04_0050_11eb_9465_0242ac1c0002row6_col0 {\n",
              "            background-color:  #d0d1e6;\n",
              "            color:  #000000;\n",
              "        }    #T_f343eb04_0050_11eb_9465_0242ac1c0002row6_col1 {\n",
              "            background-color:  #b8c6e0;\n",
              "            color:  #000000;\n",
              "        }    #T_f343eb04_0050_11eb_9465_0242ac1c0002row6_col2 {\n",
              "            background-color:  #93b5d6;\n",
              "            color:  #000000;\n",
              "        }    #T_f343eb04_0050_11eb_9465_0242ac1c0002row6_col3 {\n",
              "            background-color:  #eae6f1;\n",
              "            color:  #000000;\n",
              "        }    #T_f343eb04_0050_11eb_9465_0242ac1c0002row6_col4 {\n",
              "            background-color:  #fff7fb;\n",
              "            color:  #000000;\n",
              "        }    #T_f343eb04_0050_11eb_9465_0242ac1c0002row6_col5 {\n",
              "            background-color:  #eae6f1;\n",
              "            color:  #000000;\n",
              "        }    #T_f343eb04_0050_11eb_9465_0242ac1c0002row6_col6 {\n",
              "            background-color:  #023858;\n",
              "            color:  #f1f1f1;\n",
              "        }    #T_f343eb04_0050_11eb_9465_0242ac1c0002row6_col7 {\n",
              "            background-color:  #dbdaeb;\n",
              "            color:  #000000;\n",
              "        }    #T_f343eb04_0050_11eb_9465_0242ac1c0002row6_col8 {\n",
              "            background-color:  #bfc9e1;\n",
              "            color:  #000000;\n",
              "        }    #T_f343eb04_0050_11eb_9465_0242ac1c0002row7_col0 {\n",
              "            background-color:  #d0d1e6;\n",
              "            color:  #000000;\n",
              "        }    #T_f343eb04_0050_11eb_9465_0242ac1c0002row7_col1 {\n",
              "            background-color:  #d0d1e6;\n",
              "            color:  #000000;\n",
              "        }    #T_f343eb04_0050_11eb_9465_0242ac1c0002row7_col2 {\n",
              "            background-color:  #fef6fa;\n",
              "            color:  #000000;\n",
              "        }    #T_f343eb04_0050_11eb_9465_0242ac1c0002row7_col3 {\n",
              "            background-color:  #a7bddb;\n",
              "            color:  #000000;\n",
              "        }    #T_f343eb04_0050_11eb_9465_0242ac1c0002row7_col4 {\n",
              "            background-color:  #c5cce3;\n",
              "            color:  #000000;\n",
              "        }    #T_f343eb04_0050_11eb_9465_0242ac1c0002row7_col5 {\n",
              "            background-color:  #f0eaf4;\n",
              "            color:  #000000;\n",
              "        }    #T_f343eb04_0050_11eb_9465_0242ac1c0002row7_col6 {\n",
              "            background-color:  #c8cde4;\n",
              "            color:  #000000;\n",
              "        }    #T_f343eb04_0050_11eb_9465_0242ac1c0002row7_col7 {\n",
              "            background-color:  #023858;\n",
              "            color:  #f1f1f1;\n",
              "        }    #T_f343eb04_0050_11eb_9465_0242ac1c0002row7_col8 {\n",
              "            background-color:  #d6d6e9;\n",
              "            color:  #000000;\n",
              "        }    #T_f343eb04_0050_11eb_9465_0242ac1c0002row8_col0 {\n",
              "            background-color:  #c6cce3;\n",
              "            color:  #000000;\n",
              "        }    #T_f343eb04_0050_11eb_9465_0242ac1c0002row8_col1 {\n",
              "            background-color:  #cdd0e5;\n",
              "            color:  #000000;\n",
              "        }    #T_f343eb04_0050_11eb_9465_0242ac1c0002row8_col2 {\n",
              "            background-color:  #4c99c5;\n",
              "            color:  #000000;\n",
              "        }    #T_f343eb04_0050_11eb_9465_0242ac1c0002row8_col3 {\n",
              "            background-color:  #d1d2e6;\n",
              "            color:  #000000;\n",
              "        }    #T_f343eb04_0050_11eb_9465_0242ac1c0002row8_col4 {\n",
              "            background-color:  #efe9f3;\n",
              "            color:  #000000;\n",
              "        }    #T_f343eb04_0050_11eb_9465_0242ac1c0002row8_col5 {\n",
              "            background-color:  #f7f0f7;\n",
              "            color:  #000000;\n",
              "        }    #T_f343eb04_0050_11eb_9465_0242ac1c0002row8_col6 {\n",
              "            background-color:  #a5bddb;\n",
              "            color:  #000000;\n",
              "        }    #T_f343eb04_0050_11eb_9465_0242ac1c0002row8_col7 {\n",
              "            background-color:  #d3d4e7;\n",
              "            color:  #000000;\n",
              "        }    #T_f343eb04_0050_11eb_9465_0242ac1c0002row8_col8 {\n",
              "            background-color:  #023858;\n",
              "            color:  #f1f1f1;\n",
              "        }</style><table id=\"T_f343eb04_0050_11eb_9465_0242ac1c0002\" ><thead>    <tr>        <th class=\"blank level0\" ></th>        <th class=\"col_heading level0 col0\" >track_id</th>        <th class=\"col_heading level0 col1\" >acousticness</th>        <th class=\"col_heading level0 col2\" >danceability</th>        <th class=\"col_heading level0 col3\" >energy</th>        <th class=\"col_heading level0 col4\" >instrumentalness</th>        <th class=\"col_heading level0 col5\" >liveness</th>        <th class=\"col_heading level0 col6\" >speechiness</th>        <th class=\"col_heading level0 col7\" >tempo</th>        <th class=\"col_heading level0 col8\" >valence</th>    </tr></thead><tbody>\n",
              "                <tr>\n",
              "                        <th id=\"T_f343eb04_0050_11eb_9465_0242ac1c0002level0_row0\" class=\"row_heading level0 row0\" >track_id</th>\n",
              "                        <td id=\"T_f343eb04_0050_11eb_9465_0242ac1c0002row0_col0\" class=\"data row0 col0\" >1.000000</td>\n",
              "                        <td id=\"T_f343eb04_0050_11eb_9465_0242ac1c0002row0_col1\" class=\"data row0 col1\" >-0.372282</td>\n",
              "                        <td id=\"T_f343eb04_0050_11eb_9465_0242ac1c0002row0_col2\" class=\"data row0 col2\" >0.049454</td>\n",
              "                        <td id=\"T_f343eb04_0050_11eb_9465_0242ac1c0002row0_col3\" class=\"data row0 col3\" >0.140703</td>\n",
              "                        <td id=\"T_f343eb04_0050_11eb_9465_0242ac1c0002row0_col4\" class=\"data row0 col4\" >-0.275623</td>\n",
              "                        <td id=\"T_f343eb04_0050_11eb_9465_0242ac1c0002row0_col5\" class=\"data row0 col5\" >0.048231</td>\n",
              "                        <td id=\"T_f343eb04_0050_11eb_9465_0242ac1c0002row0_col6\" class=\"data row0 col6\" >-0.026995</td>\n",
              "                        <td id=\"T_f343eb04_0050_11eb_9465_0242ac1c0002row0_col7\" class=\"data row0 col7\" >-0.025392</td>\n",
              "                        <td id=\"T_f343eb04_0050_11eb_9465_0242ac1c0002row0_col8\" class=\"data row0 col8\" >0.010070</td>\n",
              "            </tr>\n",
              "            <tr>\n",
              "                        <th id=\"T_f343eb04_0050_11eb_9465_0242ac1c0002level0_row1\" class=\"row_heading level0 row1\" >acousticness</th>\n",
              "                        <td id=\"T_f343eb04_0050_11eb_9465_0242ac1c0002row1_col0\" class=\"data row1 col0\" >-0.372282</td>\n",
              "                        <td id=\"T_f343eb04_0050_11eb_9465_0242ac1c0002row1_col1\" class=\"data row1 col1\" >1.000000</td>\n",
              "                        <td id=\"T_f343eb04_0050_11eb_9465_0242ac1c0002row1_col2\" class=\"data row1 col2\" >-0.028954</td>\n",
              "                        <td id=\"T_f343eb04_0050_11eb_9465_0242ac1c0002row1_col3\" class=\"data row1 col3\" >-0.281619</td>\n",
              "                        <td id=\"T_f343eb04_0050_11eb_9465_0242ac1c0002row1_col4\" class=\"data row1 col4\" >0.194780</td>\n",
              "                        <td id=\"T_f343eb04_0050_11eb_9465_0242ac1c0002row1_col5\" class=\"data row1 col5\" >-0.019991</td>\n",
              "                        <td id=\"T_f343eb04_0050_11eb_9465_0242ac1c0002row1_col6\" class=\"data row1 col6\" >0.072204</td>\n",
              "                        <td id=\"T_f343eb04_0050_11eb_9465_0242ac1c0002row1_col7\" class=\"data row1 col7\" >-0.026310</td>\n",
              "                        <td id=\"T_f343eb04_0050_11eb_9465_0242ac1c0002row1_col8\" class=\"data row1 col8\" >-0.013841</td>\n",
              "            </tr>\n",
              "            <tr>\n",
              "                        <th id=\"T_f343eb04_0050_11eb_9465_0242ac1c0002level0_row2\" class=\"row_heading level0 row2\" >danceability</th>\n",
              "                        <td id=\"T_f343eb04_0050_11eb_9465_0242ac1c0002row2_col0\" class=\"data row2 col0\" >0.049454</td>\n",
              "                        <td id=\"T_f343eb04_0050_11eb_9465_0242ac1c0002row2_col1\" class=\"data row2 col1\" >-0.028954</td>\n",
              "                        <td id=\"T_f343eb04_0050_11eb_9465_0242ac1c0002row2_col2\" class=\"data row2 col2\" >1.000000</td>\n",
              "                        <td id=\"T_f343eb04_0050_11eb_9465_0242ac1c0002row2_col3\" class=\"data row2 col3\" >-0.242032</td>\n",
              "                        <td id=\"T_f343eb04_0050_11eb_9465_0242ac1c0002row2_col4\" class=\"data row2 col4\" >-0.255217</td>\n",
              "                        <td id=\"T_f343eb04_0050_11eb_9465_0242ac1c0002row2_col5\" class=\"data row2 col5\" >-0.106584</td>\n",
              "                        <td id=\"T_f343eb04_0050_11eb_9465_0242ac1c0002row2_col6\" class=\"data row2 col6\" >0.276206</td>\n",
              "                        <td id=\"T_f343eb04_0050_11eb_9465_0242ac1c0002row2_col7\" class=\"data row2 col7\" >-0.242089</td>\n",
              "                        <td id=\"T_f343eb04_0050_11eb_9465_0242ac1c0002row2_col8\" class=\"data row2 col8\" >0.473165</td>\n",
              "            </tr>\n",
              "            <tr>\n",
              "                        <th id=\"T_f343eb04_0050_11eb_9465_0242ac1c0002level0_row3\" class=\"row_heading level0 row3\" >energy</th>\n",
              "                        <td id=\"T_f343eb04_0050_11eb_9465_0242ac1c0002row3_col0\" class=\"data row3 col0\" >0.140703</td>\n",
              "                        <td id=\"T_f343eb04_0050_11eb_9465_0242ac1c0002row3_col1\" class=\"data row3 col1\" >-0.281619</td>\n",
              "                        <td id=\"T_f343eb04_0050_11eb_9465_0242ac1c0002row3_col2\" class=\"data row3 col2\" >-0.242032</td>\n",
              "                        <td id=\"T_f343eb04_0050_11eb_9465_0242ac1c0002row3_col3\" class=\"data row3 col3\" >1.000000</td>\n",
              "                        <td id=\"T_f343eb04_0050_11eb_9465_0242ac1c0002row3_col4\" class=\"data row3 col4\" >0.028238</td>\n",
              "                        <td id=\"T_f343eb04_0050_11eb_9465_0242ac1c0002row3_col5\" class=\"data row3 col5\" >0.113331</td>\n",
              "                        <td id=\"T_f343eb04_0050_11eb_9465_0242ac1c0002row3_col6\" class=\"data row3 col6\" >-0.109983</td>\n",
              "                        <td id=\"T_f343eb04_0050_11eb_9465_0242ac1c0002row3_col7\" class=\"data row3 col7\" >0.195227</td>\n",
              "                        <td id=\"T_f343eb04_0050_11eb_9465_0242ac1c0002row3_col8\" class=\"data row3 col8\" >0.038603</td>\n",
              "            </tr>\n",
              "            <tr>\n",
              "                        <th id=\"T_f343eb04_0050_11eb_9465_0242ac1c0002level0_row4\" class=\"row_heading level0 row4\" >instrumentalness</th>\n",
              "                        <td id=\"T_f343eb04_0050_11eb_9465_0242ac1c0002row4_col0\" class=\"data row4 col0\" >-0.275623</td>\n",
              "                        <td id=\"T_f343eb04_0050_11eb_9465_0242ac1c0002row4_col1\" class=\"data row4 col1\" >0.194780</td>\n",
              "                        <td id=\"T_f343eb04_0050_11eb_9465_0242ac1c0002row4_col2\" class=\"data row4 col2\" >-0.255217</td>\n",
              "                        <td id=\"T_f343eb04_0050_11eb_9465_0242ac1c0002row4_col3\" class=\"data row4 col3\" >0.028238</td>\n",
              "                        <td id=\"T_f343eb04_0050_11eb_9465_0242ac1c0002row4_col4\" class=\"data row4 col4\" >1.000000</td>\n",
              "                        <td id=\"T_f343eb04_0050_11eb_9465_0242ac1c0002row4_col5\" class=\"data row4 col5\" >-0.091022</td>\n",
              "                        <td id=\"T_f343eb04_0050_11eb_9465_0242ac1c0002row4_col6\" class=\"data row4 col6\" >-0.366762</td>\n",
              "                        <td id=\"T_f343eb04_0050_11eb_9465_0242ac1c0002row4_col7\" class=\"data row4 col7\" >0.022215</td>\n",
              "                        <td id=\"T_f343eb04_0050_11eb_9465_0242ac1c0002row4_col8\" class=\"data row4 col8\" >-0.219967</td>\n",
              "            </tr>\n",
              "            <tr>\n",
              "                        <th id=\"T_f343eb04_0050_11eb_9465_0242ac1c0002level0_row5\" class=\"row_heading level0 row5\" >liveness</th>\n",
              "                        <td id=\"T_f343eb04_0050_11eb_9465_0242ac1c0002row5_col0\" class=\"data row5 col0\" >0.048231</td>\n",
              "                        <td id=\"T_f343eb04_0050_11eb_9465_0242ac1c0002row5_col1\" class=\"data row5 col1\" >-0.019991</td>\n",
              "                        <td id=\"T_f343eb04_0050_11eb_9465_0242ac1c0002row5_col2\" class=\"data row5 col2\" >-0.106584</td>\n",
              "                        <td id=\"T_f343eb04_0050_11eb_9465_0242ac1c0002row5_col3\" class=\"data row5 col3\" >0.113331</td>\n",
              "                        <td id=\"T_f343eb04_0050_11eb_9465_0242ac1c0002row5_col4\" class=\"data row5 col4\" >-0.091022</td>\n",
              "                        <td id=\"T_f343eb04_0050_11eb_9465_0242ac1c0002row5_col5\" class=\"data row5 col5\" >1.000000</td>\n",
              "                        <td id=\"T_f343eb04_0050_11eb_9465_0242ac1c0002row5_col6\" class=\"data row5 col6\" >0.041173</td>\n",
              "                        <td id=\"T_f343eb04_0050_11eb_9465_0242ac1c0002row5_col7\" class=\"data row5 col7\" >0.002732</td>\n",
              "                        <td id=\"T_f343eb04_0050_11eb_9465_0242ac1c0002row5_col8\" class=\"data row5 col8\" >-0.045093</td>\n",
              "            </tr>\n",
              "            <tr>\n",
              "                        <th id=\"T_f343eb04_0050_11eb_9465_0242ac1c0002level0_row6\" class=\"row_heading level0 row6\" >speechiness</th>\n",
              "                        <td id=\"T_f343eb04_0050_11eb_9465_0242ac1c0002row6_col0\" class=\"data row6 col0\" >-0.026995</td>\n",
              "                        <td id=\"T_f343eb04_0050_11eb_9465_0242ac1c0002row6_col1\" class=\"data row6 col1\" >0.072204</td>\n",
              "                        <td id=\"T_f343eb04_0050_11eb_9465_0242ac1c0002row6_col2\" class=\"data row6 col2\" >0.276206</td>\n",
              "                        <td id=\"T_f343eb04_0050_11eb_9465_0242ac1c0002row6_col3\" class=\"data row6 col3\" >-0.109983</td>\n",
              "                        <td id=\"T_f343eb04_0050_11eb_9465_0242ac1c0002row6_col4\" class=\"data row6 col4\" >-0.366762</td>\n",
              "                        <td id=\"T_f343eb04_0050_11eb_9465_0242ac1c0002row6_col5\" class=\"data row6 col5\" >0.041173</td>\n",
              "                        <td id=\"T_f343eb04_0050_11eb_9465_0242ac1c0002row6_col6\" class=\"data row6 col6\" >1.000000</td>\n",
              "                        <td id=\"T_f343eb04_0050_11eb_9465_0242ac1c0002row6_col7\" class=\"data row6 col7\" >0.008241</td>\n",
              "                        <td id=\"T_f343eb04_0050_11eb_9465_0242ac1c0002row6_col8\" class=\"data row6 col8\" >0.149894</td>\n",
              "            </tr>\n",
              "            <tr>\n",
              "                        <th id=\"T_f343eb04_0050_11eb_9465_0242ac1c0002level0_row7\" class=\"row_heading level0 row7\" >tempo</th>\n",
              "                        <td id=\"T_f343eb04_0050_11eb_9465_0242ac1c0002row7_col0\" class=\"data row7 col0\" >-0.025392</td>\n",
              "                        <td id=\"T_f343eb04_0050_11eb_9465_0242ac1c0002row7_col1\" class=\"data row7 col1\" >-0.026310</td>\n",
              "                        <td id=\"T_f343eb04_0050_11eb_9465_0242ac1c0002row7_col2\" class=\"data row7 col2\" >-0.242089</td>\n",
              "                        <td id=\"T_f343eb04_0050_11eb_9465_0242ac1c0002row7_col3\" class=\"data row7 col3\" >0.195227</td>\n",
              "                        <td id=\"T_f343eb04_0050_11eb_9465_0242ac1c0002row7_col4\" class=\"data row7 col4\" >0.022215</td>\n",
              "                        <td id=\"T_f343eb04_0050_11eb_9465_0242ac1c0002row7_col5\" class=\"data row7 col5\" >0.002732</td>\n",
              "                        <td id=\"T_f343eb04_0050_11eb_9465_0242ac1c0002row7_col6\" class=\"data row7 col6\" >0.008241</td>\n",
              "                        <td id=\"T_f343eb04_0050_11eb_9465_0242ac1c0002row7_col7\" class=\"data row7 col7\" >1.000000</td>\n",
              "                        <td id=\"T_f343eb04_0050_11eb_9465_0242ac1c0002row7_col8\" class=\"data row7 col8\" >0.052221</td>\n",
              "            </tr>\n",
              "            <tr>\n",
              "                        <th id=\"T_f343eb04_0050_11eb_9465_0242ac1c0002level0_row8\" class=\"row_heading level0 row8\" >valence</th>\n",
              "                        <td id=\"T_f343eb04_0050_11eb_9465_0242ac1c0002row8_col0\" class=\"data row8 col0\" >0.010070</td>\n",
              "                        <td id=\"T_f343eb04_0050_11eb_9465_0242ac1c0002row8_col1\" class=\"data row8 col1\" >-0.013841</td>\n",
              "                        <td id=\"T_f343eb04_0050_11eb_9465_0242ac1c0002row8_col2\" class=\"data row8 col2\" >0.473165</td>\n",
              "                        <td id=\"T_f343eb04_0050_11eb_9465_0242ac1c0002row8_col3\" class=\"data row8 col3\" >0.038603</td>\n",
              "                        <td id=\"T_f343eb04_0050_11eb_9465_0242ac1c0002row8_col4\" class=\"data row8 col4\" >-0.219967</td>\n",
              "                        <td id=\"T_f343eb04_0050_11eb_9465_0242ac1c0002row8_col5\" class=\"data row8 col5\" >-0.045093</td>\n",
              "                        <td id=\"T_f343eb04_0050_11eb_9465_0242ac1c0002row8_col6\" class=\"data row8 col6\" >0.149894</td>\n",
              "                        <td id=\"T_f343eb04_0050_11eb_9465_0242ac1c0002row8_col7\" class=\"data row8 col7\" >0.052221</td>\n",
              "                        <td id=\"T_f343eb04_0050_11eb_9465_0242ac1c0002row8_col8\" class=\"data row8 col8\" >1.000000</td>\n",
              "            </tr>\n",
              "    </tbody></table>"
            ],
            "text/plain": [
              "<pandas.io.formats.style.Styler at 0x7f4bcb33d908>"
            ]
          },
          "metadata": {
            "tags": []
          },
          "execution_count": 14
        }
      ]
    },
    {
      "cell_type": "markdown",
      "metadata": {
        "toc-hr-collapsed": false,
        "id": "c2pDAO_txLWu"
      },
      "source": [
        "## Normalizing the feature data"
      ]
    },
    {
      "cell_type": "markdown",
      "metadata": {
        "dc": {
          "key": "17"
        },
        "tags": [
          "context"
        ],
        "id": "AUaC5bOIxLWv"
      },
      "source": [
        "<p>As mentioned earlier, it can be particularly useful to simplify our models and use as few features as necessary to achieve the best result. Since we didn't find any particular strong correlations between our features, we can instead use a common approach to reduce the number of features called <strong>principal component analysis (PCA)</strong>. </p>\n",
        "<p>It is possible that the variance between genres can be explained by just a few features in the dataset. PCA rotates the data along the axis of highest variance, thus allowing us to determine the relative contribution of each feature of our data towards the variance between classes. </p>\n",
        "<p>However, since PCA uses the absolute variance of a feature to rotate the data, a feature with a broader range of values will overpower and bias the algorithm relative to the other features. To avoid this, we must first normalize our data. There are a few methods to do this, but a common way is through <em>standardization</em>, such that all features have a mean = 0 and standard deviation = 1 (the resultant is a z-score).</p>"
      ]
    },
    {
      "cell_type": "markdown",
      "metadata": {
        "id": "_xTi5-vaxLWx"
      },
      "source": [
        "### Task 3: Instructions"
      ]
    },
    {
      "cell_type": "markdown",
      "metadata": {
        "id": "Fx44pxbhxLWx"
      },
      "source": [
        "Prepare our dataset for training a model, and standardize the data.\n",
        "\n",
        "* Define our features from `echo_tracks` by removing `genre_top` and `track_id` from the DataFrame.\n",
        "* Define our labels -- in this case, the `genre_top` column from `echo_tracks`.\n",
        "* Import the `StandardScaler`\n",
        "* Define an instance of the `StandardScaler` called `scaler` without passing any arguments and use it to scale `features` and save to a new variable called `scaled_train_features`"
      ]
    },
    {
      "cell_type": "code",
      "metadata": {
        "ExecuteTime": {
          "end_time": "2020-02-20T17:03:36.186682Z",
          "start_time": "2020-02-20T17:03:35.792736Z"
        },
        "id": "kJsDUMSVxLWy"
      },
      "source": [
        "# Define our features \n",
        "features = echo_tracks.drop(['genre_top', 'track_id'], axis=1)\n",
        "\n",
        "# Define our labels\n",
        "labels = echo_tracks['genre_top']\n",
        "\n",
        "# Import the StandardScaler\n",
        "from sklearn.preprocessing import StandardScaler\n",
        "\n",
        "# Scale the features and set the values to a new variable\n",
        "scaler = StandardScaler()\n",
        "scaled_train_features = scaler.fit_transform(features)"
      ],
      "execution_count": 15,
      "outputs": []
    },
    {
      "cell_type": "markdown",
      "metadata": {
        "toc-hr-collapsed": false,
        "id": "o3w9SaNMxLW2"
      },
      "source": [
        "## Principal Component Analysis on our scaled data"
      ]
    },
    {
      "cell_type": "markdown",
      "metadata": {
        "dc": {
          "key": "24"
        },
        "tags": [
          "context"
        ],
        "id": "F6zQCeHfxLW2"
      },
      "source": [
        "<p>Now that we have preprocessed our data, we are ready to use PCA to determine by how much we can reduce the dimensionality of our data. We can use <strong>scree-plots</strong> and <strong>cumulative explained ratio plots</strong> to find the number of components to use in further analyses.</p>\n",
        "<p>Scree-plots display the number of components against the variance explained by each component, sorted in descending order of variance. Scree-plots help us get a better sense of which components explain a sufficient amount of variance in our data. When using scree plots, an 'elbow' (a steep drop from one data point to the next) in the plot is typically used to decide on an appropriate cutoff.</p>"
      ]
    },
    {
      "cell_type": "markdown",
      "metadata": {
        "id": "gT2MOTUixLW2"
      },
      "source": [
        "### Task 4: Instructions"
      ]
    },
    {
      "cell_type": "markdown",
      "metadata": {
        "id": "oJMLd9FrxLW3"
      },
      "source": [
        "Use PCA to determine the explained variance of our features.\n",
        "\n",
        "* Import `matplotlib.pyplot` and `PCA`\n",
        "* Create a PCA object, fit the model on our `scaled_train_features`, and retrieve the explained variance ratio\n",
        "* Make a scree plot of the variance explained by each component\n",
        "\n",
        "Helpful links:\n",
        "\n",
        "* sklearn PCA [documentation](http://scikit-learn.org/stable/modules/generated/sklearn.decomposition.PCA.html)\n",
        "* matplotlib `bar` plot [documentation](https://matplotlib.org/api/_as_gen/matplotlib.axes.Axes.bar.html)"
      ]
    },
    {
      "cell_type": "code",
      "metadata": {
        "ExecuteTime": {
          "end_time": "2020-02-20T17:03:36.405097Z",
          "start_time": "2020-02-20T17:03:36.188678Z"
        },
        "id": "MrEySvbixLW4",
        "outputId": "a96d78e4-7850-44e8-935c-7d7dcce3830f",
        "colab": {
          "base_uri": "https://localhost:8080/",
          "height": 297
        }
      },
      "source": [
        "\n",
        "%matplotlib inline\n",
        "\n",
        "# Import our plotting module, and PCA class\n",
        "import matplotlib.pyplot as plt\n",
        "from sklearn.decomposition import PCA\n",
        "\n",
        "# Get our explained variance ratios from PCA using all features\n",
        "pca = PCA()\n",
        "pca.fit(scaled_train_features)\n",
        "exp_variance = pca.explained_variance_ratio_\n",
        "\n",
        "\n",
        "# plot the explained variance using a barplot\n",
        "fig, ax = plt.subplots()\n",
        "ax.bar(range(pca.n_components_), exp_variance)\n",
        "ax.set_xlabel('Principal Component #')\n",
        "\n"
      ],
      "execution_count": 16,
      "outputs": [
        {
          "output_type": "execute_result",
          "data": {
            "text/plain": [
              "Text(0.5, 0, 'Principal Component #')"
            ]
          },
          "metadata": {
            "tags": []
          },
          "execution_count": 16
        },
        {
          "output_type": "display_data",
          "data": {
            "image/png": "[encoded data removed]",
            "text/plain": [
              "<Figure size 432x288 with 1 Axes>"
            ]
          },
          "metadata": {
            "tags": [],
            "needs_background": "light"
          }
        }
      ]
    },
    {
      "cell_type": "markdown",
      "metadata": {
        "toc-hr-collapsed": false,
        "id": "fgnocH5JxLW9"
      },
      "source": [
        "## Further visualization of PCA"
      ]
    },
    {
      "cell_type": "markdown",
      "metadata": {
        "dc": {
          "key": "31"
        },
        "tags": [
          "context"
        ],
        "id": "EZdeJy0LxLW9"
      },
      "source": [
        "<p>Unfortunately, there does not appear to be a clear elbow in this scree plot, which means it is not straightforward to find the number of intrinsic dimensions using this method. </p>\n",
        "<p>But all is not lost! Instead, we can also look at the <strong>cumulative explained variance plot</strong> to determine how many features are required to explain, say, about 90% of the variance (cutoffs are somewhat arbitrary here, and usually decided upon by 'rules of thumb'). Once we determine the appropriate number of components, we can perform PCA with that many components, ideally reducing the dimensionality of our data.</p>"
      ]
    },
    {
      "cell_type": "markdown",
      "metadata": {
        "id": "5LiiCy4zxLW-"
      },
      "source": [
        "### Task 5: Instructions"
      ]
    },
    {
      "cell_type": "markdown",
      "metadata": {
        "id": "bWO7Pvi2xLW-"
      },
      "source": [
        "Plot the cumulative explained variance of our PCA.\n",
        "\n",
        "* Import the `numpy` package.\n",
        "* Calculate the cumulative sums of our explained variance using `np.cumsum()`.\n",
        "* Plot the cumulative explained variances using `ax.plot` and look for the number of components at which we can account for >90% of our variance; assign this to `n_components`.\n",
        "* Perform PCA using `n_components` and project our data onto these components.\n",
        "\n",
        "Helpful links:\n",
        "\n",
        "* numpy `cumsum()` function [documentation](https://docs.scipy.org/doc/numpy/reference/generated/numpy.cumsum.html)"
      ]
    },
    {
      "cell_type": "code",
      "metadata": {
        "ExecuteTime": {
          "end_time": "2020-02-20T17:03:36.560681Z",
          "start_time": "2020-02-20T17:03:36.407093Z"
        },
        "id": "Jz02AHv3xLW_",
        "outputId": "f55e057b-f846-46bb-d5f2-fae1a6772d99",
        "colab": {
          "base_uri": "https://localhost:8080/",
          "height": 265
        }
      },
      "source": [
        "\n",
        "import numpy as np\n",
        "\n",
        "# Calculate the cumulative explained variance\n",
        "cum_exp_variance = np.cumsum(exp_variance)\n",
        "\n",
        "# Plot the cumulative explained variance and draw a dashed line at 0.90.\n",
        "fig, ax = plt.subplots()\n",
        "ax.plot(range(pca.n_components_), cum_exp_variance)\n",
        "ax.axhline(y=0.9, linestyle='--')\n",
        "n_components = 6\n",
        "\n",
        "# Perform PCA with the chosen number of components and project data onto components\n",
        "pca = PCA(n_components, random_state=10)\n",
        "pca.fit(scaled_train_features)\n",
        "pca_projection = pca.transform(scaled_train_features)\n"
      ],
      "execution_count": 17,
      "outputs": [
        {
          "output_type": "display_data",
          "data": {
            "image/png": "[encoded data removed]",
            "text/plain": [
              "<Figure size 432x288 with 1 Axes>"
            ]
          },
          "metadata": {
            "tags": [],
            "needs_background": "light"
          }
        }
      ]
    },
    {
      "cell_type": "markdown",
      "metadata": {
        "toc-hr-collapsed": false,
        "id": "1u8mbDx5xLXD"
      },
      "source": [
        "## Train a decision tree to classify genre"
      ]
    },
    {
      "cell_type": "markdown",
      "metadata": {
        "dc": {
          "key": "38"
        },
        "tags": [
          "context"
        ],
        "id": "e-JOMLjPxLXE"
      },
      "source": [
        "<p>Now we can use the lower dimensional PCA projection of the data to classify songs into genres. To do that, we first need to split our dataset into 'train' and 'test' subsets, where the 'train' subset will be used to train our model while the 'test' dataset allows for model performance validation.</p>\n",
        "<p>Here, we will be using a simple algorithm known as a decision tree. Decision trees are rule-based classifiers that take in features and follow a 'tree structure' of binary decisions to ultimately classify a data point into one of two or more categories. In addition to being easy to both use and interpret, decision trees allow us to visualize the 'logic flowchart' that the model generates from the training data.</p>\n",
        "<p>Here is an example of a decision tree that demonstrates the process by which an input image (in this case, of a shape) might be classified based on the number of sides it has and whether it is rotated.</p>\n",
        "<p><img src=\"https://github.com/ML-Challenge/week4-unsupervised-learning/blob/master/assets/simple_decision_tree.png?raw=1\" alt=\"Decision Tree Flow Chart Example\" width=\"350px\"></p>"
      ]
    },
    {
      "cell_type": "markdown",
      "metadata": {
        "id": "ntlCmoBbxLXF"
      },
      "source": [
        "### Task 6: Instructions"
      ]
    },
    {
      "cell_type": "markdown",
      "metadata": {
        "id": "aLFrI9bgxLXG"
      },
      "source": [
        "Prepare our training and test sets and train our first classifier.\n",
        "\n",
        "* Import the `train_test_split()` function\n",
        "* Split our projected data into train and test, features and labels, respectively using `train_test_split()` with `random_state=10`.\n",
        "* Create our decision tree classifier using `DecisionTreeClassifier()` and a random state of `10` and train the model\n",
        "* Find the predicted labels of the `test_features` from our trained model."
      ]
    },
    {
      "cell_type": "code",
      "metadata": {
        "ExecuteTime": {
          "end_time": "2020-02-20T17:03:36.621519Z",
          "start_time": "2020-02-20T17:03:36.563674Z"
        },
        "id": "2Kc3v5rbxLXI"
      },
      "source": [
        "\n",
        "from sklearn.model_selection import train_test_split\n",
        "from sklearn.tree import DecisionTreeClassifier\n",
        "\n",
        "# Split our data\n",
        "train_features, test_features, train_labels, test_labels = train_test_split(pca_projection, \n",
        "                                                                            labels, \n",
        "                                                                            random_state=10)\n",
        "\n",
        "# Train our decision tree\n",
        "tree = DecisionTreeClassifier(random_state=10)\n",
        "tree.fit(train_features, train_labels)\n",
        "\n",
        "# Predict the labels for the test data\n",
        "pred_labels_tree = tree.predict(test_features)\n"
      ],
      "execution_count": 18,
      "outputs": []
    },
    {
      "cell_type": "markdown",
      "metadata": {
        "toc-hr-collapsed": false,
        "id": "fmdIKydfxLXN"
      },
      "source": [
        "## Compare our decision tree to a logistic regression"
      ]
    },
    {
      "cell_type": "markdown",
      "metadata": {
        "dc": {
          "key": "45"
        },
        "tags": [
          "context"
        ],
        "id": "4WxjJUAWxLXO"
      },
      "source": [
        "<p>Although our tree's performance is decent, it's a bad idea to immediately assume that it's therefore the perfect tool for this job -- there's always the possibility of other models that will perform even better! It's always a worthwhile idea to at least test a few other algorithms and find the one that's best for our data.</p>\n",
        "<p>Sometimes simplest is best, and so we will start by applying <strong>logistic regression</strong>. Logistic regression makes use of what's called the logistic function to calculate the odds that a given data point belongs to a given class. Once we have both models, we can compare them on a few performance metrics, such as false positive and false negative rate (or how many points are inaccurately classified). </p>"
      ]
    },
    {
      "cell_type": "markdown",
      "metadata": {
        "id": "4QIF92LuxLXO"
      },
      "source": [
        "### Task 7: Instructions"
      ]
    },
    {
      "cell_type": "markdown",
      "metadata": {
        "id": "7GrGFivQxLXP"
      },
      "source": [
        "Train our logistic regression and compare the performance with our decision tree.\n",
        "\n",
        "* Create our logistic regression model using LogisticRegression() and a random state of 10.\n",
        "* Train the model and assign the predicted labels for the `test_features` to `pred_labels_logit`.\n",
        "* Import the `classification_report` from the `sklearn.metrics` package\n",
        "* Print the classification reports for our trained Decision Tree and Logistic Regression models.\n",
        "\n",
        "Helpful links:\n",
        "\n",
        "* scikit-learn `classification_report()` function [documentation](http://scikit-learn.org/stable/modules/generated/sklearn.metrics.classification_report.html)"
      ]
    },
    {
      "cell_type": "code",
      "metadata": {
        "ExecuteTime": {
          "end_time": "2020-02-20T17:03:36.714270Z",
          "start_time": "2020-02-20T17:03:36.624512Z"
        },
        "id": "P5SXeSuqxLXQ",
        "outputId": "1443d3e4-e761-400d-e32a-7a47ea5fed37",
        "colab": {
          "base_uri": "https://localhost:8080/",
          "height": 381
        }
      },
      "source": [
        "# Import LogisticRegression\n",
        "from sklearn.linear_model import LogisticRegression\n",
        "\n",
        "# Train our logistic regression and predict labels for the test set\n",
        "logreg = LogisticRegression(random_state=10)\n",
        "logreg.fit(train_features, train_labels)\n",
        "pred_labels_logit = logreg.predict(test_features)\n",
        "\n",
        "# Create the classification report for both models\n",
        "from sklearn.metrics import classification_report\n",
        "class_rep_tree = classification_report(test_labels, pred_labels_tree)\n",
        "class_rep_log = classification_report(test_labels, pred_labels_logit)\n",
        "\n",
        "print(\"Decision Tree: \\n\", class_rep_tree)\n",
        "print(\"Logistic Regression: \\n\", class_rep_log)"
      ],
      "execution_count": 19,
      "outputs": [
        {
          "output_type": "stream",
          "text": [
            "Decision Tree: \n",
            "               precision    recall  f1-score   support\n",
            "\n",
            "     Hip-Hop       0.60      0.60      0.60       235\n",
            "        Rock       0.90      0.90      0.90       966\n",
            "\n",
            "    accuracy                           0.84      1201\n",
            "   macro avg       0.75      0.75      0.75      1201\n",
            "weighted avg       0.84      0.84      0.84      1201\n",
            "\n",
            "Logistic Regression: \n",
            "               precision    recall  f1-score   support\n",
            "\n",
            "     Hip-Hop       0.77      0.54      0.64       235\n",
            "        Rock       0.90      0.96      0.93       966\n",
            "\n",
            "    accuracy                           0.88      1201\n",
            "   macro avg       0.83      0.75      0.78      1201\n",
            "weighted avg       0.87      0.88      0.87      1201\n",
            "\n"
          ],
          "name": "stdout"
        }
      ]
    },
    {
      "cell_type": "markdown",
      "metadata": {
        "toc-hr-collapsed": false,
        "id": "ZXUKSa29xLXT"
      },
      "source": [
        "## Balance our data for greater performance"
      ]
    },
    {
      "cell_type": "markdown",
      "metadata": {
        "dc": {
          "key": "52"
        },
        "tags": [
          "context"
        ],
        "id": "fWY3kr2zxLXT"
      },
      "source": [
        "<p>Both our models do pretty well, however, looking at our classification report, we can see that rock songs are fairly well classified, but hip-hop songs are disproportionately misclassified as rock songs. </p>\n",
        "<p>Why might this be the case? Well, just by looking at the number of data points we have for each class, we see that we have far more data points for the rock classification than for hip-hop, potentially skewing our model's ability to distinguish between classes. This also tells us that most of our model's accuracy is driven by its ability to classify just rock songs, which is less than ideal.</p>\n",
        "<p>To account for this, we can weight the value of a correct classification in each class inversely to the occurrence of data points for each class. Since a correct classification for \"Rock\" is not more important than a correct classification for \"Hip-Hop\" (and vice versa), we only need to account for differences in <em>sample size</em> of our data points when weighting our classes here, and not relative importance of each class. </p>"
      ]
    },
    {
      "cell_type": "markdown",
      "metadata": {
        "id": "O_jAZVc-xLXU"
      },
      "source": [
        "### Task 8: Instructions"
      ]
    },
    {
      "cell_type": "markdown",
      "metadata": {
        "id": "xFaeo1FzxLXV"
      },
      "source": [
        "Balance our dataset such that the number of tracks for each genre is the same.\n",
        "\n",
        "* Subset only the hip-hop tracks from `echo_tracks` using `df.loc[]`, and the same for the rock tracks\n",
        "* Sample `rock_only` such that there is the same number of data points as there are hip-hop data points. Set the random state to 10.\n",
        "* Concatenate the `rock_only` and `hop_only` (in that order) DataFrames using the `pd.concat()` function by passing a list of these DataFrames.\n",
        "* Redefine our train and test sets using `train_test_split` with the PCA projection of the balanced dataframe.\n",
        "\n",
        "Helpful links:\n",
        "\n",
        "* pandas `DataFrame.loc[]` indexing [documentation](https://pandas.pydata.org/pandas-docs/stable/generated/pandas.DataFrame.loc.html)\n",
        "* pandas `concat()` function [documentation](https://pandas.pydata.org/pandas-docs/stable/generated/pandas.concat.html)\n",
        "* pandas `DataFrame.sample()` method [documentation](https://pandas.pydata.org/pandas-docs/stable/generated/pandas.DataFrame.sample.html)"
      ]
    },
    {
      "cell_type": "code",
      "metadata": {
        "ExecuteTime": {
          "end_time": "2020-02-20T17:03:36.745188Z",
          "start_time": "2020-02-20T17:03:36.717263Z"
        },
        "id": "MRFN5qO4xLXW"
      },
      "source": [
        "# Subset only the hip-hop tracks, and then only the rock tracks\n",
        "hop_only = echo_tracks.loc[echo_tracks[\"genre_top\"] == \"Hip-Hop\"]\n",
        "rock_only = echo_tracks.loc[echo_tracks[\"genre_top\"] == \"Rock\"]\n",
        "\n",
        "# sample the rocks songs to be the same number as there are hip-hop songs\n",
        "rock_only = rock_only.sample(len(hop_only), random_state=10)\n",
        "\n",
        "# concatenate the dataframes rock_only and hop_only\n",
        "rock_hop_bal = pd.concat([rock_only, hop_only])\n",
        "\n",
        "# The features, labels, and pca projection are created for the balanced dataframe\n",
        "features = rock_hop_bal.drop(['genre_top', 'track_id'], axis=1) \n",
        "labels = rock_hop_bal['genre_top']\n",
        "pca_projection = pca.fit_transform(scaler.fit_transform(features))\n",
        "\n",
        "# Redefine the train and test set with the pca_projection from the balanced data\n",
        "train_features, test_features, train_labels, test_labels = train_test_split(pca_projection, labels, random_state=10)"
      ],
      "execution_count": 20,
      "outputs": []
    },
    {
      "cell_type": "markdown",
      "metadata": {
        "toc-hr-collapsed": false,
        "id": "JzSk3DfExLXb"
      },
      "source": [
        "## Does balancing our dataset improve model bias?"
      ]
    },
    {
      "cell_type": "markdown",
      "metadata": {
        "dc": {
          "key": "59"
        },
        "tags": [
          "context"
        ],
        "id": "xqYrnC22xLXc"
      },
      "source": [
        "<p>We've now balanced our dataset, but in doing so, we've removed a lot of data points that might have been crucial to training our models. Let's test to see if balancing our data improves model bias towards the \"Rock\" classification while retaining overall classification performance. </p>\n",
        "<p>Note that we have already reduced the size of our dataset and will go forward without applying any dimensionality reduction. In practice, we would consider dimensionality reduction more rigorously when dealing with vastly large datasets and when computation times become prohibitively large.</p>"
      ]
    },
    {
      "cell_type": "markdown",
      "metadata": {
        "id": "y2oPZELJxLXd"
      },
      "source": [
        "### Task 9: Instructions"
      ]
    },
    {
      "cell_type": "markdown",
      "metadata": {
        "id": "or4Uvxz1xLXe"
      },
      "source": [
        "Compare the two model performances on the balanced data.\n",
        "\n",
        "* Create and train your decision tree using `DecisionTreeClassifier()` and a random state of `10`, then predict on the `test_features`.\n",
        "* Create and train your logistic regression using `LogisticRegression()` and a random state of `10`, then predict on the `test_features`.\n",
        "* Compare the performance of the two models using `classification_report()`."
      ]
    },
    {
      "cell_type": "code",
      "metadata": {
        "ExecuteTime": {
          "end_time": "2020-02-20T17:03:36.807023Z",
          "start_time": "2020-02-20T17:03:36.747184Z"
        },
        "id": "xoLkSyBWxLXf",
        "outputId": "8dbc1d1d-c708-4ea1-abb8-6987bc723b05",
        "colab": {
          "base_uri": "https://localhost:8080/",
          "height": 381
        }
      },
      "source": [
        "# Train our decision tree on the balanced data\n",
        "tree = DecisionTreeClassifier(random_state=10)\n",
        "tree.fit(train_features, train_labels)\n",
        "pred_labels_tree = tree.predict(test_features)\n",
        "\n",
        "# Train our logistic regression on the balanced data\n",
        "logreg = LogisticRegression(random_state=10)\n",
        "logreg.fit(train_features, train_labels)\n",
        "pred_labels_logit = logreg.predict(test_features)\n",
        "\n",
        "# Compare the models\n",
        "print(\"Decision Tree: \\n\", classification_report(test_labels, pred_labels_tree))\n",
        "print(\"Logistic Regression: \\n\", classification_report(test_labels, pred_labels_logit))"
      ],
      "execution_count": 21,
      "outputs": [
        {
          "output_type": "stream",
          "text": [
            "Decision Tree: \n",
            "               precision    recall  f1-score   support\n",
            "\n",
            "     Hip-Hop       0.74      0.73      0.74       230\n",
            "        Rock       0.73      0.74      0.73       225\n",
            "\n",
            "    accuracy                           0.74       455\n",
            "   macro avg       0.74      0.74      0.74       455\n",
            "weighted avg       0.74      0.74      0.74       455\n",
            "\n",
            "Logistic Regression: \n",
            "               precision    recall  f1-score   support\n",
            "\n",
            "     Hip-Hop       0.84      0.80      0.82       230\n",
            "        Rock       0.80      0.85      0.83       225\n",
            "\n",
            "    accuracy                           0.82       455\n",
            "   macro avg       0.82      0.82      0.82       455\n",
            "weighted avg       0.82      0.82      0.82       455\n",
            "\n"
          ],
          "name": "stdout"
        }
      ]
    },
    {
      "cell_type": "markdown",
      "metadata": {
        "toc-hr-collapsed": false,
        "id": "jgZ44ZUCxLXi"
      },
      "source": [
        "## Using cross-validation to evaluate our models"
      ]
    },
    {
      "cell_type": "markdown",
      "metadata": {
        "dc": {
          "key": "66"
        },
        "tags": [
          "context"
        ],
        "id": "eTpgfXDwxLXj"
      },
      "source": [
        "<p>Success! Balancing our data has removed bias towards the more prevalent class. To get a good sense of how well our models are actually performing, we can apply what's called <strong>cross-validation</strong> (CV). This step allows us to compare models in a more rigorous fashion.</p>\n",
        "<p>Since the way our data is split into train and test sets can impact model performance, CV attempts to split the data multiple ways and test the model on each of the splits. Although there are many different CV methods, all with their own advantages and disadvantages, we will use what's known as <strong>K-fold</strong> CV here. K-fold first splits the data into K different, equally sized subsets. Then, it iteratively uses each subset as a test set while using the remainder of the data as train sets. Finally, we can then aggregate the results from each fold for a final model performance score.</p>"
      ]
    },
    {
      "cell_type": "markdown",
      "metadata": {
        "id": "tkb4BDuixLXj"
      },
      "source": [
        "### Task 10: Instructions"
      ]
    },
    {
      "cell_type": "markdown",
      "metadata": {
        "id": "v61mncxLxLXk"
      },
      "source": [
        "Use cross-validation to get a better sense of your model performance.\n",
        "\n",
        "* Create a variable called `kf` to store your cv using `KFold()` with `10` folds and a random state of `10`.\n",
        "* Train each of your models using `cross_val_score()` on the original `pca_projection` and `labels` variables.\n",
        "* Print the mean of the cross-validation scores for each model."
      ]
    },
    {
      "cell_type": "code",
      "metadata": {
        "ExecuteTime": {
          "end_time": "2020-02-20T17:03:37.026437Z",
          "start_time": "2020-02-20T17:03:36.809017Z"
        },
        "id": "XQOaSyrJxLXk",
        "outputId": "2cd1a006-ac5e-478c-8c51-5817db504844",
        "colab": {
          "base_uri": "https://localhost:8080/",
          "height": 35
        }
      },
      "source": [
        "from sklearn.model_selection import KFold, cross_val_score\n",
        "\n",
        "# Set up our K-fold cross-validation\n",
        "kf = KFold(n_splits=10, random_state=10, shuffle=True)\n",
        "\n",
        "tree = DecisionTreeClassifier(random_state=10)\n",
        "logreg = LogisticRegression(random_state=10)\n",
        "\n",
        "# Train our models using KFold cv\n",
        "tree_score = cross_val_score(tree, pca_projection, labels, cv=kf)\n",
        "logit_score = cross_val_score(logreg, pca_projection, labels, cv=kf)\n",
        "\n",
        "# Print the mean of each array of scores\n",
        "print(\"Decision Tree:\", np.mean(tree_score), \"Logistic Regression:\", np.mean(logit_score))"
      ],
      "execution_count": 22,
      "outputs": [
        {
          "output_type": "stream",
          "text": [
            "Decision Tree: 0.7719780219780219 Logistic Regression: 0.823076923076923\n"
          ],
          "name": "stdout"
        }
      ]
    }
  ]
}